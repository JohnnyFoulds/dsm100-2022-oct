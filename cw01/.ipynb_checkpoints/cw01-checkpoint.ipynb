{
 "cells": [
  {
   "attachments": {},
   "cell_type": "markdown",
   "metadata": {},
   "source": [
    "# Decision Support System in Smart Supply Chains for Predicting Late Deliveries\n",
    "\n",
    "The implementation of a Python-based Bayesian Network using pgmpy and applied to the “DataCo SMART SUPPLY CHAIN FOR BIG DATA ANALYSIS” dataset. The primary goal of the DSS is to predict orders that would be delivered late. To achieve this, data-derived conditional probability distributions (CPDs) were used rather than assuming or estimating a priori knowledge of the CPDs. The performance of the DSS is compared to a multi-class classification machine learning model. The DSS can generate multiple insights and conduct what-if analyses to support decision-making.\n",
    "\n",
    "_Keywords:_  Decision Support System (DSS), Bayesian Network, Supply Chain Management (SCM), decision-making\n"
   ]
  },
  {
   "cell_type": "code",
   "execution_count": 2,
   "metadata": {},
   "outputs": [],
   "source": [
    "import pandas as pd\n",
    "\n",
    "from pgmpy.estimators import MaximumLikelihoodEstimator, BayesianEstimator\n",
    "from pgmpy.estimators import ParameterEstimator\n",
    "from pgmpy.factors.discrete import TabularCPD, DiscreteFactor\n",
    "from pgmpy.inference import VariableElimination\n",
    "from pgmpy.models import BayesianNetwork\n",
    "\n",
    "from sklearn.metrics import classification_report, confusion_matrix\n"
   ]
  },
  {
   "cell_type": "markdown",
   "metadata": {},
   "source": [
    "## 1.1 Data Preparation & Cleaning"
   ]
  },
  {
   "attachments": {},
   "cell_type": "markdown",
   "metadata": {},
   "source": [
    "### 1.1.1 Load Source Date"
   ]
  },
  {
   "cell_type": "code",
   "execution_count": 3,
   "metadata": {},
   "outputs": [],
   "source": [
    "df_source = pd.read_csv('data/raw/DataCoSupplyChainDataset.csv', encoding='unicode_escape')\n",
    "df_source.drop_duplicates(inplace=True)"
   ]
  },
  {
   "attachments": {},
   "cell_type": "markdown",
   "metadata": {},
   "source": [
    "### 1.1.2 Data Description"
   ]
  },
  {
   "cell_type": "code",
   "execution_count": 6,
   "metadata": {},
   "outputs": [
    {
     "data": {
      "text/html": [
       "<div>\n",
       "<style scoped>\n",
       "    .dataframe tbody tr th:only-of-type {\n",
       "        vertical-align: middle;\n",
       "    }\n",
       "\n",
       "    .dataframe tbody tr th {\n",
       "        vertical-align: top;\n",
       "    }\n",
       "\n",
       "    .dataframe thead th {\n",
       "        text-align: right;\n",
       "    }\n",
       "</style>\n",
       "<table border=\"1\" class=\"dataframe\">\n",
       "  <thead>\n",
       "    <tr style=\"text-align: right;\">\n",
       "      <th></th>\n",
       "      <th>FIELDS</th>\n",
       "      <th>DESCRIPTION</th>\n",
       "    </tr>\n",
       "  </thead>\n",
       "  <tbody>\n",
       "    <tr>\n",
       "      <th>0</th>\n",
       "      <td>Type</td>\n",
       "      <td>Type of transaction made</td>\n",
       "    </tr>\n",
       "    <tr>\n",
       "      <th>1</th>\n",
       "      <td>Days for shipping (real)</td>\n",
       "      <td>Actual shipping days of the purchased product</td>\n",
       "    </tr>\n",
       "    <tr>\n",
       "      <th>2</th>\n",
       "      <td>Days for shipment (scheduled)</td>\n",
       "      <td>Days of scheduled delivery of the purchased ...</td>\n",
       "    </tr>\n",
       "    <tr>\n",
       "      <th>3</th>\n",
       "      <td>Benefit per order</td>\n",
       "      <td>Earnings per order placed</td>\n",
       "    </tr>\n",
       "    <tr>\n",
       "      <th>4</th>\n",
       "      <td>Sales per customer</td>\n",
       "      <td>Total sales per customer made per customer</td>\n",
       "    </tr>\n",
       "    <tr>\n",
       "      <th>5</th>\n",
       "      <td>Delivery Status</td>\n",
       "      <td>Delivery status of orders Advance shipping ,...</td>\n",
       "    </tr>\n",
       "    <tr>\n",
       "      <th>6</th>\n",
       "      <td>Late_delivery_risk</td>\n",
       "      <td>Categorical variable that indicates if sendi...</td>\n",
       "    </tr>\n",
       "    <tr>\n",
       "      <th>7</th>\n",
       "      <td>Category Id</td>\n",
       "      <td>Product category code</td>\n",
       "    </tr>\n",
       "    <tr>\n",
       "      <th>8</th>\n",
       "      <td>Category Name</td>\n",
       "      <td>Description of the product category</td>\n",
       "    </tr>\n",
       "    <tr>\n",
       "      <th>9</th>\n",
       "      <td>Customer City</td>\n",
       "      <td>City where the customer made the purchase</td>\n",
       "    </tr>\n",
       "    <tr>\n",
       "      <th>10</th>\n",
       "      <td>Customer Country</td>\n",
       "      <td>Country where the customer made the purchase</td>\n",
       "    </tr>\n",
       "    <tr>\n",
       "      <th>11</th>\n",
       "      <td>Customer Email</td>\n",
       "      <td>Customer's email</td>\n",
       "    </tr>\n",
       "    <tr>\n",
       "      <th>12</th>\n",
       "      <td>Customer Fname</td>\n",
       "      <td>Customer name</td>\n",
       "    </tr>\n",
       "    <tr>\n",
       "      <th>13</th>\n",
       "      <td>Customer Id</td>\n",
       "      <td>Customer ID</td>\n",
       "    </tr>\n",
       "    <tr>\n",
       "      <th>14</th>\n",
       "      <td>Customer Lname</td>\n",
       "      <td>Customer lastname</td>\n",
       "    </tr>\n",
       "    <tr>\n",
       "      <th>15</th>\n",
       "      <td>Customer Password</td>\n",
       "      <td>Masked customer key</td>\n",
       "    </tr>\n",
       "    <tr>\n",
       "      <th>16</th>\n",
       "      <td>Customer Segment</td>\n",
       "      <td>Types of Customers Consumer , Corporate , Ho...</td>\n",
       "    </tr>\n",
       "    <tr>\n",
       "      <th>17</th>\n",
       "      <td>Customer State</td>\n",
       "      <td>State to which the store where the purchase ...</td>\n",
       "    </tr>\n",
       "    <tr>\n",
       "      <th>18</th>\n",
       "      <td>Customer Street</td>\n",
       "      <td>Street to which the store where the purchase...</td>\n",
       "    </tr>\n",
       "    <tr>\n",
       "      <th>19</th>\n",
       "      <td>Customer Zipcode</td>\n",
       "      <td>Customer Zipcode</td>\n",
       "    </tr>\n",
       "    <tr>\n",
       "      <th>20</th>\n",
       "      <td>Department Id</td>\n",
       "      <td>Department code of store</td>\n",
       "    </tr>\n",
       "    <tr>\n",
       "      <th>21</th>\n",
       "      <td>Department Name</td>\n",
       "      <td>Department name of store</td>\n",
       "    </tr>\n",
       "    <tr>\n",
       "      <th>22</th>\n",
       "      <td>Latitude</td>\n",
       "      <td>Latitude corresponding to location of store</td>\n",
       "    </tr>\n",
       "    <tr>\n",
       "      <th>23</th>\n",
       "      <td>Longitude</td>\n",
       "      <td>Longitude corresponding to location of store</td>\n",
       "    </tr>\n",
       "    <tr>\n",
       "      <th>24</th>\n",
       "      <td>Market</td>\n",
       "      <td>Market to where the order is delivered  Afri...</td>\n",
       "    </tr>\n",
       "    <tr>\n",
       "      <th>25</th>\n",
       "      <td>Order City</td>\n",
       "      <td>Destination city of the order</td>\n",
       "    </tr>\n",
       "    <tr>\n",
       "      <th>26</th>\n",
       "      <td>Order Country</td>\n",
       "      <td>Destination country of the order</td>\n",
       "    </tr>\n",
       "    <tr>\n",
       "      <th>27</th>\n",
       "      <td>Order Customer Id</td>\n",
       "      <td>Customer order code</td>\n",
       "    </tr>\n",
       "    <tr>\n",
       "      <th>28</th>\n",
       "      <td>order date (DateOrders)</td>\n",
       "      <td>Date on which the order is made</td>\n",
       "    </tr>\n",
       "    <tr>\n",
       "      <th>29</th>\n",
       "      <td>Order Id</td>\n",
       "      <td>Order code</td>\n",
       "    </tr>\n",
       "    <tr>\n",
       "      <th>30</th>\n",
       "      <td>Order Item Cardprod Id</td>\n",
       "      <td>Product code generated through the RFID reader</td>\n",
       "    </tr>\n",
       "    <tr>\n",
       "      <th>31</th>\n",
       "      <td>Order Item Discount</td>\n",
       "      <td>Order item discount value</td>\n",
       "    </tr>\n",
       "    <tr>\n",
       "      <th>32</th>\n",
       "      <td>Order Item Discount Rate</td>\n",
       "      <td>Order item discount percentage</td>\n",
       "    </tr>\n",
       "    <tr>\n",
       "      <th>33</th>\n",
       "      <td>Order Item Id</td>\n",
       "      <td>Order item code</td>\n",
       "    </tr>\n",
       "    <tr>\n",
       "      <th>34</th>\n",
       "      <td>Order Item Product Price</td>\n",
       "      <td>Price of products without discount</td>\n",
       "    </tr>\n",
       "    <tr>\n",
       "      <th>35</th>\n",
       "      <td>Order Item Profit Ratio</td>\n",
       "      <td>Order Item Profit Ratio</td>\n",
       "    </tr>\n",
       "    <tr>\n",
       "      <th>36</th>\n",
       "      <td>Order Item Quantity</td>\n",
       "      <td>Number of products per order</td>\n",
       "    </tr>\n",
       "    <tr>\n",
       "      <th>37</th>\n",
       "      <td>Sales</td>\n",
       "      <td>Value in sales</td>\n",
       "    </tr>\n",
       "    <tr>\n",
       "      <th>38</th>\n",
       "      <td>Order Item Total</td>\n",
       "      <td>Total amount per order</td>\n",
       "    </tr>\n",
       "    <tr>\n",
       "      <th>39</th>\n",
       "      <td>Order Profit Per Order</td>\n",
       "      <td>Order Profit Per Order</td>\n",
       "    </tr>\n",
       "    <tr>\n",
       "      <th>40</th>\n",
       "      <td>Order Region</td>\n",
       "      <td>Region of the world where the order is deliv...</td>\n",
       "    </tr>\n",
       "    <tr>\n",
       "      <th>41</th>\n",
       "      <td>Order State</td>\n",
       "      <td>State of the region where the order is deliv...</td>\n",
       "    </tr>\n",
       "    <tr>\n",
       "      <th>42</th>\n",
       "      <td>Order Status</td>\n",
       "      <td>Order Status  COMPLETE , PENDING , CLOSED , ...</td>\n",
       "    </tr>\n",
       "    <tr>\n",
       "      <th>43</th>\n",
       "      <td>Product Card Id</td>\n",
       "      <td>Product code</td>\n",
       "    </tr>\n",
       "    <tr>\n",
       "      <th>44</th>\n",
       "      <td>Product Category Id</td>\n",
       "      <td>Product category code</td>\n",
       "    </tr>\n",
       "    <tr>\n",
       "      <th>45</th>\n",
       "      <td>Product Description</td>\n",
       "      <td>Product Description</td>\n",
       "    </tr>\n",
       "    <tr>\n",
       "      <th>46</th>\n",
       "      <td>Product Image</td>\n",
       "      <td>Link of visit and purchase of the product</td>\n",
       "    </tr>\n",
       "    <tr>\n",
       "      <th>47</th>\n",
       "      <td>Product Name</td>\n",
       "      <td>Product Name</td>\n",
       "    </tr>\n",
       "    <tr>\n",
       "      <th>48</th>\n",
       "      <td>Product Price</td>\n",
       "      <td>Product Price</td>\n",
       "    </tr>\n",
       "    <tr>\n",
       "      <th>49</th>\n",
       "      <td>Product Status</td>\n",
       "      <td>Status of the product stock If it is 1 not a...</td>\n",
       "    </tr>\n",
       "    <tr>\n",
       "      <th>50</th>\n",
       "      <td>Shipping date (DateOrders)</td>\n",
       "      <td>Exact date and time of shipment</td>\n",
       "    </tr>\n",
       "    <tr>\n",
       "      <th>51</th>\n",
       "      <td>Shipping Mode</td>\n",
       "      <td>The following shipping modes are presented  ...</td>\n",
       "    </tr>\n",
       "  </tbody>\n",
       "</table>\n",
       "</div>"
      ],
      "text/plain": [
       "                           FIELDS  \\\n",
       "0                            Type   \n",
       "1   Days for shipping (real)        \n",
       "2   Days for shipment (scheduled)   \n",
       "3               Benefit per order   \n",
       "4              Sales per customer   \n",
       "5                 Delivery Status   \n",
       "6   Late_delivery_risk              \n",
       "7                     Category Id   \n",
       "8                   Category Name   \n",
       "9                   Customer City   \n",
       "10               Customer Country   \n",
       "11                 Customer Email   \n",
       "12                 Customer Fname   \n",
       "13                    Customer Id   \n",
       "14                 Customer Lname   \n",
       "15              Customer Password   \n",
       "16               Customer Segment   \n",
       "17                 Customer State   \n",
       "18                Customer Street   \n",
       "19               Customer Zipcode   \n",
       "20                  Department Id   \n",
       "21                Department Name   \n",
       "22                       Latitude   \n",
       "23                      Longitude   \n",
       "24                         Market   \n",
       "25                     Order City   \n",
       "26                  Order Country   \n",
       "27              Order Customer Id   \n",
       "28        order date (DateOrders)   \n",
       "29                       Order Id   \n",
       "30         Order Item Cardprod Id   \n",
       "31            Order Item Discount   \n",
       "32  Order Item Discount Rate        \n",
       "33                  Order Item Id   \n",
       "34  Order Item Product Price        \n",
       "35        Order Item Profit Ratio   \n",
       "36            Order Item Quantity   \n",
       "37                          Sales   \n",
       "38             Order Item Total     \n",
       "39         Order Profit Per Order   \n",
       "40                   Order Region   \n",
       "41                    Order State   \n",
       "42                   Order Status   \n",
       "43                Product Card Id   \n",
       "44            Product Category Id   \n",
       "45            Product Description   \n",
       "46                  Product Image   \n",
       "47                   Product Name   \n",
       "48                  Product Price   \n",
       "49                 Product Status   \n",
       "50  Shipping date (DateOrders)      \n",
       "51                  Shipping Mode   \n",
       "\n",
       "                                          DESCRIPTION  \n",
       "0                            Type of transaction made  \n",
       "1       Actual shipping days of the purchased product  \n",
       "2     Days of scheduled delivery of the purchased ...  \n",
       "3                           Earnings per order placed  \n",
       "4          Total sales per customer made per customer  \n",
       "5     Delivery status of orders Advance shipping ,...  \n",
       "6     Categorical variable that indicates if sendi...  \n",
       "7                               Product category code  \n",
       "8                 Description of the product category  \n",
       "9           City where the customer made the purchase  \n",
       "10       Country where the customer made the purchase  \n",
       "11                                   Customer's email  \n",
       "12                                      Customer name  \n",
       "13                                        Customer ID  \n",
       "14                                  Customer lastname  \n",
       "15                                Masked customer key  \n",
       "16    Types of Customers Consumer , Corporate , Ho...  \n",
       "17    State to which the store where the purchase ...  \n",
       "18    Street to which the store where the purchase...  \n",
       "19                                   Customer Zipcode  \n",
       "20                           Department code of store  \n",
       "21                           Department name of store  \n",
       "22        Latitude corresponding to location of store  \n",
       "23       Longitude corresponding to location of store  \n",
       "24    Market to where the order is delivered  Afri...  \n",
       "25                      Destination city of the order  \n",
       "26                   Destination country of the order  \n",
       "27                                Customer order code  \n",
       "28                    Date on which the order is made  \n",
       "29                                         Order code  \n",
       "30     Product code generated through the RFID reader  \n",
       "31                          Order item discount value  \n",
       "32                     Order item discount percentage  \n",
       "33                                    Order item code  \n",
       "34                 Price of products without discount  \n",
       "35                            Order Item Profit Ratio  \n",
       "36                       Number of products per order  \n",
       "37                                     Value in sales  \n",
       "38                             Total amount per order  \n",
       "39                             Order Profit Per Order  \n",
       "40    Region of the world where the order is deliv...  \n",
       "41    State of the region where the order is deliv...  \n",
       "42    Order Status  COMPLETE , PENDING , CLOSED , ...  \n",
       "43                                       Product code  \n",
       "44                              Product category code  \n",
       "45                                Product Description  \n",
       "46          Link of visit and purchase of the product  \n",
       "47                                       Product Name  \n",
       "48                                      Product Price  \n",
       "49    Status of the product stock If it is 1 not a...  \n",
       "50                    Exact date and time of shipment  \n",
       "51    The following shipping modes are presented  ...  "
      ]
     },
     "execution_count": 6,
     "metadata": {},
     "output_type": "execute_result"
    }
   ],
   "source": [
    "df_description = pd.read_csv('data/raw/DescriptionDataCoSupplyChain.csv')\n",
    "df_description.DESCRIPTION = df_description.DESCRIPTION.str.replace(':', '')\n",
    "\n",
    "#df_description.style.set_properties(**{'text-align': 'left'})\n",
    "df_description"
   ]
  },
  {
   "attachments": {},
   "cell_type": "markdown",
   "metadata": {},
   "source": [
    "## 1.2 Data Visualization & Analysis"
   ]
  },
  {
   "cell_type": "code",
   "execution_count": null,
   "metadata": {},
   "outputs": [],
   "source": [
    "# payment type\n",
    "df_source['Type'].value_counts().plot(kind='bar')"
   ]
  },
  {
   "cell_type": "code",
   "execution_count": null,
   "metadata": {},
   "outputs": [],
   "source": [
    "# shipping mode\n",
    "df_source['Shipping Mode'].value_counts().plot(kind='bar')"
   ]
  },
  {
   "cell_type": "code",
   "execution_count": null,
   "metadata": {},
   "outputs": [],
   "source": [
    "# customer segment\n",
    "df_source['Customer Segment'].value_counts().plot(kind='bar')"
   ]
  },
  {
   "cell_type": "code",
   "execution_count": null,
   "metadata": {},
   "outputs": [],
   "source": [
    "# Days for shipment (scheduled)\n",
    "df_source['Days for shipment (scheduled)'].value_counts().plot(kind='bar')"
   ]
  },
  {
   "cell_type": "code",
   "execution_count": null,
   "metadata": {},
   "outputs": [],
   "source": [
    "# Late_delivery_risk\n",
    "df_source['Late_delivery_risk'].value_counts().plot(kind='bar')"
   ]
  },
  {
   "cell_type": "code",
   "execution_count": null,
   "metadata": {},
   "outputs": [],
   "source": [
    "# Customer State\n",
    "customer_state_vc = df_source['Customer State'].value_counts()\n",
    "\n",
    "print(f'Number of states: {len(customer_state_vc)}')\n",
    "print(customer_state_vc)"
   ]
  },
  {
   "cell_type": "code",
   "execution_count": null,
   "metadata": {},
   "outputs": [],
   "source": [
    "# market\n",
    "df_source['Market'].value_counts().plot(kind='bar')"
   ]
  },
  {
   "attachments": {},
   "cell_type": "markdown",
   "metadata": {},
   "source": [
    "> - A question could be which store is most likely to have a late delivery risk?\n",
    "> - which store does not deliver to the market"
   ]
  },
  {
   "cell_type": "code",
   "execution_count": null,
   "metadata": {},
   "outputs": [],
   "source": [
    "# State to which the store where the purchase is registered belongs\n",
    "df_source[df_source['Market'] == 'Africa']['Customer State'].value_counts()"
   ]
  },
  {
   "cell_type": "code",
   "execution_count": null,
   "metadata": {},
   "outputs": [],
   "source": [
    "# customer city\n",
    "customer_city_vc = df_source['Customer City'].value_counts()\n",
    "customer_city_vc"
   ]
  },
  {
   "cell_type": "code",
   "execution_count": null,
   "metadata": {},
   "outputs": [],
   "source": [
    "# delivery status\n",
    "df_source['Delivery Status'].value_counts().plot(kind='bar')"
   ]
  },
  {
   "attachments": {},
   "cell_type": "markdown",
   "metadata": {},
   "source": [
    "## 1.3 Feature Engineering\n",
    "\n",
    "Select the columns that will be used as the network nodes and remove duplicate records to have a single record per order."
   ]
  },
  {
   "cell_type": "code",
   "execution_count": null,
   "metadata": {},
   "outputs": [],
   "source": [
    "nodes = [\n",
    "    'Order Id',\n",
    "    'Shipping Mode',\n",
    "    'Customer Segment',\n",
    "    'Days for shipment (scheduled)',\n",
    "    'Delivery Status',\n",
    "    'Customer State',\n",
    "    'Market',\n",
    "]\n",
    "\n",
    "df_data = df_source[nodes] \\\n",
    "    .rename(columns={\n",
    "        'Type': 'Payment Type',\n",
    "        'Customer State': 'Store State'}) \\\n",
    "    .drop_duplicates() \\\n",
    "    .reset_index(drop=True)\n",
    "\n",
    "\n",
    "print(df_data.shape)\n",
    "with pd.option_context('display.max_columns', None):\n",
    "    display(df_data.head())"
   ]
  },
  {
   "cell_type": "code",
   "execution_count": null,
   "metadata": {},
   "outputs": [],
   "source": [
    "# find columns with missing values\n",
    "df_data.isnull().sum()"
   ]
  },
  {
   "cell_type": "markdown",
   "metadata": {},
   "source": [
    "### 1.3.1 Create a Training and Test Set"
   ]
  },
  {
   "cell_type": "code",
   "execution_count": null,
   "metadata": {},
   "outputs": [],
   "source": [
    "random_state = 98421"
   ]
  },
  {
   "cell_type": "code",
   "execution_count": null,
   "metadata": {},
   "outputs": [],
   "source": [
    "# create the training dataset\n",
    "df_test = df_data.sample(frac=0.3, random_state=random_state)\n",
    "df_train = df_data.drop(df_test.index)\n",
    "\n",
    "# reset the index of both datasets\n",
    "df_train.reset_index(drop=True, inplace=True)\n",
    "df_test.reset_index(drop=True, inplace=True)\n",
    "\n",
    "print(f'Training dataset shape : {df_train.shape}')\n",
    "print(f'Test dataset shape     : {df_test.shape}')"
   ]
  },
  {
   "attachments": {},
   "cell_type": "markdown",
   "metadata": {},
   "source": [
    "## 1.4 Model Training"
   ]
  },
  {
   "attachments": {},
   "cell_type": "markdown",
   "metadata": {},
   "source": [
    "### 1.4.1 Model Definition\n",
    "\n",
    "Define the model nodes and edges."
   ]
  },
  {
   "cell_type": "code",
   "execution_count": null,
   "metadata": {},
   "outputs": [],
   "source": [
    "# Create the Bayesian network model\n",
    "model = BayesianNetwork()\n",
    "\n",
    "# Add the nodes to the model\n",
    "model.add_node('Shipping Mode')\n",
    "model.add_node('Customer Segment')\n",
    "model.add_node('Days for shipment (scheduled)')\n",
    "model.add_node('Delivery Status')\n",
    "model.add_node('Store State')\n",
    "model.add_node('Market')\n",
    "\n",
    "\n",
    "# Add the edges between the nodes to the model\n",
    "model.add_edge('Delivery Status', 'Shipping Mode')\n",
    "model.add_edge('Delivery Status', 'Customer Segment')\n",
    "model.add_edge('Delivery Status', 'Days for shipment (scheduled)')\n",
    "model.add_edge('Delivery Status', 'Store State')\n",
    "model.add_edge('Delivery Status', 'Market')\n"
   ]
  },
  {
   "attachments": {},
   "cell_type": "markdown",
   "metadata": {},
   "source": [
    "### 1.4.2 Compute the Probability Distribution Table (PDT)"
   ]
  },
  {
   "cell_type": "code",
   "execution_count": null,
   "metadata": {},
   "outputs": [],
   "source": [
    "pe = ParameterEstimator(model, df_train)\n",
    "pe.state_counts('Shipping Mode')\n",
    "#pe.state_counts('Delivery Status')"
   ]
  },
  {
   "cell_type": "code",
   "execution_count": null,
   "metadata": {},
   "outputs": [],
   "source": [
    "est = BayesianEstimator(model, df_train)\n",
    "\n",
    "print(est.estimate_cpd('Customer Segment', prior_type='BDeu', equivalent_sample_size=10))"
   ]
  },
  {
   "cell_type": "code",
   "execution_count": null,
   "metadata": {},
   "outputs": [],
   "source": [
    "# # Create a MaximumLikelihoodEstimator object\n",
    "# estimator = MaximumLikelihoodEstimator(model, df_train)\n",
    "\n",
    "# estimator.get_parameters(weighted=True)"
   ]
  },
  {
   "cell_type": "code",
   "execution_count": null,
   "metadata": {},
   "outputs": [],
   "source": [
    "model.fit(\n",
    "    data=df_train, \n",
    "    estimator=BayesianEstimator,\n",
    "    prior_type='BDeu',\n",
    "    equivalent_sample_size=10)"
   ]
  },
  {
   "cell_type": "code",
   "execution_count": null,
   "metadata": {},
   "outputs": [],
   "source": [
    "# model.fit(\n",
    "#     data=df_train, \n",
    "#     estimator=MaximumLikelihoodEstimator)"
   ]
  },
  {
   "cell_type": "code",
   "execution_count": null,
   "metadata": {},
   "outputs": [],
   "source": [
    "# Check if the model is valid\n",
    "model.check_model()"
   ]
  },
  {
   "cell_type": "code",
   "execution_count": null,
   "metadata": {},
   "outputs": [],
   "source": [
    "model_cpds = model.get_cpds()\n",
    "model_cpds"
   ]
  },
  {
   "cell_type": "code",
   "execution_count": null,
   "metadata": {},
   "outputs": [],
   "source": [
    "for cpd in model_cpds:\n",
    "    print(f'--- {cpd.variable} ---')\n",
    "    print(cpd.values, end='\\n\\n')"
   ]
  },
  {
   "attachments": {},
   "cell_type": "markdown",
   "metadata": {},
   "source": [
    "## 1.5 Model Details"
   ]
  },
  {
   "cell_type": "code",
   "execution_count": null,
   "metadata": {},
   "outputs": [],
   "source": [
    "model.active_trail_nodes('Delivery Status')"
   ]
  },
  {
   "cell_type": "code",
   "execution_count": null,
   "metadata": {},
   "outputs": [],
   "source": [
    "model.get_independencies()"
   ]
  },
  {
   "attachments": {},
   "cell_type": "markdown",
   "metadata": {},
   "source": [
    "## 1.6 Model Queries"
   ]
  },
  {
   "cell_type": "code",
   "execution_count": null,
   "metadata": {},
   "outputs": [],
   "source": [
    "infer = VariableElimination(model)"
   ]
  },
  {
   "cell_type": "code",
   "execution_count": null,
   "metadata": {},
   "outputs": [],
   "source": [
    "def get_ratios(probabilities: DiscreteFactor, col_name: str='Ratio') -> pd.DataFrame:\n",
    "    \"\"\"\n",
    "    Show probabilities for a given variable.\n",
    "\n",
    "    Parameters\n",
    "    ----------\n",
    "    probabilities : DiscreteFactor\n",
    "        Probabilities for the variable.\n",
    "\n",
    "    Returns\n",
    "    -------\n",
    "    pd.DataFrame\n",
    "        Probabilities for the variable.\n",
    "    \"\"\"\n",
    "    # Get the probabilities for each value\n",
    "    value_probabilities = probabilities.values\n",
    "    variable_name = list(probabilities.state_names.keys())[0]\n",
    "    state_names = probabilities.state_names[variable_name]\n",
    "\n",
    "    # create a dataframe with the probabilities\n",
    "    return pd.DataFrame(\n",
    "        data=value_probabilities,\n",
    "        index=state_names,\n",
    "        columns=[col_name]) \\\n",
    "        .sort_values(by=col_name, ascending=False)"
   ]
  },
  {
   "attachments": {},
   "cell_type": "markdown",
   "metadata": {},
   "source": [
    "### 1.6.1 What is the probability of a late delivery?"
   ]
  },
  {
   "cell_type": "code",
   "execution_count": null,
   "metadata": {},
   "outputs": [],
   "source": [
    "late_delivery = infer.query(\n",
    "    variables=['Delivery Status'],\n",
    "    joint=False)\n",
    "\n",
    "print(late_delivery['Delivery Status'])"
   ]
  },
  {
   "attachments": {},
   "cell_type": "markdown",
   "metadata": {},
   "source": [
    "### 1.6.2 Which states handle the most late deliveries?\n",
    "\n",
    "We can see that this is close the the same ratio as the total number of orders per state, given that we know that 54.7% of the orders are late."
   ]
  },
  {
   "cell_type": "code",
   "execution_count": null,
   "metadata": {},
   "outputs": [],
   "source": [
    "# Query the probability of a late delivery for each state\n",
    "state_late_delivery = infer.query(\n",
    "    variables=['Store State'],\n",
    "    evidence={'Delivery Status': 'Late delivery'})\n",
    "\n",
    "get_ratios(state_late_delivery).head(5)"
   ]
  },
  {
   "cell_type": "code",
   "execution_count": null,
   "metadata": {},
   "outputs": [],
   "source": [
    "df_train['Store State'].value_counts(normalize=True).head(5)"
   ]
  },
  {
   "attachments": {},
   "cell_type": "markdown",
   "metadata": {},
   "source": [
    "#### 1.6.2.1 What is the probability of a late delivery per store?"
   ]
  },
  {
   "cell_type": "code",
   "execution_count": null,
   "metadata": {},
   "outputs": [],
   "source": [
    "df_store_late_delivery = pd.DataFrame()\n",
    "\n",
    "for state_name in list(state_late_delivery.state_names.values())[0]:\n",
    "    # get the delivery status probabilities for the state\n",
    "    df_state = get_ratios(\n",
    "        infer.query(\n",
    "            variables=['Delivery Status'],\n",
    "            evidence={'Store State': state_name})\n",
    "    )\n",
    "\n",
    "    # add the state name to the dataframe\n",
    "    df_state['Store State'] = state_name\n",
    "\n",
    "    # append the dataframe to the main dataframe    \n",
    "    df_store_late_delivery = df_store_late_delivery.append(df_state \\\n",
    "        .reset_index(drop=False) \\\n",
    "        .rename(columns={'index': 'Delivery Status'})\n",
    "    )\n",
    "\n",
    "# show the stores with the highest probability of late delivery\n",
    "df_store_late_delivery \\\n",
    "    .query('`Delivery Status` == \"Late delivery\"') \\\n",
    "    .drop(columns=['Delivery Status']) \\\n",
    "    .reindex(columns=['Store State', 'Ratio']) \\\n",
    "    .sort_values(by='Ratio', ascending=False) \\\n",
    "    .reset_index(drop=True) \\\n",
    "    .head(5)"
   ]
  },
  {
   "attachments": {},
   "cell_type": "markdown",
   "metadata": {},
   "source": [
    "> We have discovered that the [state](https://www.scouting.org/resources/los/states/) Delaware (DE) has the highest probability of late delivery as reflected in the data below. This is an example that warrents further investigation."
   ]
  },
  {
   "cell_type": "code",
   "execution_count": null,
   "metadata": {},
   "outputs": [],
   "source": [
    "df_train[df_train['Store State'] == 'DE']"
   ]
  },
  {
   "attachments": {},
   "cell_type": "markdown",
   "metadata": {},
   "source": [
    "### 1.6.3 Which Market has the most late deliveries?"
   ]
  },
  {
   "cell_type": "code",
   "execution_count": null,
   "metadata": {},
   "outputs": [],
   "source": [
    "# Which Market is most likely to have a late delivery?\n",
    "market_late_delivery = infer.query(\n",
    "    variables=['Market'],\n",
    "    evidence={'Delivery Status': 'Late delivery'})\n",
    "\n",
    "get_ratios(market_late_delivery).head(5)\n"
   ]
  },
  {
   "attachments": {},
   "cell_type": "markdown",
   "metadata": {},
   "source": [
    "#### 1.6.3.1 What is the probability of a late delivery in Europe?"
   ]
  },
  {
   "cell_type": "code",
   "execution_count": null,
   "metadata": {},
   "outputs": [],
   "source": [
    "get_ratios(\n",
    "    infer.query(\n",
    "        variables=['Delivery Status'],\n",
    "        evidence={'Market': 'Europe'}),\n",
    "    col_name='Probability')"
   ]
  },
  {
   "attachments": {},
   "cell_type": "markdown",
   "metadata": {},
   "source": [
    "#### 1.6.3.2 Which shipping method has the most late deliveries in the Pacific Asia Market?"
   ]
  },
  {
   "cell_type": "code",
   "execution_count": null,
   "metadata": {},
   "outputs": [],
   "source": [
    "shipping_mode_late_delivery = infer.query(\n",
    "    variables=['Shipping Mode'],\n",
    "    evidence={\n",
    "        'Delivery Status': 'Late delivery',\n",
    "        'Market': 'Pacific Asia'\n",
    "    })\n",
    "\n",
    "get_ratios(shipping_mode_late_delivery).head(5)"
   ]
  },
  {
   "attachments": {},
   "cell_type": "markdown",
   "metadata": {},
   "source": [
    "#### 1.6.3.3 What is the probability of a late delivery for orders in the Pacific Asia Market sipped using Standard Class?"
   ]
  },
  {
   "cell_type": "code",
   "execution_count": null,
   "metadata": {},
   "outputs": [],
   "source": [
    "get_ratios(\n",
    "    infer.query(\n",
    "        variables=['Delivery Status'],\n",
    "        evidence={\n",
    "            'Shipping Mode': 'Standard Class',\n",
    "            'Market': 'Pacific Asia'\n",
    "        }),\n",
    "    col_name='Probability'\n",
    ").loc['Late delivery']"
   ]
  },
  {
   "attachments": {},
   "cell_type": "markdown",
   "metadata": {},
   "source": [
    "### 1.6.4 Which customer segment has the most late deliveries?"
   ]
  },
  {
   "cell_type": "code",
   "execution_count": null,
   "metadata": {},
   "outputs": [],
   "source": [
    "get_ratios(\n",
    "    infer.query(\n",
    "        variables=['Customer Segment'],\n",
    "        evidence={\n",
    "            'Delivery Status': 'Late delivery',\n",
    "        })\n",
    ")"
   ]
  },
  {
   "cell_type": "code",
   "execution_count": null,
   "metadata": {},
   "outputs": [],
   "source": [
    "df_train['Customer Segment'].value_counts(normalize=True).head(5)"
   ]
  },
  {
   "attachments": {},
   "cell_type": "markdown",
   "metadata": {},
   "source": [
    "### 1.6.5.1 Which shipping method is most likely to have a late delivery in the Corporate segment?"
   ]
  },
  {
   "cell_type": "code",
   "execution_count": null,
   "metadata": {},
   "outputs": [],
   "source": [
    "get_ratios(\n",
    "    infer.query(\n",
    "        variables=['Shipping Mode'],\n",
    "        evidence={\n",
    "            'Delivery Status': 'Late delivery',\n",
    "            'Customer Segment': 'Corporate'\n",
    "        })\n",
    ")"
   ]
  },
  {
   "cell_type": "code",
   "execution_count": null,
   "metadata": {},
   "outputs": [],
   "source": [
    "# customer segment is corporate and delivery status is late delivery\n",
    "df_train[\n",
    "    (df_train['Customer Segment'] == 'Corporate') &\n",
    "    (df_train['Delivery Status'] == 'Late delivery')\n",
    "]['Shipping Mode'].value_counts(normalize=True).head(5)"
   ]
  },
  {
   "attachments": {},
   "cell_type": "markdown",
   "metadata": {},
   "source": [
    "## 1.7 Model Evaluation"
   ]
  },
  {
   "cell_type": "code",
   "execution_count": null,
   "metadata": {},
   "outputs": [],
   "source": [
    "# remove the label to predict\n",
    "df_eval = df_test \\\n",
    "    .drop_duplicates() \\\n",
    "    .reset_index(drop=True)\n",
    "\n",
    "df_eval.head()"
   ]
  },
  {
   "cell_type": "code",
   "execution_count": null,
   "metadata": {},
   "outputs": [],
   "source": [
    "# predict the label\n",
    "df_predict = model.predict(df_eval.drop(columns=['Order Id', 'Delivery Status']))\n",
    "df_predict.rename(columns={\n",
    "    'Delivery Status': 'y_pred'}, inplace=True)\n",
    "\n",
    "# join the prediction back to the evaluation data\n",
    "df_eval = df_eval.join(df_predict)\n",
    "\n",
    "df_eval.head()"
   ]
  },
  {
   "cell_type": "code",
   "execution_count": null,
   "metadata": {},
   "outputs": [],
   "source": [
    "# show the confusion matrix\n",
    "confusion_matrix(\n",
    "    y_true=df_eval['Delivery Status'],\n",
    "    y_pred=df_eval['y_pred'])"
   ]
  },
  {
   "cell_type": "code",
   "execution_count": null,
   "metadata": {},
   "outputs": [],
   "source": [
    "# show the classification report\n",
    "print(classification_report(\n",
    "    y_true=df_eval['Delivery Status'],\n",
    "    y_pred=df_eval['y_pred']))"
   ]
  },
  {
   "attachments": {},
   "cell_type": "markdown",
   "metadata": {},
   "source": [
    "### 1.7.1 Create a AutoML Model for Comparison"
   ]
  },
  {
   "cell_type": "code",
   "execution_count": null,
   "metadata": {},
   "outputs": [],
   "source": [
    "from pycaret.classification import *"
   ]
  },
  {
   "cell_type": "code",
   "execution_count": null,
   "metadata": {},
   "outputs": [],
   "source": [
    "df_train"
   ]
  },
  {
   "cell_type": "code",
   "execution_count": null,
   "metadata": {},
   "outputs": [],
   "source": [
    "classifier = setup(\n",
    "    data=df_train.drop(columns=['Order Id']),\n",
    "    target='Delivery Status',\n",
    "    train_size=0.7,\n",
    "    session_id=random_state,\n",
    "    verbose=False)"
   ]
  },
  {
   "cell_type": "code",
   "execution_count": null,
   "metadata": {},
   "outputs": [],
   "source": [
    "# perform a model comparison\n",
    "models = compare_models(n_select=3)\n",
    "top_model = models[0]"
   ]
  },
  {
   "cell_type": "code",
   "execution_count": null,
   "metadata": {},
   "outputs": [],
   "source": [
    "plot_model(top_model, plot='feature')"
   ]
  },
  {
   "cell_type": "code",
   "execution_count": null,
   "metadata": {},
   "outputs": [],
   "source": [
    "# Unseen Data Prediction\n",
    "df_predicted = predict_model(estimator=top_model, data=df_test)"
   ]
  },
  {
   "cell_type": "code",
   "execution_count": null,
   "metadata": {},
   "outputs": [],
   "source": [
    "# show the confusion matrix\n",
    "confusion_matrix(\n",
    "    y_true=df_predicted['Delivery Status'],\n",
    "    y_pred=df_predicted['prediction_label'])"
   ]
  },
  {
   "cell_type": "code",
   "execution_count": null,
   "metadata": {},
   "outputs": [],
   "source": [
    "# show the classification report\n",
    "print(classification_report(\n",
    "    y_true=df_predicted['Delivery Status'],\n",
    "    y_pred=df_predicted['prediction_label']))"
   ]
  }
 ],
 "metadata": {
  "kernelspec": {
   "display_name": "Python 3",
   "language": "python",
   "name": "python3"
  },
  "language_info": {
   "codemirror_mode": {
    "name": "ipython",
    "version": 3
   },
   "file_extension": ".py",
   "mimetype": "text/x-python",
   "name": "python",
   "nbconvert_exporter": "python",
   "pygments_lexer": "ipython3",
   "version": "3.8.16"
  },
  "orig_nbformat": 4,
  "vscode": {
   "interpreter": {
    "hash": "949777d72b0d2535278d3dc13498b2535136f6dfe0678499012e853ee9abcab1"
   }
  }
 },
 "nbformat": 4,
 "nbformat_minor": 2
}
