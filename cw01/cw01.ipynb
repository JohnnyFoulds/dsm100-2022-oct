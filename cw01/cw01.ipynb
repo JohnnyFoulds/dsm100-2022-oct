{
 "cells": [
  {
   "cell_type": "markdown",
   "metadata": {},
   "source": [
    "# Decision Support System in Smart Supply Chains for Predicting Late Deliveries\n",
    "\n",
    "The implementation of a Python-based Bayesian Network using pgmpy and applied to the “DataCo SMART SUPPLY CHAIN FOR BIG DATA ANALYSIS” dataset. The primary goal of the DSS is to predict orders that would be delivered late. To achieve this, data-derived conditional probability distributions (CPDs) were used rather than assuming or estimating a priori knowledge of the CPDs. The performance of the DSS is compared to a multi-class classification machine learning model. The DSS can generate multiple insights and conduct what-if analyses to support decision-making.\n",
    "\n",
    "_Keywords:_  Decision Support System (DSS), Bayesian Network, Supply Chain Management (SCM), decision-making\n"
   ]
  },
  {
   "cell_type": "code",
   "execution_count": 1,
   "metadata": {},
   "outputs": [],
   "source": [
    "import pandas as pd\n",
    "from io import StringIO\n",
    "\n",
    "from pgmpy.estimators import MaximumLikelihoodEstimator, BayesianEstimator\n",
    "from pgmpy.estimators import ParameterEstimator\n",
    "from pgmpy.factors.discrete import TabularCPD, DiscreteFactor\n",
    "from pgmpy.inference import VariableElimination\n",
    "from pgmpy.models import BayesianNetwork\n",
    "\n",
    "from sklearn.metrics import classification_report, confusion_matrix\n",
    "import matplotlib.pyplot as plt\n"
   ]
  },
  {
   "attachments": {},
   "cell_type": "markdown",
   "metadata": {},
   "source": [
    "## 1. Data Preparation & Cleaning"
   ]
  },
  {
   "attachments": {},
   "cell_type": "markdown",
   "metadata": {},
   "source": [
    "### 1.1 Load Source Date"
   ]
  },
  {
   "cell_type": "code",
   "execution_count": 2,
   "metadata": {},
   "outputs": [],
   "source": [
    "df_source = pd.read_csv('data/raw/DataCoSupplyChainDataset.csv', encoding='unicode_escape')\n",
    "df_source.drop_duplicates(inplace=True)"
   ]
  },
  {
   "attachments": {},
   "cell_type": "markdown",
   "metadata": {},
   "source": [
    "### 1.2 Data Description"
   ]
  },
  {
   "cell_type": "code",
   "execution_count": 3,
   "metadata": {},
   "outputs": [
    {
     "data": {
      "text/html": [
       "<style type=\"text/css\">\n",
       "#T_20e0c_row0_col0, #T_20e0c_row0_col1, #T_20e0c_row1_col0, #T_20e0c_row1_col1, #T_20e0c_row2_col0, #T_20e0c_row2_col1, #T_20e0c_row3_col0, #T_20e0c_row3_col1, #T_20e0c_row4_col0, #T_20e0c_row4_col1, #T_20e0c_row5_col0, #T_20e0c_row5_col1, #T_20e0c_row6_col0, #T_20e0c_row6_col1, #T_20e0c_row7_col0, #T_20e0c_row7_col1, #T_20e0c_row8_col0, #T_20e0c_row8_col1, #T_20e0c_row9_col0, #T_20e0c_row9_col1, #T_20e0c_row10_col0, #T_20e0c_row10_col1, #T_20e0c_row11_col0, #T_20e0c_row11_col1, #T_20e0c_row12_col0, #T_20e0c_row12_col1, #T_20e0c_row13_col0, #T_20e0c_row13_col1, #T_20e0c_row14_col0, #T_20e0c_row14_col1, #T_20e0c_row15_col0, #T_20e0c_row15_col1, #T_20e0c_row16_col0, #T_20e0c_row16_col1, #T_20e0c_row17_col0, #T_20e0c_row17_col1, #T_20e0c_row18_col0, #T_20e0c_row18_col1, #T_20e0c_row19_col0, #T_20e0c_row19_col1, #T_20e0c_row20_col0, #T_20e0c_row20_col1, #T_20e0c_row21_col0, #T_20e0c_row21_col1, #T_20e0c_row22_col0, #T_20e0c_row22_col1, #T_20e0c_row23_col0, #T_20e0c_row23_col1, #T_20e0c_row24_col0, #T_20e0c_row24_col1, #T_20e0c_row25_col0, #T_20e0c_row25_col1, #T_20e0c_row26_col0, #T_20e0c_row26_col1, #T_20e0c_row27_col0, #T_20e0c_row27_col1, #T_20e0c_row28_col0, #T_20e0c_row28_col1, #T_20e0c_row29_col0, #T_20e0c_row29_col1, #T_20e0c_row30_col0, #T_20e0c_row30_col1, #T_20e0c_row31_col0, #T_20e0c_row31_col1, #T_20e0c_row32_col0, #T_20e0c_row32_col1, #T_20e0c_row33_col0, #T_20e0c_row33_col1, #T_20e0c_row34_col0, #T_20e0c_row34_col1, #T_20e0c_row35_col0, #T_20e0c_row35_col1, #T_20e0c_row36_col0, #T_20e0c_row36_col1, #T_20e0c_row37_col0, #T_20e0c_row37_col1, #T_20e0c_row38_col0, #T_20e0c_row38_col1, #T_20e0c_row39_col0, #T_20e0c_row39_col1, #T_20e0c_row40_col0, #T_20e0c_row40_col1, #T_20e0c_row41_col0, #T_20e0c_row41_col1, #T_20e0c_row42_col0, #T_20e0c_row42_col1, #T_20e0c_row43_col0, #T_20e0c_row43_col1, #T_20e0c_row44_col0, #T_20e0c_row44_col1, #T_20e0c_row45_col0, #T_20e0c_row45_col1, #T_20e0c_row46_col0, #T_20e0c_row46_col1, #T_20e0c_row47_col0, #T_20e0c_row47_col1, #T_20e0c_row48_col0, #T_20e0c_row48_col1, #T_20e0c_row49_col0, #T_20e0c_row49_col1, #T_20e0c_row50_col0, #T_20e0c_row50_col1, #T_20e0c_row51_col0, #T_20e0c_row51_col1 {\n",
       "  text-align: left;\n",
       "}\n",
       "</style>\n",
       "<table id=\"T_20e0c_\">\n",
       "  <thead>\n",
       "    <tr>\n",
       "      <th class=\"blank level0\" >&nbsp;</th>\n",
       "      <th class=\"col_heading level0 col0\" >FIELDS</th>\n",
       "      <th class=\"col_heading level0 col1\" >DESCRIPTION</th>\n",
       "    </tr>\n",
       "  </thead>\n",
       "  <tbody>\n",
       "    <tr>\n",
       "      <th id=\"T_20e0c_level0_row0\" class=\"row_heading level0 row0\" >0</th>\n",
       "      <td id=\"T_20e0c_row0_col0\" class=\"data row0 col0\" >Type</td>\n",
       "      <td id=\"T_20e0c_row0_col1\" class=\"data row0 col1\" >  Type of transaction made</td>\n",
       "    </tr>\n",
       "    <tr>\n",
       "      <th id=\"T_20e0c_level0_row1\" class=\"row_heading level0 row1\" >1</th>\n",
       "      <td id=\"T_20e0c_row1_col0\" class=\"data row1 col0\" >Days for shipping (real)     </td>\n",
       "      <td id=\"T_20e0c_row1_col1\" class=\"data row1 col1\" >  Actual shipping days of the purchased product</td>\n",
       "    </tr>\n",
       "    <tr>\n",
       "      <th id=\"T_20e0c_level0_row2\" class=\"row_heading level0 row2\" >2</th>\n",
       "      <td id=\"T_20e0c_row2_col0\" class=\"data row2 col0\" >Days for shipment (scheduled)</td>\n",
       "      <td id=\"T_20e0c_row2_col1\" class=\"data row2 col1\" >  Days of scheduled delivery of the purchased product</td>\n",
       "    </tr>\n",
       "    <tr>\n",
       "      <th id=\"T_20e0c_level0_row3\" class=\"row_heading level0 row3\" >3</th>\n",
       "      <td id=\"T_20e0c_row3_col0\" class=\"data row3 col0\" >Benefit per order</td>\n",
       "      <td id=\"T_20e0c_row3_col1\" class=\"data row3 col1\" >  Earnings per order placed</td>\n",
       "    </tr>\n",
       "    <tr>\n",
       "      <th id=\"T_20e0c_level0_row4\" class=\"row_heading level0 row4\" >4</th>\n",
       "      <td id=\"T_20e0c_row4_col0\" class=\"data row4 col0\" >Sales per customer</td>\n",
       "      <td id=\"T_20e0c_row4_col1\" class=\"data row4 col1\" >  Total sales per customer made per customer</td>\n",
       "    </tr>\n",
       "    <tr>\n",
       "      <th id=\"T_20e0c_level0_row5\" class=\"row_heading level0 row5\" >5</th>\n",
       "      <td id=\"T_20e0c_row5_col0\" class=\"data row5 col0\" >Delivery Status</td>\n",
       "      <td id=\"T_20e0c_row5_col1\" class=\"data row5 col1\" >  Delivery status of orders Advance shipping , Late delivery , Shipping canceled , Shipping on time</td>\n",
       "    </tr>\n",
       "    <tr>\n",
       "      <th id=\"T_20e0c_level0_row6\" class=\"row_heading level0 row6\" >6</th>\n",
       "      <td id=\"T_20e0c_row6_col0\" class=\"data row6 col0\" >Late_delivery_risk           </td>\n",
       "      <td id=\"T_20e0c_row6_col1\" class=\"data row6 col1\" >  Categorical variable that indicates if sending is late (1), it is not late (0).</td>\n",
       "    </tr>\n",
       "    <tr>\n",
       "      <th id=\"T_20e0c_level0_row7\" class=\"row_heading level0 row7\" >7</th>\n",
       "      <td id=\"T_20e0c_row7_col0\" class=\"data row7 col0\" >Category Id</td>\n",
       "      <td id=\"T_20e0c_row7_col1\" class=\"data row7 col1\" >  Product category code</td>\n",
       "    </tr>\n",
       "    <tr>\n",
       "      <th id=\"T_20e0c_level0_row8\" class=\"row_heading level0 row8\" >8</th>\n",
       "      <td id=\"T_20e0c_row8_col0\" class=\"data row8 col0\" >Category Name</td>\n",
       "      <td id=\"T_20e0c_row8_col1\" class=\"data row8 col1\" >  Description of the product category</td>\n",
       "    </tr>\n",
       "    <tr>\n",
       "      <th id=\"T_20e0c_level0_row9\" class=\"row_heading level0 row9\" >9</th>\n",
       "      <td id=\"T_20e0c_row9_col0\" class=\"data row9 col0\" >Customer City</td>\n",
       "      <td id=\"T_20e0c_row9_col1\" class=\"data row9 col1\" >  City where the customer made the purchase</td>\n",
       "    </tr>\n",
       "    <tr>\n",
       "      <th id=\"T_20e0c_level0_row10\" class=\"row_heading level0 row10\" >10</th>\n",
       "      <td id=\"T_20e0c_row10_col0\" class=\"data row10 col0\" >Customer Country</td>\n",
       "      <td id=\"T_20e0c_row10_col1\" class=\"data row10 col1\" >  Country where the customer made the purchase</td>\n",
       "    </tr>\n",
       "    <tr>\n",
       "      <th id=\"T_20e0c_level0_row11\" class=\"row_heading level0 row11\" >11</th>\n",
       "      <td id=\"T_20e0c_row11_col0\" class=\"data row11 col0\" >Customer Email</td>\n",
       "      <td id=\"T_20e0c_row11_col1\" class=\"data row11 col1\" >  Customer's email</td>\n",
       "    </tr>\n",
       "    <tr>\n",
       "      <th id=\"T_20e0c_level0_row12\" class=\"row_heading level0 row12\" >12</th>\n",
       "      <td id=\"T_20e0c_row12_col0\" class=\"data row12 col0\" >Customer Fname</td>\n",
       "      <td id=\"T_20e0c_row12_col1\" class=\"data row12 col1\" >  Customer name</td>\n",
       "    </tr>\n",
       "    <tr>\n",
       "      <th id=\"T_20e0c_level0_row13\" class=\"row_heading level0 row13\" >13</th>\n",
       "      <td id=\"T_20e0c_row13_col0\" class=\"data row13 col0\" >Customer Id</td>\n",
       "      <td id=\"T_20e0c_row13_col1\" class=\"data row13 col1\" >  Customer ID</td>\n",
       "    </tr>\n",
       "    <tr>\n",
       "      <th id=\"T_20e0c_level0_row14\" class=\"row_heading level0 row14\" >14</th>\n",
       "      <td id=\"T_20e0c_row14_col0\" class=\"data row14 col0\" >Customer Lname</td>\n",
       "      <td id=\"T_20e0c_row14_col1\" class=\"data row14 col1\" >  Customer lastname</td>\n",
       "    </tr>\n",
       "    <tr>\n",
       "      <th id=\"T_20e0c_level0_row15\" class=\"row_heading level0 row15\" >15</th>\n",
       "      <td id=\"T_20e0c_row15_col0\" class=\"data row15 col0\" >Customer Password</td>\n",
       "      <td id=\"T_20e0c_row15_col1\" class=\"data row15 col1\" >  Masked customer key</td>\n",
       "    </tr>\n",
       "    <tr>\n",
       "      <th id=\"T_20e0c_level0_row16\" class=\"row_heading level0 row16\" >16</th>\n",
       "      <td id=\"T_20e0c_row16_col0\" class=\"data row16 col0\" >Customer Segment</td>\n",
       "      <td id=\"T_20e0c_row16_col1\" class=\"data row16 col1\" >  Types of Customers Consumer , Corporate , Home Office</td>\n",
       "    </tr>\n",
       "    <tr>\n",
       "      <th id=\"T_20e0c_level0_row17\" class=\"row_heading level0 row17\" >17</th>\n",
       "      <td id=\"T_20e0c_row17_col0\" class=\"data row17 col0\" >Customer State</td>\n",
       "      <td id=\"T_20e0c_row17_col1\" class=\"data row17 col1\" >  State to which the store where the purchase is registered belongs</td>\n",
       "    </tr>\n",
       "    <tr>\n",
       "      <th id=\"T_20e0c_level0_row18\" class=\"row_heading level0 row18\" >18</th>\n",
       "      <td id=\"T_20e0c_row18_col0\" class=\"data row18 col0\" >Customer Street</td>\n",
       "      <td id=\"T_20e0c_row18_col1\" class=\"data row18 col1\" >  Street to which the store where the purchase is registered belongs</td>\n",
       "    </tr>\n",
       "    <tr>\n",
       "      <th id=\"T_20e0c_level0_row19\" class=\"row_heading level0 row19\" >19</th>\n",
       "      <td id=\"T_20e0c_row19_col0\" class=\"data row19 col0\" >Customer Zipcode</td>\n",
       "      <td id=\"T_20e0c_row19_col1\" class=\"data row19 col1\" >  Customer Zipcode</td>\n",
       "    </tr>\n",
       "    <tr>\n",
       "      <th id=\"T_20e0c_level0_row20\" class=\"row_heading level0 row20\" >20</th>\n",
       "      <td id=\"T_20e0c_row20_col0\" class=\"data row20 col0\" >Department Id</td>\n",
       "      <td id=\"T_20e0c_row20_col1\" class=\"data row20 col1\" >  Department code of store</td>\n",
       "    </tr>\n",
       "    <tr>\n",
       "      <th id=\"T_20e0c_level0_row21\" class=\"row_heading level0 row21\" >21</th>\n",
       "      <td id=\"T_20e0c_row21_col0\" class=\"data row21 col0\" >Department Name</td>\n",
       "      <td id=\"T_20e0c_row21_col1\" class=\"data row21 col1\" >  Department name of store</td>\n",
       "    </tr>\n",
       "    <tr>\n",
       "      <th id=\"T_20e0c_level0_row22\" class=\"row_heading level0 row22\" >22</th>\n",
       "      <td id=\"T_20e0c_row22_col0\" class=\"data row22 col0\" >Latitude</td>\n",
       "      <td id=\"T_20e0c_row22_col1\" class=\"data row22 col1\" >  Latitude corresponding to location of store</td>\n",
       "    </tr>\n",
       "    <tr>\n",
       "      <th id=\"T_20e0c_level0_row23\" class=\"row_heading level0 row23\" >23</th>\n",
       "      <td id=\"T_20e0c_row23_col0\" class=\"data row23 col0\" >Longitude</td>\n",
       "      <td id=\"T_20e0c_row23_col1\" class=\"data row23 col1\" >  Longitude corresponding to location of store</td>\n",
       "    </tr>\n",
       "    <tr>\n",
       "      <th id=\"T_20e0c_level0_row24\" class=\"row_heading level0 row24\" >24</th>\n",
       "      <td id=\"T_20e0c_row24_col0\" class=\"data row24 col0\" >Market</td>\n",
       "      <td id=\"T_20e0c_row24_col1\" class=\"data row24 col1\" >  Market to where the order is delivered  Africa , Europe , LATAM , Pacific Asia , USCA</td>\n",
       "    </tr>\n",
       "    <tr>\n",
       "      <th id=\"T_20e0c_level0_row25\" class=\"row_heading level0 row25\" >25</th>\n",
       "      <td id=\"T_20e0c_row25_col0\" class=\"data row25 col0\" >Order City</td>\n",
       "      <td id=\"T_20e0c_row25_col1\" class=\"data row25 col1\" >  Destination city of the order</td>\n",
       "    </tr>\n",
       "    <tr>\n",
       "      <th id=\"T_20e0c_level0_row26\" class=\"row_heading level0 row26\" >26</th>\n",
       "      <td id=\"T_20e0c_row26_col0\" class=\"data row26 col0\" >Order Country</td>\n",
       "      <td id=\"T_20e0c_row26_col1\" class=\"data row26 col1\" >  Destination country of the order</td>\n",
       "    </tr>\n",
       "    <tr>\n",
       "      <th id=\"T_20e0c_level0_row27\" class=\"row_heading level0 row27\" >27</th>\n",
       "      <td id=\"T_20e0c_row27_col0\" class=\"data row27 col0\" >Order Customer Id</td>\n",
       "      <td id=\"T_20e0c_row27_col1\" class=\"data row27 col1\" >  Customer order code</td>\n",
       "    </tr>\n",
       "    <tr>\n",
       "      <th id=\"T_20e0c_level0_row28\" class=\"row_heading level0 row28\" >28</th>\n",
       "      <td id=\"T_20e0c_row28_col0\" class=\"data row28 col0\" >order date (DateOrders)</td>\n",
       "      <td id=\"T_20e0c_row28_col1\" class=\"data row28 col1\" >  Date on which the order is made</td>\n",
       "    </tr>\n",
       "    <tr>\n",
       "      <th id=\"T_20e0c_level0_row29\" class=\"row_heading level0 row29\" >29</th>\n",
       "      <td id=\"T_20e0c_row29_col0\" class=\"data row29 col0\" >Order Id</td>\n",
       "      <td id=\"T_20e0c_row29_col1\" class=\"data row29 col1\" >  Order code</td>\n",
       "    </tr>\n",
       "    <tr>\n",
       "      <th id=\"T_20e0c_level0_row30\" class=\"row_heading level0 row30\" >30</th>\n",
       "      <td id=\"T_20e0c_row30_col0\" class=\"data row30 col0\" >Order Item Cardprod Id</td>\n",
       "      <td id=\"T_20e0c_row30_col1\" class=\"data row30 col1\" >  Product code generated through the RFID reader</td>\n",
       "    </tr>\n",
       "    <tr>\n",
       "      <th id=\"T_20e0c_level0_row31\" class=\"row_heading level0 row31\" >31</th>\n",
       "      <td id=\"T_20e0c_row31_col0\" class=\"data row31 col0\" >Order Item Discount</td>\n",
       "      <td id=\"T_20e0c_row31_col1\" class=\"data row31 col1\" >  Order item discount value</td>\n",
       "    </tr>\n",
       "    <tr>\n",
       "      <th id=\"T_20e0c_level0_row32\" class=\"row_heading level0 row32\" >32</th>\n",
       "      <td id=\"T_20e0c_row32_col0\" class=\"data row32 col0\" >Order Item Discount Rate     </td>\n",
       "      <td id=\"T_20e0c_row32_col1\" class=\"data row32 col1\" >  Order item discount percentage</td>\n",
       "    </tr>\n",
       "    <tr>\n",
       "      <th id=\"T_20e0c_level0_row33\" class=\"row_heading level0 row33\" >33</th>\n",
       "      <td id=\"T_20e0c_row33_col0\" class=\"data row33 col0\" >Order Item Id</td>\n",
       "      <td id=\"T_20e0c_row33_col1\" class=\"data row33 col1\" >  Order item code</td>\n",
       "    </tr>\n",
       "    <tr>\n",
       "      <th id=\"T_20e0c_level0_row34\" class=\"row_heading level0 row34\" >34</th>\n",
       "      <td id=\"T_20e0c_row34_col0\" class=\"data row34 col0\" >Order Item Product Price     </td>\n",
       "      <td id=\"T_20e0c_row34_col1\" class=\"data row34 col1\" >  Price of products without discount</td>\n",
       "    </tr>\n",
       "    <tr>\n",
       "      <th id=\"T_20e0c_level0_row35\" class=\"row_heading level0 row35\" >35</th>\n",
       "      <td id=\"T_20e0c_row35_col0\" class=\"data row35 col0\" >Order Item Profit Ratio</td>\n",
       "      <td id=\"T_20e0c_row35_col1\" class=\"data row35 col1\" >  Order Item Profit Ratio</td>\n",
       "    </tr>\n",
       "    <tr>\n",
       "      <th id=\"T_20e0c_level0_row36\" class=\"row_heading level0 row36\" >36</th>\n",
       "      <td id=\"T_20e0c_row36_col0\" class=\"data row36 col0\" >Order Item Quantity</td>\n",
       "      <td id=\"T_20e0c_row36_col1\" class=\"data row36 col1\" >  Number of products per order</td>\n",
       "    </tr>\n",
       "    <tr>\n",
       "      <th id=\"T_20e0c_level0_row37\" class=\"row_heading level0 row37\" >37</th>\n",
       "      <td id=\"T_20e0c_row37_col0\" class=\"data row37 col0\" >Sales</td>\n",
       "      <td id=\"T_20e0c_row37_col1\" class=\"data row37 col1\" >  Value in sales</td>\n",
       "    </tr>\n",
       "    <tr>\n",
       "      <th id=\"T_20e0c_level0_row38\" class=\"row_heading level0 row38\" >38</th>\n",
       "      <td id=\"T_20e0c_row38_col0\" class=\"data row38 col0\" >Order Item Total  </td>\n",
       "      <td id=\"T_20e0c_row38_col1\" class=\"data row38 col1\" >  Total amount per order</td>\n",
       "    </tr>\n",
       "    <tr>\n",
       "      <th id=\"T_20e0c_level0_row39\" class=\"row_heading level0 row39\" >39</th>\n",
       "      <td id=\"T_20e0c_row39_col0\" class=\"data row39 col0\" >Order Profit Per Order</td>\n",
       "      <td id=\"T_20e0c_row39_col1\" class=\"data row39 col1\" >  Order Profit Per Order</td>\n",
       "    </tr>\n",
       "    <tr>\n",
       "      <th id=\"T_20e0c_level0_row40\" class=\"row_heading level0 row40\" >40</th>\n",
       "      <td id=\"T_20e0c_row40_col0\" class=\"data row40 col0\" >Order Region</td>\n",
       "      <td id=\"T_20e0c_row40_col1\" class=\"data row40 col1\" >  Region of the world where the order is delivered   Southeast Asia ,South Asia ,Oceania ,Eastern Asia, West Asia , West of USA , US Center , West Africa, Central Africa ,North Africa ,Western Europe ,Northern , Caribbean , South America ,East Africa ,Southern Europe , East of USA ,Canada ,Southern Africa , Central Asia ,  Europe , Central America, Eastern Europe , South of  USA </td>\n",
       "    </tr>\n",
       "    <tr>\n",
       "      <th id=\"T_20e0c_level0_row41\" class=\"row_heading level0 row41\" >41</th>\n",
       "      <td id=\"T_20e0c_row41_col0\" class=\"data row41 col0\" >Order State</td>\n",
       "      <td id=\"T_20e0c_row41_col1\" class=\"data row41 col1\" >  State of the region where the order is delivered</td>\n",
       "    </tr>\n",
       "    <tr>\n",
       "      <th id=\"T_20e0c_level0_row42\" class=\"row_heading level0 row42\" >42</th>\n",
       "      <td id=\"T_20e0c_row42_col0\" class=\"data row42 col0\" >Order Status</td>\n",
       "      <td id=\"T_20e0c_row42_col1\" class=\"data row42 col1\" >  Order Status  COMPLETE , PENDING , CLOSED , PENDING_PAYMENT ,CANCELED , PROCESSING ,SUSPECTED_FRAUD ,ON_HOLD ,PAYMENT_REVIEW</td>\n",
       "    </tr>\n",
       "    <tr>\n",
       "      <th id=\"T_20e0c_level0_row43\" class=\"row_heading level0 row43\" >43</th>\n",
       "      <td id=\"T_20e0c_row43_col0\" class=\"data row43 col0\" >Product Card Id</td>\n",
       "      <td id=\"T_20e0c_row43_col1\" class=\"data row43 col1\" >  Product code</td>\n",
       "    </tr>\n",
       "    <tr>\n",
       "      <th id=\"T_20e0c_level0_row44\" class=\"row_heading level0 row44\" >44</th>\n",
       "      <td id=\"T_20e0c_row44_col0\" class=\"data row44 col0\" >Product Category Id</td>\n",
       "      <td id=\"T_20e0c_row44_col1\" class=\"data row44 col1\" >  Product category code</td>\n",
       "    </tr>\n",
       "    <tr>\n",
       "      <th id=\"T_20e0c_level0_row45\" class=\"row_heading level0 row45\" >45</th>\n",
       "      <td id=\"T_20e0c_row45_col0\" class=\"data row45 col0\" >Product Description</td>\n",
       "      <td id=\"T_20e0c_row45_col1\" class=\"data row45 col1\" >  Product Description</td>\n",
       "    </tr>\n",
       "    <tr>\n",
       "      <th id=\"T_20e0c_level0_row46\" class=\"row_heading level0 row46\" >46</th>\n",
       "      <td id=\"T_20e0c_row46_col0\" class=\"data row46 col0\" >Product Image</td>\n",
       "      <td id=\"T_20e0c_row46_col1\" class=\"data row46 col1\" >  Link of visit and purchase of the product</td>\n",
       "    </tr>\n",
       "    <tr>\n",
       "      <th id=\"T_20e0c_level0_row47\" class=\"row_heading level0 row47\" >47</th>\n",
       "      <td id=\"T_20e0c_row47_col0\" class=\"data row47 col0\" >Product Name</td>\n",
       "      <td id=\"T_20e0c_row47_col1\" class=\"data row47 col1\" >  Product Name</td>\n",
       "    </tr>\n",
       "    <tr>\n",
       "      <th id=\"T_20e0c_level0_row48\" class=\"row_heading level0 row48\" >48</th>\n",
       "      <td id=\"T_20e0c_row48_col0\" class=\"data row48 col0\" >Product Price</td>\n",
       "      <td id=\"T_20e0c_row48_col1\" class=\"data row48 col1\" >  Product Price</td>\n",
       "    </tr>\n",
       "    <tr>\n",
       "      <th id=\"T_20e0c_level0_row49\" class=\"row_heading level0 row49\" >49</th>\n",
       "      <td id=\"T_20e0c_row49_col0\" class=\"data row49 col0\" >Product Status</td>\n",
       "      <td id=\"T_20e0c_row49_col1\" class=\"data row49 col1\" >  Status of the product stock If it is 1 not available , 0 the product is available </td>\n",
       "    </tr>\n",
       "    <tr>\n",
       "      <th id=\"T_20e0c_level0_row50\" class=\"row_heading level0 row50\" >50</th>\n",
       "      <td id=\"T_20e0c_row50_col0\" class=\"data row50 col0\" >Shipping date (DateOrders)   </td>\n",
       "      <td id=\"T_20e0c_row50_col1\" class=\"data row50 col1\" >  Exact date and time of shipment</td>\n",
       "    </tr>\n",
       "    <tr>\n",
       "      <th id=\"T_20e0c_level0_row51\" class=\"row_heading level0 row51\" >51</th>\n",
       "      <td id=\"T_20e0c_row51_col0\" class=\"data row51 col0\" >Shipping Mode</td>\n",
       "      <td id=\"T_20e0c_row51_col1\" class=\"data row51 col1\" >  The following shipping modes are presented  Standard Class , First Class , Second Class , Same Day</td>\n",
       "    </tr>\n",
       "  </tbody>\n",
       "</table>\n"
      ],
      "text/plain": [
       "<pandas.io.formats.style.Styler at 0x7f9285144370>"
      ]
     },
     "execution_count": 3,
     "metadata": {},
     "output_type": "execute_result"
    }
   ],
   "source": [
    "df_description = pd.read_csv('data/raw/DescriptionDataCoSupplyChain.csv')\n",
    "df_description.DESCRIPTION = df_description.DESCRIPTION.str.replace(':', '')\n",
    "\n",
    "df_description.style.set_properties(**{'text-align': 'left'})"
   ]
  },
  {
   "attachments": {},
   "cell_type": "markdown",
   "metadata": {},
   "source": [
    "## 2. Feature Engineering\n",
    "\n",
    "Select the columns that will be used as the network nodes and remove duplicate records to have a single record per order."
   ]
  },
  {
   "cell_type": "code",
   "execution_count": 4,
   "metadata": {},
   "outputs": [
    {
     "name": "stdout",
     "output_type": "stream",
     "text": [
      "(65752, 7)\n"
     ]
    },
    {
     "data": {
      "text/html": [
       "<div>\n",
       "<style scoped>\n",
       "    .dataframe tbody tr th:only-of-type {\n",
       "        vertical-align: middle;\n",
       "    }\n",
       "\n",
       "    .dataframe tbody tr th {\n",
       "        vertical-align: top;\n",
       "    }\n",
       "\n",
       "    .dataframe thead th {\n",
       "        text-align: right;\n",
       "    }\n",
       "</style>\n",
       "<table border=\"1\" class=\"dataframe\">\n",
       "  <thead>\n",
       "    <tr style=\"text-align: right;\">\n",
       "      <th></th>\n",
       "      <th>Order Id</th>\n",
       "      <th>Shipping Mode</th>\n",
       "      <th>Customer Segment</th>\n",
       "      <th>Days for shipment (scheduled)</th>\n",
       "      <th>Delivery Status</th>\n",
       "      <th>Store State</th>\n",
       "      <th>Market</th>\n",
       "    </tr>\n",
       "  </thead>\n",
       "  <tbody>\n",
       "    <tr>\n",
       "      <th>0</th>\n",
       "      <td>77202</td>\n",
       "      <td>Standard Class</td>\n",
       "      <td>Consumer</td>\n",
       "      <td>4</td>\n",
       "      <td>Advance shipping</td>\n",
       "      <td>PR</td>\n",
       "      <td>Pacific Asia</td>\n",
       "    </tr>\n",
       "    <tr>\n",
       "      <th>1</th>\n",
       "      <td>75939</td>\n",
       "      <td>Standard Class</td>\n",
       "      <td>Consumer</td>\n",
       "      <td>4</td>\n",
       "      <td>Late delivery</td>\n",
       "      <td>PR</td>\n",
       "      <td>Pacific Asia</td>\n",
       "    </tr>\n",
       "    <tr>\n",
       "      <th>2</th>\n",
       "      <td>75938</td>\n",
       "      <td>Standard Class</td>\n",
       "      <td>Consumer</td>\n",
       "      <td>4</td>\n",
       "      <td>Shipping on time</td>\n",
       "      <td>CA</td>\n",
       "      <td>Pacific Asia</td>\n",
       "    </tr>\n",
       "    <tr>\n",
       "      <th>3</th>\n",
       "      <td>75937</td>\n",
       "      <td>Standard Class</td>\n",
       "      <td>Home Office</td>\n",
       "      <td>4</td>\n",
       "      <td>Advance shipping</td>\n",
       "      <td>CA</td>\n",
       "      <td>Pacific Asia</td>\n",
       "    </tr>\n",
       "    <tr>\n",
       "      <th>4</th>\n",
       "      <td>75936</td>\n",
       "      <td>Standard Class</td>\n",
       "      <td>Corporate</td>\n",
       "      <td>4</td>\n",
       "      <td>Advance shipping</td>\n",
       "      <td>PR</td>\n",
       "      <td>Pacific Asia</td>\n",
       "    </tr>\n",
       "  </tbody>\n",
       "</table>\n",
       "</div>"
      ],
      "text/plain": [
       "   Order Id   Shipping Mode Customer Segment  Days for shipment (scheduled)  \\\n",
       "0     77202  Standard Class         Consumer                              4   \n",
       "1     75939  Standard Class         Consumer                              4   \n",
       "2     75938  Standard Class         Consumer                              4   \n",
       "3     75937  Standard Class      Home Office                              4   \n",
       "4     75936  Standard Class        Corporate                              4   \n",
       "\n",
       "    Delivery Status Store State        Market  \n",
       "0  Advance shipping          PR  Pacific Asia  \n",
       "1     Late delivery          PR  Pacific Asia  \n",
       "2  Shipping on time          CA  Pacific Asia  \n",
       "3  Advance shipping          CA  Pacific Asia  \n",
       "4  Advance shipping          PR  Pacific Asia  "
      ]
     },
     "metadata": {},
     "output_type": "display_data"
    }
   ],
   "source": [
    "nodes = [\n",
    "    'Order Id',\n",
    "    'Shipping Mode',\n",
    "    'Customer Segment',\n",
    "    'Days for shipment (scheduled)',\n",
    "    'Delivery Status',\n",
    "    'Customer State',\n",
    "    'Market',\n",
    "]\n",
    "\n",
    "df_data = df_source[nodes] \\\n",
    "    .rename(columns={\n",
    "        'Type': 'Payment Type',\n",
    "        'Customer State': 'Store State'}) \\\n",
    "    .drop_duplicates() \\\n",
    "    .reset_index(drop=True)\n",
    "\n",
    "\n",
    "print(df_data.shape)\n",
    "with pd.option_context('display.max_columns', None):\n",
    "    display(df_data.head())"
   ]
  },
  {
   "cell_type": "code",
   "execution_count": 5,
   "metadata": {},
   "outputs": [
    {
     "data": {
      "text/plain": [
       "Order Id                         0\n",
       "Shipping Mode                    0\n",
       "Customer Segment                 0\n",
       "Days for shipment (scheduled)    0\n",
       "Delivery Status                  0\n",
       "Store State                      0\n",
       "Market                           0\n",
       "dtype: int64"
      ]
     },
     "execution_count": 5,
     "metadata": {},
     "output_type": "execute_result"
    }
   ],
   "source": [
    "# find columns with missing values\n",
    "df_data.isnull().sum()"
   ]
  },
  {
   "attachments": {},
   "cell_type": "markdown",
   "metadata": {},
   "source": [
    "## 3. Create a Training and Test Set"
   ]
  },
  {
   "cell_type": "code",
   "execution_count": 6,
   "metadata": {},
   "outputs": [],
   "source": [
    "# the random state is used to generate the same results for each run\n",
    "random_state = 98421"
   ]
  },
  {
   "cell_type": "code",
   "execution_count": 7,
   "metadata": {},
   "outputs": [
    {
     "name": "stdout",
     "output_type": "stream",
     "text": [
      "Training dataset shape : (46026, 7)\n",
      "Test dataset shape     : (19726, 7)\n"
     ]
    }
   ],
   "source": [
    "# create the training dataset\n",
    "df_test = df_data.sample(frac=0.3, random_state=random_state)\n",
    "df_train = df_data.drop(df_test.index)\n",
    "\n",
    "# reset the index of both datasets\n",
    "df_train.reset_index(drop=True, inplace=True)\n",
    "df_test.reset_index(drop=True, inplace=True)\n",
    "\n",
    "print(f'Training dataset shape : {df_train.shape}')\n",
    "print(f'Test dataset shape     : {df_test.shape}')"
   ]
  },
  {
   "attachments": {},
   "cell_type": "markdown",
   "metadata": {},
   "source": [
    "## 4. Model Training"
   ]
  },
  {
   "attachments": {},
   "cell_type": "markdown",
   "metadata": {},
   "source": [
    "### 4.1 Model Definition\n",
    "\n",
    "Define the model nodes and edges."
   ]
  },
  {
   "cell_type": "code",
   "execution_count": 8,
   "metadata": {},
   "outputs": [],
   "source": [
    "# Create the Bayesian network model\n",
    "model = BayesianNetwork()\n",
    "\n",
    "# Add the nodes to the model\n",
    "model.add_node('Shipping Mode')\n",
    "model.add_node('Customer Segment')\n",
    "model.add_node('Days for shipment (scheduled)')\n",
    "model.add_node('Delivery Status')\n",
    "model.add_node('Store State')\n",
    "model.add_node('Market')\n",
    "\n",
    "# Add the edges between the nodes to the model\n",
    "model.add_edge('Delivery Status', 'Shipping Mode')\n",
    "model.add_edge('Delivery Status', 'Customer Segment')\n",
    "model.add_edge('Delivery Status', 'Days for shipment (scheduled)')\n",
    "model.add_edge('Delivery Status', 'Store State')\n",
    "model.add_edge('Delivery Status', 'Market')"
   ]
  },
  {
   "attachments": {},
   "cell_type": "markdown",
   "metadata": {},
   "source": [
    "### 4.2 Compute the Probability Distribution Table (PDT)"
   ]
  },
  {
   "cell_type": "code",
   "execution_count": 9,
   "metadata": {},
   "outputs": [
    {
     "data": {
      "text/html": [
       "<div>\n",
       "<style scoped>\n",
       "    .dataframe tbody tr th:only-of-type {\n",
       "        vertical-align: middle;\n",
       "    }\n",
       "\n",
       "    .dataframe tbody tr th {\n",
       "        vertical-align: top;\n",
       "    }\n",
       "\n",
       "    .dataframe thead tr th {\n",
       "        text-align: left;\n",
       "    }\n",
       "\n",
       "    .dataframe thead tr:last-of-type th {\n",
       "        text-align: right;\n",
       "    }\n",
       "</style>\n",
       "<table border=\"1\" class=\"dataframe\">\n",
       "  <thead>\n",
       "    <tr>\n",
       "      <th>Delivery Status</th>\n",
       "      <th>Advance shipping</th>\n",
       "      <th>Late delivery</th>\n",
       "      <th>Shipping canceled</th>\n",
       "      <th>Shipping on time</th>\n",
       "    </tr>\n",
       "    <tr>\n",
       "      <th>Shipping Mode</th>\n",
       "      <th></th>\n",
       "      <th></th>\n",
       "      <th></th>\n",
       "      <th></th>\n",
       "    </tr>\n",
       "  </thead>\n",
       "  <tbody>\n",
       "    <tr>\n",
       "      <th>First Class</th>\n",
       "      <td>0.0</td>\n",
       "      <td>6719.0</td>\n",
       "      <td>313.0</td>\n",
       "      <td>0.0</td>\n",
       "    </tr>\n",
       "    <tr>\n",
       "      <th>Same Day</th>\n",
       "      <td>0.0</td>\n",
       "      <td>1110.0</td>\n",
       "      <td>119.0</td>\n",
       "      <td>1220.0</td>\n",
       "    </tr>\n",
       "    <tr>\n",
       "      <th>Second Class</th>\n",
       "      <td>0.0</td>\n",
       "      <td>6899.0</td>\n",
       "      <td>369.0</td>\n",
       "      <td>1725.0</td>\n",
       "    </tr>\n",
       "    <tr>\n",
       "      <th>Standard Class</th>\n",
       "      <td>10566.0</td>\n",
       "      <td>10479.0</td>\n",
       "      <td>1223.0</td>\n",
       "      <td>5284.0</td>\n",
       "    </tr>\n",
       "  </tbody>\n",
       "</table>\n",
       "</div>"
      ],
      "text/plain": [
       "Delivery Status Advance shipping Late delivery Shipping canceled  \\\n",
       "Shipping Mode                                                      \n",
       "First Class                  0.0        6719.0             313.0   \n",
       "Same Day                     0.0        1110.0             119.0   \n",
       "Second Class                 0.0        6899.0             369.0   \n",
       "Standard Class           10566.0       10479.0            1223.0   \n",
       "\n",
       "Delivery Status Shipping on time  \n",
       "Shipping Mode                     \n",
       "First Class                  0.0  \n",
       "Same Day                  1220.0  \n",
       "Second Class              1725.0  \n",
       "Standard Class            5284.0  "
      ]
     },
     "execution_count": 9,
     "metadata": {},
     "output_type": "execute_result"
    }
   ],
   "source": [
    "# show a simple parameter estimation of the shipping mode feature\n",
    "pe = ParameterEstimator(model, df_train)\n",
    "pe.state_counts('Shipping Mode')"
   ]
  },
  {
   "cell_type": "code",
   "execution_count": 10,
   "metadata": {},
   "outputs": [],
   "source": [
    "# estimate the CPDs using the Bayesian estimator\n",
    "model.fit(\n",
    "    data=df_train, \n",
    "    estimator=BayesianEstimator,\n",
    "    prior_type='BDeu',\n",
    "    equivalent_sample_size=10)"
   ]
  },
  {
   "cell_type": "code",
   "execution_count": 11,
   "metadata": {},
   "outputs": [
    {
     "data": {
      "text/plain": [
       "True"
      ]
     },
     "execution_count": 11,
     "metadata": {},
     "output_type": "execute_result"
    }
   ],
   "source": [
    "# Check if the model is valid\n",
    "model.check_model()"
   ]
  },
  {
   "cell_type": "code",
   "execution_count": 12,
   "metadata": {},
   "outputs": [
    {
     "data": {
      "text/plain": [
       "[<TabularCPD representing P(Shipping Mode:4 | Delivery Status:4) at 0x7f91a2adea30>,\n",
       " <TabularCPD representing P(Customer Segment:3 | Delivery Status:4) at 0x7f91a2ade520>,\n",
       " <TabularCPD representing P(Days for shipment (scheduled):4 | Delivery Status:4) at 0x7f91a2ade2b0>,\n",
       " <TabularCPD representing P(Delivery Status:4) at 0x7f91a2adecd0>,\n",
       " <TabularCPD representing P(Store State:46 | Delivery Status:4) at 0x7f91a2ade280>,\n",
       " <TabularCPD representing P(Market:5 | Delivery Status:4) at 0x7f91a2eab700>]"
      ]
     },
     "execution_count": 12,
     "metadata": {},
     "output_type": "execute_result"
    }
   ],
   "source": [
    "# show the CPDs of the model\n",
    "model_cpds = model.get_cpds()\n",
    "model_cpds"
   ]
  },
  {
   "cell_type": "code",
   "execution_count": 13,
   "metadata": {},
   "outputs": [
    {
     "name": "stdout",
     "output_type": "stream",
     "text": [
      "--- Shipping Mode ---\n",
      "[[5.91380044e-05 2.66551300e-01 1.54761905e-01 7.59278382e-05]\n",
      " [5.91380044e-05 4.40558123e-02 5.90303479e-02 1.48287068e-01]\n",
      " [5.91380044e-05 2.73691466e-01 1.82395756e-01 2.09636761e-01]\n",
      " [9.99822586e-01 4.15701422e-01 6.03811991e-01 6.42000243e-01]]\n",
      "\n",
      "--- Customer Segment ---\n",
      "[[0.5214395  0.52055111 0.5254544  0.52017656]\n",
      " [0.3031493  0.29928532 0.28957974 0.29956063]\n",
      " [0.17541121 0.18016356 0.18496587 0.18026281]]\n",
      "\n",
      "--- Days for shipment (scheduled) ---\n",
      "[[5.91380044e-05 4.40558123e-02 5.90303479e-02 1.48287068e-01]\n",
      " [5.91380044e-05 2.66551300e-01 1.54761905e-01 7.59278382e-05]\n",
      " [5.91380044e-05 2.73691466e-01 1.82395756e-01 2.09636761e-01]\n",
      " [9.99822586e-01 4.15701422e-01 6.03811991e-01 6.42000243e-01]]\n",
      "\n",
      "--- Delivery Status ---\n",
      "[0.22957034 0.54760405 0.0440199  0.17880572]\n",
      "\n",
      "--- Store State ---\n",
      "[[5.14243517e-06 2.15584705e-06 2.68185670e-05 1.28086962e-04]\n",
      " [5.14243517e-06 2.15584705e-06 2.68185670e-05 1.28086962e-04]\n",
      " [1.94384049e-04 2.00493775e-04 2.68185670e-05 4.92540585e-04]\n",
      " [8.56729699e-04 8.35175145e-04 5.20280200e-04 9.78478749e-04]\n",
      " [1.86454414e-02 1.73765584e-02 1.82848990e-02 1.79863145e-02]\n",
      " [1.58589615e-01 1.63789617e-01 1.55960695e-01 1.61702527e-01]\n",
      " [1.13596393e-02 9.04636537e-03 9.89605123e-03 1.20335720e-02]\n",
      " [6.81784055e-03 6.15063162e-03 5.45489653e-03 6.08082948e-03]\n",
      " [2.84376665e-03 3.53257097e-03 3.97451163e-03 3.65113865e-03]\n",
      " [1.14059212e-03 1.74752961e-03 2.49412673e-03 9.78478749e-04]\n",
      " [3.17031128e-02 2.94355044e-02 3.06214398e-02 3.12281295e-02]\n",
      " [1.37251595e-02 1.36478053e-02 1.38437443e-02 1.36128710e-02]\n",
      " [7.66942781e-03 7.30099160e-03 9.40258960e-03 4.50153044e-03]\n",
      " [3.83625664e-04 5.57502046e-04 5.20280200e-04 4.92540585e-04]\n",
      " [1.23521293e-03 9.93845488e-04 2.68185670e-05 9.78478749e-04]\n",
      " [3.86104317e-02 4.24068049e-02 3.70364411e-02 4.21617382e-02]\n",
      " [3.78997472e-03 3.45323580e-03 2.49412673e-03 3.04371595e-03]\n",
      " [1.99217938e-03 2.14420547e-03 1.01374183e-03 2.19332416e-03]\n",
      " [3.22224988e-03 2.50121374e-03 1.50720347e-03 2.19332416e-03]\n",
      " [5.30390763e-03 4.88126888e-03 8.90912797e-03 4.86598406e-03]\n",
      " [7.85866943e-03 8.72902469e-03 1.18698978e-02 9.11794300e-03]\n",
      " [1.14542601e-02 1.33304646e-02 1.58175908e-02 1.23980256e-02]\n",
      " [2.00647535e-02 2.03516273e-02 1.92718223e-02 2.13878817e-02]\n",
      " [2.27604181e-03 3.69124131e-03 6.93528143e-03 3.52965411e-03]\n",
      " [6.15549490e-03 7.69766746e-03 5.94835817e-03 8.02458213e-03]\n",
      " [5.72867278e-04 4.78166875e-04 1.50720347e-03 4.92540585e-04]\n",
      " [9.65646476e-03 1.12677502e-02 1.28568210e-02 1.04542730e-02]\n",
      " [8.56729699e-04 1.11284824e-03 2.00066510e-03 1.22144783e-03]\n",
      " [1.95916495e-02 1.72972232e-02 2.02587455e-02 1.73788918e-02]\n",
      " [4.07383714e-03 5.83329094e-03 4.46797327e-03 5.47340677e-03]\n",
      " [7.85866943e-03 8.17367849e-03 9.40258960e-03 8.63200484e-03]\n",
      " [6.86998484e-02 6.12885756e-02 5.48010599e-02 6.36645020e-02]\n",
      " [2.25248945e-02 2.16209900e-02 2.61802851e-02 2.34531189e-02]\n",
      " [1.42445454e-03 1.35085376e-03 1.01374183e-03 1.70738600e-03]\n",
      " [9.56184395e-03 9.64137916e-03 9.40258960e-03 8.87497392e-03]\n",
      " [2.04432368e-02 2.03516273e-02 2.12456688e-02 2.39390570e-02]\n",
      " [3.88707418e-01 3.84460396e-01 3.93315740e-01 3.76365711e-01]\n",
      " [1.23521293e-03 1.27151859e-03 5.20280200e-04 1.70738600e-03]\n",
      " [2.46528342e-03 3.77057648e-03 4.96143490e-03 4.01559228e-03]\n",
      " [6.81784055e-03 8.88769503e-03 9.40258960e-03 8.99645846e-03]\n",
      " [4.84509957e-02 5.14510144e-02 4.29579807e-02 5.39457387e-02]\n",
      " [6.06087409e-03 5.23827715e-03 3.97451163e-03 5.10895315e-03]\n",
      " [1.20219849e-02 1.11884150e-02 1.03895129e-02 1.05757575e-02]\n",
      " [4.64156198e-03 5.63495301e-03 4.46797327e-03 4.74449952e-03]\n",
      " [6.43935732e-03 4.72259854e-03 3.97451163e-03 3.77262319e-03]\n",
      " [1.99217938e-03 1.15251583e-03 1.01374183e-03 1.58590145e-03]]\n",
      "\n",
      "--- Market ---\n",
      "[[0.05937456 0.05793451 0.05748828 0.0625038 ]\n",
      " [0.28324739 0.28515044 0.26918332 0.27412987]\n",
      " [0.26053839 0.25789881 0.26918332 0.26319626]\n",
      " [0.26924351 0.2689264  0.2642487  0.26769119]\n",
      " [0.12759616 0.13008985 0.13989637 0.13247889]]\n",
      "\n"
     ]
    }
   ],
   "source": [
    "# show the computed CPD values\n",
    "for cpd in model_cpds:\n",
    "    print(f'--- {cpd.variable} ---')\n",
    "    print(cpd.values, end='\\n\\n')"
   ]
  },
  {
   "attachments": {},
   "cell_type": "markdown",
   "metadata": {},
   "source": [
    "### 4.3 Model Details"
   ]
  },
  {
   "cell_type": "code",
   "execution_count": 14,
   "metadata": {},
   "outputs": [
    {
     "data": {
      "text/plain": [
       "{'Delivery Status': {'Customer Segment',\n",
       "  'Days for shipment (scheduled)',\n",
       "  'Delivery Status',\n",
       "  'Market',\n",
       "  'Shipping Mode',\n",
       "  'Store State'}}"
      ]
     },
     "execution_count": 14,
     "metadata": {},
     "output_type": "execute_result"
    }
   ],
   "source": [
    "model.active_trail_nodes('Delivery Status')"
   ]
  },
  {
   "cell_type": "code",
   "execution_count": 15,
   "metadata": {},
   "outputs": [
    {
     "data": {
      "text/plain": [
       "(Store State ⟂ Customer Segment, Days for shipment (scheduled), Market, Shipping Mode | Delivery Status)\n",
       "(Store State ⟂ Customer Segment, Days for shipment (scheduled), Market | Delivery Status, Shipping Mode)\n",
       "(Store State ⟂ Days for shipment (scheduled), Market, Shipping Mode | Delivery Status, Customer Segment)\n",
       "(Store State ⟂ Days for shipment (scheduled), Customer Segment, Shipping Mode | Delivery Status, Market)\n",
       "(Store State ⟂ Customer Segment, Market, Shipping Mode | Delivery Status, Days for shipment (scheduled))\n",
       "(Store State ⟂ Days for shipment (scheduled), Market | Delivery Status, Customer Segment, Shipping Mode)\n",
       "(Store State ⟂ Days for shipment (scheduled), Customer Segment | Delivery Status, Market, Shipping Mode)\n",
       "(Store State ⟂ Customer Segment, Market | Delivery Status, Days for shipment (scheduled), Shipping Mode)\n",
       "(Store State ⟂ Days for shipment (scheduled), Shipping Mode | Delivery Status, Market, Customer Segment)\n",
       "(Store State ⟂ Market, Shipping Mode | Delivery Status, Days for shipment (scheduled), Customer Segment)\n",
       "(Store State ⟂ Customer Segment, Shipping Mode | Delivery Status, Days for shipment (scheduled), Market)\n",
       "(Store State ⟂ Days for shipment (scheduled) | Delivery Status, Market, Customer Segment, Shipping Mode)\n",
       "(Store State ⟂ Market | Delivery Status, Days for shipment (scheduled), Customer Segment, Shipping Mode)\n",
       "(Store State ⟂ Customer Segment | Delivery Status, Days for shipment (scheduled), Market, Shipping Mode)\n",
       "(Store State ⟂ Shipping Mode | Delivery Status, Days for shipment (scheduled), Market, Customer Segment)\n",
       "(Shipping Mode ⟂ Customer Segment, Store State, Market, Days for shipment (scheduled) | Delivery Status)\n",
       "(Shipping Mode ⟂ Customer Segment, Days for shipment (scheduled), Market | Delivery Status, Store State)\n",
       "(Shipping Mode ⟂ Store State, Market, Days for shipment (scheduled) | Delivery Status, Customer Segment)\n",
       "(Shipping Mode ⟂ Store State, Customer Segment, Days for shipment (scheduled) | Delivery Status, Market)\n",
       "(Shipping Mode ⟂ Customer Segment, Store State, Market | Delivery Status, Days for shipment (scheduled))\n",
       "(Shipping Mode ⟂ Days for shipment (scheduled), Market | Delivery Status, Store State, Customer Segment)\n",
       "(Shipping Mode ⟂ Days for shipment (scheduled), Customer Segment | Delivery Status, Store State, Market)\n",
       "(Shipping Mode ⟂ Customer Segment, Market | Delivery Status, Store State, Days for shipment (scheduled))\n",
       "(Shipping Mode ⟂ Store State, Days for shipment (scheduled) | Delivery Status, Market, Customer Segment)\n",
       "(Shipping Mode ⟂ Store State, Market | Delivery Status, Days for shipment (scheduled), Customer Segment)\n",
       "(Shipping Mode ⟂ Store State, Customer Segment | Delivery Status, Days for shipment (scheduled), Market)\n",
       "(Shipping Mode ⟂ Days for shipment (scheduled) | Delivery Status, Store State, Market, Customer Segment)\n",
       "(Shipping Mode ⟂ Market | Delivery Status, Store State, Customer Segment, Days for shipment (scheduled))\n",
       "(Shipping Mode ⟂ Customer Segment | Delivery Status, Store State, Market, Days for shipment (scheduled))\n",
       "(Shipping Mode ⟂ Store State | Delivery Status, Days for shipment (scheduled), Market, Customer Segment)\n",
       "(Customer Segment ⟂ Store State, Days for shipment (scheduled), Market, Shipping Mode | Delivery Status)\n",
       "(Customer Segment ⟂ Days for shipment (scheduled), Market, Shipping Mode | Delivery Status, Store State)\n",
       "(Customer Segment ⟂ Store State, Days for shipment (scheduled), Shipping Mode | Delivery Status, Market)\n",
       "(Customer Segment ⟂ Store State, Market, Days for shipment (scheduled) | Delivery Status, Shipping Mode)\n",
       "(Customer Segment ⟂ Store State, Market, Shipping Mode | Delivery Status, Days for shipment (scheduled))\n",
       "(Customer Segment ⟂ Days for shipment (scheduled), Shipping Mode | Delivery Status, Store State, Market)\n",
       "(Customer Segment ⟂ Days for shipment (scheduled), Market | Delivery Status, Store State, Shipping Mode)\n",
       "(Customer Segment ⟂ Market, Shipping Mode | Delivery Status, Store State, Days for shipment (scheduled))\n",
       "(Customer Segment ⟂ Store State, Days for shipment (scheduled) | Delivery Status, Market, Shipping Mode)\n",
       "(Customer Segment ⟂ Store State, Shipping Mode | Delivery Status, Days for shipment (scheduled), Market)\n",
       "(Customer Segment ⟂ Store State, Market | Delivery Status, Days for shipment (scheduled), Shipping Mode)\n",
       "(Customer Segment ⟂ Days for shipment (scheduled) | Delivery Status, Store State, Market, Shipping Mode)\n",
       "(Customer Segment ⟂ Shipping Mode | Delivery Status, Store State, Market, Days for shipment (scheduled))\n",
       "(Customer Segment ⟂ Market | Delivery Status, Days for shipment (scheduled), Store State, Shipping Mode)\n",
       "(Customer Segment ⟂ Store State | Delivery Status, Days for shipment (scheduled), Market, Shipping Mode)\n",
       "(Market ⟂ Store State, Days for shipment (scheduled), Customer Segment, Shipping Mode | Delivery Status)\n",
       "(Market ⟂ Days for shipment (scheduled), Customer Segment, Shipping Mode | Delivery Status, Store State)\n",
       "(Market ⟂ Store State, Days for shipment (scheduled), Shipping Mode | Delivery Status, Customer Segment)\n",
       "(Market ⟂ Store State, Customer Segment, Days for shipment (scheduled) | Delivery Status, Shipping Mode)\n",
       "(Market ⟂ Store State, Customer Segment, Shipping Mode | Delivery Status, Days for shipment (scheduled))\n",
       "(Market ⟂ Days for shipment (scheduled), Shipping Mode | Delivery Status, Store State, Customer Segment)\n",
       "(Market ⟂ Days for shipment (scheduled), Customer Segment | Delivery Status, Store State, Shipping Mode)\n",
       "(Market ⟂ Customer Segment, Shipping Mode | Delivery Status, Store State, Days for shipment (scheduled))\n",
       "(Market ⟂ Store State, Days for shipment (scheduled) | Delivery Status, Customer Segment, Shipping Mode)\n",
       "(Market ⟂ Store State, Shipping Mode | Delivery Status, Days for shipment (scheduled), Customer Segment)\n",
       "(Market ⟂ Store State, Customer Segment | Delivery Status, Days for shipment (scheduled), Shipping Mode)\n",
       "(Market ⟂ Days for shipment (scheduled) | Delivery Status, Store State, Customer Segment, Shipping Mode)\n",
       "(Market ⟂ Shipping Mode | Delivery Status, Store State, Customer Segment, Days for shipment (scheduled))\n",
       "(Market ⟂ Customer Segment | Delivery Status, Days for shipment (scheduled), Store State, Shipping Mode)\n",
       "(Market ⟂ Store State | Delivery Status, Days for shipment (scheduled), Customer Segment, Shipping Mode)\n",
       "(Days for shipment (scheduled) ⟂ Customer Segment, Store State, Market, Shipping Mode | Delivery Status)\n",
       "(Days for shipment (scheduled) ⟂ Customer Segment, Market, Shipping Mode | Delivery Status, Store State)\n",
       "(Days for shipment (scheduled) ⟂ Customer Segment, Store State, Market | Delivery Status, Shipping Mode)\n",
       "(Days for shipment (scheduled) ⟂ Store State, Market, Shipping Mode | Delivery Status, Customer Segment)\n",
       "(Days for shipment (scheduled) ⟂ Store State, Customer Segment, Shipping Mode | Delivery Status, Market)\n",
       "(Days for shipment (scheduled) ⟂ Customer Segment, Market | Delivery Status, Store State, Shipping Mode)\n",
       "(Days for shipment (scheduled) ⟂ Market, Shipping Mode | Delivery Status, Store State, Customer Segment)\n",
       "(Days for shipment (scheduled) ⟂ Customer Segment, Shipping Mode | Delivery Status, Store State, Market)\n",
       "(Days for shipment (scheduled) ⟂ Store State, Market | Delivery Status, Customer Segment, Shipping Mode)\n",
       "(Days for shipment (scheduled) ⟂ Store State, Customer Segment | Delivery Status, Market, Shipping Mode)\n",
       "(Days for shipment (scheduled) ⟂ Store State, Shipping Mode | Delivery Status, Market, Customer Segment)\n",
       "(Days for shipment (scheduled) ⟂ Market | Delivery Status, Store State, Customer Segment, Shipping Mode)\n",
       "(Days for shipment (scheduled) ⟂ Customer Segment | Delivery Status, Store State, Market, Shipping Mode)\n",
       "(Days for shipment (scheduled) ⟂ Shipping Mode | Delivery Status, Store State, Market, Customer Segment)\n",
       "(Days for shipment (scheduled) ⟂ Store State | Delivery Status, Market, Customer Segment, Shipping Mode)"
      ]
     },
     "execution_count": 15,
     "metadata": {},
     "output_type": "execute_result"
    }
   ],
   "source": [
    "model.get_independencies()"
   ]
  },
  {
   "attachments": {},
   "cell_type": "markdown",
   "metadata": {},
   "source": [
    "## 5. Model Queries\n",
    "\n",
    "This section shows how the model can be used to answer questions about the data, make predictions, and generate insights."
   ]
  },
  {
   "cell_type": "code",
   "execution_count": 16,
   "metadata": {},
   "outputs": [],
   "source": [
    "infer = VariableElimination(model)"
   ]
  },
  {
   "cell_type": "code",
   "execution_count": 17,
   "metadata": {},
   "outputs": [],
   "source": [
    "def get_ratios(probabilities: DiscreteFactor, col_name: str='Ratio') -> pd.DataFrame:\n",
    "    \"\"\"\n",
    "    Show probabilities for a given variable.\n",
    "\n",
    "    Parameters\n",
    "    ----------\n",
    "    probabilities : DiscreteFactor\n",
    "        Probabilities for the variable.\n",
    "\n",
    "    Returns\n",
    "    -------\n",
    "    pd.DataFrame\n",
    "        Probabilities for the variable.\n",
    "    \"\"\"\n",
    "    # Get the probabilities for each value\n",
    "    value_probabilities = probabilities.values\n",
    "    variable_name = list(probabilities.state_names.keys())[0]\n",
    "    state_names = probabilities.state_names[variable_name]\n",
    "\n",
    "    # create a dataframe with the probabilities\n",
    "    return pd.DataFrame(\n",
    "        data=value_probabilities,\n",
    "        index=state_names,\n",
    "        columns=[col_name]) \\\n",
    "        .sort_values(by=col_name, ascending=False)"
   ]
  },
  {
   "attachments": {},
   "cell_type": "markdown",
   "metadata": {},
   "source": [
    "### 5.1 What is the probability of a late delivery?\n",
    "\n",
    "The probability of a late delivery is 0.55. This means that 55% of the orders in the training data were delivered late, which is a rather high percentage and indicates that the company has a problem with late deliveries."
   ]
  },
  {
   "cell_type": "code",
   "execution_count": 18,
   "metadata": {},
   "outputs": [
    {
     "name": "stdout",
     "output_type": "stream",
     "text": [
      "+------------------------------------+------------------------+\n",
      "| Delivery Status                    |   phi(Delivery Status) |\n",
      "+====================================+========================+\n",
      "| Delivery Status(Advance shipping)  |                 0.2296 |\n",
      "+------------------------------------+------------------------+\n",
      "| Delivery Status(Late delivery)     |                 0.5476 |\n",
      "+------------------------------------+------------------------+\n",
      "| Delivery Status(Shipping canceled) |                 0.0440 |\n",
      "+------------------------------------+------------------------+\n",
      "| Delivery Status(Shipping on time)  |                 0.1788 |\n",
      "+------------------------------------+------------------------+\n"
     ]
    }
   ],
   "source": [
    "late_delivery = infer.query(\n",
    "    variables=['Delivery Status'],\n",
    "    joint=False)\n",
    "\n",
    "print(late_delivery['Delivery Status'])"
   ]
  },
  {
   "attachments": {},
   "cell_type": "markdown",
   "metadata": {},
   "source": [
    "#### 5.1.1 What are the indicators that an order will ship on time?"
   ]
  },
  {
   "cell_type": "code",
   "execution_count": 19,
   "metadata": {},
   "outputs": [
    {
     "data": {
      "text/html": [
       "<div>\n",
       "<style scoped>\n",
       "    .dataframe tbody tr th:only-of-type {\n",
       "        vertical-align: middle;\n",
       "    }\n",
       "\n",
       "    .dataframe tbody tr th {\n",
       "        vertical-align: top;\n",
       "    }\n",
       "\n",
       "    .dataframe thead th {\n",
       "        text-align: right;\n",
       "    }\n",
       "</style>\n",
       "<table border=\"1\" class=\"dataframe\">\n",
       "  <thead>\n",
       "    <tr style=\"text-align: right;\">\n",
       "      <th></th>\n",
       "      <th>Shipping Mode</th>\n",
       "      <th>Customer Segment</th>\n",
       "      <th>Store State</th>\n",
       "      <th>phi</th>\n",
       "    </tr>\n",
       "  </thead>\n",
       "  <tbody>\n",
       "    <tr>\n",
       "      <th>0</th>\n",
       "      <td>Standard Class</td>\n",
       "      <td>Consumer</td>\n",
       "      <td>PR</td>\n",
       "      <td>0.1257</td>\n",
       "    </tr>\n",
       "    <tr>\n",
       "      <th>1</th>\n",
       "      <td>Standard Class</td>\n",
       "      <td>Corporate</td>\n",
       "      <td>PR</td>\n",
       "      <td>0.0724</td>\n",
       "    </tr>\n",
       "    <tr>\n",
       "      <th>2</th>\n",
       "      <td>Standard Class</td>\n",
       "      <td>Consumer</td>\n",
       "      <td>CA</td>\n",
       "      <td>0.0540</td>\n",
       "    </tr>\n",
       "    <tr>\n",
       "      <th>3</th>\n",
       "      <td>Standard Class</td>\n",
       "      <td>Home Office</td>\n",
       "      <td>PR</td>\n",
       "      <td>0.0436</td>\n",
       "    </tr>\n",
       "    <tr>\n",
       "      <th>4</th>\n",
       "      <td>Second Class</td>\n",
       "      <td>Consumer</td>\n",
       "      <td>PR</td>\n",
       "      <td>0.0410</td>\n",
       "    </tr>\n",
       "    <tr>\n",
       "      <th>5</th>\n",
       "      <td>Standard Class</td>\n",
       "      <td>Corporate</td>\n",
       "      <td>CA</td>\n",
       "      <td>0.0311</td>\n",
       "    </tr>\n",
       "    <tr>\n",
       "      <th>6</th>\n",
       "      <td>Same Day</td>\n",
       "      <td>Consumer</td>\n",
       "      <td>PR</td>\n",
       "      <td>0.0290</td>\n",
       "    </tr>\n",
       "    <tr>\n",
       "      <th>7</th>\n",
       "      <td>Second Class</td>\n",
       "      <td>Corporate</td>\n",
       "      <td>PR</td>\n",
       "      <td>0.0236</td>\n",
       "    </tr>\n",
       "    <tr>\n",
       "      <th>8</th>\n",
       "      <td>Standard Class</td>\n",
       "      <td>Consumer</td>\n",
       "      <td>NY</td>\n",
       "      <td>0.0213</td>\n",
       "    </tr>\n",
       "    <tr>\n",
       "      <th>9</th>\n",
       "      <td>Standard Class</td>\n",
       "      <td>Home Office</td>\n",
       "      <td>CA</td>\n",
       "      <td>0.0187</td>\n",
       "    </tr>\n",
       "    <tr>\n",
       "      <th>10</th>\n",
       "      <td>Standard Class</td>\n",
       "      <td>Consumer</td>\n",
       "      <td>TX</td>\n",
       "      <td>0.0180</td>\n",
       "    </tr>\n",
       "    <tr>\n",
       "      <th>11</th>\n",
       "      <td>Second Class</td>\n",
       "      <td>Consumer</td>\n",
       "      <td>CA</td>\n",
       "      <td>0.0176</td>\n",
       "    </tr>\n",
       "    <tr>\n",
       "      <th>12</th>\n",
       "      <td>Same Day</td>\n",
       "      <td>Corporate</td>\n",
       "      <td>PR</td>\n",
       "      <td>0.0167</td>\n",
       "    </tr>\n",
       "    <tr>\n",
       "      <th>13</th>\n",
       "      <td>Second Class</td>\n",
       "      <td>Home Office</td>\n",
       "      <td>PR</td>\n",
       "      <td>0.0142</td>\n",
       "    </tr>\n",
       "    <tr>\n",
       "      <th>14</th>\n",
       "      <td>Standard Class</td>\n",
       "      <td>Consumer</td>\n",
       "      <td>IL</td>\n",
       "      <td>0.0141</td>\n",
       "    </tr>\n",
       "    <tr>\n",
       "      <th>15</th>\n",
       "      <td>Same Day</td>\n",
       "      <td>Consumer</td>\n",
       "      <td>CA</td>\n",
       "      <td>0.0125</td>\n",
       "    </tr>\n",
       "    <tr>\n",
       "      <th>16</th>\n",
       "      <td>Standard Class</td>\n",
       "      <td>Corporate</td>\n",
       "      <td>NY</td>\n",
       "      <td>0.0122</td>\n",
       "    </tr>\n",
       "    <tr>\n",
       "      <th>17</th>\n",
       "      <td>Standard Class</td>\n",
       "      <td>Consumer</td>\n",
       "      <td>FL</td>\n",
       "      <td>0.0104</td>\n",
       "    </tr>\n",
       "    <tr>\n",
       "      <th>18</th>\n",
       "      <td>Standard Class</td>\n",
       "      <td>Corporate</td>\n",
       "      <td>TX</td>\n",
       "      <td>0.0104</td>\n",
       "    </tr>\n",
       "    <tr>\n",
       "      <th>19</th>\n",
       "      <td>Second Class</td>\n",
       "      <td>Corporate</td>\n",
       "      <td>CA</td>\n",
       "      <td>0.0102</td>\n",
       "    </tr>\n",
       "  </tbody>\n",
       "</table>\n",
       "</div>"
      ],
      "text/plain": [
       "     Shipping Mode Customer Segment Store State     phi\n",
       "0   Standard Class         Consumer          PR  0.1257\n",
       "1   Standard Class        Corporate          PR  0.0724\n",
       "2   Standard Class         Consumer          CA  0.0540\n",
       "3   Standard Class      Home Office          PR  0.0436\n",
       "4     Second Class         Consumer          PR  0.0410\n",
       "5   Standard Class        Corporate          CA  0.0311\n",
       "6         Same Day         Consumer          PR  0.0290\n",
       "7     Second Class        Corporate          PR  0.0236\n",
       "8   Standard Class         Consumer          NY  0.0213\n",
       "9   Standard Class      Home Office          CA  0.0187\n",
       "10  Standard Class         Consumer          TX  0.0180\n",
       "11    Second Class         Consumer          CA  0.0176\n",
       "12        Same Day        Corporate          PR  0.0167\n",
       "13    Second Class      Home Office          PR  0.0142\n",
       "14  Standard Class         Consumer          IL  0.0141\n",
       "15        Same Day         Consumer          CA  0.0125\n",
       "16  Standard Class        Corporate          NY  0.0122\n",
       "17  Standard Class         Consumer          FL  0.0104\n",
       "18  Standard Class        Corporate          TX  0.0104\n",
       "19    Second Class        Corporate          CA  0.0102"
      ]
     },
     "execution_count": 19,
     "metadata": {},
     "output_type": "execute_result"
    }
   ],
   "source": [
    "# query the joint probabilities for shipping on time\n",
    "on_time_factors = infer.query(\n",
    "    variables=['Shipping Mode', 'Customer Segment', 'Store State'],\n",
    "    evidence={'Delivery Status': 'Shipping on time'},\n",
    "    joint=True)\n",
    "\n",
    "# format the output\n",
    "factor_string = on_time_factors._str(tablefmt='plain')\n",
    "factor_stream = StringIO(factor_string)\n",
    "\n",
    "pd.read_fwf(factor_stream, widths=[31, 31, 22, 54]) \\\n",
    "    .rename(columns={'phi(Shipping Mode,Customer Segment,Store State)': 'phi'}) \\\n",
    "    .replace('^.+\\(', '', regex=True) \\\n",
    "    .replace('\\)$', '', regex=True) \\\n",
    "    .sort_values(by='phi', ascending=False) \\\n",
    "    .reset_index(drop=True) \\\n",
    "    .head(20)\n"
   ]
  },
  {
   "attachments": {},
   "cell_type": "markdown",
   "metadata": {},
   "source": [
    "### 5.2 Which states handle the most late deliveries?\n",
    "\n",
    "We can see that this is close the the same ratio as the total number of orders per state, the slight variance in numbers is because a `BayesianEstimator` was used to estimate the CPDs. If we had used a `MaximumLikelihoodEstimator` the numbers would be the same."
   ]
  },
  {
   "cell_type": "code",
   "execution_count": 20,
   "metadata": {},
   "outputs": [
    {
     "data": {
      "text/html": [
       "<div>\n",
       "<style scoped>\n",
       "    .dataframe tbody tr th:only-of-type {\n",
       "        vertical-align: middle;\n",
       "    }\n",
       "\n",
       "    .dataframe tbody tr th {\n",
       "        vertical-align: top;\n",
       "    }\n",
       "\n",
       "    .dataframe thead th {\n",
       "        text-align: right;\n",
       "    }\n",
       "</style>\n",
       "<table border=\"1\" class=\"dataframe\">\n",
       "  <thead>\n",
       "    <tr style=\"text-align: right;\">\n",
       "      <th></th>\n",
       "      <th>Ratio</th>\n",
       "    </tr>\n",
       "  </thead>\n",
       "  <tbody>\n",
       "    <tr>\n",
       "      <th>PR</th>\n",
       "      <td>0.384460</td>\n",
       "    </tr>\n",
       "    <tr>\n",
       "      <th>CA</th>\n",
       "      <td>0.163790</td>\n",
       "    </tr>\n",
       "    <tr>\n",
       "      <th>NY</th>\n",
       "      <td>0.061289</td>\n",
       "    </tr>\n",
       "    <tr>\n",
       "      <th>TX</th>\n",
       "      <td>0.051451</td>\n",
       "    </tr>\n",
       "    <tr>\n",
       "      <th>IL</th>\n",
       "      <td>0.042407</td>\n",
       "    </tr>\n",
       "  </tbody>\n",
       "</table>\n",
       "</div>"
      ],
      "text/plain": [
       "       Ratio\n",
       "PR  0.384460\n",
       "CA  0.163790\n",
       "NY  0.061289\n",
       "TX  0.051451\n",
       "IL  0.042407"
      ]
     },
     "execution_count": 20,
     "metadata": {},
     "output_type": "execute_result"
    }
   ],
   "source": [
    "# Query the ratio of a late delivery for each state\n",
    "state_late_delivery = infer.query(\n",
    "    variables=['Store State'],\n",
    "    evidence={'Delivery Status': 'Late delivery'})\n",
    "\n",
    "get_ratios(state_late_delivery).head(5)"
   ]
  },
  {
   "cell_type": "code",
   "execution_count": 21,
   "metadata": {},
   "outputs": [
    {
     "data": {
      "text/plain": [
       "PR    0.384457\n",
       "CA    0.161908\n",
       "NY    0.063138\n",
       "TX    0.050841\n",
       "IL    0.041259\n",
       "Name: Store State, dtype: float64"
      ]
     },
     "execution_count": 21,
     "metadata": {},
     "output_type": "execute_result"
    }
   ],
   "source": [
    "# verify the results with the source data\n",
    "df_train['Store State'].value_counts(normalize=True).head(5)"
   ]
  },
  {
   "attachments": {},
   "cell_type": "markdown",
   "metadata": {},
   "source": [
    "#### 5.2.1 What is the probability of a late delivery per State?\n",
    "\n",
    "This query shows the probability of late deliveries for all the stores in a state. This query differs from the previous as the number of orders are not considered, only the probability of a late delivery."
   ]
  },
  {
   "cell_type": "code",
   "execution_count": 22,
   "metadata": {},
   "outputs": [
    {
     "data": {
      "text/html": [
       "<div>\n",
       "<style scoped>\n",
       "    .dataframe tbody tr th:only-of-type {\n",
       "        vertical-align: middle;\n",
       "    }\n",
       "\n",
       "    .dataframe tbody tr th {\n",
       "        vertical-align: top;\n",
       "    }\n",
       "\n",
       "    .dataframe thead th {\n",
       "        text-align: right;\n",
       "    }\n",
       "</style>\n",
       "<table border=\"1\" class=\"dataframe\">\n",
       "  <thead>\n",
       "    <tr style=\"text-align: right;\">\n",
       "      <th></th>\n",
       "      <th>Store State</th>\n",
       "      <th>Probability of Late delivery</th>\n",
       "    </tr>\n",
       "  </thead>\n",
       "  <tbody>\n",
       "    <tr>\n",
       "      <th>0</th>\n",
       "      <td>DE</td>\n",
       "      <td>0.636464</td>\n",
       "    </tr>\n",
       "    <tr>\n",
       "      <th>1</th>\n",
       "      <td>IA</td>\n",
       "      <td>0.605337</td>\n",
       "    </tr>\n",
       "    <tr>\n",
       "      <th>2</th>\n",
       "      <td>NM</td>\n",
       "      <td>0.602145</td>\n",
       "    </tr>\n",
       "    <tr>\n",
       "      <th>3</th>\n",
       "      <td>WA</td>\n",
       "      <td>0.593830</td>\n",
       "    </tr>\n",
       "    <tr>\n",
       "      <th>4</th>\n",
       "      <td>MN</td>\n",
       "      <td>0.580801</td>\n",
       "    </tr>\n",
       "  </tbody>\n",
       "</table>\n",
       "</div>"
      ],
      "text/plain": [
       "  Store State  Probability of Late delivery\n",
       "0          DE                      0.636464\n",
       "1          IA                      0.605337\n",
       "2          NM                      0.602145\n",
       "3          WA                      0.593830\n",
       "4          MN                      0.580801"
      ]
     },
     "execution_count": 22,
     "metadata": {},
     "output_type": "execute_result"
    }
   ],
   "source": [
    "df_store_late_delivery = pd.DataFrame()\n",
    "\n",
    "for state_name in list(state_late_delivery.state_names.values())[0]:\n",
    "    # get the delivery status probabilities for the state using the bayesian network\n",
    "    df_state = get_ratios(\n",
    "        infer.query(\n",
    "            variables=['Delivery Status'],\n",
    "            evidence={'Store State': state_name})\n",
    "    )\n",
    "\n",
    "    # add the state name to the dataframe\n",
    "    df_state['Store State'] = state_name\n",
    "\n",
    "    # append the dataframe to the main dataframe    \n",
    "    df_store_late_delivery = df_store_late_delivery.append(df_state \\\n",
    "        .reset_index(drop=False) \\\n",
    "        .rename(columns={'index': 'Delivery Status'})\n",
    "    )\n",
    "\n",
    "# show the stores with the highest probability of late delivery\n",
    "df_store_late_delivery \\\n",
    "    .query('`Delivery Status` == \"Late delivery\"') \\\n",
    "    .drop(columns=['Delivery Status']) \\\n",
    "    .reindex(columns=['Store State', 'Ratio']) \\\n",
    "    .sort_values(by='Ratio', ascending=False) \\\n",
    "    .rename(columns={'Ratio': 'Probability of Late delivery'}) \\\n",
    "    .reset_index(drop=True) \\\n",
    "    .head(5)"
   ]
  },
  {
   "attachments": {},
   "cell_type": "markdown",
   "metadata": {},
   "source": [
    "> We have discovered that the [state](https://www.scouting.org/resources/los/states/) Delaware (DE) has the highest probability of late delivery as reflected in the source data. This is an example that what require further investigation to improve the supply chain."
   ]
  },
  {
   "cell_type": "code",
   "execution_count": 23,
   "metadata": {},
   "outputs": [
    {
     "data": {
      "image/png": "[encoded data removed]",
      "text/plain": [
       "<Figure size 500x200 with 1 Axes>"
      ]
     },
     "metadata": {},
     "output_type": "display_data"
    }
   ],
   "source": [
    "df_data[df_data['Store State'] == 'DE'].value_counts('Delivery Status').plot.barh(figsize=(5, 2), title='Delivery Status for Stores in Dalaware')\n",
    "plt.show()"
   ]
  },
  {
   "attachments": {},
   "cell_type": "markdown",
   "metadata": {},
   "source": [
    "### 5.3 Which Market has the most late deliveries?\n",
    "\n",
    "The European, Pacific Asia, and South American markets have the highest numbers of late deliver. This should be compared with the market profit to select the market to target first for improvement."
   ]
  },
  {
   "cell_type": "code",
   "execution_count": 24,
   "metadata": {},
   "outputs": [
    {
     "data": {
      "text/html": [
       "<div>\n",
       "<style scoped>\n",
       "    .dataframe tbody tr th:only-of-type {\n",
       "        vertical-align: middle;\n",
       "    }\n",
       "\n",
       "    .dataframe tbody tr th {\n",
       "        vertical-align: top;\n",
       "    }\n",
       "\n",
       "    .dataframe thead th {\n",
       "        text-align: right;\n",
       "    }\n",
       "</style>\n",
       "<table border=\"1\" class=\"dataframe\">\n",
       "  <thead>\n",
       "    <tr style=\"text-align: right;\">\n",
       "      <th></th>\n",
       "      <th>Ratio</th>\n",
       "    </tr>\n",
       "  </thead>\n",
       "  <tbody>\n",
       "    <tr>\n",
       "      <th>Europe</th>\n",
       "      <td>0.285150</td>\n",
       "    </tr>\n",
       "    <tr>\n",
       "      <th>Pacific Asia</th>\n",
       "      <td>0.268926</td>\n",
       "    </tr>\n",
       "    <tr>\n",
       "      <th>LATAM</th>\n",
       "      <td>0.257899</td>\n",
       "    </tr>\n",
       "    <tr>\n",
       "      <th>USCA</th>\n",
       "      <td>0.130090</td>\n",
       "    </tr>\n",
       "    <tr>\n",
       "      <th>Africa</th>\n",
       "      <td>0.057935</td>\n",
       "    </tr>\n",
       "  </tbody>\n",
       "</table>\n",
       "</div>"
      ],
      "text/plain": [
       "                 Ratio\n",
       "Europe        0.285150\n",
       "Pacific Asia  0.268926\n",
       "LATAM         0.257899\n",
       "USCA          0.130090\n",
       "Africa        0.057935"
      ]
     },
     "execution_count": 24,
     "metadata": {},
     "output_type": "execute_result"
    }
   ],
   "source": [
    "market_late_delivery = infer.query(\n",
    "    variables=['Market'],\n",
    "    evidence={'Delivery Status': 'Late delivery'})\n",
    "\n",
    "get_ratios(market_late_delivery).head(5)\n"
   ]
  },
  {
   "attachments": {},
   "cell_type": "markdown",
   "metadata": {},
   "source": [
    "#### 5.3.1 What is the probability of a late delivery in Europe?\n",
    "\n",
    "The probability of a late delivery in Europe is slightly higher than the global probability."
   ]
  },
  {
   "cell_type": "code",
   "execution_count": 25,
   "metadata": {},
   "outputs": [
    {
     "data": {
      "text/html": [
       "<div>\n",
       "<style scoped>\n",
       "    .dataframe tbody tr th:only-of-type {\n",
       "        vertical-align: middle;\n",
       "    }\n",
       "\n",
       "    .dataframe tbody tr th {\n",
       "        vertical-align: top;\n",
       "    }\n",
       "\n",
       "    .dataframe thead th {\n",
       "        text-align: right;\n",
       "    }\n",
       "</style>\n",
       "<table border=\"1\" class=\"dataframe\">\n",
       "  <thead>\n",
       "    <tr style=\"text-align: right;\">\n",
       "      <th></th>\n",
       "      <th>Probability</th>\n",
       "    </tr>\n",
       "  </thead>\n",
       "  <tbody>\n",
       "    <tr>\n",
       "      <th>Late delivery</th>\n",
       "      <td>0.553643</td>\n",
       "    </tr>\n",
       "    <tr>\n",
       "      <th>Advance shipping</th>\n",
       "      <td>0.230553</td>\n",
       "    </tr>\n",
       "    <tr>\n",
       "      <th>Shipping on time</th>\n",
       "      <td>0.173791</td>\n",
       "    </tr>\n",
       "    <tr>\n",
       "      <th>Shipping canceled</th>\n",
       "      <td>0.042013</td>\n",
       "    </tr>\n",
       "  </tbody>\n",
       "</table>\n",
       "</div>"
      ],
      "text/plain": [
       "                   Probability\n",
       "Late delivery         0.553643\n",
       "Advance shipping      0.230553\n",
       "Shipping on time      0.173791\n",
       "Shipping canceled     0.042013"
      ]
     },
     "execution_count": 25,
     "metadata": {},
     "output_type": "execute_result"
    }
   ],
   "source": [
    "get_ratios(\n",
    "    infer.query(\n",
    "        variables=['Delivery Status'],\n",
    "        evidence={'Market': 'Europe'}),\n",
    "    col_name='Probability')"
   ]
  },
  {
   "attachments": {},
   "cell_type": "markdown",
   "metadata": {},
   "source": [
    "#### 5.3.2 Which shipping method has the most late deliveries in the Pacific Asia Market?\n",
    "\n",
    "Most of the late deliveries in the Pacific Asia market are due to the use of standard shipping."
   ]
  },
  {
   "cell_type": "code",
   "execution_count": 26,
   "metadata": {},
   "outputs": [
    {
     "data": {
      "text/html": [
       "<div>\n",
       "<style scoped>\n",
       "    .dataframe tbody tr th:only-of-type {\n",
       "        vertical-align: middle;\n",
       "    }\n",
       "\n",
       "    .dataframe tbody tr th {\n",
       "        vertical-align: top;\n",
       "    }\n",
       "\n",
       "    .dataframe thead th {\n",
       "        text-align: right;\n",
       "    }\n",
       "</style>\n",
       "<table border=\"1\" class=\"dataframe\">\n",
       "  <thead>\n",
       "    <tr style=\"text-align: right;\">\n",
       "      <th></th>\n",
       "      <th>Ratio</th>\n",
       "    </tr>\n",
       "  </thead>\n",
       "  <tbody>\n",
       "    <tr>\n",
       "      <th>Standard Class</th>\n",
       "      <td>0.415701</td>\n",
       "    </tr>\n",
       "    <tr>\n",
       "      <th>Second Class</th>\n",
       "      <td>0.273691</td>\n",
       "    </tr>\n",
       "    <tr>\n",
       "      <th>First Class</th>\n",
       "      <td>0.266551</td>\n",
       "    </tr>\n",
       "    <tr>\n",
       "      <th>Same Day</th>\n",
       "      <td>0.044056</td>\n",
       "    </tr>\n",
       "  </tbody>\n",
       "</table>\n",
       "</div>"
      ],
      "text/plain": [
       "                   Ratio\n",
       "Standard Class  0.415701\n",
       "Second Class    0.273691\n",
       "First Class     0.266551\n",
       "Same Day        0.044056"
      ]
     },
     "execution_count": 26,
     "metadata": {},
     "output_type": "execute_result"
    }
   ],
   "source": [
    "shipping_mode_late_delivery = infer.query(\n",
    "    variables=['Shipping Mode'],\n",
    "    evidence={\n",
    "        'Delivery Status': 'Late delivery',\n",
    "        'Market': 'Pacific Asia'\n",
    "    })\n",
    "\n",
    "get_ratios(shipping_mode_late_delivery).head(5)"
   ]
  },
  {
   "attachments": {},
   "cell_type": "markdown",
   "metadata": {},
   "source": [
    "#### 5.3.3 What is the probability of a late delivery for orders in the Pacific Asia Market sipped using Standard Class?\n",
    "\n",
    "When using standard shipping there is a 38% chance of a late delivery."
   ]
  },
  {
   "cell_type": "code",
   "execution_count": 27,
   "metadata": {},
   "outputs": [
    {
     "data": {
      "text/plain": [
       "Probability    0.380781\n",
       "Name: Late delivery, dtype: float64"
      ]
     },
     "execution_count": 27,
     "metadata": {},
     "output_type": "execute_result"
    }
   ],
   "source": [
    "get_ratios(\n",
    "    infer.query(\n",
    "        variables=['Delivery Status'],\n",
    "        evidence={\n",
    "            'Shipping Mode': 'Standard Class',\n",
    "            'Market': 'Pacific Asia'\n",
    "        }),\n",
    "    col_name='Probability'\n",
    ").loc['Late delivery']"
   ]
  },
  {
   "attachments": {},
   "cell_type": "markdown",
   "metadata": {},
   "source": [
    "#### 5.3.4 What is the probability of a late delivery for orders in the Pacific Asia Market sipped using Same Day Shipping?\n",
    "\n",
    "Same Day shipping is often the most expensive shipping method, so customers would find it quite disappointing that there is a 46% chance of a late delivery using this shipping method."
   ]
  },
  {
   "cell_type": "code",
   "execution_count": 28,
   "metadata": {},
   "outputs": [
    {
     "data": {
      "text/plain": [
       "Probability    0.454464\n",
       "Name: Late delivery, dtype: float64"
      ]
     },
     "execution_count": 28,
     "metadata": {},
     "output_type": "execute_result"
    }
   ],
   "source": [
    "get_ratios(\n",
    "    infer.query(\n",
    "        variables=['Delivery Status'],\n",
    "        evidence={\n",
    "            'Shipping Mode': 'Same Day',\n",
    "            'Market': 'Pacific Asia'\n",
    "        }),\n",
    "    col_name='Probability'\n",
    ").loc['Late delivery']"
   ]
  },
  {
   "cell_type": "code",
   "execution_count": 29,
   "metadata": {},
   "outputs": [
    {
     "data": {
      "image/png": "[encoded data removed]",
      "text/plain": [
       "<Figure size 500x200 with 1 Axes>"
      ]
     },
     "metadata": {},
     "output_type": "display_data"
    }
   ],
   "source": [
    "# show the delivery status for Same Day orders in Pacific Asia from the source data\n",
    "df_data \\\n",
    "    .query('`Shipping Mode` == \"Same Day\" and `Market` == \"Pacific Asia\"') \\\n",
    "    .value_counts('Delivery Status') \\\n",
    "    .plot.barh(figsize=(5, 2), title='Delivery Status for Same Day orders in Pacific Asia')\n",
    "\n",
    "plt.show()"
   ]
  },
  {
   "cell_type": "markdown",
   "metadata": {},
   "source": [
    "## 1.7 Model Evaluation"
   ]
  },
  {
   "cell_type": "code",
   "execution_count": 30,
   "metadata": {},
   "outputs": [
    {
     "data": {
      "text/html": [
       "<div>\n",
       "<style scoped>\n",
       "    .dataframe tbody tr th:only-of-type {\n",
       "        vertical-align: middle;\n",
       "    }\n",
       "\n",
       "    .dataframe tbody tr th {\n",
       "        vertical-align: top;\n",
       "    }\n",
       "\n",
       "    .dataframe thead th {\n",
       "        text-align: right;\n",
       "    }\n",
       "</style>\n",
       "<table border=\"1\" class=\"dataframe\">\n",
       "  <thead>\n",
       "    <tr style=\"text-align: right;\">\n",
       "      <th></th>\n",
       "      <th>Order Id</th>\n",
       "      <th>Shipping Mode</th>\n",
       "      <th>Customer Segment</th>\n",
       "      <th>Days for shipment (scheduled)</th>\n",
       "      <th>Delivery Status</th>\n",
       "      <th>Store State</th>\n",
       "      <th>Market</th>\n",
       "    </tr>\n",
       "  </thead>\n",
       "  <tbody>\n",
       "    <tr>\n",
       "      <th>0</th>\n",
       "      <td>30009</td>\n",
       "      <td>Second Class</td>\n",
       "      <td>Corporate</td>\n",
       "      <td>2</td>\n",
       "      <td>Late delivery</td>\n",
       "      <td>FL</td>\n",
       "      <td>Pacific Asia</td>\n",
       "    </tr>\n",
       "    <tr>\n",
       "      <th>1</th>\n",
       "      <td>71466</td>\n",
       "      <td>First Class</td>\n",
       "      <td>Consumer</td>\n",
       "      <td>1</td>\n",
       "      <td>Late delivery</td>\n",
       "      <td>IL</td>\n",
       "      <td>Europe</td>\n",
       "    </tr>\n",
       "    <tr>\n",
       "      <th>2</th>\n",
       "      <td>54193</td>\n",
       "      <td>Standard Class</td>\n",
       "      <td>Consumer</td>\n",
       "      <td>4</td>\n",
       "      <td>Shipping on time</td>\n",
       "      <td>MI</td>\n",
       "      <td>LATAM</td>\n",
       "    </tr>\n",
       "    <tr>\n",
       "      <th>3</th>\n",
       "      <td>39822</td>\n",
       "      <td>Standard Class</td>\n",
       "      <td>Consumer</td>\n",
       "      <td>4</td>\n",
       "      <td>Advance shipping</td>\n",
       "      <td>FL</td>\n",
       "      <td>USCA</td>\n",
       "    </tr>\n",
       "    <tr>\n",
       "      <th>4</th>\n",
       "      <td>23171</td>\n",
       "      <td>Standard Class</td>\n",
       "      <td>Consumer</td>\n",
       "      <td>4</td>\n",
       "      <td>Advance shipping</td>\n",
       "      <td>OR</td>\n",
       "      <td>Pacific Asia</td>\n",
       "    </tr>\n",
       "  </tbody>\n",
       "</table>\n",
       "</div>"
      ],
      "text/plain": [
       "   Order Id   Shipping Mode Customer Segment  Days for shipment (scheduled)  \\\n",
       "0     30009    Second Class        Corporate                              2   \n",
       "1     71466     First Class         Consumer                              1   \n",
       "2     54193  Standard Class         Consumer                              4   \n",
       "3     39822  Standard Class         Consumer                              4   \n",
       "4     23171  Standard Class         Consumer                              4   \n",
       "\n",
       "    Delivery Status Store State        Market  \n",
       "0     Late delivery          FL  Pacific Asia  \n",
       "1     Late delivery          IL        Europe  \n",
       "2  Shipping on time          MI         LATAM  \n",
       "3  Advance shipping          FL          USCA  \n",
       "4  Advance shipping          OR  Pacific Asia  "
      ]
     },
     "execution_count": 30,
     "metadata": {},
     "output_type": "execute_result"
    }
   ],
   "source": [
    "# remove the label to predict\n",
    "df_eval = df_test \\\n",
    "    .drop_duplicates() \\\n",
    "    .reset_index(drop=True)\n",
    "\n",
    "df_eval.head()"
   ]
  },
  {
   "cell_type": "code",
   "execution_count": 31,
   "metadata": {},
   "outputs": [
    {
     "data": {
      "application/vnd.jupyter.widget-view+json": {
       "model_id": "34257c3e3ae54e0c97cd976171efc0eb",
       "version_major": 2,
       "version_minor": 0
      },
      "text/plain": [
       "  0%|          | 0/1622 [00:00<?, ?it/s]"
      ]
     },
     "metadata": {},
     "output_type": "display_data"
    },
    {
     "data": {
      "text/html": [
       "<div>\n",
       "<style scoped>\n",
       "    .dataframe tbody tr th:only-of-type {\n",
       "        vertical-align: middle;\n",
       "    }\n",
       "\n",
       "    .dataframe tbody tr th {\n",
       "        vertical-align: top;\n",
       "    }\n",
       "\n",
       "    .dataframe thead th {\n",
       "        text-align: right;\n",
       "    }\n",
       "</style>\n",
       "<table border=\"1\" class=\"dataframe\">\n",
       "  <thead>\n",
       "    <tr style=\"text-align: right;\">\n",
       "      <th></th>\n",
       "      <th>Order Id</th>\n",
       "      <th>Shipping Mode</th>\n",
       "      <th>Customer Segment</th>\n",
       "      <th>Days for shipment (scheduled)</th>\n",
       "      <th>Delivery Status</th>\n",
       "      <th>Store State</th>\n",
       "      <th>Market</th>\n",
       "      <th>y_pred</th>\n",
       "    </tr>\n",
       "  </thead>\n",
       "  <tbody>\n",
       "    <tr>\n",
       "      <th>0</th>\n",
       "      <td>30009</td>\n",
       "      <td>Second Class</td>\n",
       "      <td>Corporate</td>\n",
       "      <td>2</td>\n",
       "      <td>Late delivery</td>\n",
       "      <td>FL</td>\n",
       "      <td>Pacific Asia</td>\n",
       "      <td>Late delivery</td>\n",
       "    </tr>\n",
       "    <tr>\n",
       "      <th>1</th>\n",
       "      <td>71466</td>\n",
       "      <td>First Class</td>\n",
       "      <td>Consumer</td>\n",
       "      <td>1</td>\n",
       "      <td>Late delivery</td>\n",
       "      <td>IL</td>\n",
       "      <td>Europe</td>\n",
       "      <td>Late delivery</td>\n",
       "    </tr>\n",
       "    <tr>\n",
       "      <th>2</th>\n",
       "      <td>54193</td>\n",
       "      <td>Standard Class</td>\n",
       "      <td>Consumer</td>\n",
       "      <td>4</td>\n",
       "      <td>Shipping on time</td>\n",
       "      <td>MI</td>\n",
       "      <td>LATAM</td>\n",
       "      <td>Advance shipping</td>\n",
       "    </tr>\n",
       "    <tr>\n",
       "      <th>3</th>\n",
       "      <td>39822</td>\n",
       "      <td>Standard Class</td>\n",
       "      <td>Consumer</td>\n",
       "      <td>4</td>\n",
       "      <td>Advance shipping</td>\n",
       "      <td>FL</td>\n",
       "      <td>USCA</td>\n",
       "      <td>Advance shipping</td>\n",
       "    </tr>\n",
       "    <tr>\n",
       "      <th>4</th>\n",
       "      <td>23171</td>\n",
       "      <td>Standard Class</td>\n",
       "      <td>Consumer</td>\n",
       "      <td>4</td>\n",
       "      <td>Advance shipping</td>\n",
       "      <td>OR</td>\n",
       "      <td>Pacific Asia</td>\n",
       "      <td>Advance shipping</td>\n",
       "    </tr>\n",
       "  </tbody>\n",
       "</table>\n",
       "</div>"
      ],
      "text/plain": [
       "   Order Id   Shipping Mode Customer Segment  Days for shipment (scheduled)  \\\n",
       "0     30009    Second Class        Corporate                              2   \n",
       "1     71466     First Class         Consumer                              1   \n",
       "2     54193  Standard Class         Consumer                              4   \n",
       "3     39822  Standard Class         Consumer                              4   \n",
       "4     23171  Standard Class         Consumer                              4   \n",
       "\n",
       "    Delivery Status Store State        Market            y_pred  \n",
       "0     Late delivery          FL  Pacific Asia     Late delivery  \n",
       "1     Late delivery          IL        Europe     Late delivery  \n",
       "2  Shipping on time          MI         LATAM  Advance shipping  \n",
       "3  Advance shipping          FL          USCA  Advance shipping  \n",
       "4  Advance shipping          OR  Pacific Asia  Advance shipping  "
      ]
     },
     "execution_count": 31,
     "metadata": {},
     "output_type": "execute_result"
    }
   ],
   "source": [
    "# predict the label\n",
    "df_predict = model.predict(df_eval.drop(columns=['Order Id', 'Delivery Status']))\n",
    "df_predict.rename(columns={\n",
    "    'Delivery Status': 'y_pred'}, inplace=True)\n",
    "\n",
    "# join the prediction back to the evaluation data\n",
    "df_eval = df_eval.join(df_predict)\n",
    "\n",
    "df_eval.head()"
   ]
  },
  {
   "cell_type": "code",
   "execution_count": 32,
   "metadata": {},
   "outputs": [
    {
     "data": {
      "text/plain": [
       "array([[4561,    0,    0,    0],\n",
       "       [4516, 5787,    0,  538],\n",
       "       [ 469,  317,    0,   45],\n",
       "       [2226,  728,    0,  539]])"
      ]
     },
     "execution_count": 32,
     "metadata": {},
     "output_type": "execute_result"
    }
   ],
   "source": [
    "# show the confusion matrix\n",
    "confusion_matrix(\n",
    "    y_true=df_eval['Delivery Status'],\n",
    "    y_pred=df_eval['y_pred'])"
   ]
  },
  {
   "cell_type": "code",
   "execution_count": 33,
   "metadata": {},
   "outputs": [
    {
     "name": "stderr",
     "output_type": "stream",
     "text": [
      "/home/vscode/.local/lib/python3.8/site-packages/sklearn/metrics/_classification.py:1334: UndefinedMetricWarning: Precision and F-score are ill-defined and being set to 0.0 in labels with no predicted samples. Use `zero_division` parameter to control this behavior.\n",
      "  _warn_prf(average, modifier, msg_start, len(result))\n"
     ]
    },
    {
     "name": "stdout",
     "output_type": "stream",
     "text": [
      "                   precision    recall  f1-score   support\n",
      "\n",
      " Advance shipping       0.39      1.00      0.56      4561\n",
      "    Late delivery       0.85      0.53      0.65     10841\n",
      "Shipping canceled       0.00      0.00      0.00       831\n",
      " Shipping on time       0.48      0.15      0.23      3493\n",
      "\n",
      "         accuracy                           0.55     19726\n",
      "        macro avg       0.43      0.42      0.36     19726\n",
      "     weighted avg       0.64      0.55      0.53     19726\n",
      "\n"
     ]
    },
    {
     "name": "stderr",
     "output_type": "stream",
     "text": [
      "/home/vscode/.local/lib/python3.8/site-packages/sklearn/metrics/_classification.py:1334: UndefinedMetricWarning: Precision and F-score are ill-defined and being set to 0.0 in labels with no predicted samples. Use `zero_division` parameter to control this behavior.\n",
      "  _warn_prf(average, modifier, msg_start, len(result))\n",
      "/home/vscode/.local/lib/python3.8/site-packages/sklearn/metrics/_classification.py:1334: UndefinedMetricWarning: Precision and F-score are ill-defined and being set to 0.0 in labels with no predicted samples. Use `zero_division` parameter to control this behavior.\n",
      "  _warn_prf(average, modifier, msg_start, len(result))\n"
     ]
    }
   ],
   "source": [
    "# show the classification report\n",
    "print(classification_report(\n",
    "    y_true=df_eval['Delivery Status'],\n",
    "    y_pred=df_eval['y_pred']))"
   ]
  },
  {
   "cell_type": "markdown",
   "metadata": {},
   "source": [
    "### 1.7.1 Create a AutoML Model for Comparison"
   ]
  },
  {
   "cell_type": "code",
   "execution_count": 34,
   "metadata": {},
   "outputs": [],
   "source": [
    "from pycaret.classification import *"
   ]
  },
  {
   "cell_type": "code",
   "execution_count": 35,
   "metadata": {},
   "outputs": [],
   "source": [
    "classifier = setup(\n",
    "    data=df_train.drop(columns=['Order Id']),\n",
    "    target='Delivery Status',\n",
    "    train_size=0.7,\n",
    "    session_id=random_state,\n",
    "    verbose=False)"
   ]
  },
  {
   "cell_type": "code",
   "execution_count": 36,
   "metadata": {},
   "outputs": [
    {
     "data": {
      "text/html": [],
      "text/plain": [
       "<IPython.core.display.HTML object>"
      ]
     },
     "metadata": {},
     "output_type": "display_data"
    },
    {
     "data": {
      "text/html": [
       "<style type=\"text/css\">\n",
       "#T_1226b_ th {\n",
       "  text-align: left;\n",
       "}\n",
       "#T_1226b_row0_col0, #T_1226b_row0_col2, #T_1226b_row0_col4, #T_1226b_row1_col0, #T_1226b_row1_col1, #T_1226b_row1_col2, #T_1226b_row1_col3, #T_1226b_row1_col4, #T_1226b_row1_col5, #T_1226b_row1_col6, #T_1226b_row1_col7, #T_1226b_row2_col0, #T_1226b_row2_col1, #T_1226b_row2_col3, #T_1226b_row2_col4, #T_1226b_row2_col5, #T_1226b_row2_col6, #T_1226b_row2_col7, #T_1226b_row3_col0, #T_1226b_row3_col1, #T_1226b_row3_col2, #T_1226b_row3_col3, #T_1226b_row3_col4, #T_1226b_row3_col5, #T_1226b_row3_col6, #T_1226b_row3_col7, #T_1226b_row4_col0, #T_1226b_row4_col1, #T_1226b_row4_col2, #T_1226b_row4_col3, #T_1226b_row4_col4, #T_1226b_row4_col5, #T_1226b_row4_col6, #T_1226b_row4_col7, #T_1226b_row5_col0, #T_1226b_row5_col1, #T_1226b_row5_col2, #T_1226b_row5_col3, #T_1226b_row5_col4, #T_1226b_row5_col5, #T_1226b_row5_col6, #T_1226b_row5_col7, #T_1226b_row6_col0, #T_1226b_row6_col1, #T_1226b_row6_col2, #T_1226b_row6_col3, #T_1226b_row6_col4, #T_1226b_row6_col5, #T_1226b_row6_col6, #T_1226b_row6_col7, #T_1226b_row7_col0, #T_1226b_row7_col1, #T_1226b_row7_col2, #T_1226b_row7_col3, #T_1226b_row7_col4, #T_1226b_row7_col5, #T_1226b_row7_col6, #T_1226b_row7_col7, #T_1226b_row8_col0, #T_1226b_row8_col1, #T_1226b_row8_col2, #T_1226b_row8_col3, #T_1226b_row8_col4, #T_1226b_row8_col5, #T_1226b_row8_col6, #T_1226b_row8_col7, #T_1226b_row9_col0, #T_1226b_row9_col1, #T_1226b_row9_col2, #T_1226b_row9_col3, #T_1226b_row9_col4, #T_1226b_row9_col5, #T_1226b_row9_col6, #T_1226b_row9_col7, #T_1226b_row10_col0, #T_1226b_row10_col1, #T_1226b_row10_col2, #T_1226b_row10_col3, #T_1226b_row10_col4, #T_1226b_row10_col5, #T_1226b_row10_col6, #T_1226b_row10_col7, #T_1226b_row11_col0, #T_1226b_row11_col1, #T_1226b_row11_col2, #T_1226b_row11_col3, #T_1226b_row11_col4, #T_1226b_row11_col5, #T_1226b_row11_col6, #T_1226b_row11_col7, #T_1226b_row12_col0, #T_1226b_row12_col1, #T_1226b_row12_col2, #T_1226b_row12_col3, #T_1226b_row12_col4, #T_1226b_row12_col5, #T_1226b_row12_col6, #T_1226b_row12_col7, #T_1226b_row13_col0, #T_1226b_row13_col1, #T_1226b_row13_col2, #T_1226b_row13_col3, #T_1226b_row13_col5, #T_1226b_row13_col6, #T_1226b_row13_col7, #T_1226b_row14_col0, #T_1226b_row14_col1, #T_1226b_row14_col2, #T_1226b_row14_col3, #T_1226b_row14_col4, #T_1226b_row14_col5, #T_1226b_row14_col6, #T_1226b_row14_col7 {\n",
       "  text-align: left;\n",
       "}\n",
       "#T_1226b_row0_col1, #T_1226b_row0_col3, #T_1226b_row0_col5, #T_1226b_row0_col6, #T_1226b_row0_col7, #T_1226b_row2_col2, #T_1226b_row13_col4 {\n",
       "  text-align: left;\n",
       "  background-color: yellow;\n",
       "}\n",
       "#T_1226b_row0_col8, #T_1226b_row2_col8, #T_1226b_row3_col8, #T_1226b_row4_col8, #T_1226b_row5_col8, #T_1226b_row6_col8, #T_1226b_row7_col8, #T_1226b_row8_col8, #T_1226b_row9_col8, #T_1226b_row10_col8, #T_1226b_row11_col8, #T_1226b_row12_col8, #T_1226b_row13_col8, #T_1226b_row14_col8 {\n",
       "  text-align: left;\n",
       "  background-color: lightgrey;\n",
       "}\n",
       "#T_1226b_row1_col8 {\n",
       "  text-align: left;\n",
       "  background-color: yellow;\n",
       "  background-color: lightgrey;\n",
       "}\n",
       "</style>\n",
       "<table id=\"T_1226b_\">\n",
       "  <thead>\n",
       "    <tr>\n",
       "      <th class=\"blank level0\" >&nbsp;</th>\n",
       "      <th class=\"col_heading level0 col0\" >Model</th>\n",
       "      <th class=\"col_heading level0 col1\" >Accuracy</th>\n",
       "      <th class=\"col_heading level0 col2\" >AUC</th>\n",
       "      <th class=\"col_heading level0 col3\" >Recall</th>\n",
       "      <th class=\"col_heading level0 col4\" >Prec.</th>\n",
       "      <th class=\"col_heading level0 col5\" >F1</th>\n",
       "      <th class=\"col_heading level0 col6\" >Kappa</th>\n",
       "      <th class=\"col_heading level0 col7\" >MCC</th>\n",
       "      <th class=\"col_heading level0 col8\" >TT (Sec)</th>\n",
       "    </tr>\n",
       "  </thead>\n",
       "  <tbody>\n",
       "    <tr>\n",
       "      <th id=\"T_1226b_level0_row0\" class=\"row_heading level0 row0\" >lda</th>\n",
       "      <td id=\"T_1226b_row0_col0\" class=\"data row0 col0\" >Linear Discriminant Analysis</td>\n",
       "      <td id=\"T_1226b_row0_col1\" class=\"data row0 col1\" >0.5519</td>\n",
       "      <td id=\"T_1226b_row0_col2\" class=\"data row0 col2\" >0.7056</td>\n",
       "      <td id=\"T_1226b_row0_col3\" class=\"data row0 col3\" >0.5519</td>\n",
       "      <td id=\"T_1226b_row0_col4\" class=\"data row0 col4\" >0.6365</td>\n",
       "      <td id=\"T_1226b_row0_col5\" class=\"data row0 col5\" >0.5294</td>\n",
       "      <td id=\"T_1226b_row0_col6\" class=\"data row0 col6\" >0.3209</td>\n",
       "      <td id=\"T_1226b_row0_col7\" class=\"data row0 col7\" >0.3748</td>\n",
       "      <td id=\"T_1226b_row0_col8\" class=\"data row0 col8\" >0.1070</td>\n",
       "    </tr>\n",
       "    <tr>\n",
       "      <th id=\"T_1226b_level0_row1\" class=\"row_heading level0 row1\" >ridge</th>\n",
       "      <td id=\"T_1226b_row1_col0\" class=\"data row1 col0\" >Ridge Classifier</td>\n",
       "      <td id=\"T_1226b_row1_col1\" class=\"data row1 col1\" >0.5516</td>\n",
       "      <td id=\"T_1226b_row1_col2\" class=\"data row1 col2\" >0.0000</td>\n",
       "      <td id=\"T_1226b_row1_col3\" class=\"data row1 col3\" >0.5516</td>\n",
       "      <td id=\"T_1226b_row1_col4\" class=\"data row1 col4\" >0.5526</td>\n",
       "      <td id=\"T_1226b_row1_col5\" class=\"data row1 col5\" >0.5246</td>\n",
       "      <td id=\"T_1226b_row1_col6\" class=\"data row1 col6\" >0.2563</td>\n",
       "      <td id=\"T_1226b_row1_col7\" class=\"data row1 col7\" >0.2687</td>\n",
       "      <td id=\"T_1226b_row1_col8\" class=\"data row1 col8\" >0.0940</td>\n",
       "    </tr>\n",
       "    <tr>\n",
       "      <th id=\"T_1226b_level0_row2\" class=\"row_heading level0 row2\" >lr</th>\n",
       "      <td id=\"T_1226b_row2_col0\" class=\"data row2 col0\" >Logistic Regression</td>\n",
       "      <td id=\"T_1226b_row2_col1\" class=\"data row2 col1\" >0.5509</td>\n",
       "      <td id=\"T_1226b_row2_col2\" class=\"data row2 col2\" >0.7106</td>\n",
       "      <td id=\"T_1226b_row2_col3\" class=\"data row2 col3\" >0.5509</td>\n",
       "      <td id=\"T_1226b_row2_col4\" class=\"data row2 col4\" >0.5441</td>\n",
       "      <td id=\"T_1226b_row2_col5\" class=\"data row2 col5\" >0.5220</td>\n",
       "      <td id=\"T_1226b_row2_col6\" class=\"data row2 col6\" >0.2438</td>\n",
       "      <td id=\"T_1226b_row2_col7\" class=\"data row2 col7\" >0.2539</td>\n",
       "      <td id=\"T_1226b_row2_col8\" class=\"data row2 col8\" >0.5690</td>\n",
       "    </tr>\n",
       "    <tr>\n",
       "      <th id=\"T_1226b_level0_row3\" class=\"row_heading level0 row3\" >dummy</th>\n",
       "      <td id=\"T_1226b_row3_col0\" class=\"data row3 col0\" >Dummy Classifier</td>\n",
       "      <td id=\"T_1226b_row3_col1\" class=\"data row3 col1\" >0.5477</td>\n",
       "      <td id=\"T_1226b_row3_col2\" class=\"data row3 col2\" >0.5000</td>\n",
       "      <td id=\"T_1226b_row3_col3\" class=\"data row3 col3\" >0.5477</td>\n",
       "      <td id=\"T_1226b_row3_col4\" class=\"data row3 col4\" >0.2999</td>\n",
       "      <td id=\"T_1226b_row3_col5\" class=\"data row3 col5\" >0.3876</td>\n",
       "      <td id=\"T_1226b_row3_col6\" class=\"data row3 col6\" >0.0000</td>\n",
       "      <td id=\"T_1226b_row3_col7\" class=\"data row3 col7\" >0.0000</td>\n",
       "      <td id=\"T_1226b_row3_col8\" class=\"data row3 col8\" >0.1060</td>\n",
       "    </tr>\n",
       "    <tr>\n",
       "      <th id=\"T_1226b_level0_row4\" class=\"row_heading level0 row4\" >ada</th>\n",
       "      <td id=\"T_1226b_row4_col0\" class=\"data row4 col0\" >Ada Boost Classifier</td>\n",
       "      <td id=\"T_1226b_row4_col1\" class=\"data row4 col1\" >0.5443</td>\n",
       "      <td id=\"T_1226b_row4_col2\" class=\"data row4 col2\" >0.6670</td>\n",
       "      <td id=\"T_1226b_row4_col3\" class=\"data row4 col3\" >0.5443</td>\n",
       "      <td id=\"T_1226b_row4_col4\" class=\"data row4 col4\" >0.4133</td>\n",
       "      <td id=\"T_1226b_row4_col5\" class=\"data row4 col5\" >0.4438</td>\n",
       "      <td id=\"T_1226b_row4_col6\" class=\"data row4 col6\" >0.0738</td>\n",
       "      <td id=\"T_1226b_row4_col7\" class=\"data row4 col7\" >0.0979</td>\n",
       "      <td id=\"T_1226b_row4_col8\" class=\"data row4 col8\" >0.1950</td>\n",
       "    </tr>\n",
       "    <tr>\n",
       "      <th id=\"T_1226b_level0_row5\" class=\"row_heading level0 row5\" >svm</th>\n",
       "      <td id=\"T_1226b_row5_col0\" class=\"data row5 col0\" >SVM - Linear Kernel</td>\n",
       "      <td id=\"T_1226b_row5_col1\" class=\"data row5 col1\" >0.5440</td>\n",
       "      <td id=\"T_1226b_row5_col2\" class=\"data row5 col2\" >0.0000</td>\n",
       "      <td id=\"T_1226b_row5_col3\" class=\"data row5 col3\" >0.5440</td>\n",
       "      <td id=\"T_1226b_row5_col4\" class=\"data row5 col4\" >0.4622</td>\n",
       "      <td id=\"T_1226b_row5_col5\" class=\"data row5 col5\" >0.4675</td>\n",
       "      <td id=\"T_1226b_row5_col6\" class=\"data row5 col6\" >0.1360</td>\n",
       "      <td id=\"T_1226b_row5_col7\" class=\"data row5 col7\" >0.1640</td>\n",
       "      <td id=\"T_1226b_row5_col8\" class=\"data row5 col8\" >0.1330</td>\n",
       "    </tr>\n",
       "    <tr>\n",
       "      <th id=\"T_1226b_level0_row6\" class=\"row_heading level0 row6\" >knn</th>\n",
       "      <td id=\"T_1226b_row6_col0\" class=\"data row6 col0\" >K Neighbors Classifier</td>\n",
       "      <td id=\"T_1226b_row6_col1\" class=\"data row6 col1\" >0.5397</td>\n",
       "      <td id=\"T_1226b_row6_col2\" class=\"data row6 col2\" >0.5319</td>\n",
       "      <td id=\"T_1226b_row6_col3\" class=\"data row6 col3\" >0.5397</td>\n",
       "      <td id=\"T_1226b_row6_col4\" class=\"data row6 col4\" >0.4547</td>\n",
       "      <td id=\"T_1226b_row6_col5\" class=\"data row6 col5\" >0.4309</td>\n",
       "      <td id=\"T_1226b_row6_col6\" class=\"data row6 col6\" >0.0516</td>\n",
       "      <td id=\"T_1226b_row6_col7\" class=\"data row6 col7\" >0.0762</td>\n",
       "      <td id=\"T_1226b_row6_col8\" class=\"data row6 col8\" >0.2400</td>\n",
       "    </tr>\n",
       "    <tr>\n",
       "      <th id=\"T_1226b_level0_row7\" class=\"row_heading level0 row7\" >rf</th>\n",
       "      <td id=\"T_1226b_row7_col0\" class=\"data row7 col0\" >Random Forest Classifier</td>\n",
       "      <td id=\"T_1226b_row7_col1\" class=\"data row7 col1\" >0.5303</td>\n",
       "      <td id=\"T_1226b_row7_col2\" class=\"data row7 col2\" >0.5260</td>\n",
       "      <td id=\"T_1226b_row7_col3\" class=\"data row7 col3\" >0.5303</td>\n",
       "      <td id=\"T_1226b_row7_col4\" class=\"data row7 col4\" >0.4414</td>\n",
       "      <td id=\"T_1226b_row7_col5\" class=\"data row7 col5\" >0.4237</td>\n",
       "      <td id=\"T_1226b_row7_col6\" class=\"data row7 col6\" >0.0444</td>\n",
       "      <td id=\"T_1226b_row7_col7\" class=\"data row7 col7\" >0.0608</td>\n",
       "      <td id=\"T_1226b_row7_col8\" class=\"data row7 col8\" >0.2770</td>\n",
       "    </tr>\n",
       "    <tr>\n",
       "      <th id=\"T_1226b_level0_row8\" class=\"row_heading level0 row8\" >et</th>\n",
       "      <td id=\"T_1226b_row8_col0\" class=\"data row8 col0\" >Extra Trees Classifier</td>\n",
       "      <td id=\"T_1226b_row8_col1\" class=\"data row8 col1\" >0.5289</td>\n",
       "      <td id=\"T_1226b_row8_col2\" class=\"data row8 col2\" >0.5532</td>\n",
       "      <td id=\"T_1226b_row8_col3\" class=\"data row8 col3\" >0.5289</td>\n",
       "      <td id=\"T_1226b_row8_col4\" class=\"data row8 col4\" >0.4414</td>\n",
       "      <td id=\"T_1226b_row8_col5\" class=\"data row8 col5\" >0.4224</td>\n",
       "      <td id=\"T_1226b_row8_col6\" class=\"data row8 col6\" >0.0430</td>\n",
       "      <td id=\"T_1226b_row8_col7\" class=\"data row8 col7\" >0.0587</td>\n",
       "      <td id=\"T_1226b_row8_col8\" class=\"data row8 col8\" >0.2720</td>\n",
       "    </tr>\n",
       "    <tr>\n",
       "      <th id=\"T_1226b_level0_row9\" class=\"row_heading level0 row9\" >gbc</th>\n",
       "      <td id=\"T_1226b_row9_col0\" class=\"data row9 col0\" >Gradient Boosting Classifier</td>\n",
       "      <td id=\"T_1226b_row9_col1\" class=\"data row9 col1\" >0.5275</td>\n",
       "      <td id=\"T_1226b_row9_col2\" class=\"data row9 col2\" >0.6402</td>\n",
       "      <td id=\"T_1226b_row9_col3\" class=\"data row9 col3\" >0.5275</td>\n",
       "      <td id=\"T_1226b_row9_col4\" class=\"data row9 col4\" >0.4372</td>\n",
       "      <td id=\"T_1226b_row9_col5\" class=\"data row9 col5\" >0.4209</td>\n",
       "      <td id=\"T_1226b_row9_col6\" class=\"data row9 col6\" >0.0425</td>\n",
       "      <td id=\"T_1226b_row9_col7\" class=\"data row9 col7\" >0.0580</td>\n",
       "      <td id=\"T_1226b_row9_col8\" class=\"data row9 col8\" >0.8980</td>\n",
       "    </tr>\n",
       "    <tr>\n",
       "      <th id=\"T_1226b_level0_row10\" class=\"row_heading level0 row10\" >dt</th>\n",
       "      <td id=\"T_1226b_row10_col0\" class=\"data row10 col0\" >Decision Tree Classifier</td>\n",
       "      <td id=\"T_1226b_row10_col1\" class=\"data row10 col1\" >0.5205</td>\n",
       "      <td id=\"T_1226b_row10_col2\" class=\"data row10 col2\" >0.5186</td>\n",
       "      <td id=\"T_1226b_row10_col3\" class=\"data row10 col3\" >0.5205</td>\n",
       "      <td id=\"T_1226b_row10_col4\" class=\"data row10 col4\" >0.4379</td>\n",
       "      <td id=\"T_1226b_row10_col5\" class=\"data row10 col5\" >0.4202</td>\n",
       "      <td id=\"T_1226b_row10_col6\" class=\"data row10 col6\" >0.0403</td>\n",
       "      <td id=\"T_1226b_row10_col7\" class=\"data row10 col7\" >0.0522</td>\n",
       "      <td id=\"T_1226b_row10_col8\" class=\"data row10 col8\" >0.1090</td>\n",
       "    </tr>\n",
       "    <tr>\n",
       "      <th id=\"T_1226b_level0_row11\" class=\"row_heading level0 row11\" >xgboost</th>\n",
       "      <td id=\"T_1226b_row11_col0\" class=\"data row11 col0\" >Extreme Gradient Boosting</td>\n",
       "      <td id=\"T_1226b_row11_col1\" class=\"data row11 col1\" >0.5176</td>\n",
       "      <td id=\"T_1226b_row11_col2\" class=\"data row11 col2\" >0.6354</td>\n",
       "      <td id=\"T_1226b_row11_col3\" class=\"data row11 col3\" >0.5176</td>\n",
       "      <td id=\"T_1226b_row11_col4\" class=\"data row11 col4\" >0.4332</td>\n",
       "      <td id=\"T_1226b_row11_col5\" class=\"data row11 col5\" >0.4184</td>\n",
       "      <td id=\"T_1226b_row11_col6\" class=\"data row11 col6\" >0.0380</td>\n",
       "      <td id=\"T_1226b_row11_col7\" class=\"data row11 col7\" >0.0495</td>\n",
       "      <td id=\"T_1226b_row11_col8\" class=\"data row11 col8\" >1.0200</td>\n",
       "    </tr>\n",
       "    <tr>\n",
       "      <th id=\"T_1226b_level0_row12\" class=\"row_heading level0 row12\" >lightgbm</th>\n",
       "      <td id=\"T_1226b_row12_col0\" class=\"data row12 col0\" >Light Gradient Boosting Machine</td>\n",
       "      <td id=\"T_1226b_row12_col1\" class=\"data row12 col1\" >0.5136</td>\n",
       "      <td id=\"T_1226b_row12_col2\" class=\"data row12 col2\" >0.5944</td>\n",
       "      <td id=\"T_1226b_row12_col3\" class=\"data row12 col3\" >0.5136</td>\n",
       "      <td id=\"T_1226b_row12_col4\" class=\"data row12 col4\" >0.4383</td>\n",
       "      <td id=\"T_1226b_row12_col5\" class=\"data row12 col5\" >0.4178</td>\n",
       "      <td id=\"T_1226b_row12_col6\" class=\"data row12 col6\" >0.0406</td>\n",
       "      <td id=\"T_1226b_row12_col7\" class=\"data row12 col7\" >0.0513</td>\n",
       "      <td id=\"T_1226b_row12_col8\" class=\"data row12 col8\" >0.2540</td>\n",
       "    </tr>\n",
       "    <tr>\n",
       "      <th id=\"T_1226b_level0_row13\" class=\"row_heading level0 row13\" >nb</th>\n",
       "      <td id=\"T_1226b_row13_col0\" class=\"data row13 col0\" >Naive Bayes</td>\n",
       "      <td id=\"T_1226b_row13_col1\" class=\"data row13 col1\" >0.4403</td>\n",
       "      <td id=\"T_1226b_row13_col2\" class=\"data row13 col2\" >0.7101</td>\n",
       "      <td id=\"T_1226b_row13_col3\" class=\"data row13 col3\" >0.4403</td>\n",
       "      <td id=\"T_1226b_row13_col4\" class=\"data row13 col4\" >0.6589</td>\n",
       "      <td id=\"T_1226b_row13_col5\" class=\"data row13 col5\" >0.4102</td>\n",
       "      <td id=\"T_1226b_row13_col6\" class=\"data row13 col6\" >0.2377</td>\n",
       "      <td id=\"T_1226b_row13_col7\" class=\"data row13 col7\" >0.2987</td>\n",
       "      <td id=\"T_1226b_row13_col8\" class=\"data row13 col8\" >0.1050</td>\n",
       "    </tr>\n",
       "    <tr>\n",
       "      <th id=\"T_1226b_level0_row14\" class=\"row_heading level0 row14\" >qda</th>\n",
       "      <td id=\"T_1226b_row14_col0\" class=\"data row14 col0\" >Quadratic Discriminant Analysis</td>\n",
       "      <td id=\"T_1226b_row14_col1\" class=\"data row14 col1\" >0.2296</td>\n",
       "      <td id=\"T_1226b_row14_col2\" class=\"data row14 col2\" >0.0000</td>\n",
       "      <td id=\"T_1226b_row14_col3\" class=\"data row14 col3\" >0.2296</td>\n",
       "      <td id=\"T_1226b_row14_col4\" class=\"data row14 col4\" >0.0527</td>\n",
       "      <td id=\"T_1226b_row14_col5\" class=\"data row14 col5\" >0.0857</td>\n",
       "      <td id=\"T_1226b_row14_col6\" class=\"data row14 col6\" >0.0000</td>\n",
       "      <td id=\"T_1226b_row14_col7\" class=\"data row14 col7\" >0.0000</td>\n",
       "      <td id=\"T_1226b_row14_col8\" class=\"data row14 col8\" >0.1050</td>\n",
       "    </tr>\n",
       "  </tbody>\n",
       "</table>\n"
      ],
      "text/plain": [
       "<pandas.io.formats.style.Styler at 0x7f92570d70a0>"
      ]
     },
     "metadata": {},
     "output_type": "display_data"
    },
    {
     "data": {
      "text/html": [],
      "text/plain": [
       "<IPython.core.display.HTML object>"
      ]
     },
     "metadata": {},
     "output_type": "display_data"
    }
   ],
   "source": [
    "# perform a model comparison\n",
    "models = compare_models(n_select=3)\n",
    "top_model = models[0]"
   ]
  },
  {
   "cell_type": "code",
   "execution_count": 37,
   "metadata": {},
   "outputs": [
    {
     "data": {
      "text/html": [],
      "text/plain": [
       "<IPython.core.display.HTML object>"
      ]
     },
     "metadata": {},
     "output_type": "display_data"
    },
    {
     "data": {
      "image/png": "[encoded data removed]",
      "text/plain": [
       "<Figure size 800x500 with 1 Axes>"
      ]
     },
     "metadata": {},
     "output_type": "display_data"
    }
   ],
   "source": [
    "# plot the feature importance\n",
    "plot_model(top_model, plot='feature')"
   ]
  },
  {
   "cell_type": "code",
   "execution_count": 38,
   "metadata": {},
   "outputs": [
    {
     "data": {
      "text/html": [
       "<style type=\"text/css\">\n",
       "</style>\n",
       "<table id=\"T_dff15_\">\n",
       "  <thead>\n",
       "    <tr>\n",
       "      <th class=\"blank level0\" >&nbsp;</th>\n",
       "      <th class=\"col_heading level0 col0\" >Model</th>\n",
       "      <th class=\"col_heading level0 col1\" >Accuracy</th>\n",
       "      <th class=\"col_heading level0 col2\" >AUC</th>\n",
       "      <th class=\"col_heading level0 col3\" >Recall</th>\n",
       "      <th class=\"col_heading level0 col4\" >Prec.</th>\n",
       "      <th class=\"col_heading level0 col5\" >F1</th>\n",
       "      <th class=\"col_heading level0 col6\" >Kappa</th>\n",
       "      <th class=\"col_heading level0 col7\" >MCC</th>\n",
       "    </tr>\n",
       "  </thead>\n",
       "  <tbody>\n",
       "    <tr>\n",
       "      <th id=\"T_dff15_level0_row0\" class=\"row_heading level0 row0\" >0</th>\n",
       "      <td id=\"T_dff15_row0_col0\" class=\"data row0 col0\" >Linear Discriminant Analysis</td>\n",
       "      <td id=\"T_dff15_row0_col1\" class=\"data row0 col1\" >0.5514</td>\n",
       "      <td id=\"T_dff15_row0_col2\" class=\"data row0 col2\" >0.6990</td>\n",
       "      <td id=\"T_dff15_row0_col3\" class=\"data row0 col3\" >0</td>\n",
       "      <td id=\"T_dff15_row0_col4\" class=\"data row0 col4\" >0</td>\n",
       "      <td id=\"T_dff15_row0_col5\" class=\"data row0 col5\" >0</td>\n",
       "      <td id=\"T_dff15_row0_col6\" class=\"data row0 col6\" >0.3185</td>\n",
       "      <td id=\"T_dff15_row0_col7\" class=\"data row0 col7\" >0.3698</td>\n",
       "    </tr>\n",
       "  </tbody>\n",
       "</table>\n"
      ],
      "text/plain": [
       "<pandas.io.formats.style.Styler at 0x7f925736bf10>"
      ]
     },
     "metadata": {},
     "output_type": "display_data"
    }
   ],
   "source": [
    "# perform predictions on the test data\n",
    "df_predicted = predict_model(estimator=top_model, data=df_test)"
   ]
  },
  {
   "cell_type": "code",
   "execution_count": 39,
   "metadata": {},
   "outputs": [
    {
     "data": {
      "text/plain": [
       "array([[4467,   94,    0,    0],\n",
       "       [4432, 5871,    0,  538],\n",
       "       [ 469,  317,    0,   45],\n",
       "       [2196,  758,    0,  539]])"
      ]
     },
     "execution_count": 39,
     "metadata": {},
     "output_type": "execute_result"
    }
   ],
   "source": [
    "# show the confusion matrix\n",
    "confusion_matrix(\n",
    "    y_true=df_predicted['Delivery Status'],\n",
    "    y_pred=df_predicted['prediction_label'])"
   ]
  },
  {
   "cell_type": "code",
   "execution_count": 40,
   "metadata": {},
   "outputs": [
    {
     "name": "stdout",
     "output_type": "stream",
     "text": [
      "                   precision    recall  f1-score   support\n",
      "\n",
      " Advance shipping       0.39      0.98      0.55      4561\n",
      "    Late delivery       0.83      0.54      0.66     10841\n",
      "Shipping canceled       0.00      0.00      0.00       831\n",
      " Shipping on time       0.48      0.15      0.23      3493\n",
      "\n",
      "         accuracy                           0.55     19726\n",
      "        macro avg       0.43      0.42      0.36     19726\n",
      "     weighted avg       0.63      0.55      0.53     19726\n",
      "\n"
     ]
    }
   ],
   "source": [
    "# show the classification report\n",
    "print(classification_report(\n",
    "    y_true=df_predicted['Delivery Status'],\n",
    "    y_pred=df_predicted['prediction_label']))"
   ]
  }
 ],
 "metadata": {
  "kernelspec": {
   "display_name": "Python 3 (ipykernel)",
   "language": "python",
   "name": "python3"
  },
  "language_info": {
   "codemirror_mode": {
    "name": "ipython",
    "version": 3
   },
   "file_extension": ".py",
   "mimetype": "text/x-python",
   "name": "python",
   "nbconvert_exporter": "python",
   "pygments_lexer": "ipython3",
   "version": "3.8.16"
  },
  "vscode": {
   "interpreter": {
    "hash": "949777d72b0d2535278d3dc13498b2535136f6dfe0678499012e853ee9abcab1"
   }
  }
 },
 "nbformat": 4,
 "nbformat_minor": 4
}
