{
 "cells": [
  {
   "attachments": {},
   "cell_type": "markdown",
   "metadata": {},
   "source": [
    "# 3. Simplify\n",
    "\n",
    "The model in section 1 does not seem very interesting, attempt to use the following nodes to improve the model:\n",
    "\n",
    "Nodes:\n",
    "\n",
    "Links:\n",
    "\n",
    "\n",
    "\n",
    "https://pgmpy.org/detailed_notebooks/11.%20A%20Bayesian%20Network%20to%20model%20the%20influence%20of%20energy%20consumption%20on%20greenhouse%20gases%20in%20Italy.html?highlight=weighted\n",
    "\n",
    "\n",
    "https://pgmpy.org/detailed_notebooks/10.%20Learning%20Bayesian%20Networks%20from%20Data.html?highlight=equivalent_sample_size"
   ]
  },
  {
   "cell_type": "code",
   "execution_count": 1,
   "metadata": {},
   "outputs": [],
   "source": [
    "import pandas as pd\n",
    "\n",
    "from pgmpy.estimators import MaximumLikelihoodEstimator, BayesianEstimator\n",
    "from pgmpy.estimators import ParameterEstimator\n",
    "from pgmpy.factors.discrete import TabularCPD, DiscreteFactor\n",
    "from pgmpy.inference import VariableElimination\n",
    "from pgmpy.models import BayesianNetwork\n",
    "\n",
    "from sklearn.metrics import classification_report, confusion_matrix\n"
   ]
  },
  {
   "cell_type": "markdown",
   "metadata": {},
   "source": [
    "## 1.1 Data Preparation & Cleaning"
   ]
  },
  {
   "attachments": {},
   "cell_type": "markdown",
   "metadata": {},
   "source": [
    "### 1.1.1 Load Source Date"
   ]
  },
  {
   "cell_type": "code",
   "execution_count": 2,
   "metadata": {},
   "outputs": [
    {
     "name": "stdout",
     "output_type": "stream",
     "text": [
      "(180519, 53)\n"
     ]
    },
    {
     "data": {
      "text/html": [
       "<div>\n",
       "<style scoped>\n",
       "    .dataframe tbody tr th:only-of-type {\n",
       "        vertical-align: middle;\n",
       "    }\n",
       "\n",
       "    .dataframe tbody tr th {\n",
       "        vertical-align: top;\n",
       "    }\n",
       "\n",
       "    .dataframe thead th {\n",
       "        text-align: right;\n",
       "    }\n",
       "</style>\n",
       "<table border=\"1\" class=\"dataframe\">\n",
       "  <thead>\n",
       "    <tr style=\"text-align: right;\">\n",
       "      <th></th>\n",
       "      <th>Type</th>\n",
       "      <th>Days for shipping (real)</th>\n",
       "      <th>Days for shipment (scheduled)</th>\n",
       "      <th>Benefit per order</th>\n",
       "      <th>Sales per customer</th>\n",
       "      <th>Delivery Status</th>\n",
       "      <th>Late_delivery_risk</th>\n",
       "      <th>Category Id</th>\n",
       "      <th>Category Name</th>\n",
       "      <th>Customer City</th>\n",
       "      <th>Customer Country</th>\n",
       "      <th>Customer Email</th>\n",
       "      <th>Customer Fname</th>\n",
       "      <th>Customer Id</th>\n",
       "      <th>Customer Lname</th>\n",
       "      <th>Customer Password</th>\n",
       "      <th>Customer Segment</th>\n",
       "      <th>Customer State</th>\n",
       "      <th>Customer Street</th>\n",
       "      <th>Customer Zipcode</th>\n",
       "      <th>Department Id</th>\n",
       "      <th>Department Name</th>\n",
       "      <th>Latitude</th>\n",
       "      <th>Longitude</th>\n",
       "      <th>Market</th>\n",
       "      <th>Order City</th>\n",
       "      <th>Order Country</th>\n",
       "      <th>Order Customer Id</th>\n",
       "      <th>order date (DateOrders)</th>\n",
       "      <th>Order Id</th>\n",
       "      <th>Order Item Cardprod Id</th>\n",
       "      <th>Order Item Discount</th>\n",
       "      <th>Order Item Discount Rate</th>\n",
       "      <th>Order Item Id</th>\n",
       "      <th>Order Item Product Price</th>\n",
       "      <th>Order Item Profit Ratio</th>\n",
       "      <th>Order Item Quantity</th>\n",
       "      <th>Sales</th>\n",
       "      <th>Order Item Total</th>\n",
       "      <th>Order Profit Per Order</th>\n",
       "      <th>Order Region</th>\n",
       "      <th>Order State</th>\n",
       "      <th>Order Status</th>\n",
       "      <th>Order Zipcode</th>\n",
       "      <th>Product Card Id</th>\n",
       "      <th>Product Category Id</th>\n",
       "      <th>Product Description</th>\n",
       "      <th>Product Image</th>\n",
       "      <th>Product Name</th>\n",
       "      <th>Product Price</th>\n",
       "      <th>Product Status</th>\n",
       "      <th>shipping date (DateOrders)</th>\n",
       "      <th>Shipping Mode</th>\n",
       "    </tr>\n",
       "  </thead>\n",
       "  <tbody>\n",
       "    <tr>\n",
       "      <th>0</th>\n",
       "      <td>DEBIT</td>\n",
       "      <td>3</td>\n",
       "      <td>4</td>\n",
       "      <td>91.250000</td>\n",
       "      <td>314.640015</td>\n",
       "      <td>Advance shipping</td>\n",
       "      <td>0</td>\n",
       "      <td>73</td>\n",
       "      <td>Sporting Goods</td>\n",
       "      <td>Caguas</td>\n",
       "      <td>Puerto Rico</td>\n",
       "      <td>XXXXXXXXX</td>\n",
       "      <td>Cally</td>\n",
       "      <td>20755</td>\n",
       "      <td>Holloway</td>\n",
       "      <td>XXXXXXXXX</td>\n",
       "      <td>Consumer</td>\n",
       "      <td>PR</td>\n",
       "      <td>5365 Noble Nectar Island</td>\n",
       "      <td>725.0</td>\n",
       "      <td>2</td>\n",
       "      <td>Fitness</td>\n",
       "      <td>18.251453</td>\n",
       "      <td>-66.037056</td>\n",
       "      <td>Pacific Asia</td>\n",
       "      <td>Bekasi</td>\n",
       "      <td>Indonesia</td>\n",
       "      <td>20755</td>\n",
       "      <td>1/31/2018 22:56</td>\n",
       "      <td>77202</td>\n",
       "      <td>1360</td>\n",
       "      <td>13.110000</td>\n",
       "      <td>0.04</td>\n",
       "      <td>180517</td>\n",
       "      <td>327.75</td>\n",
       "      <td>0.29</td>\n",
       "      <td>1</td>\n",
       "      <td>327.75</td>\n",
       "      <td>314.640015</td>\n",
       "      <td>91.250000</td>\n",
       "      <td>Southeast Asia</td>\n",
       "      <td>Java Occidental</td>\n",
       "      <td>COMPLETE</td>\n",
       "      <td>NaN</td>\n",
       "      <td>1360</td>\n",
       "      <td>73</td>\n",
       "      <td>NaN</td>\n",
       "      <td>http://images.acmesports.sports/Smart+watch</td>\n",
       "      <td>Smart watch</td>\n",
       "      <td>327.75</td>\n",
       "      <td>0</td>\n",
       "      <td>2/3/2018 22:56</td>\n",
       "      <td>Standard Class</td>\n",
       "    </tr>\n",
       "    <tr>\n",
       "      <th>1</th>\n",
       "      <td>TRANSFER</td>\n",
       "      <td>5</td>\n",
       "      <td>4</td>\n",
       "      <td>-249.089996</td>\n",
       "      <td>311.359985</td>\n",
       "      <td>Late delivery</td>\n",
       "      <td>1</td>\n",
       "      <td>73</td>\n",
       "      <td>Sporting Goods</td>\n",
       "      <td>Caguas</td>\n",
       "      <td>Puerto Rico</td>\n",
       "      <td>XXXXXXXXX</td>\n",
       "      <td>Irene</td>\n",
       "      <td>19492</td>\n",
       "      <td>Luna</td>\n",
       "      <td>XXXXXXXXX</td>\n",
       "      <td>Consumer</td>\n",
       "      <td>PR</td>\n",
       "      <td>2679 Rustic Loop</td>\n",
       "      <td>725.0</td>\n",
       "      <td>2</td>\n",
       "      <td>Fitness</td>\n",
       "      <td>18.279451</td>\n",
       "      <td>-66.037064</td>\n",
       "      <td>Pacific Asia</td>\n",
       "      <td>Bikaner</td>\n",
       "      <td>India</td>\n",
       "      <td>19492</td>\n",
       "      <td>1/13/2018 12:27</td>\n",
       "      <td>75939</td>\n",
       "      <td>1360</td>\n",
       "      <td>16.389999</td>\n",
       "      <td>0.05</td>\n",
       "      <td>179254</td>\n",
       "      <td>327.75</td>\n",
       "      <td>-0.80</td>\n",
       "      <td>1</td>\n",
       "      <td>327.75</td>\n",
       "      <td>311.359985</td>\n",
       "      <td>-249.089996</td>\n",
       "      <td>South Asia</td>\n",
       "      <td>Rajastán</td>\n",
       "      <td>PENDING</td>\n",
       "      <td>NaN</td>\n",
       "      <td>1360</td>\n",
       "      <td>73</td>\n",
       "      <td>NaN</td>\n",
       "      <td>http://images.acmesports.sports/Smart+watch</td>\n",
       "      <td>Smart watch</td>\n",
       "      <td>327.75</td>\n",
       "      <td>0</td>\n",
       "      <td>1/18/2018 12:27</td>\n",
       "      <td>Standard Class</td>\n",
       "    </tr>\n",
       "    <tr>\n",
       "      <th>2</th>\n",
       "      <td>CASH</td>\n",
       "      <td>4</td>\n",
       "      <td>4</td>\n",
       "      <td>-247.779999</td>\n",
       "      <td>309.720001</td>\n",
       "      <td>Shipping on time</td>\n",
       "      <td>0</td>\n",
       "      <td>73</td>\n",
       "      <td>Sporting Goods</td>\n",
       "      <td>San Jose</td>\n",
       "      <td>EE. UU.</td>\n",
       "      <td>XXXXXXXXX</td>\n",
       "      <td>Gillian</td>\n",
       "      <td>19491</td>\n",
       "      <td>Maldonado</td>\n",
       "      <td>XXXXXXXXX</td>\n",
       "      <td>Consumer</td>\n",
       "      <td>CA</td>\n",
       "      <td>8510 Round Bear Gate</td>\n",
       "      <td>95125.0</td>\n",
       "      <td>2</td>\n",
       "      <td>Fitness</td>\n",
       "      <td>37.292233</td>\n",
       "      <td>-121.881279</td>\n",
       "      <td>Pacific Asia</td>\n",
       "      <td>Bikaner</td>\n",
       "      <td>India</td>\n",
       "      <td>19491</td>\n",
       "      <td>1/13/2018 12:06</td>\n",
       "      <td>75938</td>\n",
       "      <td>1360</td>\n",
       "      <td>18.030001</td>\n",
       "      <td>0.06</td>\n",
       "      <td>179253</td>\n",
       "      <td>327.75</td>\n",
       "      <td>-0.80</td>\n",
       "      <td>1</td>\n",
       "      <td>327.75</td>\n",
       "      <td>309.720001</td>\n",
       "      <td>-247.779999</td>\n",
       "      <td>South Asia</td>\n",
       "      <td>Rajastán</td>\n",
       "      <td>CLOSED</td>\n",
       "      <td>NaN</td>\n",
       "      <td>1360</td>\n",
       "      <td>73</td>\n",
       "      <td>NaN</td>\n",
       "      <td>http://images.acmesports.sports/Smart+watch</td>\n",
       "      <td>Smart watch</td>\n",
       "      <td>327.75</td>\n",
       "      <td>0</td>\n",
       "      <td>1/17/2018 12:06</td>\n",
       "      <td>Standard Class</td>\n",
       "    </tr>\n",
       "    <tr>\n",
       "      <th>3</th>\n",
       "      <td>DEBIT</td>\n",
       "      <td>3</td>\n",
       "      <td>4</td>\n",
       "      <td>22.860001</td>\n",
       "      <td>304.809998</td>\n",
       "      <td>Advance shipping</td>\n",
       "      <td>0</td>\n",
       "      <td>73</td>\n",
       "      <td>Sporting Goods</td>\n",
       "      <td>Los Angeles</td>\n",
       "      <td>EE. UU.</td>\n",
       "      <td>XXXXXXXXX</td>\n",
       "      <td>Tana</td>\n",
       "      <td>19490</td>\n",
       "      <td>Tate</td>\n",
       "      <td>XXXXXXXXX</td>\n",
       "      <td>Home Office</td>\n",
       "      <td>CA</td>\n",
       "      <td>3200 Amber Bend</td>\n",
       "      <td>90027.0</td>\n",
       "      <td>2</td>\n",
       "      <td>Fitness</td>\n",
       "      <td>34.125946</td>\n",
       "      <td>-118.291016</td>\n",
       "      <td>Pacific Asia</td>\n",
       "      <td>Townsville</td>\n",
       "      <td>Australia</td>\n",
       "      <td>19490</td>\n",
       "      <td>1/13/2018 11:45</td>\n",
       "      <td>75937</td>\n",
       "      <td>1360</td>\n",
       "      <td>22.940001</td>\n",
       "      <td>0.07</td>\n",
       "      <td>179252</td>\n",
       "      <td>327.75</td>\n",
       "      <td>0.08</td>\n",
       "      <td>1</td>\n",
       "      <td>327.75</td>\n",
       "      <td>304.809998</td>\n",
       "      <td>22.860001</td>\n",
       "      <td>Oceania</td>\n",
       "      <td>Queensland</td>\n",
       "      <td>COMPLETE</td>\n",
       "      <td>NaN</td>\n",
       "      <td>1360</td>\n",
       "      <td>73</td>\n",
       "      <td>NaN</td>\n",
       "      <td>http://images.acmesports.sports/Smart+watch</td>\n",
       "      <td>Smart watch</td>\n",
       "      <td>327.75</td>\n",
       "      <td>0</td>\n",
       "      <td>1/16/2018 11:45</td>\n",
       "      <td>Standard Class</td>\n",
       "    </tr>\n",
       "    <tr>\n",
       "      <th>4</th>\n",
       "      <td>PAYMENT</td>\n",
       "      <td>2</td>\n",
       "      <td>4</td>\n",
       "      <td>134.210007</td>\n",
       "      <td>298.250000</td>\n",
       "      <td>Advance shipping</td>\n",
       "      <td>0</td>\n",
       "      <td>73</td>\n",
       "      <td>Sporting Goods</td>\n",
       "      <td>Caguas</td>\n",
       "      <td>Puerto Rico</td>\n",
       "      <td>XXXXXXXXX</td>\n",
       "      <td>Orli</td>\n",
       "      <td>19489</td>\n",
       "      <td>Hendricks</td>\n",
       "      <td>XXXXXXXXX</td>\n",
       "      <td>Corporate</td>\n",
       "      <td>PR</td>\n",
       "      <td>8671 Iron Anchor Corners</td>\n",
       "      <td>725.0</td>\n",
       "      <td>2</td>\n",
       "      <td>Fitness</td>\n",
       "      <td>18.253769</td>\n",
       "      <td>-66.037048</td>\n",
       "      <td>Pacific Asia</td>\n",
       "      <td>Townsville</td>\n",
       "      <td>Australia</td>\n",
       "      <td>19489</td>\n",
       "      <td>1/13/2018 11:24</td>\n",
       "      <td>75936</td>\n",
       "      <td>1360</td>\n",
       "      <td>29.500000</td>\n",
       "      <td>0.09</td>\n",
       "      <td>179251</td>\n",
       "      <td>327.75</td>\n",
       "      <td>0.45</td>\n",
       "      <td>1</td>\n",
       "      <td>327.75</td>\n",
       "      <td>298.250000</td>\n",
       "      <td>134.210007</td>\n",
       "      <td>Oceania</td>\n",
       "      <td>Queensland</td>\n",
       "      <td>PENDING_PAYMENT</td>\n",
       "      <td>NaN</td>\n",
       "      <td>1360</td>\n",
       "      <td>73</td>\n",
       "      <td>NaN</td>\n",
       "      <td>http://images.acmesports.sports/Smart+watch</td>\n",
       "      <td>Smart watch</td>\n",
       "      <td>327.75</td>\n",
       "      <td>0</td>\n",
       "      <td>1/15/2018 11:24</td>\n",
       "      <td>Standard Class</td>\n",
       "    </tr>\n",
       "  </tbody>\n",
       "</table>\n",
       "</div>"
      ],
      "text/plain": [
       "       Type  Days for shipping (real)  Days for shipment (scheduled)  \\\n",
       "0     DEBIT                         3                              4   \n",
       "1  TRANSFER                         5                              4   \n",
       "2      CASH                         4                              4   \n",
       "3     DEBIT                         3                              4   \n",
       "4   PAYMENT                         2                              4   \n",
       "\n",
       "   Benefit per order  Sales per customer   Delivery Status  \\\n",
       "0          91.250000          314.640015  Advance shipping   \n",
       "1        -249.089996          311.359985     Late delivery   \n",
       "2        -247.779999          309.720001  Shipping on time   \n",
       "3          22.860001          304.809998  Advance shipping   \n",
       "4         134.210007          298.250000  Advance shipping   \n",
       "\n",
       "   Late_delivery_risk  Category Id   Category Name Customer City  \\\n",
       "0                   0           73  Sporting Goods        Caguas   \n",
       "1                   1           73  Sporting Goods        Caguas   \n",
       "2                   0           73  Sporting Goods      San Jose   \n",
       "3                   0           73  Sporting Goods   Los Angeles   \n",
       "4                   0           73  Sporting Goods        Caguas   \n",
       "\n",
       "  Customer Country Customer Email Customer Fname  Customer Id Customer Lname  \\\n",
       "0      Puerto Rico      XXXXXXXXX          Cally        20755       Holloway   \n",
       "1      Puerto Rico      XXXXXXXXX          Irene        19492           Luna   \n",
       "2          EE. UU.      XXXXXXXXX        Gillian        19491      Maldonado   \n",
       "3          EE. UU.      XXXXXXXXX           Tana        19490           Tate   \n",
       "4      Puerto Rico      XXXXXXXXX           Orli        19489      Hendricks   \n",
       "\n",
       "  Customer Password Customer Segment Customer State           Customer Street  \\\n",
       "0         XXXXXXXXX         Consumer             PR  5365 Noble Nectar Island   \n",
       "1         XXXXXXXXX         Consumer             PR          2679 Rustic Loop   \n",
       "2         XXXXXXXXX         Consumer             CA      8510 Round Bear Gate   \n",
       "3         XXXXXXXXX      Home Office             CA           3200 Amber Bend   \n",
       "4         XXXXXXXXX        Corporate             PR  8671 Iron Anchor Corners   \n",
       "\n",
       "   Customer Zipcode  Department Id Department Name   Latitude   Longitude  \\\n",
       "0             725.0              2         Fitness  18.251453  -66.037056   \n",
       "1             725.0              2         Fitness  18.279451  -66.037064   \n",
       "2           95125.0              2         Fitness  37.292233 -121.881279   \n",
       "3           90027.0              2         Fitness  34.125946 -118.291016   \n",
       "4             725.0              2         Fitness  18.253769  -66.037048   \n",
       "\n",
       "         Market  Order City Order Country  Order Customer Id  \\\n",
       "0  Pacific Asia      Bekasi     Indonesia              20755   \n",
       "1  Pacific Asia     Bikaner         India              19492   \n",
       "2  Pacific Asia     Bikaner         India              19491   \n",
       "3  Pacific Asia  Townsville     Australia              19490   \n",
       "4  Pacific Asia  Townsville     Australia              19489   \n",
       "\n",
       "  order date (DateOrders)  Order Id  Order Item Cardprod Id  \\\n",
       "0         1/31/2018 22:56     77202                    1360   \n",
       "1         1/13/2018 12:27     75939                    1360   \n",
       "2         1/13/2018 12:06     75938                    1360   \n",
       "3         1/13/2018 11:45     75937                    1360   \n",
       "4         1/13/2018 11:24     75936                    1360   \n",
       "\n",
       "   Order Item Discount  Order Item Discount Rate  Order Item Id  \\\n",
       "0            13.110000                      0.04         180517   \n",
       "1            16.389999                      0.05         179254   \n",
       "2            18.030001                      0.06         179253   \n",
       "3            22.940001                      0.07         179252   \n",
       "4            29.500000                      0.09         179251   \n",
       "\n",
       "   Order Item Product Price  Order Item Profit Ratio  Order Item Quantity  \\\n",
       "0                    327.75                     0.29                    1   \n",
       "1                    327.75                    -0.80                    1   \n",
       "2                    327.75                    -0.80                    1   \n",
       "3                    327.75                     0.08                    1   \n",
       "4                    327.75                     0.45                    1   \n",
       "\n",
       "    Sales  Order Item Total  Order Profit Per Order    Order Region  \\\n",
       "0  327.75        314.640015               91.250000  Southeast Asia   \n",
       "1  327.75        311.359985             -249.089996      South Asia   \n",
       "2  327.75        309.720001             -247.779999      South Asia   \n",
       "3  327.75        304.809998               22.860001         Oceania   \n",
       "4  327.75        298.250000              134.210007         Oceania   \n",
       "\n",
       "       Order State     Order Status  Order Zipcode  Product Card Id  \\\n",
       "0  Java Occidental         COMPLETE            NaN             1360   \n",
       "1         Rajastán          PENDING            NaN             1360   \n",
       "2         Rajastán           CLOSED            NaN             1360   \n",
       "3       Queensland         COMPLETE            NaN             1360   \n",
       "4       Queensland  PENDING_PAYMENT            NaN             1360   \n",
       "\n",
       "   Product Category Id  Product Description  \\\n",
       "0                   73                  NaN   \n",
       "1                   73                  NaN   \n",
       "2                   73                  NaN   \n",
       "3                   73                  NaN   \n",
       "4                   73                  NaN   \n",
       "\n",
       "                                  Product Image  Product Name  Product Price  \\\n",
       "0  http://images.acmesports.sports/Smart+watch   Smart watch          327.75   \n",
       "1  http://images.acmesports.sports/Smart+watch   Smart watch          327.75   \n",
       "2  http://images.acmesports.sports/Smart+watch   Smart watch          327.75   \n",
       "3  http://images.acmesports.sports/Smart+watch   Smart watch          327.75   \n",
       "4  http://images.acmesports.sports/Smart+watch   Smart watch          327.75   \n",
       "\n",
       "   Product Status shipping date (DateOrders)   Shipping Mode  \n",
       "0               0             2/3/2018 22:56  Standard Class  \n",
       "1               0            1/18/2018 12:27  Standard Class  \n",
       "2               0            1/17/2018 12:06  Standard Class  \n",
       "3               0            1/16/2018 11:45  Standard Class  \n",
       "4               0            1/15/2018 11:24  Standard Class  "
      ]
     },
     "metadata": {},
     "output_type": "display_data"
    }
   ],
   "source": [
    "# load the source data\n",
    "df_source = pd.read_csv('data/raw/DataCoSupplyChainDataset.csv', encoding='unicode_escape')\n",
    "df_source.drop_duplicates(inplace=True)\n",
    "\n",
    "print(df_source.shape)\n",
    "with pd.option_context('display.max_columns', None):\n",
    "    display(df_source.head())"
   ]
  },
  {
   "attachments": {},
   "cell_type": "markdown",
   "metadata": {},
   "source": [
    "## 1.2 Data Visualization & Analysis"
   ]
  },
  {
   "cell_type": "code",
   "execution_count": 3,
   "metadata": {},
   "outputs": [
    {
     "data": {
      "text/plain": [
       "<AxesSubplot: >"
      ]
     },
     "execution_count": 3,
     "metadata": {},
     "output_type": "execute_result"
    },
    {
     "data": {
      "image/png": "[encoded data removed]",
      "text/plain": [
       "<Figure size 640x480 with 1 Axes>"
      ]
     },
     "metadata": {},
     "output_type": "display_data"
    }
   ],
   "source": [
    "# payment type\n",
    "df_source['Type'].value_counts().plot(kind='bar')"
   ]
  },
  {
   "cell_type": "code",
   "execution_count": 4,
   "metadata": {},
   "outputs": [
    {
     "data": {
      "text/plain": [
       "<AxesSubplot: >"
      ]
     },
     "execution_count": 4,
     "metadata": {},
     "output_type": "execute_result"
    },
    {
     "data": {
      "image/png": "[encoded data removed]",
      "text/plain": [
       "<Figure size 640x480 with 1 Axes>"
      ]
     },
     "metadata": {},
     "output_type": "display_data"
    }
   ],
   "source": [
    "# shipping mode\n",
    "df_source['Shipping Mode'].value_counts().plot(kind='bar')"
   ]
  },
  {
   "cell_type": "code",
   "execution_count": 5,
   "metadata": {},
   "outputs": [
    {
     "data": {
      "text/plain": [
       "<AxesSubplot: >"
      ]
     },
     "execution_count": 5,
     "metadata": {},
     "output_type": "execute_result"
    },
    {
     "data": {
      "image/png": "[encoded data removed]",
      "text/plain": [
       "<Figure size 640x480 with 1 Axes>"
      ]
     },
     "metadata": {},
     "output_type": "display_data"
    }
   ],
   "source": [
    "# customer segment\n",
    "df_source['Customer Segment'].value_counts().plot(kind='bar')"
   ]
  },
  {
   "cell_type": "code",
   "execution_count": 6,
   "metadata": {},
   "outputs": [
    {
     "data": {
      "text/plain": [
       "<AxesSubplot: >"
      ]
     },
     "execution_count": 6,
     "metadata": {},
     "output_type": "execute_result"
    },
    {
     "data": {
      "image/png": "[encoded data removed]",
      "text/plain": [
       "<Figure size 640x480 with 1 Axes>"
      ]
     },
     "metadata": {},
     "output_type": "display_data"
    }
   ],
   "source": [
    "# Days for shipment (scheduled)\n",
    "df_source['Days for shipment (scheduled)'].value_counts().plot(kind='bar')"
   ]
  },
  {
   "cell_type": "code",
   "execution_count": 7,
   "metadata": {},
   "outputs": [
    {
     "data": {
      "text/plain": [
       "<AxesSubplot: >"
      ]
     },
     "execution_count": 7,
     "metadata": {},
     "output_type": "execute_result"
    },
    {
     "data": {
      "image/png": "[encoded data removed]",
      "text/plain": [
       "<Figure size 640x480 with 1 Axes>"
      ]
     },
     "metadata": {},
     "output_type": "display_data"
    }
   ],
   "source": [
    "# Late_delivery_risk\n",
    "df_source['Late_delivery_risk'].value_counts().plot(kind='bar')"
   ]
  },
  {
   "cell_type": "code",
   "execution_count": 8,
   "metadata": {},
   "outputs": [
    {
     "name": "stdout",
     "output_type": "stream",
     "text": [
      "Number of states: 46\n",
      "PR       69373\n",
      "CA       29223\n",
      "NY       11327\n",
      "TX        9103\n",
      "IL        7631\n",
      "FL        5456\n",
      "OH        4095\n",
      "PA        3824\n",
      "MI        3804\n",
      "NJ        3191\n",
      "AZ        3026\n",
      "GA        2503\n",
      "MD        2415\n",
      "NC        1992\n",
      "CO        1914\n",
      "VA        1849\n",
      "OR        1668\n",
      "MA        1607\n",
      "TN        1582\n",
      "NV        1440\n",
      "MO        1354\n",
      "HI        1248\n",
      "CT        1094\n",
      "UT         968\n",
      "NM         949\n",
      "LA         948\n",
      "WA         920\n",
      "WI         850\n",
      "MN         672\n",
      "SC         665\n",
      "IN         581\n",
      "DC         579\n",
      "KY         487\n",
      "KS         458\n",
      "DE         269\n",
      "RI         243\n",
      "WV         241\n",
      "OK         232\n",
      "ND         215\n",
      "ID         167\n",
      "AR         164\n",
      "MT          87\n",
      "IA          67\n",
      "AL          35\n",
      "95758        2\n",
      "91732        1\n",
      "Name: Customer State, dtype: int64\n"
     ]
    }
   ],
   "source": [
    "# Customer State\n",
    "customer_state_vc = df_source['Customer State'].value_counts()\n",
    "\n",
    "print(f'Number of states: {len(customer_state_vc)}')\n",
    "print(customer_state_vc)"
   ]
  },
  {
   "cell_type": "code",
   "execution_count": 9,
   "metadata": {},
   "outputs": [
    {
     "data": {
      "text/plain": [
       "<AxesSubplot: >"
      ]
     },
     "execution_count": 9,
     "metadata": {},
     "output_type": "execute_result"
    },
    {
     "data": {
      "image/png": "[encoded data removed]",
      "text/plain": [
       "<Figure size 640x480 with 1 Axes>"
      ]
     },
     "metadata": {},
     "output_type": "display_data"
    }
   ],
   "source": [
    "# market\n",
    "df_source['Market'].value_counts().plot(kind='bar')"
   ]
  },
  {
   "attachments": {},
   "cell_type": "markdown",
   "metadata": {},
   "source": [
    "> - A question could be which store is most likely to have a late delivery risk?\n",
    "> - which store does not deliver to the market"
   ]
  },
  {
   "cell_type": "code",
   "execution_count": 10,
   "metadata": {},
   "outputs": [
    {
     "data": {
      "text/plain": [
       "PR    4198\n",
       "CA    1812\n",
       "NY     753\n",
       "TX     657\n",
       "IL     500\n",
       "FL     379\n",
       "PA     310\n",
       "OH     275\n",
       "MI     207\n",
       "GA     202\n",
       "AZ     198\n",
       "NJ     196\n",
       "CO     152\n",
       "OR     145\n",
       "MD     139\n",
       "VA     136\n",
       "NC     115\n",
       "MO     112\n",
       "MA     106\n",
       "HI      92\n",
       "NM      89\n",
       "TN      87\n",
       "NV      69\n",
       "WI      68\n",
       "LA      67\n",
       "IN      67\n",
       "WA      65\n",
       "SC      55\n",
       "MN      54\n",
       "CT      43\n",
       "DC      43\n",
       "UT      42\n",
       "KY      27\n",
       "WV      27\n",
       "KS      24\n",
       "DE      24\n",
       "AR      17\n",
       "ND      17\n",
       "RI      15\n",
       "AL      10\n",
       "OK      10\n",
       "ID       5\n",
       "IA       3\n",
       "MT       2\n",
       "Name: Customer State, dtype: int64"
      ]
     },
     "execution_count": 10,
     "metadata": {},
     "output_type": "execute_result"
    }
   ],
   "source": [
    "# State to which the store where the purchase is registered belongs\n",
    "df_source[df_source['Market'] == 'Africa']['Customer State'].value_counts()"
   ]
  },
  {
   "cell_type": "code",
   "execution_count": 11,
   "metadata": {},
   "outputs": [
    {
     "data": {
      "text/plain": [
       "Caguas         66770\n",
       "Chicago         3885\n",
       "Los Angeles     3417\n",
       "Brooklyn        3412\n",
       "New York        1816\n",
       "               ...  \n",
       "Bartlett          25\n",
       "Malden            22\n",
       "Ponce             22\n",
       "Freehold          13\n",
       "CA                 3\n",
       "Name: Customer City, Length: 563, dtype: int64"
      ]
     },
     "execution_count": 11,
     "metadata": {},
     "output_type": "execute_result"
    }
   ],
   "source": [
    "# customer city\n",
    "customer_city_vc = df_source['Customer City'].value_counts()\n",
    "customer_city_vc"
   ]
  },
  {
   "cell_type": "code",
   "execution_count": 12,
   "metadata": {},
   "outputs": [
    {
     "data": {
      "text/plain": [
       "<AxesSubplot: >"
      ]
     },
     "execution_count": 12,
     "metadata": {},
     "output_type": "execute_result"
    },
    {
     "data": {
      "image/png": "[encoded data removed]",
      "text/plain": [
       "<Figure size 640x480 with 1 Axes>"
      ]
     },
     "metadata": {},
     "output_type": "display_data"
    }
   ],
   "source": [
    "# delivery status\n",
    "df_source['Delivery Status'].value_counts().plot(kind='bar')"
   ]
  },
  {
   "attachments": {},
   "cell_type": "markdown",
   "metadata": {},
   "source": [
    "## 1.3 Feature Engineering\n",
    "\n",
    "Select the columns that will be used as the network nodes and remove duplicate records to have a single record per order."
   ]
  },
  {
   "cell_type": "code",
   "execution_count": 13,
   "metadata": {},
   "outputs": [
    {
     "name": "stdout",
     "output_type": "stream",
     "text": [
      "(65752, 7)\n"
     ]
    },
    {
     "data": {
      "text/html": [
       "<div>\n",
       "<style scoped>\n",
       "    .dataframe tbody tr th:only-of-type {\n",
       "        vertical-align: middle;\n",
       "    }\n",
       "\n",
       "    .dataframe tbody tr th {\n",
       "        vertical-align: top;\n",
       "    }\n",
       "\n",
       "    .dataframe thead th {\n",
       "        text-align: right;\n",
       "    }\n",
       "</style>\n",
       "<table border=\"1\" class=\"dataframe\">\n",
       "  <thead>\n",
       "    <tr style=\"text-align: right;\">\n",
       "      <th></th>\n",
       "      <th>Order Id</th>\n",
       "      <th>Shipping Mode</th>\n",
       "      <th>Customer Segment</th>\n",
       "      <th>Days for shipment (scheduled)</th>\n",
       "      <th>Delivery Status</th>\n",
       "      <th>Store State</th>\n",
       "      <th>Market</th>\n",
       "    </tr>\n",
       "  </thead>\n",
       "  <tbody>\n",
       "    <tr>\n",
       "      <th>0</th>\n",
       "      <td>77202</td>\n",
       "      <td>Standard Class</td>\n",
       "      <td>Consumer</td>\n",
       "      <td>4</td>\n",
       "      <td>Advance shipping</td>\n",
       "      <td>PR</td>\n",
       "      <td>Pacific Asia</td>\n",
       "    </tr>\n",
       "    <tr>\n",
       "      <th>1</th>\n",
       "      <td>75939</td>\n",
       "      <td>Standard Class</td>\n",
       "      <td>Consumer</td>\n",
       "      <td>4</td>\n",
       "      <td>Late delivery</td>\n",
       "      <td>PR</td>\n",
       "      <td>Pacific Asia</td>\n",
       "    </tr>\n",
       "    <tr>\n",
       "      <th>2</th>\n",
       "      <td>75938</td>\n",
       "      <td>Standard Class</td>\n",
       "      <td>Consumer</td>\n",
       "      <td>4</td>\n",
       "      <td>Shipping on time</td>\n",
       "      <td>CA</td>\n",
       "      <td>Pacific Asia</td>\n",
       "    </tr>\n",
       "    <tr>\n",
       "      <th>3</th>\n",
       "      <td>75937</td>\n",
       "      <td>Standard Class</td>\n",
       "      <td>Home Office</td>\n",
       "      <td>4</td>\n",
       "      <td>Advance shipping</td>\n",
       "      <td>CA</td>\n",
       "      <td>Pacific Asia</td>\n",
       "    </tr>\n",
       "    <tr>\n",
       "      <th>4</th>\n",
       "      <td>75936</td>\n",
       "      <td>Standard Class</td>\n",
       "      <td>Corporate</td>\n",
       "      <td>4</td>\n",
       "      <td>Advance shipping</td>\n",
       "      <td>PR</td>\n",
       "      <td>Pacific Asia</td>\n",
       "    </tr>\n",
       "  </tbody>\n",
       "</table>\n",
       "</div>"
      ],
      "text/plain": [
       "   Order Id   Shipping Mode Customer Segment  Days for shipment (scheduled)  \\\n",
       "0     77202  Standard Class         Consumer                              4   \n",
       "1     75939  Standard Class         Consumer                              4   \n",
       "2     75938  Standard Class         Consumer                              4   \n",
       "3     75937  Standard Class      Home Office                              4   \n",
       "4     75936  Standard Class        Corporate                              4   \n",
       "\n",
       "    Delivery Status Store State        Market  \n",
       "0  Advance shipping          PR  Pacific Asia  \n",
       "1     Late delivery          PR  Pacific Asia  \n",
       "2  Shipping on time          CA  Pacific Asia  \n",
       "3  Advance shipping          CA  Pacific Asia  \n",
       "4  Advance shipping          PR  Pacific Asia  "
      ]
     },
     "metadata": {},
     "output_type": "display_data"
    }
   ],
   "source": [
    "nodes = [\n",
    "    'Order Id',\n",
    "    'Shipping Mode',\n",
    "    'Customer Segment',\n",
    "    'Days for shipment (scheduled)',\n",
    "    'Delivery Status',\n",
    "    'Customer State',\n",
    "    'Market',\n",
    "]\n",
    "\n",
    "df_data = df_source[nodes] \\\n",
    "    .rename(columns={\n",
    "        'Type': 'Payment Type',\n",
    "        'Customer State': 'Store State'}) \\\n",
    "    .drop_duplicates() \\\n",
    "    .reset_index(drop=True)\n",
    "\n",
    "\n",
    "print(df_data.shape)\n",
    "with pd.option_context('display.max_columns', None):\n",
    "    display(df_data.head())"
   ]
  },
  {
   "cell_type": "code",
   "execution_count": 14,
   "metadata": {},
   "outputs": [
    {
     "data": {
      "text/plain": [
       "Order Id                         0\n",
       "Shipping Mode                    0\n",
       "Customer Segment                 0\n",
       "Days for shipment (scheduled)    0\n",
       "Delivery Status                  0\n",
       "Store State                      0\n",
       "Market                           0\n",
       "dtype: int64"
      ]
     },
     "execution_count": 14,
     "metadata": {},
     "output_type": "execute_result"
    }
   ],
   "source": [
    "# find columns with missing values\n",
    "df_data.isnull().sum()"
   ]
  },
  {
   "cell_type": "markdown",
   "metadata": {},
   "source": [
    "### 1.3.1 Create a Training and Test Set"
   ]
  },
  {
   "cell_type": "code",
   "execution_count": 15,
   "metadata": {},
   "outputs": [],
   "source": [
    "random_state = 98421"
   ]
  },
  {
   "cell_type": "code",
   "execution_count": 16,
   "metadata": {},
   "outputs": [
    {
     "name": "stdout",
     "output_type": "stream",
     "text": [
      "Training dataset shape : (46026, 7)\n",
      "Test dataset shape     : (19726, 7)\n"
     ]
    }
   ],
   "source": [
    "# create the training dataset\n",
    "df_test = df_data.sample(frac=0.3, random_state=random_state)\n",
    "df_train = df_data.drop(df_test.index)\n",
    "\n",
    "# reset the index of both datasets\n",
    "df_train.reset_index(drop=True, inplace=True)\n",
    "df_test.reset_index(drop=True, inplace=True)\n",
    "\n",
    "print(f'Training dataset shape : {df_train.shape}')\n",
    "print(f'Test dataset shape     : {df_test.shape}')"
   ]
  },
  {
   "attachments": {},
   "cell_type": "markdown",
   "metadata": {},
   "source": [
    "## 1.4 Model Training"
   ]
  },
  {
   "attachments": {},
   "cell_type": "markdown",
   "metadata": {},
   "source": [
    "### 1.4.1 Model Definition\n",
    "\n",
    "Define the model nodes and edges."
   ]
  },
  {
   "cell_type": "code",
   "execution_count": 17,
   "metadata": {},
   "outputs": [],
   "source": [
    "# Create the Bayesian network model\n",
    "model = BayesianNetwork()\n",
    "\n",
    "# Add the nodes to the model\n",
    "model.add_node('Shipping Mode')\n",
    "model.add_node('Customer Segment')\n",
    "model.add_node('Days for shipment (scheduled)')\n",
    "model.add_node('Delivery Status')\n",
    "model.add_node('Store State')\n",
    "model.add_node('Market')\n",
    "\n",
    "\n",
    "# Add the edges between the nodes to the model\n",
    "model.add_edge('Delivery Status', 'Shipping Mode')\n",
    "model.add_edge('Delivery Status', 'Customer Segment')\n",
    "model.add_edge('Delivery Status', 'Days for shipment (scheduled)')\n",
    "model.add_edge('Delivery Status', 'Store State')\n",
    "model.add_edge('Delivery Status', 'Market')\n"
   ]
  },
  {
   "attachments": {},
   "cell_type": "markdown",
   "metadata": {},
   "source": [
    "### 1.4.2 Compute the Probability Distribution Table (PDT)"
   ]
  },
  {
   "cell_type": "code",
   "execution_count": 18,
   "metadata": {},
   "outputs": [
    {
     "data": {
      "text/html": [
       "<div>\n",
       "<style scoped>\n",
       "    .dataframe tbody tr th:only-of-type {\n",
       "        vertical-align: middle;\n",
       "    }\n",
       "\n",
       "    .dataframe tbody tr th {\n",
       "        vertical-align: top;\n",
       "    }\n",
       "\n",
       "    .dataframe thead tr th {\n",
       "        text-align: left;\n",
       "    }\n",
       "\n",
       "    .dataframe thead tr:last-of-type th {\n",
       "        text-align: right;\n",
       "    }\n",
       "</style>\n",
       "<table border=\"1\" class=\"dataframe\">\n",
       "  <thead>\n",
       "    <tr>\n",
       "      <th>Delivery Status</th>\n",
       "      <th>Advance shipping</th>\n",
       "      <th>Late delivery</th>\n",
       "      <th>Shipping canceled</th>\n",
       "      <th>Shipping on time</th>\n",
       "    </tr>\n",
       "    <tr>\n",
       "      <th>Shipping Mode</th>\n",
       "      <th></th>\n",
       "      <th></th>\n",
       "      <th></th>\n",
       "      <th></th>\n",
       "    </tr>\n",
       "  </thead>\n",
       "  <tbody>\n",
       "    <tr>\n",
       "      <th>First Class</th>\n",
       "      <td>0.0</td>\n",
       "      <td>6719.0</td>\n",
       "      <td>313.0</td>\n",
       "      <td>0.0</td>\n",
       "    </tr>\n",
       "    <tr>\n",
       "      <th>Same Day</th>\n",
       "      <td>0.0</td>\n",
       "      <td>1110.0</td>\n",
       "      <td>119.0</td>\n",
       "      <td>1220.0</td>\n",
       "    </tr>\n",
       "    <tr>\n",
       "      <th>Second Class</th>\n",
       "      <td>0.0</td>\n",
       "      <td>6899.0</td>\n",
       "      <td>369.0</td>\n",
       "      <td>1725.0</td>\n",
       "    </tr>\n",
       "    <tr>\n",
       "      <th>Standard Class</th>\n",
       "      <td>10566.0</td>\n",
       "      <td>10479.0</td>\n",
       "      <td>1223.0</td>\n",
       "      <td>5284.0</td>\n",
       "    </tr>\n",
       "  </tbody>\n",
       "</table>\n",
       "</div>"
      ],
      "text/plain": [
       "Delivery Status Advance shipping Late delivery Shipping canceled  \\\n",
       "Shipping Mode                                                      \n",
       "First Class                  0.0        6719.0             313.0   \n",
       "Same Day                     0.0        1110.0             119.0   \n",
       "Second Class                 0.0        6899.0             369.0   \n",
       "Standard Class           10566.0       10479.0            1223.0   \n",
       "\n",
       "Delivery Status Shipping on time  \n",
       "Shipping Mode                     \n",
       "First Class                  0.0  \n",
       "Same Day                  1220.0  \n",
       "Second Class              1725.0  \n",
       "Standard Class            5284.0  "
      ]
     },
     "execution_count": 18,
     "metadata": {},
     "output_type": "execute_result"
    }
   ],
   "source": [
    "pe = ParameterEstimator(model, df_train)\n",
    "pe.state_counts('Shipping Mode')\n",
    "#pe.state_counts('Delivery Status')"
   ]
  },
  {
   "cell_type": "code",
   "execution_count": 19,
   "metadata": {},
   "outputs": [
    {
     "name": "stdout",
     "output_type": "stream",
     "text": [
      "+-------------------------------+-----+\n",
      "| Delivery Status               | ... |\n",
      "+-------------------------------+-----+\n",
      "| Customer Segment(Consumer)    | ... |\n",
      "+-------------------------------+-----+\n",
      "| Customer Segment(Corporate)   | ... |\n",
      "+-------------------------------+-----+\n",
      "| Customer Segment(Home Office) | ... |\n",
      "+-------------------------------+-----+\n"
     ]
    }
   ],
   "source": [
    "est = BayesianEstimator(model, df_train)\n",
    "\n",
    "print(est.estimate_cpd('Customer Segment', prior_type='BDeu', equivalent_sample_size=10))"
   ]
  },
  {
   "cell_type": "code",
   "execution_count": 20,
   "metadata": {},
   "outputs": [],
   "source": [
    "# # Create a MaximumLikelihoodEstimator object\n",
    "# estimator = MaximumLikelihoodEstimator(model, df_train)\n",
    "\n",
    "# estimator.get_parameters(weighted=True)"
   ]
  },
  {
   "cell_type": "code",
   "execution_count": 21,
   "metadata": {},
   "outputs": [],
   "source": [
    "model.fit(\n",
    "    data=df_train, \n",
    "    estimator=BayesianEstimator,\n",
    "    prior_type='BDeu',\n",
    "    equivalent_sample_size=10)"
   ]
  },
  {
   "cell_type": "code",
   "execution_count": 22,
   "metadata": {},
   "outputs": [],
   "source": [
    "# model.fit(\n",
    "#     data=df_train, \n",
    "#     estimator=MaximumLikelihoodEstimator)"
   ]
  },
  {
   "cell_type": "code",
   "execution_count": 23,
   "metadata": {},
   "outputs": [
    {
     "data": {
      "text/plain": [
       "True"
      ]
     },
     "execution_count": 23,
     "metadata": {},
     "output_type": "execute_result"
    }
   ],
   "source": [
    "# Check if the model is valid\n",
    "model.check_model()"
   ]
  },
  {
   "cell_type": "code",
   "execution_count": 24,
   "metadata": {},
   "outputs": [
    {
     "data": {
      "text/plain": [
       "[<TabularCPD representing P(Shipping Mode:4 | Delivery Status:4) at 0x7fc076014670>,\n",
       " <TabularCPD representing P(Customer Segment:3 | Delivery Status:4) at 0x7fc075ffee20>,\n",
       " <TabularCPD representing P(Days for shipment (scheduled):4 | Delivery Status:4) at 0x7fc076014520>,\n",
       " <TabularCPD representing P(Delivery Status:4) at 0x7fc0760149a0>,\n",
       " <TabularCPD representing P(Store State:46 | Delivery Status:4) at 0x7fc076479370>,\n",
       " <TabularCPD representing P(Market:5 | Delivery Status:4) at 0x7fc0760147c0>]"
      ]
     },
     "execution_count": 24,
     "metadata": {},
     "output_type": "execute_result"
    }
   ],
   "source": [
    "model_cpds = model.get_cpds()\n",
    "model_cpds"
   ]
  },
  {
   "cell_type": "code",
   "execution_count": 25,
   "metadata": {},
   "outputs": [
    {
     "name": "stdout",
     "output_type": "stream",
     "text": [
      "--- Shipping Mode ---\n",
      "[[5.91380044e-05 2.66551300e-01 1.54761905e-01 7.59278382e-05]\n",
      " [5.91380044e-05 4.40558123e-02 5.90303479e-02 1.48287068e-01]\n",
      " [5.91380044e-05 2.73691466e-01 1.82395756e-01 2.09636761e-01]\n",
      " [9.99822586e-01 4.15701422e-01 6.03811991e-01 6.42000243e-01]]\n",
      "\n",
      "--- Customer Segment ---\n",
      "[[0.5214395  0.52055111 0.5254544  0.52017656]\n",
      " [0.3031493  0.29928532 0.28957974 0.29956063]\n",
      " [0.17541121 0.18016356 0.18496587 0.18026281]]\n",
      "\n",
      "--- Days for shipment (scheduled) ---\n",
      "[[5.91380044e-05 4.40558123e-02 5.90303479e-02 1.48287068e-01]\n",
      " [5.91380044e-05 2.66551300e-01 1.54761905e-01 7.59278382e-05]\n",
      " [5.91380044e-05 2.73691466e-01 1.82395756e-01 2.09636761e-01]\n",
      " [9.99822586e-01 4.15701422e-01 6.03811991e-01 6.42000243e-01]]\n",
      "\n",
      "--- Delivery Status ---\n",
      "[0.22957034 0.54760405 0.0440199  0.17880572]\n",
      "\n",
      "--- Store State ---\n",
      "[[5.14243517e-06 2.15584705e-06 2.68185670e-05 1.28086962e-04]\n",
      " [5.14243517e-06 2.15584705e-06 2.68185670e-05 1.28086962e-04]\n",
      " [1.94384049e-04 2.00493775e-04 2.68185670e-05 4.92540585e-04]\n",
      " [8.56729699e-04 8.35175145e-04 5.20280200e-04 9.78478749e-04]\n",
      " [1.86454414e-02 1.73765584e-02 1.82848990e-02 1.79863145e-02]\n",
      " [1.58589615e-01 1.63789617e-01 1.55960695e-01 1.61702527e-01]\n",
      " [1.13596393e-02 9.04636537e-03 9.89605123e-03 1.20335720e-02]\n",
      " [6.81784055e-03 6.15063162e-03 5.45489653e-03 6.08082948e-03]\n",
      " [2.84376665e-03 3.53257097e-03 3.97451163e-03 3.65113865e-03]\n",
      " [1.14059212e-03 1.74752961e-03 2.49412673e-03 9.78478749e-04]\n",
      " [3.17031128e-02 2.94355044e-02 3.06214398e-02 3.12281295e-02]\n",
      " [1.37251595e-02 1.36478053e-02 1.38437443e-02 1.36128710e-02]\n",
      " [7.66942781e-03 7.30099160e-03 9.40258960e-03 4.50153044e-03]\n",
      " [3.83625664e-04 5.57502046e-04 5.20280200e-04 4.92540585e-04]\n",
      " [1.23521293e-03 9.93845488e-04 2.68185670e-05 9.78478749e-04]\n",
      " [3.86104317e-02 4.24068049e-02 3.70364411e-02 4.21617382e-02]\n",
      " [3.78997472e-03 3.45323580e-03 2.49412673e-03 3.04371595e-03]\n",
      " [1.99217938e-03 2.14420547e-03 1.01374183e-03 2.19332416e-03]\n",
      " [3.22224988e-03 2.50121374e-03 1.50720347e-03 2.19332416e-03]\n",
      " [5.30390763e-03 4.88126888e-03 8.90912797e-03 4.86598406e-03]\n",
      " [7.85866943e-03 8.72902469e-03 1.18698978e-02 9.11794300e-03]\n",
      " [1.14542601e-02 1.33304646e-02 1.58175908e-02 1.23980256e-02]\n",
      " [2.00647535e-02 2.03516273e-02 1.92718223e-02 2.13878817e-02]\n",
      " [2.27604181e-03 3.69124131e-03 6.93528143e-03 3.52965411e-03]\n",
      " [6.15549490e-03 7.69766746e-03 5.94835817e-03 8.02458213e-03]\n",
      " [5.72867278e-04 4.78166875e-04 1.50720347e-03 4.92540585e-04]\n",
      " [9.65646476e-03 1.12677502e-02 1.28568210e-02 1.04542730e-02]\n",
      " [8.56729699e-04 1.11284824e-03 2.00066510e-03 1.22144783e-03]\n",
      " [1.95916495e-02 1.72972232e-02 2.02587455e-02 1.73788918e-02]\n",
      " [4.07383714e-03 5.83329094e-03 4.46797327e-03 5.47340677e-03]\n",
      " [7.85866943e-03 8.17367849e-03 9.40258960e-03 8.63200484e-03]\n",
      " [6.86998484e-02 6.12885756e-02 5.48010599e-02 6.36645020e-02]\n",
      " [2.25248945e-02 2.16209900e-02 2.61802851e-02 2.34531189e-02]\n",
      " [1.42445454e-03 1.35085376e-03 1.01374183e-03 1.70738600e-03]\n",
      " [9.56184395e-03 9.64137916e-03 9.40258960e-03 8.87497392e-03]\n",
      " [2.04432368e-02 2.03516273e-02 2.12456688e-02 2.39390570e-02]\n",
      " [3.88707418e-01 3.84460396e-01 3.93315740e-01 3.76365711e-01]\n",
      " [1.23521293e-03 1.27151859e-03 5.20280200e-04 1.70738600e-03]\n",
      " [2.46528342e-03 3.77057648e-03 4.96143490e-03 4.01559228e-03]\n",
      " [6.81784055e-03 8.88769503e-03 9.40258960e-03 8.99645846e-03]\n",
      " [4.84509957e-02 5.14510144e-02 4.29579807e-02 5.39457387e-02]\n",
      " [6.06087409e-03 5.23827715e-03 3.97451163e-03 5.10895315e-03]\n",
      " [1.20219849e-02 1.11884150e-02 1.03895129e-02 1.05757575e-02]\n",
      " [4.64156198e-03 5.63495301e-03 4.46797327e-03 4.74449952e-03]\n",
      " [6.43935732e-03 4.72259854e-03 3.97451163e-03 3.77262319e-03]\n",
      " [1.99217938e-03 1.15251583e-03 1.01374183e-03 1.58590145e-03]]\n",
      "\n",
      "--- Market ---\n",
      "[[0.05937456 0.05793451 0.05748828 0.0625038 ]\n",
      " [0.28324739 0.28515044 0.26918332 0.27412987]\n",
      " [0.26053839 0.25789881 0.26918332 0.26319626]\n",
      " [0.26924351 0.2689264  0.2642487  0.26769119]\n",
      " [0.12759616 0.13008985 0.13989637 0.13247889]]\n",
      "\n"
     ]
    }
   ],
   "source": [
    "for cpd in model_cpds:\n",
    "    print(f'--- {cpd.variable} ---')\n",
    "    print(cpd.values, end='\\n\\n')"
   ]
  },
  {
   "attachments": {},
   "cell_type": "markdown",
   "metadata": {},
   "source": [
    "## 1.5 Model Details"
   ]
  },
  {
   "cell_type": "code",
   "execution_count": 26,
   "metadata": {},
   "outputs": [
    {
     "data": {
      "text/plain": [
       "{'Delivery Status': {'Customer Segment',\n",
       "  'Days for shipment (scheduled)',\n",
       "  'Delivery Status',\n",
       "  'Market',\n",
       "  'Shipping Mode',\n",
       "  'Store State'}}"
      ]
     },
     "execution_count": 26,
     "metadata": {},
     "output_type": "execute_result"
    }
   ],
   "source": [
    "model.active_trail_nodes('Delivery Status')"
   ]
  },
  {
   "cell_type": "code",
   "execution_count": 27,
   "metadata": {},
   "outputs": [
    {
     "data": {
      "text/plain": [
       "(Shipping Mode ⟂ Days for shipment (scheduled), Market, Store State, Customer Segment | Delivery Status)\n",
       "(Shipping Mode ⟂ Days for shipment (scheduled), Market, Customer Segment | Store State, Delivery Status)\n",
       "(Shipping Mode ⟂ Days for shipment (scheduled), Store State, Customer Segment | Market, Delivery Status)\n",
       "(Shipping Mode ⟂ Market, Store State, Customer Segment | Days for shipment (scheduled), Delivery Status)\n",
       "(Shipping Mode ⟂ Days for shipment (scheduled), Market, Store State | Delivery Status, Customer Segment)\n",
       "(Shipping Mode ⟂ Days for shipment (scheduled), Customer Segment | Market, Store State, Delivery Status)\n",
       "(Shipping Mode ⟂ Market, Customer Segment | Days for shipment (scheduled), Store State, Delivery Status)\n",
       "(Shipping Mode ⟂ Days for shipment (scheduled), Market | Store State, Delivery Status, Customer Segment)\n",
       "(Shipping Mode ⟂ Store State, Customer Segment | Days for shipment (scheduled), Market, Delivery Status)\n",
       "(Shipping Mode ⟂ Days for shipment (scheduled), Store State | Market, Delivery Status, Customer Segment)\n",
       "(Shipping Mode ⟂ Market, Store State | Days for shipment (scheduled), Delivery Status, Customer Segment)\n",
       "(Shipping Mode ⟂ Customer Segment | Market, Days for shipment (scheduled), Store State, Delivery Status)\n",
       "(Shipping Mode ⟂ Days for shipment (scheduled) | Market, Store State, Delivery Status, Customer Segment)\n",
       "(Shipping Mode ⟂ Market | Days for shipment (scheduled), Store State, Delivery Status, Customer Segment)\n",
       "(Shipping Mode ⟂ Store State | Days for shipment (scheduled), Market, Delivery Status, Customer Segment)\n",
       "(Store State ⟂ Days for shipment (scheduled), Shipping Mode, Market, Customer Segment | Delivery Status)\n",
       "(Store State ⟂ Days for shipment (scheduled), Market, Customer Segment | Shipping Mode, Delivery Status)\n",
       "(Store State ⟂ Days for shipment (scheduled), Shipping Mode, Customer Segment | Market, Delivery Status)\n",
       "(Store State ⟂ Shipping Mode, Market, Customer Segment | Days for shipment (scheduled), Delivery Status)\n",
       "(Store State ⟂ Days for shipment (scheduled), Shipping Mode, Market | Delivery Status, Customer Segment)\n",
       "(Store State ⟂ Days for shipment (scheduled), Customer Segment | Shipping Mode, Market, Delivery Status)\n",
       "(Store State ⟂ Market, Customer Segment | Days for shipment (scheduled), Shipping Mode, Delivery Status)\n",
       "(Store State ⟂ Days for shipment (scheduled), Market | Shipping Mode, Delivery Status, Customer Segment)\n",
       "(Store State ⟂ Shipping Mode, Customer Segment | Days for shipment (scheduled), Market, Delivery Status)\n",
       "(Store State ⟂ Days for shipment (scheduled), Shipping Mode | Market, Delivery Status, Customer Segment)\n",
       "(Store State ⟂ Shipping Mode, Market | Days for shipment (scheduled), Delivery Status, Customer Segment)\n",
       "(Store State ⟂ Customer Segment | Days for shipment (scheduled), Shipping Mode, Market, Delivery Status)\n",
       "(Store State ⟂ Days for shipment (scheduled) | Shipping Mode, Market, Delivery Status, Customer Segment)\n",
       "(Store State ⟂ Market | Days for shipment (scheduled), Shipping Mode, Delivery Status, Customer Segment)\n",
       "(Store State ⟂ Shipping Mode | Days for shipment (scheduled), Market, Delivery Status, Customer Segment)\n",
       "(Market ⟂ Days for shipment (scheduled), Shipping Mode, Store State, Customer Segment | Delivery Status)\n",
       "(Market ⟂ Days for shipment (scheduled), Store State, Customer Segment | Shipping Mode, Delivery Status)\n",
       "(Market ⟂ Days for shipment (scheduled), Shipping Mode, Customer Segment | Store State, Delivery Status)\n",
       "(Market ⟂ Shipping Mode, Store State, Customer Segment | Days for shipment (scheduled), Delivery Status)\n",
       "(Market ⟂ Days for shipment (scheduled), Shipping Mode, Store State | Delivery Status, Customer Segment)\n",
       "(Market ⟂ Days for shipment (scheduled), Customer Segment | Shipping Mode, Store State, Delivery Status)\n",
       "(Market ⟂ Store State, Customer Segment | Days for shipment (scheduled), Shipping Mode, Delivery Status)\n",
       "(Market ⟂ Days for shipment (scheduled), Store State | Shipping Mode, Delivery Status, Customer Segment)\n",
       "(Market ⟂ Shipping Mode, Customer Segment | Days for shipment (scheduled), Store State, Delivery Status)\n",
       "(Market ⟂ Days for shipment (scheduled), Shipping Mode | Store State, Delivery Status, Customer Segment)\n",
       "(Market ⟂ Shipping Mode, Store State | Days for shipment (scheduled), Delivery Status, Customer Segment)\n",
       "(Market ⟂ Customer Segment | Days for shipment (scheduled), Shipping Mode, Store State, Delivery Status)\n",
       "(Market ⟂ Days for shipment (scheduled) | Shipping Mode, Store State, Delivery Status, Customer Segment)\n",
       "(Market ⟂ Store State | Days for shipment (scheduled), Shipping Mode, Delivery Status, Customer Segment)\n",
       "(Market ⟂ Shipping Mode | Days for shipment (scheduled), Store State, Delivery Status, Customer Segment)\n",
       "(Days for shipment (scheduled) ⟂ Shipping Mode, Market, Store State, Customer Segment | Delivery Status)\n",
       "(Days for shipment (scheduled) ⟂ Market, Store State, Customer Segment | Shipping Mode, Delivery Status)\n",
       "(Days for shipment (scheduled) ⟂ Shipping Mode, Store State, Customer Segment | Market, Delivery Status)\n",
       "(Days for shipment (scheduled) ⟂ Shipping Mode, Market, Customer Segment | Store State, Delivery Status)\n",
       "(Days for shipment (scheduled) ⟂ Shipping Mode, Market, Store State | Delivery Status, Customer Segment)\n",
       "(Days for shipment (scheduled) ⟂ Store State, Customer Segment | Shipping Mode, Market, Delivery Status)\n",
       "(Days for shipment (scheduled) ⟂ Market, Customer Segment | Shipping Mode, Store State, Delivery Status)\n",
       "(Days for shipment (scheduled) ⟂ Market, Store State | Shipping Mode, Delivery Status, Customer Segment)\n",
       "(Days for shipment (scheduled) ⟂ Shipping Mode, Customer Segment | Delivery Status, Market, Store State)\n",
       "(Days for shipment (scheduled) ⟂ Shipping Mode, Store State | Market, Delivery Status, Customer Segment)\n",
       "(Days for shipment (scheduled) ⟂ Shipping Mode, Market | Store State, Delivery Status, Customer Segment)\n",
       "(Days for shipment (scheduled) ⟂ Customer Segment | Shipping Mode, Market, Store State, Delivery Status)\n",
       "(Days for shipment (scheduled) ⟂ Store State | Shipping Mode, Market, Delivery Status, Customer Segment)\n",
       "(Days for shipment (scheduled) ⟂ Market | Shipping Mode, Store State, Delivery Status, Customer Segment)\n",
       "(Days for shipment (scheduled) ⟂ Shipping Mode | Delivery Status, Market, Store State, Customer Segment)\n",
       "(Customer Segment ⟂ Days for shipment (scheduled), Shipping Mode, Market, Store State | Delivery Status)\n",
       "(Customer Segment ⟂ Days for shipment (scheduled), Market, Store State | Shipping Mode, Delivery Status)\n",
       "(Customer Segment ⟂ Days for shipment (scheduled), Shipping Mode, Market | Store State, Delivery Status)\n",
       "(Customer Segment ⟂ Days for shipment (scheduled), Shipping Mode, Store State | Market, Delivery Status)\n",
       "(Customer Segment ⟂ Shipping Mode, Market, Store State | Days for shipment (scheduled), Delivery Status)\n",
       "(Customer Segment ⟂ Days for shipment (scheduled), Market | Shipping Mode, Store State, Delivery Status)\n",
       "(Customer Segment ⟂ Days for shipment (scheduled), Store State | Shipping Mode, Market, Delivery Status)\n",
       "(Customer Segment ⟂ Market, Store State | Days for shipment (scheduled), Shipping Mode, Delivery Status)\n",
       "(Customer Segment ⟂ Days for shipment (scheduled), Shipping Mode | Market, Store State, Delivery Status)\n",
       "(Customer Segment ⟂ Shipping Mode, Market | Days for shipment (scheduled), Store State, Delivery Status)\n",
       "(Customer Segment ⟂ Shipping Mode, Store State | Days for shipment (scheduled), Market, Delivery Status)\n",
       "(Customer Segment ⟂ Days for shipment (scheduled) | Market, Shipping Mode, Store State, Delivery Status)\n",
       "(Customer Segment ⟂ Market | Days for shipment (scheduled), Shipping Mode, Store State, Delivery Status)\n",
       "(Customer Segment ⟂ Store State | Days for shipment (scheduled), Shipping Mode, Market, Delivery Status)\n",
       "(Customer Segment ⟂ Shipping Mode | Market, Days for shipment (scheduled), Store State, Delivery Status)"
      ]
     },
     "execution_count": 27,
     "metadata": {},
     "output_type": "execute_result"
    }
   ],
   "source": [
    "model.get_independencies()"
   ]
  },
  {
   "attachments": {},
   "cell_type": "markdown",
   "metadata": {},
   "source": [
    "## 1.6 Model Queries"
   ]
  },
  {
   "cell_type": "code",
   "execution_count": 28,
   "metadata": {},
   "outputs": [],
   "source": [
    "infer = VariableElimination(model)"
   ]
  },
  {
   "cell_type": "code",
   "execution_count": 29,
   "metadata": {},
   "outputs": [],
   "source": [
    "def get_ratios(probabilities: DiscreteFactor, col_name: str='Ratio') -> pd.DataFrame:\n",
    "    \"\"\"\n",
    "    Show probabilities for a given variable.\n",
    "\n",
    "    Parameters\n",
    "    ----------\n",
    "    probabilities : DiscreteFactor\n",
    "        Probabilities for the variable.\n",
    "\n",
    "    Returns\n",
    "    -------\n",
    "    pd.DataFrame\n",
    "        Probabilities for the variable.\n",
    "    \"\"\"\n",
    "    # Get the probabilities for each value\n",
    "    value_probabilities = probabilities.values\n",
    "    variable_name = list(probabilities.state_names.keys())[0]\n",
    "    state_names = probabilities.state_names[variable_name]\n",
    "\n",
    "    # create a dataframe with the probabilities\n",
    "    return pd.DataFrame(\n",
    "        data=value_probabilities,\n",
    "        index=state_names,\n",
    "        columns=[col_name]) \\\n",
    "        .sort_values(by=col_name, ascending=False)"
   ]
  },
  {
   "attachments": {},
   "cell_type": "markdown",
   "metadata": {},
   "source": [
    "### 1.6.1 What is the probability of a late delivery?"
   ]
  },
  {
   "cell_type": "code",
   "execution_count": 30,
   "metadata": {},
   "outputs": [
    {
     "name": "stdout",
     "output_type": "stream",
     "text": [
      "+------------------------------------+------------------------+\n",
      "| Delivery Status                    |   phi(Delivery Status) |\n",
      "+====================================+========================+\n",
      "| Delivery Status(Advance shipping)  |                 0.2296 |\n",
      "+------------------------------------+------------------------+\n",
      "| Delivery Status(Late delivery)     |                 0.5476 |\n",
      "+------------------------------------+------------------------+\n",
      "| Delivery Status(Shipping canceled) |                 0.0440 |\n",
      "+------------------------------------+------------------------+\n",
      "| Delivery Status(Shipping on time)  |                 0.1788 |\n",
      "+------------------------------------+------------------------+\n"
     ]
    }
   ],
   "source": [
    "late_delivery = infer.query(\n",
    "    variables=['Delivery Status'],\n",
    "    joint=False)\n",
    "\n",
    "print(late_delivery['Delivery Status'])"
   ]
  },
  {
   "attachments": {},
   "cell_type": "markdown",
   "metadata": {},
   "source": [
    "### 1.6.2 Which states handle the most late deliveries?\n",
    "\n",
    "We can see that this is close the the same ratio as the total number of orders per state, given that we know that 54.7% of the orders are late."
   ]
  },
  {
   "cell_type": "code",
   "execution_count": 31,
   "metadata": {},
   "outputs": [
    {
     "data": {
      "text/html": [
       "<div>\n",
       "<style scoped>\n",
       "    .dataframe tbody tr th:only-of-type {\n",
       "        vertical-align: middle;\n",
       "    }\n",
       "\n",
       "    .dataframe tbody tr th {\n",
       "        vertical-align: top;\n",
       "    }\n",
       "\n",
       "    .dataframe thead th {\n",
       "        text-align: right;\n",
       "    }\n",
       "</style>\n",
       "<table border=\"1\" class=\"dataframe\">\n",
       "  <thead>\n",
       "    <tr style=\"text-align: right;\">\n",
       "      <th></th>\n",
       "      <th>Ratio</th>\n",
       "    </tr>\n",
       "  </thead>\n",
       "  <tbody>\n",
       "    <tr>\n",
       "      <th>PR</th>\n",
       "      <td>0.384460</td>\n",
       "    </tr>\n",
       "    <tr>\n",
       "      <th>CA</th>\n",
       "      <td>0.163790</td>\n",
       "    </tr>\n",
       "    <tr>\n",
       "      <th>NY</th>\n",
       "      <td>0.061289</td>\n",
       "    </tr>\n",
       "    <tr>\n",
       "      <th>TX</th>\n",
       "      <td>0.051451</td>\n",
       "    </tr>\n",
       "    <tr>\n",
       "      <th>IL</th>\n",
       "      <td>0.042407</td>\n",
       "    </tr>\n",
       "  </tbody>\n",
       "</table>\n",
       "</div>"
      ],
      "text/plain": [
       "       Ratio\n",
       "PR  0.384460\n",
       "CA  0.163790\n",
       "NY  0.061289\n",
       "TX  0.051451\n",
       "IL  0.042407"
      ]
     },
     "execution_count": 31,
     "metadata": {},
     "output_type": "execute_result"
    }
   ],
   "source": [
    "# Query the probability of a late delivery for each state\n",
    "state_late_delivery = infer.query(\n",
    "    variables=['Store State'],\n",
    "    evidence={'Delivery Status': 'Late delivery'})\n",
    "\n",
    "get_ratios(state_late_delivery).head(5)"
   ]
  },
  {
   "cell_type": "code",
   "execution_count": 32,
   "metadata": {},
   "outputs": [
    {
     "data": {
      "text/plain": [
       "PR    0.384457\n",
       "CA    0.161908\n",
       "NY    0.063138\n",
       "TX    0.050841\n",
       "IL    0.041259\n",
       "Name: Store State, dtype: float64"
      ]
     },
     "execution_count": 32,
     "metadata": {},
     "output_type": "execute_result"
    }
   ],
   "source": [
    "df_train['Store State'].value_counts(normalize=True).head(5)"
   ]
  },
  {
   "attachments": {},
   "cell_type": "markdown",
   "metadata": {},
   "source": [
    "#### 1.6.2.1 What is the probability of a late delivery per store?"
   ]
  },
  {
   "cell_type": "code",
   "execution_count": 33,
   "metadata": {},
   "outputs": [
    {
     "data": {
      "text/html": [
       "<div>\n",
       "<style scoped>\n",
       "    .dataframe tbody tr th:only-of-type {\n",
       "        vertical-align: middle;\n",
       "    }\n",
       "\n",
       "    .dataframe tbody tr th {\n",
       "        vertical-align: top;\n",
       "    }\n",
       "\n",
       "    .dataframe thead th {\n",
       "        text-align: right;\n",
       "    }\n",
       "</style>\n",
       "<table border=\"1\" class=\"dataframe\">\n",
       "  <thead>\n",
       "    <tr style=\"text-align: right;\">\n",
       "      <th></th>\n",
       "      <th>Store State</th>\n",
       "      <th>Ratio</th>\n",
       "    </tr>\n",
       "  </thead>\n",
       "  <tbody>\n",
       "    <tr>\n",
       "      <th>0</th>\n",
       "      <td>DE</td>\n",
       "      <td>0.636464</td>\n",
       "    </tr>\n",
       "    <tr>\n",
       "      <th>1</th>\n",
       "      <td>IA</td>\n",
       "      <td>0.605337</td>\n",
       "    </tr>\n",
       "    <tr>\n",
       "      <th>2</th>\n",
       "      <td>NM</td>\n",
       "      <td>0.602145</td>\n",
       "    </tr>\n",
       "    <tr>\n",
       "      <th>3</th>\n",
       "      <td>WA</td>\n",
       "      <td>0.593830</td>\n",
       "    </tr>\n",
       "    <tr>\n",
       "      <th>4</th>\n",
       "      <td>MN</td>\n",
       "      <td>0.580801</td>\n",
       "    </tr>\n",
       "  </tbody>\n",
       "</table>\n",
       "</div>"
      ],
      "text/plain": [
       "  Store State     Ratio\n",
       "0          DE  0.636464\n",
       "1          IA  0.605337\n",
       "2          NM  0.602145\n",
       "3          WA  0.593830\n",
       "4          MN  0.580801"
      ]
     },
     "execution_count": 33,
     "metadata": {},
     "output_type": "execute_result"
    }
   ],
   "source": [
    "df_store_late_delivery = pd.DataFrame()\n",
    "\n",
    "for state_name in list(state_late_delivery.state_names.values())[0]:\n",
    "    # get the delivery status probabilities for the state\n",
    "    df_state = get_ratios(\n",
    "        infer.query(\n",
    "            variables=['Delivery Status'],\n",
    "            evidence={'Store State': state_name})\n",
    "    )\n",
    "\n",
    "    # add the state name to the dataframe\n",
    "    df_state['Store State'] = state_name\n",
    "\n",
    "    # append the dataframe to the main dataframe    \n",
    "    df_store_late_delivery = df_store_late_delivery.append(df_state \\\n",
    "        .reset_index(drop=False) \\\n",
    "        .rename(columns={'index': 'Delivery Status'})\n",
    "    )\n",
    "\n",
    "# show the stores with the highest probability of late delivery\n",
    "df_store_late_delivery \\\n",
    "    .query('`Delivery Status` == \"Late delivery\"') \\\n",
    "    .drop(columns=['Delivery Status']) \\\n",
    "    .reindex(columns=['Store State', 'Ratio']) \\\n",
    "    .sort_values(by='Ratio', ascending=False) \\\n",
    "    .reset_index(drop=True) \\\n",
    "    .head(5)"
   ]
  },
  {
   "attachments": {},
   "cell_type": "markdown",
   "metadata": {},
   "source": [
    "> We have discovered that the [state](https://www.scouting.org/resources/los/states/) Delaware (DE) has the highest probability of late delivery as reflected in the data below. This is an example that warrents further investigation."
   ]
  },
  {
   "cell_type": "code",
   "execution_count": 34,
   "metadata": {},
   "outputs": [
    {
     "data": {
      "text/html": [
       "<div>\n",
       "<style scoped>\n",
       "    .dataframe tbody tr th:only-of-type {\n",
       "        vertical-align: middle;\n",
       "    }\n",
       "\n",
       "    .dataframe tbody tr th {\n",
       "        vertical-align: top;\n",
       "    }\n",
       "\n",
       "    .dataframe thead th {\n",
       "        text-align: right;\n",
       "    }\n",
       "</style>\n",
       "<table border=\"1\" class=\"dataframe\">\n",
       "  <thead>\n",
       "    <tr style=\"text-align: right;\">\n",
       "      <th></th>\n",
       "      <th>Order Id</th>\n",
       "      <th>Shipping Mode</th>\n",
       "      <th>Customer Segment</th>\n",
       "      <th>Days for shipment (scheduled)</th>\n",
       "      <th>Delivery Status</th>\n",
       "      <th>Store State</th>\n",
       "      <th>Market</th>\n",
       "    </tr>\n",
       "  </thead>\n",
       "  <tbody>\n",
       "    <tr>\n",
       "      <th>28</th>\n",
       "      <td>75901</td>\n",
       "      <td>Same Day</td>\n",
       "      <td>Consumer</td>\n",
       "      <td>0</td>\n",
       "      <td>Shipping canceled</td>\n",
       "      <td>DE</td>\n",
       "      <td>Pacific Asia</td>\n",
       "    </tr>\n",
       "    <tr>\n",
       "      <th>657</th>\n",
       "      <td>20755</td>\n",
       "      <td>Standard Class</td>\n",
       "      <td>Corporate</td>\n",
       "      <td>4</td>\n",
       "      <td>Late delivery</td>\n",
       "      <td>DE</td>\n",
       "      <td>Pacific Asia</td>\n",
       "    </tr>\n",
       "    <tr>\n",
       "      <th>698</th>\n",
       "      <td>75778</td>\n",
       "      <td>Second Class</td>\n",
       "      <td>Home Office</td>\n",
       "      <td>2</td>\n",
       "      <td>Late delivery</td>\n",
       "      <td>DE</td>\n",
       "      <td>Pacific Asia</td>\n",
       "    </tr>\n",
       "    <tr>\n",
       "      <th>760</th>\n",
       "      <td>73184</td>\n",
       "      <td>Standard Class</td>\n",
       "      <td>Consumer</td>\n",
       "      <td>4</td>\n",
       "      <td>Late delivery</td>\n",
       "      <td>DE</td>\n",
       "      <td>Pacific Asia</td>\n",
       "    </tr>\n",
       "    <tr>\n",
       "      <th>2329</th>\n",
       "      <td>74199</td>\n",
       "      <td>Standard Class</td>\n",
       "      <td>Corporate</td>\n",
       "      <td>4</td>\n",
       "      <td>Late delivery</td>\n",
       "      <td>DE</td>\n",
       "      <td>Pacific Asia</td>\n",
       "    </tr>\n",
       "    <tr>\n",
       "      <th>...</th>\n",
       "      <td>...</td>\n",
       "      <td>...</td>\n",
       "      <td>...</td>\n",
       "      <td>...</td>\n",
       "      <td>...</td>\n",
       "      <td>...</td>\n",
       "      <td>...</td>\n",
       "    </tr>\n",
       "    <tr>\n",
       "      <th>41631</th>\n",
       "      <td>40463</td>\n",
       "      <td>Second Class</td>\n",
       "      <td>Home Office</td>\n",
       "      <td>2</td>\n",
       "      <td>Late delivery</td>\n",
       "      <td>DE</td>\n",
       "      <td>USCA</td>\n",
       "    </tr>\n",
       "    <tr>\n",
       "      <th>44113</th>\n",
       "      <td>3903</td>\n",
       "      <td>Standard Class</td>\n",
       "      <td>Home Office</td>\n",
       "      <td>4</td>\n",
       "      <td>Shipping on time</td>\n",
       "      <td>DE</td>\n",
       "      <td>LATAM</td>\n",
       "    </tr>\n",
       "    <tr>\n",
       "      <th>44565</th>\n",
       "      <td>38525</td>\n",
       "      <td>Second Class</td>\n",
       "      <td>Home Office</td>\n",
       "      <td>2</td>\n",
       "      <td>Late delivery</td>\n",
       "      <td>DE</td>\n",
       "      <td>USCA</td>\n",
       "    </tr>\n",
       "    <tr>\n",
       "      <th>44651</th>\n",
       "      <td>70330</td>\n",
       "      <td>Standard Class</td>\n",
       "      <td>Home Office</td>\n",
       "      <td>4</td>\n",
       "      <td>Late delivery</td>\n",
       "      <td>DE</td>\n",
       "      <td>Europe</td>\n",
       "    </tr>\n",
       "    <tr>\n",
       "      <th>45915</th>\n",
       "      <td>6724</td>\n",
       "      <td>Standard Class</td>\n",
       "      <td>Consumer</td>\n",
       "      <td>4</td>\n",
       "      <td>Late delivery</td>\n",
       "      <td>DE</td>\n",
       "      <td>LATAM</td>\n",
       "    </tr>\n",
       "  </tbody>\n",
       "</table>\n",
       "<p>69 rows × 7 columns</p>\n",
       "</div>"
      ],
      "text/plain": [
       "       Order Id   Shipping Mode Customer Segment  \\\n",
       "28        75901        Same Day         Consumer   \n",
       "657       20755  Standard Class        Corporate   \n",
       "698       75778    Second Class      Home Office   \n",
       "760       73184  Standard Class         Consumer   \n",
       "2329      74199  Standard Class        Corporate   \n",
       "...         ...             ...              ...   \n",
       "41631     40463    Second Class      Home Office   \n",
       "44113      3903  Standard Class      Home Office   \n",
       "44565     38525    Second Class      Home Office   \n",
       "44651     70330  Standard Class      Home Office   \n",
       "45915      6724  Standard Class         Consumer   \n",
       "\n",
       "       Days for shipment (scheduled)    Delivery Status Store State  \\\n",
       "28                                 0  Shipping canceled          DE   \n",
       "657                                4      Late delivery          DE   \n",
       "698                                2      Late delivery          DE   \n",
       "760                                4      Late delivery          DE   \n",
       "2329                               4      Late delivery          DE   \n",
       "...                              ...                ...         ...   \n",
       "41631                              2      Late delivery          DE   \n",
       "44113                              4   Shipping on time          DE   \n",
       "44565                              2      Late delivery          DE   \n",
       "44651                              4      Late delivery          DE   \n",
       "45915                              4      Late delivery          DE   \n",
       "\n",
       "             Market  \n",
       "28     Pacific Asia  \n",
       "657    Pacific Asia  \n",
       "698    Pacific Asia  \n",
       "760    Pacific Asia  \n",
       "2329   Pacific Asia  \n",
       "...             ...  \n",
       "41631          USCA  \n",
       "44113         LATAM  \n",
       "44565          USCA  \n",
       "44651        Europe  \n",
       "45915         LATAM  \n",
       "\n",
       "[69 rows x 7 columns]"
      ]
     },
     "execution_count": 34,
     "metadata": {},
     "output_type": "execute_result"
    }
   ],
   "source": [
    "df_train[df_train['Store State'] == 'DE']"
   ]
  },
  {
   "attachments": {},
   "cell_type": "markdown",
   "metadata": {},
   "source": [
    "### 1.6.3 Which Market has the most late deliveries?"
   ]
  },
  {
   "cell_type": "code",
   "execution_count": 35,
   "metadata": {},
   "outputs": [
    {
     "data": {
      "text/html": [
       "<div>\n",
       "<style scoped>\n",
       "    .dataframe tbody tr th:only-of-type {\n",
       "        vertical-align: middle;\n",
       "    }\n",
       "\n",
       "    .dataframe tbody tr th {\n",
       "        vertical-align: top;\n",
       "    }\n",
       "\n",
       "    .dataframe thead th {\n",
       "        text-align: right;\n",
       "    }\n",
       "</style>\n",
       "<table border=\"1\" class=\"dataframe\">\n",
       "  <thead>\n",
       "    <tr style=\"text-align: right;\">\n",
       "      <th></th>\n",
       "      <th>Ratio</th>\n",
       "    </tr>\n",
       "  </thead>\n",
       "  <tbody>\n",
       "    <tr>\n",
       "      <th>Europe</th>\n",
       "      <td>0.285150</td>\n",
       "    </tr>\n",
       "    <tr>\n",
       "      <th>Pacific Asia</th>\n",
       "      <td>0.268926</td>\n",
       "    </tr>\n",
       "    <tr>\n",
       "      <th>LATAM</th>\n",
       "      <td>0.257899</td>\n",
       "    </tr>\n",
       "    <tr>\n",
       "      <th>USCA</th>\n",
       "      <td>0.130090</td>\n",
       "    </tr>\n",
       "    <tr>\n",
       "      <th>Africa</th>\n",
       "      <td>0.057935</td>\n",
       "    </tr>\n",
       "  </tbody>\n",
       "</table>\n",
       "</div>"
      ],
      "text/plain": [
       "                 Ratio\n",
       "Europe        0.285150\n",
       "Pacific Asia  0.268926\n",
       "LATAM         0.257899\n",
       "USCA          0.130090\n",
       "Africa        0.057935"
      ]
     },
     "execution_count": 35,
     "metadata": {},
     "output_type": "execute_result"
    }
   ],
   "source": [
    "# Which Market is most likely to have a late delivery?\n",
    "market_late_delivery = infer.query(\n",
    "    variables=['Market'],\n",
    "    evidence={'Delivery Status': 'Late delivery'})\n",
    "\n",
    "get_ratios(market_late_delivery).head(5)\n"
   ]
  },
  {
   "attachments": {},
   "cell_type": "markdown",
   "metadata": {},
   "source": [
    "#### 1.6.3.1 What is the probability of a late delivery in Europe?"
   ]
  },
  {
   "cell_type": "code",
   "execution_count": 36,
   "metadata": {},
   "outputs": [
    {
     "data": {
      "text/html": [
       "<div>\n",
       "<style scoped>\n",
       "    .dataframe tbody tr th:only-of-type {\n",
       "        vertical-align: middle;\n",
       "    }\n",
       "\n",
       "    .dataframe tbody tr th {\n",
       "        vertical-align: top;\n",
       "    }\n",
       "\n",
       "    .dataframe thead th {\n",
       "        text-align: right;\n",
       "    }\n",
       "</style>\n",
       "<table border=\"1\" class=\"dataframe\">\n",
       "  <thead>\n",
       "    <tr style=\"text-align: right;\">\n",
       "      <th></th>\n",
       "      <th>Probability</th>\n",
       "    </tr>\n",
       "  </thead>\n",
       "  <tbody>\n",
       "    <tr>\n",
       "      <th>Late delivery</th>\n",
       "      <td>0.553643</td>\n",
       "    </tr>\n",
       "    <tr>\n",
       "      <th>Advance shipping</th>\n",
       "      <td>0.230553</td>\n",
       "    </tr>\n",
       "    <tr>\n",
       "      <th>Shipping on time</th>\n",
       "      <td>0.173791</td>\n",
       "    </tr>\n",
       "    <tr>\n",
       "      <th>Shipping canceled</th>\n",
       "      <td>0.042013</td>\n",
       "    </tr>\n",
       "  </tbody>\n",
       "</table>\n",
       "</div>"
      ],
      "text/plain": [
       "                   Probability\n",
       "Late delivery         0.553643\n",
       "Advance shipping      0.230553\n",
       "Shipping on time      0.173791\n",
       "Shipping canceled     0.042013"
      ]
     },
     "execution_count": 36,
     "metadata": {},
     "output_type": "execute_result"
    }
   ],
   "source": [
    "get_ratios(\n",
    "    infer.query(\n",
    "        variables=['Delivery Status'],\n",
    "        evidence={'Market': 'Europe'}),\n",
    "    col_name='Probability')"
   ]
  },
  {
   "attachments": {},
   "cell_type": "markdown",
   "metadata": {},
   "source": [
    "#### 1.6.3.2 Which shipping method has the most late deliveries in the Pacific Asia Market?"
   ]
  },
  {
   "cell_type": "code",
   "execution_count": 37,
   "metadata": {},
   "outputs": [
    {
     "data": {
      "text/html": [
       "<div>\n",
       "<style scoped>\n",
       "    .dataframe tbody tr th:only-of-type {\n",
       "        vertical-align: middle;\n",
       "    }\n",
       "\n",
       "    .dataframe tbody tr th {\n",
       "        vertical-align: top;\n",
       "    }\n",
       "\n",
       "    .dataframe thead th {\n",
       "        text-align: right;\n",
       "    }\n",
       "</style>\n",
       "<table border=\"1\" class=\"dataframe\">\n",
       "  <thead>\n",
       "    <tr style=\"text-align: right;\">\n",
       "      <th></th>\n",
       "      <th>Ratio</th>\n",
       "    </tr>\n",
       "  </thead>\n",
       "  <tbody>\n",
       "    <tr>\n",
       "      <th>Standard Class</th>\n",
       "      <td>0.415701</td>\n",
       "    </tr>\n",
       "    <tr>\n",
       "      <th>Second Class</th>\n",
       "      <td>0.273691</td>\n",
       "    </tr>\n",
       "    <tr>\n",
       "      <th>First Class</th>\n",
       "      <td>0.266551</td>\n",
       "    </tr>\n",
       "    <tr>\n",
       "      <th>Same Day</th>\n",
       "      <td>0.044056</td>\n",
       "    </tr>\n",
       "  </tbody>\n",
       "</table>\n",
       "</div>"
      ],
      "text/plain": [
       "                   Ratio\n",
       "Standard Class  0.415701\n",
       "Second Class    0.273691\n",
       "First Class     0.266551\n",
       "Same Day        0.044056"
      ]
     },
     "execution_count": 37,
     "metadata": {},
     "output_type": "execute_result"
    }
   ],
   "source": [
    "shipping_mode_late_delivery = infer.query(\n",
    "    variables=['Shipping Mode'],\n",
    "    evidence={\n",
    "        'Delivery Status': 'Late delivery',\n",
    "        'Market': 'Pacific Asia'\n",
    "    })\n",
    "\n",
    "get_ratios(shipping_mode_late_delivery).head(5)"
   ]
  },
  {
   "attachments": {},
   "cell_type": "markdown",
   "metadata": {},
   "source": [
    "#### 1.6.3.3 What is the probability of a late delivery for orders in the Pacific Asia Market sipped using Standard Class?"
   ]
  },
  {
   "cell_type": "code",
   "execution_count": 38,
   "metadata": {},
   "outputs": [
    {
     "data": {
      "text/plain": [
       "Probability    0.380781\n",
       "Name: Late delivery, dtype: float64"
      ]
     },
     "execution_count": 38,
     "metadata": {},
     "output_type": "execute_result"
    }
   ],
   "source": [
    "get_ratios(\n",
    "    infer.query(\n",
    "        variables=['Delivery Status'],\n",
    "        evidence={\n",
    "            'Shipping Mode': 'Standard Class',\n",
    "            'Market': 'Pacific Asia'\n",
    "        }),\n",
    "    col_name='Probability'\n",
    ").loc['Late delivery']"
   ]
  },
  {
   "attachments": {},
   "cell_type": "markdown",
   "metadata": {},
   "source": [
    "### 1.6.4 Which customer segment has the most late deliveries?"
   ]
  },
  {
   "cell_type": "code",
   "execution_count": 39,
   "metadata": {},
   "outputs": [
    {
     "data": {
      "text/html": [
       "<div>\n",
       "<style scoped>\n",
       "    .dataframe tbody tr th:only-of-type {\n",
       "        vertical-align: middle;\n",
       "    }\n",
       "\n",
       "    .dataframe tbody tr th {\n",
       "        vertical-align: top;\n",
       "    }\n",
       "\n",
       "    .dataframe thead th {\n",
       "        text-align: right;\n",
       "    }\n",
       "</style>\n",
       "<table border=\"1\" class=\"dataframe\">\n",
       "  <thead>\n",
       "    <tr style=\"text-align: right;\">\n",
       "      <th></th>\n",
       "      <th>Ratio</th>\n",
       "    </tr>\n",
       "  </thead>\n",
       "  <tbody>\n",
       "    <tr>\n",
       "      <th>Consumer</th>\n",
       "      <td>0.520551</td>\n",
       "    </tr>\n",
       "    <tr>\n",
       "      <th>Corporate</th>\n",
       "      <td>0.299285</td>\n",
       "    </tr>\n",
       "    <tr>\n",
       "      <th>Home Office</th>\n",
       "      <td>0.180164</td>\n",
       "    </tr>\n",
       "  </tbody>\n",
       "</table>\n",
       "</div>"
      ],
      "text/plain": [
       "                Ratio\n",
       "Consumer     0.520551\n",
       "Corporate    0.299285\n",
       "Home Office  0.180164"
      ]
     },
     "execution_count": 39,
     "metadata": {},
     "output_type": "execute_result"
    }
   ],
   "source": [
    "get_ratios(\n",
    "    infer.query(\n",
    "        variables=['Customer Segment'],\n",
    "        evidence={\n",
    "            'Delivery Status': 'Late delivery',\n",
    "        })\n",
    ")"
   ]
  },
  {
   "cell_type": "code",
   "execution_count": 40,
   "metadata": {},
   "outputs": [
    {
     "data": {
      "text/plain": [
       "Consumer       0.520945\n",
       "Corporate      0.299787\n",
       "Home Office    0.179268\n",
       "Name: Customer Segment, dtype: float64"
      ]
     },
     "execution_count": 40,
     "metadata": {},
     "output_type": "execute_result"
    }
   ],
   "source": [
    "df_train['Customer Segment'].value_counts(normalize=True).head(5)"
   ]
  },
  {
   "attachments": {},
   "cell_type": "markdown",
   "metadata": {},
   "source": [
    "### 1.6.5.1 Which shipping method is most likely to have a late delivery in the Corporate segment?"
   ]
  },
  {
   "cell_type": "code",
   "execution_count": 41,
   "metadata": {},
   "outputs": [
    {
     "data": {
      "text/html": [
       "<div>\n",
       "<style scoped>\n",
       "    .dataframe tbody tr th:only-of-type {\n",
       "        vertical-align: middle;\n",
       "    }\n",
       "\n",
       "    .dataframe tbody tr th {\n",
       "        vertical-align: top;\n",
       "    }\n",
       "\n",
       "    .dataframe thead th {\n",
       "        text-align: right;\n",
       "    }\n",
       "</style>\n",
       "<table border=\"1\" class=\"dataframe\">\n",
       "  <thead>\n",
       "    <tr style=\"text-align: right;\">\n",
       "      <th></th>\n",
       "      <th>Ratio</th>\n",
       "    </tr>\n",
       "  </thead>\n",
       "  <tbody>\n",
       "    <tr>\n",
       "      <th>Standard Class</th>\n",
       "      <td>0.415701</td>\n",
       "    </tr>\n",
       "    <tr>\n",
       "      <th>Second Class</th>\n",
       "      <td>0.273691</td>\n",
       "    </tr>\n",
       "    <tr>\n",
       "      <th>First Class</th>\n",
       "      <td>0.266551</td>\n",
       "    </tr>\n",
       "    <tr>\n",
       "      <th>Same Day</th>\n",
       "      <td>0.044056</td>\n",
       "    </tr>\n",
       "  </tbody>\n",
       "</table>\n",
       "</div>"
      ],
      "text/plain": [
       "                   Ratio\n",
       "Standard Class  0.415701\n",
       "Second Class    0.273691\n",
       "First Class     0.266551\n",
       "Same Day        0.044056"
      ]
     },
     "execution_count": 41,
     "metadata": {},
     "output_type": "execute_result"
    }
   ],
   "source": [
    "get_ratios(\n",
    "    infer.query(\n",
    "        variables=['Shipping Mode'],\n",
    "        evidence={\n",
    "            'Delivery Status': 'Late delivery',\n",
    "            'Customer Segment': 'Corporate'\n",
    "        })\n",
    ")"
   ]
  },
  {
   "cell_type": "code",
   "execution_count": 42,
   "metadata": {},
   "outputs": [
    {
     "data": {
      "text/plain": [
       "Standard Class    0.409995\n",
       "Second Class      0.278499\n",
       "First Class       0.267895\n",
       "Same Day          0.043611\n",
       "Name: Shipping Mode, dtype: float64"
      ]
     },
     "execution_count": 42,
     "metadata": {},
     "output_type": "execute_result"
    }
   ],
   "source": [
    "# customer segment is corporate and delivery status is late delivery\n",
    "df_train[\n",
    "    (df_train['Customer Segment'] == 'Corporate') &\n",
    "    (df_train['Delivery Status'] == 'Late delivery')\n",
    "]['Shipping Mode'].value_counts(normalize=True).head(5)"
   ]
  },
  {
   "attachments": {},
   "cell_type": "markdown",
   "metadata": {},
   "source": [
    "## 1.7 Model Evaluation"
   ]
  },
  {
   "cell_type": "code",
   "execution_count": 43,
   "metadata": {},
   "outputs": [
    {
     "data": {
      "text/html": [
       "<div>\n",
       "<style scoped>\n",
       "    .dataframe tbody tr th:only-of-type {\n",
       "        vertical-align: middle;\n",
       "    }\n",
       "\n",
       "    .dataframe tbody tr th {\n",
       "        vertical-align: top;\n",
       "    }\n",
       "\n",
       "    .dataframe thead th {\n",
       "        text-align: right;\n",
       "    }\n",
       "</style>\n",
       "<table border=\"1\" class=\"dataframe\">\n",
       "  <thead>\n",
       "    <tr style=\"text-align: right;\">\n",
       "      <th></th>\n",
       "      <th>Order Id</th>\n",
       "      <th>Shipping Mode</th>\n",
       "      <th>Customer Segment</th>\n",
       "      <th>Days for shipment (scheduled)</th>\n",
       "      <th>Delivery Status</th>\n",
       "      <th>Store State</th>\n",
       "      <th>Market</th>\n",
       "    </tr>\n",
       "  </thead>\n",
       "  <tbody>\n",
       "    <tr>\n",
       "      <th>0</th>\n",
       "      <td>30009</td>\n",
       "      <td>Second Class</td>\n",
       "      <td>Corporate</td>\n",
       "      <td>2</td>\n",
       "      <td>Late delivery</td>\n",
       "      <td>FL</td>\n",
       "      <td>Pacific Asia</td>\n",
       "    </tr>\n",
       "    <tr>\n",
       "      <th>1</th>\n",
       "      <td>71466</td>\n",
       "      <td>First Class</td>\n",
       "      <td>Consumer</td>\n",
       "      <td>1</td>\n",
       "      <td>Late delivery</td>\n",
       "      <td>IL</td>\n",
       "      <td>Europe</td>\n",
       "    </tr>\n",
       "    <tr>\n",
       "      <th>2</th>\n",
       "      <td>54193</td>\n",
       "      <td>Standard Class</td>\n",
       "      <td>Consumer</td>\n",
       "      <td>4</td>\n",
       "      <td>Shipping on time</td>\n",
       "      <td>MI</td>\n",
       "      <td>LATAM</td>\n",
       "    </tr>\n",
       "    <tr>\n",
       "      <th>3</th>\n",
       "      <td>39822</td>\n",
       "      <td>Standard Class</td>\n",
       "      <td>Consumer</td>\n",
       "      <td>4</td>\n",
       "      <td>Advance shipping</td>\n",
       "      <td>FL</td>\n",
       "      <td>USCA</td>\n",
       "    </tr>\n",
       "    <tr>\n",
       "      <th>4</th>\n",
       "      <td>23171</td>\n",
       "      <td>Standard Class</td>\n",
       "      <td>Consumer</td>\n",
       "      <td>4</td>\n",
       "      <td>Advance shipping</td>\n",
       "      <td>OR</td>\n",
       "      <td>Pacific Asia</td>\n",
       "    </tr>\n",
       "  </tbody>\n",
       "</table>\n",
       "</div>"
      ],
      "text/plain": [
       "   Order Id   Shipping Mode Customer Segment  Days for shipment (scheduled)  \\\n",
       "0     30009    Second Class        Corporate                              2   \n",
       "1     71466     First Class         Consumer                              1   \n",
       "2     54193  Standard Class         Consumer                              4   \n",
       "3     39822  Standard Class         Consumer                              4   \n",
       "4     23171  Standard Class         Consumer                              4   \n",
       "\n",
       "    Delivery Status Store State        Market  \n",
       "0     Late delivery          FL  Pacific Asia  \n",
       "1     Late delivery          IL        Europe  \n",
       "2  Shipping on time          MI         LATAM  \n",
       "3  Advance shipping          FL          USCA  \n",
       "4  Advance shipping          OR  Pacific Asia  "
      ]
     },
     "execution_count": 43,
     "metadata": {},
     "output_type": "execute_result"
    }
   ],
   "source": [
    "# remove the label to predict\n",
    "df_eval = df_test \\\n",
    "    .drop_duplicates() \\\n",
    "    .reset_index(drop=True)\n",
    "\n",
    "df_eval.head()"
   ]
  },
  {
   "cell_type": "code",
   "execution_count": 44,
   "metadata": {},
   "outputs": [
    {
     "data": {
      "application/vnd.jupyter.widget-view+json": {
       "model_id": "f4763cdd64b94676b325fa88bab88105",
       "version_major": 2,
       "version_minor": 0
      },
      "text/plain": [
       "  0%|          | 0/1622 [00:00<?, ?it/s]"
      ]
     },
     "metadata": {},
     "output_type": "display_data"
    },
    {
     "data": {
      "text/html": [
       "<div>\n",
       "<style scoped>\n",
       "    .dataframe tbody tr th:only-of-type {\n",
       "        vertical-align: middle;\n",
       "    }\n",
       "\n",
       "    .dataframe tbody tr th {\n",
       "        vertical-align: top;\n",
       "    }\n",
       "\n",
       "    .dataframe thead th {\n",
       "        text-align: right;\n",
       "    }\n",
       "</style>\n",
       "<table border=\"1\" class=\"dataframe\">\n",
       "  <thead>\n",
       "    <tr style=\"text-align: right;\">\n",
       "      <th></th>\n",
       "      <th>Order Id</th>\n",
       "      <th>Shipping Mode</th>\n",
       "      <th>Customer Segment</th>\n",
       "      <th>Days for shipment (scheduled)</th>\n",
       "      <th>Delivery Status</th>\n",
       "      <th>Store State</th>\n",
       "      <th>Market</th>\n",
       "      <th>y_pred</th>\n",
       "    </tr>\n",
       "  </thead>\n",
       "  <tbody>\n",
       "    <tr>\n",
       "      <th>0</th>\n",
       "      <td>30009</td>\n",
       "      <td>Second Class</td>\n",
       "      <td>Corporate</td>\n",
       "      <td>2</td>\n",
       "      <td>Late delivery</td>\n",
       "      <td>FL</td>\n",
       "      <td>Pacific Asia</td>\n",
       "      <td>Late delivery</td>\n",
       "    </tr>\n",
       "    <tr>\n",
       "      <th>1</th>\n",
       "      <td>71466</td>\n",
       "      <td>First Class</td>\n",
       "      <td>Consumer</td>\n",
       "      <td>1</td>\n",
       "      <td>Late delivery</td>\n",
       "      <td>IL</td>\n",
       "      <td>Europe</td>\n",
       "      <td>Late delivery</td>\n",
       "    </tr>\n",
       "    <tr>\n",
       "      <th>2</th>\n",
       "      <td>54193</td>\n",
       "      <td>Standard Class</td>\n",
       "      <td>Consumer</td>\n",
       "      <td>4</td>\n",
       "      <td>Shipping on time</td>\n",
       "      <td>MI</td>\n",
       "      <td>LATAM</td>\n",
       "      <td>Advance shipping</td>\n",
       "    </tr>\n",
       "    <tr>\n",
       "      <th>3</th>\n",
       "      <td>39822</td>\n",
       "      <td>Standard Class</td>\n",
       "      <td>Consumer</td>\n",
       "      <td>4</td>\n",
       "      <td>Advance shipping</td>\n",
       "      <td>FL</td>\n",
       "      <td>USCA</td>\n",
       "      <td>Advance shipping</td>\n",
       "    </tr>\n",
       "    <tr>\n",
       "      <th>4</th>\n",
       "      <td>23171</td>\n",
       "      <td>Standard Class</td>\n",
       "      <td>Consumer</td>\n",
       "      <td>4</td>\n",
       "      <td>Advance shipping</td>\n",
       "      <td>OR</td>\n",
       "      <td>Pacific Asia</td>\n",
       "      <td>Advance shipping</td>\n",
       "    </tr>\n",
       "  </tbody>\n",
       "</table>\n",
       "</div>"
      ],
      "text/plain": [
       "   Order Id   Shipping Mode Customer Segment  Days for shipment (scheduled)  \\\n",
       "0     30009    Second Class        Corporate                              2   \n",
       "1     71466     First Class         Consumer                              1   \n",
       "2     54193  Standard Class         Consumer                              4   \n",
       "3     39822  Standard Class         Consumer                              4   \n",
       "4     23171  Standard Class         Consumer                              4   \n",
       "\n",
       "    Delivery Status Store State        Market            y_pred  \n",
       "0     Late delivery          FL  Pacific Asia     Late delivery  \n",
       "1     Late delivery          IL        Europe     Late delivery  \n",
       "2  Shipping on time          MI         LATAM  Advance shipping  \n",
       "3  Advance shipping          FL          USCA  Advance shipping  \n",
       "4  Advance shipping          OR  Pacific Asia  Advance shipping  "
      ]
     },
     "execution_count": 44,
     "metadata": {},
     "output_type": "execute_result"
    }
   ],
   "source": [
    "# predict the label\n",
    "df_predict = model.predict(df_eval.drop(columns=['Order Id', 'Delivery Status']))\n",
    "df_predict.rename(columns={\n",
    "    'Delivery Status': 'y_pred'}, inplace=True)\n",
    "\n",
    "# join the prediction back to the evaluation data\n",
    "df_eval = df_eval.join(df_predict)\n",
    "\n",
    "df_eval.head()"
   ]
  },
  {
   "cell_type": "code",
   "execution_count": 45,
   "metadata": {},
   "outputs": [
    {
     "data": {
      "text/plain": [
       "array([[4561,    0,    0,    0],\n",
       "       [4516, 5787,    0,  538],\n",
       "       [ 469,  317,    0,   45],\n",
       "       [2226,  728,    0,  539]])"
      ]
     },
     "execution_count": 45,
     "metadata": {},
     "output_type": "execute_result"
    }
   ],
   "source": [
    "# show the confusion matrix\n",
    "confusion_matrix(\n",
    "    y_true=df_eval['Delivery Status'],\n",
    "    y_pred=df_eval['y_pred'])"
   ]
  },
  {
   "cell_type": "code",
   "execution_count": 46,
   "metadata": {},
   "outputs": [
    {
     "name": "stderr",
     "output_type": "stream",
     "text": [
      "/home/vscode/.local/lib/python3.8/site-packages/sklearn/metrics/_classification.py:1334: UndefinedMetricWarning: Precision and F-score are ill-defined and being set to 0.0 in labels with no predicted samples. Use `zero_division` parameter to control this behavior.\n",
      "  _warn_prf(average, modifier, msg_start, len(result))\n"
     ]
    },
    {
     "name": "stdout",
     "output_type": "stream",
     "text": [
      "                   precision    recall  f1-score   support\n",
      "\n",
      " Advance shipping       0.39      1.00      0.56      4561\n",
      "    Late delivery       0.85      0.53      0.65     10841\n",
      "Shipping canceled       0.00      0.00      0.00       831\n",
      " Shipping on time       0.48      0.15      0.23      3493\n",
      "\n",
      "         accuracy                           0.55     19726\n",
      "        macro avg       0.43      0.42      0.36     19726\n",
      "     weighted avg       0.64      0.55      0.53     19726\n",
      "\n"
     ]
    },
    {
     "name": "stderr",
     "output_type": "stream",
     "text": [
      "/home/vscode/.local/lib/python3.8/site-packages/sklearn/metrics/_classification.py:1334: UndefinedMetricWarning: Precision and F-score are ill-defined and being set to 0.0 in labels with no predicted samples. Use `zero_division` parameter to control this behavior.\n",
      "  _warn_prf(average, modifier, msg_start, len(result))\n",
      "/home/vscode/.local/lib/python3.8/site-packages/sklearn/metrics/_classification.py:1334: UndefinedMetricWarning: Precision and F-score are ill-defined and being set to 0.0 in labels with no predicted samples. Use `zero_division` parameter to control this behavior.\n",
      "  _warn_prf(average, modifier, msg_start, len(result))\n"
     ]
    }
   ],
   "source": [
    "# show the classification report\n",
    "print(classification_report(\n",
    "    y_true=df_eval['Delivery Status'],\n",
    "    y_pred=df_eval['y_pred']))"
   ]
  },
  {
   "attachments": {},
   "cell_type": "markdown",
   "metadata": {},
   "source": [
    "### 1.7.1 Create a AutoML Model for Comparison"
   ]
  },
  {
   "cell_type": "code",
   "execution_count": 47,
   "metadata": {},
   "outputs": [],
   "source": [
    "from pycaret.classification import *"
   ]
  },
  {
   "cell_type": "code",
   "execution_count": 48,
   "metadata": {},
   "outputs": [
    {
     "data": {
      "text/html": [
       "<div>\n",
       "<style scoped>\n",
       "    .dataframe tbody tr th:only-of-type {\n",
       "        vertical-align: middle;\n",
       "    }\n",
       "\n",
       "    .dataframe tbody tr th {\n",
       "        vertical-align: top;\n",
       "    }\n",
       "\n",
       "    .dataframe thead th {\n",
       "        text-align: right;\n",
       "    }\n",
       "</style>\n",
       "<table border=\"1\" class=\"dataframe\">\n",
       "  <thead>\n",
       "    <tr style=\"text-align: right;\">\n",
       "      <th></th>\n",
       "      <th>Order Id</th>\n",
       "      <th>Shipping Mode</th>\n",
       "      <th>Customer Segment</th>\n",
       "      <th>Days for shipment (scheduled)</th>\n",
       "      <th>Delivery Status</th>\n",
       "      <th>Store State</th>\n",
       "      <th>Market</th>\n",
       "    </tr>\n",
       "  </thead>\n",
       "  <tbody>\n",
       "    <tr>\n",
       "      <th>0</th>\n",
       "      <td>77202</td>\n",
       "      <td>Standard Class</td>\n",
       "      <td>Consumer</td>\n",
       "      <td>4</td>\n",
       "      <td>Advance shipping</td>\n",
       "      <td>PR</td>\n",
       "      <td>Pacific Asia</td>\n",
       "    </tr>\n",
       "    <tr>\n",
       "      <th>1</th>\n",
       "      <td>75937</td>\n",
       "      <td>Standard Class</td>\n",
       "      <td>Home Office</td>\n",
       "      <td>4</td>\n",
       "      <td>Advance shipping</td>\n",
       "      <td>CA</td>\n",
       "      <td>Pacific Asia</td>\n",
       "    </tr>\n",
       "    <tr>\n",
       "      <th>2</th>\n",
       "      <td>75936</td>\n",
       "      <td>Standard Class</td>\n",
       "      <td>Corporate</td>\n",
       "      <td>4</td>\n",
       "      <td>Advance shipping</td>\n",
       "      <td>PR</td>\n",
       "      <td>Pacific Asia</td>\n",
       "    </tr>\n",
       "    <tr>\n",
       "      <th>3</th>\n",
       "      <td>75934</td>\n",
       "      <td>First Class</td>\n",
       "      <td>Home Office</td>\n",
       "      <td>1</td>\n",
       "      <td>Late delivery</td>\n",
       "      <td>PR</td>\n",
       "      <td>Pacific Asia</td>\n",
       "    </tr>\n",
       "    <tr>\n",
       "      <th>4</th>\n",
       "      <td>75932</td>\n",
       "      <td>Second Class</td>\n",
       "      <td>Corporate</td>\n",
       "      <td>2</td>\n",
       "      <td>Late delivery</td>\n",
       "      <td>PR</td>\n",
       "      <td>Pacific Asia</td>\n",
       "    </tr>\n",
       "    <tr>\n",
       "      <th>...</th>\n",
       "      <td>...</td>\n",
       "      <td>...</td>\n",
       "      <td>...</td>\n",
       "      <td>...</td>\n",
       "      <td>...</td>\n",
       "      <td>...</td>\n",
       "      <td>...</td>\n",
       "    </tr>\n",
       "    <tr>\n",
       "      <th>46021</th>\n",
       "      <td>26965</td>\n",
       "      <td>Standard Class</td>\n",
       "      <td>Consumer</td>\n",
       "      <td>4</td>\n",
       "      <td>Late delivery</td>\n",
       "      <td>PR</td>\n",
       "      <td>Pacific Asia</td>\n",
       "    </tr>\n",
       "    <tr>\n",
       "      <th>46022</th>\n",
       "      <td>26773</td>\n",
       "      <td>First Class</td>\n",
       "      <td>Consumer</td>\n",
       "      <td>1</td>\n",
       "      <td>Late delivery</td>\n",
       "      <td>PR</td>\n",
       "      <td>Pacific Asia</td>\n",
       "    </tr>\n",
       "    <tr>\n",
       "      <th>46023</th>\n",
       "      <td>26383</td>\n",
       "      <td>Second Class</td>\n",
       "      <td>Corporate</td>\n",
       "      <td>2</td>\n",
       "      <td>Late delivery</td>\n",
       "      <td>GA</td>\n",
       "      <td>Pacific Asia</td>\n",
       "    </tr>\n",
       "    <tr>\n",
       "      <th>46024</th>\n",
       "      <td>26327</td>\n",
       "      <td>Standard Class</td>\n",
       "      <td>Corporate</td>\n",
       "      <td>4</td>\n",
       "      <td>Advance shipping</td>\n",
       "      <td>PR</td>\n",
       "      <td>Pacific Asia</td>\n",
       "    </tr>\n",
       "    <tr>\n",
       "      <th>46025</th>\n",
       "      <td>26118</td>\n",
       "      <td>Standard Class</td>\n",
       "      <td>Consumer</td>\n",
       "      <td>4</td>\n",
       "      <td>Shipping canceled</td>\n",
       "      <td>CA</td>\n",
       "      <td>Pacific Asia</td>\n",
       "    </tr>\n",
       "  </tbody>\n",
       "</table>\n",
       "<p>46026 rows × 7 columns</p>\n",
       "</div>"
      ],
      "text/plain": [
       "       Order Id   Shipping Mode Customer Segment  \\\n",
       "0         77202  Standard Class         Consumer   \n",
       "1         75937  Standard Class      Home Office   \n",
       "2         75936  Standard Class        Corporate   \n",
       "3         75934     First Class      Home Office   \n",
       "4         75932    Second Class        Corporate   \n",
       "...         ...             ...              ...   \n",
       "46021     26965  Standard Class         Consumer   \n",
       "46022     26773     First Class         Consumer   \n",
       "46023     26383    Second Class        Corporate   \n",
       "46024     26327  Standard Class        Corporate   \n",
       "46025     26118  Standard Class         Consumer   \n",
       "\n",
       "       Days for shipment (scheduled)    Delivery Status Store State  \\\n",
       "0                                  4   Advance shipping          PR   \n",
       "1                                  4   Advance shipping          CA   \n",
       "2                                  4   Advance shipping          PR   \n",
       "3                                  1      Late delivery          PR   \n",
       "4                                  2      Late delivery          PR   \n",
       "...                              ...                ...         ...   \n",
       "46021                              4      Late delivery          PR   \n",
       "46022                              1      Late delivery          PR   \n",
       "46023                              2      Late delivery          GA   \n",
       "46024                              4   Advance shipping          PR   \n",
       "46025                              4  Shipping canceled          CA   \n",
       "\n",
       "             Market  \n",
       "0      Pacific Asia  \n",
       "1      Pacific Asia  \n",
       "2      Pacific Asia  \n",
       "3      Pacific Asia  \n",
       "4      Pacific Asia  \n",
       "...             ...  \n",
       "46021  Pacific Asia  \n",
       "46022  Pacific Asia  \n",
       "46023  Pacific Asia  \n",
       "46024  Pacific Asia  \n",
       "46025  Pacific Asia  \n",
       "\n",
       "[46026 rows x 7 columns]"
      ]
     },
     "execution_count": 48,
     "metadata": {},
     "output_type": "execute_result"
    }
   ],
   "source": [
    "df_train"
   ]
  },
  {
   "cell_type": "code",
   "execution_count": 49,
   "metadata": {},
   "outputs": [],
   "source": [
    "classifier = setup(\n",
    "    data=df_train.drop(columns=['Order Id']),\n",
    "    target='Delivery Status',\n",
    "    train_size=0.7,\n",
    "    session_id=random_state,\n",
    "    verbose=False)"
   ]
  },
  {
   "cell_type": "code",
   "execution_count": 50,
   "metadata": {},
   "outputs": [
    {
     "data": {
      "text/html": [],
      "text/plain": [
       "<IPython.core.display.HTML object>"
      ]
     },
     "metadata": {},
     "output_type": "display_data"
    },
    {
     "data": {
      "text/html": [
       "<style type=\"text/css\">\n",
       "#T_c3c76_ th {\n",
       "  text-align: left;\n",
       "}\n",
       "#T_c3c76_row0_col0, #T_c3c76_row0_col2, #T_c3c76_row0_col4, #T_c3c76_row1_col0, #T_c3c76_row1_col1, #T_c3c76_row1_col2, #T_c3c76_row1_col3, #T_c3c76_row1_col4, #T_c3c76_row1_col5, #T_c3c76_row1_col6, #T_c3c76_row1_col7, #T_c3c76_row2_col0, #T_c3c76_row2_col1, #T_c3c76_row2_col3, #T_c3c76_row2_col4, #T_c3c76_row2_col5, #T_c3c76_row2_col6, #T_c3c76_row2_col7, #T_c3c76_row3_col0, #T_c3c76_row3_col1, #T_c3c76_row3_col2, #T_c3c76_row3_col3, #T_c3c76_row3_col4, #T_c3c76_row3_col5, #T_c3c76_row3_col6, #T_c3c76_row3_col7, #T_c3c76_row4_col0, #T_c3c76_row4_col1, #T_c3c76_row4_col2, #T_c3c76_row4_col3, #T_c3c76_row4_col4, #T_c3c76_row4_col5, #T_c3c76_row4_col6, #T_c3c76_row4_col7, #T_c3c76_row5_col0, #T_c3c76_row5_col1, #T_c3c76_row5_col2, #T_c3c76_row5_col3, #T_c3c76_row5_col4, #T_c3c76_row5_col5, #T_c3c76_row5_col6, #T_c3c76_row5_col7, #T_c3c76_row6_col0, #T_c3c76_row6_col1, #T_c3c76_row6_col2, #T_c3c76_row6_col3, #T_c3c76_row6_col4, #T_c3c76_row6_col5, #T_c3c76_row6_col6, #T_c3c76_row6_col7, #T_c3c76_row7_col0, #T_c3c76_row7_col1, #T_c3c76_row7_col2, #T_c3c76_row7_col3, #T_c3c76_row7_col4, #T_c3c76_row7_col5, #T_c3c76_row7_col6, #T_c3c76_row7_col7, #T_c3c76_row8_col0, #T_c3c76_row8_col1, #T_c3c76_row8_col2, #T_c3c76_row8_col3, #T_c3c76_row8_col4, #T_c3c76_row8_col5, #T_c3c76_row8_col6, #T_c3c76_row8_col7, #T_c3c76_row9_col0, #T_c3c76_row9_col1, #T_c3c76_row9_col2, #T_c3c76_row9_col3, #T_c3c76_row9_col4, #T_c3c76_row9_col5, #T_c3c76_row9_col6, #T_c3c76_row9_col7, #T_c3c76_row10_col0, #T_c3c76_row10_col1, #T_c3c76_row10_col2, #T_c3c76_row10_col3, #T_c3c76_row10_col4, #T_c3c76_row10_col5, #T_c3c76_row10_col6, #T_c3c76_row10_col7, #T_c3c76_row11_col0, #T_c3c76_row11_col1, #T_c3c76_row11_col2, #T_c3c76_row11_col3, #T_c3c76_row11_col4, #T_c3c76_row11_col5, #T_c3c76_row11_col6, #T_c3c76_row11_col7, #T_c3c76_row12_col0, #T_c3c76_row12_col1, #T_c3c76_row12_col2, #T_c3c76_row12_col3, #T_c3c76_row12_col4, #T_c3c76_row12_col5, #T_c3c76_row12_col6, #T_c3c76_row12_col7, #T_c3c76_row13_col0, #T_c3c76_row13_col1, #T_c3c76_row13_col2, #T_c3c76_row13_col3, #T_c3c76_row13_col5, #T_c3c76_row13_col6, #T_c3c76_row13_col7, #T_c3c76_row14_col0, #T_c3c76_row14_col1, #T_c3c76_row14_col2, #T_c3c76_row14_col3, #T_c3c76_row14_col4, #T_c3c76_row14_col5, #T_c3c76_row14_col6, #T_c3c76_row14_col7 {\n",
       "  text-align: left;\n",
       "}\n",
       "#T_c3c76_row0_col1, #T_c3c76_row0_col3, #T_c3c76_row0_col5, #T_c3c76_row0_col6, #T_c3c76_row0_col7, #T_c3c76_row2_col2, #T_c3c76_row13_col4 {\n",
       "  text-align: left;\n",
       "  background-color: yellow;\n",
       "}\n",
       "#T_c3c76_row0_col8, #T_c3c76_row2_col8, #T_c3c76_row3_col8, #T_c3c76_row4_col8, #T_c3c76_row5_col8, #T_c3c76_row6_col8, #T_c3c76_row7_col8, #T_c3c76_row8_col8, #T_c3c76_row9_col8, #T_c3c76_row10_col8, #T_c3c76_row11_col8, #T_c3c76_row12_col8, #T_c3c76_row13_col8, #T_c3c76_row14_col8 {\n",
       "  text-align: left;\n",
       "  background-color: lightgrey;\n",
       "}\n",
       "#T_c3c76_row1_col8 {\n",
       "  text-align: left;\n",
       "  background-color: yellow;\n",
       "  background-color: lightgrey;\n",
       "}\n",
       "</style>\n",
       "<table id=\"T_c3c76_\">\n",
       "  <thead>\n",
       "    <tr>\n",
       "      <th class=\"blank level0\" >&nbsp;</th>\n",
       "      <th class=\"col_heading level0 col0\" >Model</th>\n",
       "      <th class=\"col_heading level0 col1\" >Accuracy</th>\n",
       "      <th class=\"col_heading level0 col2\" >AUC</th>\n",
       "      <th class=\"col_heading level0 col3\" >Recall</th>\n",
       "      <th class=\"col_heading level0 col4\" >Prec.</th>\n",
       "      <th class=\"col_heading level0 col5\" >F1</th>\n",
       "      <th class=\"col_heading level0 col6\" >Kappa</th>\n",
       "      <th class=\"col_heading level0 col7\" >MCC</th>\n",
       "      <th class=\"col_heading level0 col8\" >TT (Sec)</th>\n",
       "    </tr>\n",
       "  </thead>\n",
       "  <tbody>\n",
       "    <tr>\n",
       "      <th id=\"T_c3c76_level0_row0\" class=\"row_heading level0 row0\" >lda</th>\n",
       "      <td id=\"T_c3c76_row0_col0\" class=\"data row0 col0\" >Linear Discriminant Analysis</td>\n",
       "      <td id=\"T_c3c76_row0_col1\" class=\"data row0 col1\" >0.5519</td>\n",
       "      <td id=\"T_c3c76_row0_col2\" class=\"data row0 col2\" >0.7056</td>\n",
       "      <td id=\"T_c3c76_row0_col3\" class=\"data row0 col3\" >0.5519</td>\n",
       "      <td id=\"T_c3c76_row0_col4\" class=\"data row0 col4\" >0.6365</td>\n",
       "      <td id=\"T_c3c76_row0_col5\" class=\"data row0 col5\" >0.5294</td>\n",
       "      <td id=\"T_c3c76_row0_col6\" class=\"data row0 col6\" >0.3209</td>\n",
       "      <td id=\"T_c3c76_row0_col7\" class=\"data row0 col7\" >0.3748</td>\n",
       "      <td id=\"T_c3c76_row0_col8\" class=\"data row0 col8\" >0.1090</td>\n",
       "    </tr>\n",
       "    <tr>\n",
       "      <th id=\"T_c3c76_level0_row1\" class=\"row_heading level0 row1\" >ridge</th>\n",
       "      <td id=\"T_c3c76_row1_col0\" class=\"data row1 col0\" >Ridge Classifier</td>\n",
       "      <td id=\"T_c3c76_row1_col1\" class=\"data row1 col1\" >0.5516</td>\n",
       "      <td id=\"T_c3c76_row1_col2\" class=\"data row1 col2\" >0.0000</td>\n",
       "      <td id=\"T_c3c76_row1_col3\" class=\"data row1 col3\" >0.5516</td>\n",
       "      <td id=\"T_c3c76_row1_col4\" class=\"data row1 col4\" >0.5526</td>\n",
       "      <td id=\"T_c3c76_row1_col5\" class=\"data row1 col5\" >0.5246</td>\n",
       "      <td id=\"T_c3c76_row1_col6\" class=\"data row1 col6\" >0.2563</td>\n",
       "      <td id=\"T_c3c76_row1_col7\" class=\"data row1 col7\" >0.2687</td>\n",
       "      <td id=\"T_c3c76_row1_col8\" class=\"data row1 col8\" >0.0950</td>\n",
       "    </tr>\n",
       "    <tr>\n",
       "      <th id=\"T_c3c76_level0_row2\" class=\"row_heading level0 row2\" >lr</th>\n",
       "      <td id=\"T_c3c76_row2_col0\" class=\"data row2 col0\" >Logistic Regression</td>\n",
       "      <td id=\"T_c3c76_row2_col1\" class=\"data row2 col1\" >0.5509</td>\n",
       "      <td id=\"T_c3c76_row2_col2\" class=\"data row2 col2\" >0.7106</td>\n",
       "      <td id=\"T_c3c76_row2_col3\" class=\"data row2 col3\" >0.5509</td>\n",
       "      <td id=\"T_c3c76_row2_col4\" class=\"data row2 col4\" >0.5441</td>\n",
       "      <td id=\"T_c3c76_row2_col5\" class=\"data row2 col5\" >0.5220</td>\n",
       "      <td id=\"T_c3c76_row2_col6\" class=\"data row2 col6\" >0.2438</td>\n",
       "      <td id=\"T_c3c76_row2_col7\" class=\"data row2 col7\" >0.2539</td>\n",
       "      <td id=\"T_c3c76_row2_col8\" class=\"data row2 col8\" >0.5830</td>\n",
       "    </tr>\n",
       "    <tr>\n",
       "      <th id=\"T_c3c76_level0_row3\" class=\"row_heading level0 row3\" >dummy</th>\n",
       "      <td id=\"T_c3c76_row3_col0\" class=\"data row3 col0\" >Dummy Classifier</td>\n",
       "      <td id=\"T_c3c76_row3_col1\" class=\"data row3 col1\" >0.5477</td>\n",
       "      <td id=\"T_c3c76_row3_col2\" class=\"data row3 col2\" >0.5000</td>\n",
       "      <td id=\"T_c3c76_row3_col3\" class=\"data row3 col3\" >0.5477</td>\n",
       "      <td id=\"T_c3c76_row3_col4\" class=\"data row3 col4\" >0.2999</td>\n",
       "      <td id=\"T_c3c76_row3_col5\" class=\"data row3 col5\" >0.3876</td>\n",
       "      <td id=\"T_c3c76_row3_col6\" class=\"data row3 col6\" >0.0000</td>\n",
       "      <td id=\"T_c3c76_row3_col7\" class=\"data row3 col7\" >0.0000</td>\n",
       "      <td id=\"T_c3c76_row3_col8\" class=\"data row3 col8\" >0.1080</td>\n",
       "    </tr>\n",
       "    <tr>\n",
       "      <th id=\"T_c3c76_level0_row4\" class=\"row_heading level0 row4\" >ada</th>\n",
       "      <td id=\"T_c3c76_row4_col0\" class=\"data row4 col0\" >Ada Boost Classifier</td>\n",
       "      <td id=\"T_c3c76_row4_col1\" class=\"data row4 col1\" >0.5443</td>\n",
       "      <td id=\"T_c3c76_row4_col2\" class=\"data row4 col2\" >0.6670</td>\n",
       "      <td id=\"T_c3c76_row4_col3\" class=\"data row4 col3\" >0.5443</td>\n",
       "      <td id=\"T_c3c76_row4_col4\" class=\"data row4 col4\" >0.4133</td>\n",
       "      <td id=\"T_c3c76_row4_col5\" class=\"data row4 col5\" >0.4438</td>\n",
       "      <td id=\"T_c3c76_row4_col6\" class=\"data row4 col6\" >0.0738</td>\n",
       "      <td id=\"T_c3c76_row4_col7\" class=\"data row4 col7\" >0.0979</td>\n",
       "      <td id=\"T_c3c76_row4_col8\" class=\"data row4 col8\" >0.1940</td>\n",
       "    </tr>\n",
       "    <tr>\n",
       "      <th id=\"T_c3c76_level0_row5\" class=\"row_heading level0 row5\" >svm</th>\n",
       "      <td id=\"T_c3c76_row5_col0\" class=\"data row5 col0\" >SVM - Linear Kernel</td>\n",
       "      <td id=\"T_c3c76_row5_col1\" class=\"data row5 col1\" >0.5440</td>\n",
       "      <td id=\"T_c3c76_row5_col2\" class=\"data row5 col2\" >0.0000</td>\n",
       "      <td id=\"T_c3c76_row5_col3\" class=\"data row5 col3\" >0.5440</td>\n",
       "      <td id=\"T_c3c76_row5_col4\" class=\"data row5 col4\" >0.4622</td>\n",
       "      <td id=\"T_c3c76_row5_col5\" class=\"data row5 col5\" >0.4675</td>\n",
       "      <td id=\"T_c3c76_row5_col6\" class=\"data row5 col6\" >0.1360</td>\n",
       "      <td id=\"T_c3c76_row5_col7\" class=\"data row5 col7\" >0.1640</td>\n",
       "      <td id=\"T_c3c76_row5_col8\" class=\"data row5 col8\" >0.1350</td>\n",
       "    </tr>\n",
       "    <tr>\n",
       "      <th id=\"T_c3c76_level0_row6\" class=\"row_heading level0 row6\" >knn</th>\n",
       "      <td id=\"T_c3c76_row6_col0\" class=\"data row6 col0\" >K Neighbors Classifier</td>\n",
       "      <td id=\"T_c3c76_row6_col1\" class=\"data row6 col1\" >0.5397</td>\n",
       "      <td id=\"T_c3c76_row6_col2\" class=\"data row6 col2\" >0.5319</td>\n",
       "      <td id=\"T_c3c76_row6_col3\" class=\"data row6 col3\" >0.5397</td>\n",
       "      <td id=\"T_c3c76_row6_col4\" class=\"data row6 col4\" >0.4547</td>\n",
       "      <td id=\"T_c3c76_row6_col5\" class=\"data row6 col5\" >0.4309</td>\n",
       "      <td id=\"T_c3c76_row6_col6\" class=\"data row6 col6\" >0.0516</td>\n",
       "      <td id=\"T_c3c76_row6_col7\" class=\"data row6 col7\" >0.0762</td>\n",
       "      <td id=\"T_c3c76_row6_col8\" class=\"data row6 col8\" >0.2560</td>\n",
       "    </tr>\n",
       "    <tr>\n",
       "      <th id=\"T_c3c76_level0_row7\" class=\"row_heading level0 row7\" >rf</th>\n",
       "      <td id=\"T_c3c76_row7_col0\" class=\"data row7 col0\" >Random Forest Classifier</td>\n",
       "      <td id=\"T_c3c76_row7_col1\" class=\"data row7 col1\" >0.5303</td>\n",
       "      <td id=\"T_c3c76_row7_col2\" class=\"data row7 col2\" >0.5260</td>\n",
       "      <td id=\"T_c3c76_row7_col3\" class=\"data row7 col3\" >0.5303</td>\n",
       "      <td id=\"T_c3c76_row7_col4\" class=\"data row7 col4\" >0.4414</td>\n",
       "      <td id=\"T_c3c76_row7_col5\" class=\"data row7 col5\" >0.4237</td>\n",
       "      <td id=\"T_c3c76_row7_col6\" class=\"data row7 col6\" >0.0444</td>\n",
       "      <td id=\"T_c3c76_row7_col7\" class=\"data row7 col7\" >0.0608</td>\n",
       "      <td id=\"T_c3c76_row7_col8\" class=\"data row7 col8\" >0.2860</td>\n",
       "    </tr>\n",
       "    <tr>\n",
       "      <th id=\"T_c3c76_level0_row8\" class=\"row_heading level0 row8\" >et</th>\n",
       "      <td id=\"T_c3c76_row8_col0\" class=\"data row8 col0\" >Extra Trees Classifier</td>\n",
       "      <td id=\"T_c3c76_row8_col1\" class=\"data row8 col1\" >0.5289</td>\n",
       "      <td id=\"T_c3c76_row8_col2\" class=\"data row8 col2\" >0.5532</td>\n",
       "      <td id=\"T_c3c76_row8_col3\" class=\"data row8 col3\" >0.5289</td>\n",
       "      <td id=\"T_c3c76_row8_col4\" class=\"data row8 col4\" >0.4414</td>\n",
       "      <td id=\"T_c3c76_row8_col5\" class=\"data row8 col5\" >0.4224</td>\n",
       "      <td id=\"T_c3c76_row8_col6\" class=\"data row8 col6\" >0.0430</td>\n",
       "      <td id=\"T_c3c76_row8_col7\" class=\"data row8 col7\" >0.0587</td>\n",
       "      <td id=\"T_c3c76_row8_col8\" class=\"data row8 col8\" >0.2900</td>\n",
       "    </tr>\n",
       "    <tr>\n",
       "      <th id=\"T_c3c76_level0_row9\" class=\"row_heading level0 row9\" >gbc</th>\n",
       "      <td id=\"T_c3c76_row9_col0\" class=\"data row9 col0\" >Gradient Boosting Classifier</td>\n",
       "      <td id=\"T_c3c76_row9_col1\" class=\"data row9 col1\" >0.5275</td>\n",
       "      <td id=\"T_c3c76_row9_col2\" class=\"data row9 col2\" >0.6402</td>\n",
       "      <td id=\"T_c3c76_row9_col3\" class=\"data row9 col3\" >0.5275</td>\n",
       "      <td id=\"T_c3c76_row9_col4\" class=\"data row9 col4\" >0.4372</td>\n",
       "      <td id=\"T_c3c76_row9_col5\" class=\"data row9 col5\" >0.4209</td>\n",
       "      <td id=\"T_c3c76_row9_col6\" class=\"data row9 col6\" >0.0425</td>\n",
       "      <td id=\"T_c3c76_row9_col7\" class=\"data row9 col7\" >0.0580</td>\n",
       "      <td id=\"T_c3c76_row9_col8\" class=\"data row9 col8\" >0.8990</td>\n",
       "    </tr>\n",
       "    <tr>\n",
       "      <th id=\"T_c3c76_level0_row10\" class=\"row_heading level0 row10\" >dt</th>\n",
       "      <td id=\"T_c3c76_row10_col0\" class=\"data row10 col0\" >Decision Tree Classifier</td>\n",
       "      <td id=\"T_c3c76_row10_col1\" class=\"data row10 col1\" >0.5205</td>\n",
       "      <td id=\"T_c3c76_row10_col2\" class=\"data row10 col2\" >0.5186</td>\n",
       "      <td id=\"T_c3c76_row10_col3\" class=\"data row10 col3\" >0.5205</td>\n",
       "      <td id=\"T_c3c76_row10_col4\" class=\"data row10 col4\" >0.4379</td>\n",
       "      <td id=\"T_c3c76_row10_col5\" class=\"data row10 col5\" >0.4202</td>\n",
       "      <td id=\"T_c3c76_row10_col6\" class=\"data row10 col6\" >0.0403</td>\n",
       "      <td id=\"T_c3c76_row10_col7\" class=\"data row10 col7\" >0.0522</td>\n",
       "      <td id=\"T_c3c76_row10_col8\" class=\"data row10 col8\" >0.1070</td>\n",
       "    </tr>\n",
       "    <tr>\n",
       "      <th id=\"T_c3c76_level0_row11\" class=\"row_heading level0 row11\" >xgboost</th>\n",
       "      <td id=\"T_c3c76_row11_col0\" class=\"data row11 col0\" >Extreme Gradient Boosting</td>\n",
       "      <td id=\"T_c3c76_row11_col1\" class=\"data row11 col1\" >0.5176</td>\n",
       "      <td id=\"T_c3c76_row11_col2\" class=\"data row11 col2\" >0.6354</td>\n",
       "      <td id=\"T_c3c76_row11_col3\" class=\"data row11 col3\" >0.5176</td>\n",
       "      <td id=\"T_c3c76_row11_col4\" class=\"data row11 col4\" >0.4332</td>\n",
       "      <td id=\"T_c3c76_row11_col5\" class=\"data row11 col5\" >0.4184</td>\n",
       "      <td id=\"T_c3c76_row11_col6\" class=\"data row11 col6\" >0.0380</td>\n",
       "      <td id=\"T_c3c76_row11_col7\" class=\"data row11 col7\" >0.0495</td>\n",
       "      <td id=\"T_c3c76_row11_col8\" class=\"data row11 col8\" >1.0290</td>\n",
       "    </tr>\n",
       "    <tr>\n",
       "      <th id=\"T_c3c76_level0_row12\" class=\"row_heading level0 row12\" >lightgbm</th>\n",
       "      <td id=\"T_c3c76_row12_col0\" class=\"data row12 col0\" >Light Gradient Boosting Machine</td>\n",
       "      <td id=\"T_c3c76_row12_col1\" class=\"data row12 col1\" >0.5136</td>\n",
       "      <td id=\"T_c3c76_row12_col2\" class=\"data row12 col2\" >0.5944</td>\n",
       "      <td id=\"T_c3c76_row12_col3\" class=\"data row12 col3\" >0.5136</td>\n",
       "      <td id=\"T_c3c76_row12_col4\" class=\"data row12 col4\" >0.4383</td>\n",
       "      <td id=\"T_c3c76_row12_col5\" class=\"data row12 col5\" >0.4178</td>\n",
       "      <td id=\"T_c3c76_row12_col6\" class=\"data row12 col6\" >0.0406</td>\n",
       "      <td id=\"T_c3c76_row12_col7\" class=\"data row12 col7\" >0.0513</td>\n",
       "      <td id=\"T_c3c76_row12_col8\" class=\"data row12 col8\" >0.2530</td>\n",
       "    </tr>\n",
       "    <tr>\n",
       "      <th id=\"T_c3c76_level0_row13\" class=\"row_heading level0 row13\" >nb</th>\n",
       "      <td id=\"T_c3c76_row13_col0\" class=\"data row13 col0\" >Naive Bayes</td>\n",
       "      <td id=\"T_c3c76_row13_col1\" class=\"data row13 col1\" >0.4403</td>\n",
       "      <td id=\"T_c3c76_row13_col2\" class=\"data row13 col2\" >0.7101</td>\n",
       "      <td id=\"T_c3c76_row13_col3\" class=\"data row13 col3\" >0.4403</td>\n",
       "      <td id=\"T_c3c76_row13_col4\" class=\"data row13 col4\" >0.6589</td>\n",
       "      <td id=\"T_c3c76_row13_col5\" class=\"data row13 col5\" >0.4102</td>\n",
       "      <td id=\"T_c3c76_row13_col6\" class=\"data row13 col6\" >0.2377</td>\n",
       "      <td id=\"T_c3c76_row13_col7\" class=\"data row13 col7\" >0.2987</td>\n",
       "      <td id=\"T_c3c76_row13_col8\" class=\"data row13 col8\" >0.1060</td>\n",
       "    </tr>\n",
       "    <tr>\n",
       "      <th id=\"T_c3c76_level0_row14\" class=\"row_heading level0 row14\" >qda</th>\n",
       "      <td id=\"T_c3c76_row14_col0\" class=\"data row14 col0\" >Quadratic Discriminant Analysis</td>\n",
       "      <td id=\"T_c3c76_row14_col1\" class=\"data row14 col1\" >0.2296</td>\n",
       "      <td id=\"T_c3c76_row14_col2\" class=\"data row14 col2\" >0.0000</td>\n",
       "      <td id=\"T_c3c76_row14_col3\" class=\"data row14 col3\" >0.2296</td>\n",
       "      <td id=\"T_c3c76_row14_col4\" class=\"data row14 col4\" >0.0527</td>\n",
       "      <td id=\"T_c3c76_row14_col5\" class=\"data row14 col5\" >0.0857</td>\n",
       "      <td id=\"T_c3c76_row14_col6\" class=\"data row14 col6\" >0.0000</td>\n",
       "      <td id=\"T_c3c76_row14_col7\" class=\"data row14 col7\" >0.0000</td>\n",
       "      <td id=\"T_c3c76_row14_col8\" class=\"data row14 col8\" >0.1040</td>\n",
       "    </tr>\n",
       "  </tbody>\n",
       "</table>\n"
      ],
      "text/plain": [
       "<pandas.io.formats.style.Styler at 0x7fc0760141c0>"
      ]
     },
     "metadata": {},
     "output_type": "display_data"
    },
    {
     "data": {
      "text/html": [],
      "text/plain": [
       "<IPython.core.display.HTML object>"
      ]
     },
     "metadata": {},
     "output_type": "display_data"
    }
   ],
   "source": [
    "# perform a model comparison\n",
    "models = compare_models(n_select=3)\n",
    "top_model = models[0]"
   ]
  },
  {
   "cell_type": "code",
   "execution_count": 51,
   "metadata": {},
   "outputs": [
    {
     "data": {
      "text/html": [],
      "text/plain": [
       "<IPython.core.display.HTML object>"
      ]
     },
     "metadata": {},
     "output_type": "display_data"
    },
    {
     "data": {
      "image/png": "[encoded data removed]",
      "text/plain": [
       "<Figure size 800x500 with 1 Axes>"
      ]
     },
     "metadata": {},
     "output_type": "display_data"
    }
   ],
   "source": [
    "plot_model(top_model, plot='feature')"
   ]
  },
  {
   "cell_type": "code",
   "execution_count": 52,
   "metadata": {},
   "outputs": [
    {
     "data": {
      "text/html": [
       "<style type=\"text/css\">\n",
       "</style>\n",
       "<table id=\"T_07f4e_\">\n",
       "  <thead>\n",
       "    <tr>\n",
       "      <th class=\"blank level0\" >&nbsp;</th>\n",
       "      <th class=\"col_heading level0 col0\" >Model</th>\n",
       "      <th class=\"col_heading level0 col1\" >Accuracy</th>\n",
       "      <th class=\"col_heading level0 col2\" >AUC</th>\n",
       "      <th class=\"col_heading level0 col3\" >Recall</th>\n",
       "      <th class=\"col_heading level0 col4\" >Prec.</th>\n",
       "      <th class=\"col_heading level0 col5\" >F1</th>\n",
       "      <th class=\"col_heading level0 col6\" >Kappa</th>\n",
       "      <th class=\"col_heading level0 col7\" >MCC</th>\n",
       "    </tr>\n",
       "  </thead>\n",
       "  <tbody>\n",
       "    <tr>\n",
       "      <th id=\"T_07f4e_level0_row0\" class=\"row_heading level0 row0\" >0</th>\n",
       "      <td id=\"T_07f4e_row0_col0\" class=\"data row0 col0\" >Linear Discriminant Analysis</td>\n",
       "      <td id=\"T_07f4e_row0_col1\" class=\"data row0 col1\" >0.5514</td>\n",
       "      <td id=\"T_07f4e_row0_col2\" class=\"data row0 col2\" >0.6990</td>\n",
       "      <td id=\"T_07f4e_row0_col3\" class=\"data row0 col3\" >0</td>\n",
       "      <td id=\"T_07f4e_row0_col4\" class=\"data row0 col4\" >0</td>\n",
       "      <td id=\"T_07f4e_row0_col5\" class=\"data row0 col5\" >0</td>\n",
       "      <td id=\"T_07f4e_row0_col6\" class=\"data row0 col6\" >0.3185</td>\n",
       "      <td id=\"T_07f4e_row0_col7\" class=\"data row0 col7\" >0.3698</td>\n",
       "    </tr>\n",
       "  </tbody>\n",
       "</table>\n"
      ],
      "text/plain": [
       "<pandas.io.formats.style.Styler at 0x7fc12b217040>"
      ]
     },
     "metadata": {},
     "output_type": "display_data"
    }
   ],
   "source": [
    "# Unseen Data Prediction\n",
    "df_predicted = predict_model(estimator=top_model, data=df_test)"
   ]
  },
  {
   "cell_type": "code",
   "execution_count": 53,
   "metadata": {},
   "outputs": [
    {
     "data": {
      "text/plain": [
       "array([[4467,   94,    0,    0],\n",
       "       [4432, 5871,    0,  538],\n",
       "       [ 469,  317,    0,   45],\n",
       "       [2196,  758,    0,  539]])"
      ]
     },
     "execution_count": 53,
     "metadata": {},
     "output_type": "execute_result"
    }
   ],
   "source": [
    "# show the confusion matrix\n",
    "confusion_matrix(\n",
    "    y_true=df_predicted['Delivery Status'],\n",
    "    y_pred=df_predicted['prediction_label'])"
   ]
  },
  {
   "cell_type": "code",
   "execution_count": 54,
   "metadata": {},
   "outputs": [
    {
     "name": "stdout",
     "output_type": "stream",
     "text": [
      "                   precision    recall  f1-score   support\n",
      "\n",
      " Advance shipping       0.39      0.98      0.55      4561\n",
      "    Late delivery       0.83      0.54      0.66     10841\n",
      "Shipping canceled       0.00      0.00      0.00       831\n",
      " Shipping on time       0.48      0.15      0.23      3493\n",
      "\n",
      "         accuracy                           0.55     19726\n",
      "        macro avg       0.43      0.42      0.36     19726\n",
      "     weighted avg       0.63      0.55      0.53     19726\n",
      "\n"
     ]
    }
   ],
   "source": [
    "# show the classification report\n",
    "print(classification_report(\n",
    "    y_true=df_predicted['Delivery Status'],\n",
    "    y_pred=df_predicted['prediction_label']))"
   ]
  }
 ],
 "metadata": {
  "kernelspec": {
   "display_name": "Python 3",
   "language": "python",
   "name": "python3"
  },
  "language_info": {
   "codemirror_mode": {
    "name": "ipython",
    "version": 3
   },
   "file_extension": ".py",
   "mimetype": "text/x-python",
   "name": "python",
   "nbconvert_exporter": "python",
   "pygments_lexer": "ipython3",
   "version": "3.8.16"
  },
  "orig_nbformat": 4,
  "vscode": {
   "interpreter": {
    "hash": "949777d72b0d2535278d3dc13498b2535136f6dfe0678499012e853ee9abcab1"
   }
  }
 },
 "nbformat": 4,
 "nbformat_minor": 2
}
