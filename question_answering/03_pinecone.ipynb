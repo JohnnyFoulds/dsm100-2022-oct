{
 "cells": [
  {
   "attachments": {},
   "cell_type": "markdown",
   "metadata": {},
   "source": [
    "# 01. Pinecone Generative Question-Answering\n",
    "\n",
    "reference: [Generative Question-Answering with Long-Term Memory](https://www.pinecone.io/learn/openai-gen-qa/)"
   ]
  },
  {
   "cell_type": "code",
   "execution_count": 1,
   "metadata": {},
   "outputs": [
    {
     "name": "stderr",
     "output_type": "stream",
     "text": [
      "/home/vscode/.local/lib/python3.8/site-packages/pinecone/index.py:4: TqdmExperimentalWarning: Using `tqdm.autonotebook.tqdm` in notebook mode. Use `tqdm.tqdm` instead to force console mode (e.g. in jupyter console)\n",
      "  from tqdm.autonotebook import tqdm\n"
     ]
    }
   ],
   "source": [
    "import os\n",
    "import pandas as pd\n",
    "import openai\n",
    "import pinecone\n",
    "\n",
    "from dotenv import load_dotenv\n",
    "from IPython.core.display import Markdown"
   ]
  },
  {
   "attachments": {},
   "cell_type": "markdown",
   "metadata": {},
   "source": [
    "## Configure Environment\n",
    "\n",
    "reference: [Using .env Files for Environment Variables in Python Applications](https://dev.to/jakewitcher/using-env-files-for-environment-variables-in-python-applications-55a1)"
   ]
  },
  {
   "cell_type": "code",
   "execution_count": 2,
   "metadata": {},
   "outputs": [
    {
     "data": {
      "text/plain": [
       "True"
      ]
     },
     "execution_count": 2,
     "metadata": {},
     "output_type": "execute_result"
    }
   ],
   "source": [
    "load_dotenv()"
   ]
  },
  {
   "cell_type": "code",
   "execution_count": 3,
   "metadata": {},
   "outputs": [],
   "source": [
    "OPENAI_API_KEY = os.getenv('OPENAI_API_KEY')\n",
    "OPENAI_CHAT_MODEL = os.getenv('OPENAI_CHAT_MODEL', 'gpt-3.5-turbo')\n",
    "OPENAI_EMBED_MODEL = os.getenv('OPENAI_EMBED_MODEL', 'text-embedding-ada-002')\n",
    "\n",
    "PINECONE_API_KEY = os.getenv('PINECONE_API_KEY')\n",
    "PINECONE_INDEX = os.getenv('PINECONE_INDEX', 'openai-dsm100-2022-oct-transcriptions')\n",
    "PINECONE_ENV = os.getenv('PINECONE_ENV', 'us-east1-gcp')"
   ]
  },
  {
   "cell_type": "code",
   "execution_count": 4,
   "metadata": {},
   "outputs": [],
   "source": [
    "# configure openai\n",
    "openai.api_key = OPENAI_API_KEY"
   ]
  },
  {
   "cell_type": "code",
   "execution_count": 5,
   "metadata": {},
   "outputs": [],
   "source": [
    "## initialize pinecone\n",
    "pinecone.init(\n",
    "    api_key=PINECONE_API_KEY,\n",
    "    environment=PINECONE_ENV\n",
    ")"
   ]
  },
  {
   "attachments": {},
   "cell_type": "markdown",
   "metadata": {},
   "source": [
    "## Test Chat Completions\n",
    "\n",
    "### References\n",
    "\n",
    "- [Chat completions](https://platform.openai.com/docs/guides/chat)\n",
    "- [How to format inputs to ChatGPT models](https://github.com/openai/openai-cookbook/blob/main/examples/How_to_format_inputs_to_ChatGPT_models.ipynb)"
   ]
  },
  {
   "cell_type": "code",
   "execution_count": 6,
   "metadata": {},
   "outputs": [
    {
     "data": {
      "text/plain": [
       "<OpenAIObject chat.completion id=chatcmpl-6pZcqvNta8vpCFPtrRRhJ9xclT6U9 at 0xffff6d822b80> JSON: {\n",
       "  \"choices\": [\n",
       "    {\n",
       "      \"finish_reason\": \"stop\",\n",
       "      \"index\": 0,\n",
       "      \"message\": {\n",
       "        \"content\": \"Orange who?\",\n",
       "        \"role\": \"assistant\"\n",
       "      }\n",
       "    }\n",
       "  ],\n",
       "  \"created\": 1677749692,\n",
       "  \"id\": \"chatcmpl-6pZcqvNta8vpCFPtrRRhJ9xclT6U9\",\n",
       "  \"model\": \"gpt-3.5-turbo-0301\",\n",
       "  \"object\": \"chat.completion\",\n",
       "  \"usage\": {\n",
       "    \"completion_tokens\": 5,\n",
       "    \"prompt_tokens\": 38,\n",
       "    \"total_tokens\": 43\n",
       "  }\n",
       "}"
      ]
     },
     "execution_count": 6,
     "metadata": {},
     "output_type": "execute_result"
    }
   ],
   "source": [
    "response = openai.ChatCompletion.create(\n",
    "    model=OPENAI_CHAT_MODEL,\n",
    "    messages=[\n",
    "        {\"role\": \"system\", \"content\": \"You are a helpful assistant.\"},\n",
    "        {\"role\": \"user\", \"content\": \"Knock knock.\"},\n",
    "        {\"role\": \"assistant\", \"content\": \"Who's there?\"},\n",
    "        {\"role\": \"user\", \"content\": \"Orange.\"},\n",
    "    ],\n",
    "    temperature=0,\n",
    ")\n",
    "\n",
    "response"
   ]
  },
  {
   "cell_type": "code",
   "execution_count": 7,
   "metadata": {},
   "outputs": [
    {
     "data": {
      "text/plain": [
       "'Orange who?'"
      ]
     },
     "execution_count": 7,
     "metadata": {},
     "output_type": "execute_result"
    }
   ],
   "source": [
    "response['choices'][0]['message']['content']"
   ]
  },
  {
   "cell_type": "markdown",
   "metadata": {},
   "source": [
    "## Load Data"
   ]
  },
  {
   "cell_type": "code",
   "execution_count": 8,
   "metadata": {},
   "outputs": [
    {
     "name": "stdout",
     "output_type": "stream",
     "text": [
      "(140, 5)\n"
     ]
    },
    {
     "data": {
      "text/html": [
       "<div>\n",
       "<style scoped>\n",
       "    .dataframe tbody tr th:only-of-type {\n",
       "        vertical-align: middle;\n",
       "    }\n",
       "\n",
       "    .dataframe tbody tr th {\n",
       "        vertical-align: top;\n",
       "    }\n",
       "\n",
       "    .dataframe thead th {\n",
       "        text-align: right;\n",
       "    }\n",
       "</style>\n",
       "<table border=\"1\" class=\"dataframe\">\n",
       "  <thead>\n",
       "    <tr style=\"text-align: right;\">\n",
       "      <th></th>\n",
       "      <th>course</th>\n",
       "      <th>topic</th>\n",
       "      <th>title</th>\n",
       "      <th>url</th>\n",
       "      <th>transcript</th>\n",
       "    </tr>\n",
       "  </thead>\n",
       "  <tbody>\n",
       "    <tr>\n",
       "      <th>0</th>\n",
       "      <td>DSM100-2022-OCT</td>\n",
       "      <td>Module information</td>\n",
       "      <td>Module introduction video</td>\n",
       "      <td>https://learn.london.ac.uk/mod/page/view.php?i...</td>\n",
       "      <td>-Welcome to AI Module. Artificial intelligence...</td>\n",
       "    </tr>\n",
       "    <tr>\n",
       "      <th>1</th>\n",
       "      <td>DSM100-2022-OCT</td>\n",
       "      <td>Module information</td>\n",
       "      <td>Meet the team</td>\n",
       "      <td>https://learn.london.ac.uk/mod/page/view.php?i...</td>\n",
       "      <td>[music]-Welcome to the AI module. My name is L...</td>\n",
       "    </tr>\n",
       "    <tr>\n",
       "      <th>2</th>\n",
       "      <td>DSM100-2022-OCT</td>\n",
       "      <td>Topic 1: Introduction</td>\n",
       "      <td>Lecture: Introduction to Topic 1</td>\n",
       "      <td>https://learn.london.ac.uk/mod/page/view.php?i...</td>\n",
       "      <td>Welcome to topic one, Introduction to AI. In t...</td>\n",
       "    </tr>\n",
       "  </tbody>\n",
       "</table>\n",
       "</div>"
      ],
      "text/plain": [
       "            course                  topic                             title  \\\n",
       "0  DSM100-2022-OCT     Module information         Module introduction video   \n",
       "1  DSM100-2022-OCT     Module information                     Meet the team   \n",
       "2  DSM100-2022-OCT  Topic 1: Introduction  Lecture: Introduction to Topic 1   \n",
       "\n",
       "                                                 url  \\\n",
       "0  https://learn.london.ac.uk/mod/page/view.php?i...   \n",
       "1  https://learn.london.ac.uk/mod/page/view.php?i...   \n",
       "2  https://learn.london.ac.uk/mod/page/view.php?i...   \n",
       "\n",
       "                                          transcript  \n",
       "0  -Welcome to AI Module. Artificial intelligence...  \n",
       "1  [music]-Welcome to the AI module. My name is L...  \n",
       "2  Welcome to topic one, Introduction to AI. In t...  "
      ]
     },
     "metadata": {},
     "output_type": "display_data"
    }
   ],
   "source": [
    "df_source = pd.read_csv('data/output/transcripts.csv')\n",
    "\n",
    "print(df_source.shape)\n",
    "with pd.option_context('display.max_columns', None):\n",
    "    display(df_source.head(3))"
   ]
  },
  {
   "attachments": {},
   "cell_type": "markdown",
   "metadata": {},
   "source": [
    "## Test Embedding"
   ]
  },
  {
   "cell_type": "code",
   "execution_count": 9,
   "metadata": {},
   "outputs": [],
   "source": [
    "transcript = df_source.iloc[43].transcript\n",
    "\n",
    "res = openai.Embedding.create(\n",
    "    input=[transcript], engine=OPENAI_EMBED_MODEL\n",
    ")"
   ]
  },
  {
   "cell_type": "code",
   "execution_count": 10,
   "metadata": {},
   "outputs": [
    {
     "data": {
      "text/plain": [
       "1536"
      ]
     },
     "execution_count": 10,
     "metadata": {},
     "output_type": "execute_result"
    }
   ],
   "source": [
    "len(res['data'][0]['embedding'])"
   ]
  },
  {
   "attachments": {},
   "cell_type": "markdown",
   "metadata": {},
   "source": [
    "# Split Transcript"
   ]
  },
  {
   "cell_type": "code",
   "execution_count": 11,
   "metadata": {},
   "outputs": [],
   "source": [
    "def split_transcript(text: str, window: int = 20, stride:int = 4) -> list:\n",
    "    \"\"\"\n",
    "    Split transcript into parts equal to the window size.\n",
    "\n",
    "    Parameters\n",
    "    ----------\n",
    "    text : str\n",
    "        The transcript to split.\n",
    "\n",
    "    window : int, optional\n",
    "        The number of sentences to combine into a single part, by default 20\n",
    "\n",
    "    stride : int, optional\n",
    "        The number of sentences to 'stride' over, used to create overlap.\n",
    "    \"\"\"\n",
    "    sentences = text.split('.')\n",
    "\n",
    "    parts = []\n",
    "    for i in range(0, len(sentences), stride):\n",
    "        part = '. '.join(sentences[i:i+window])\n",
    "        parts.append(part)\n",
    "\n",
    "    return parts\n",
    "\n",
    "# # test the function\n",
    "# transcript = df_source.iloc[43].transcript\n",
    "# split = split_transcript(transcript, window=4, stride=2)\n",
    "\n",
    "# print(len(split))\n",
    "# display(Markdown('# Original'))\n",
    "# display(Markdown(transcript))\n",
    "\n",
    "# display(Markdown('# split[0]'))\n",
    "# display(Markdown(split[0]))\n",
    "\n",
    "# display(Markdown('# split[1]'))\n",
    "# display(Markdown(split[1]))\n",
    "\n",
    "# display(Markdown('# split[-1]'))\n",
    "# display(Markdown(split[-2]))\n",
    "\n",
    "# display(Markdown('# split[-1]'))\n",
    "# display(Markdown(split[-1]))"
   ]
  },
  {
   "cell_type": "markdown",
   "metadata": {},
   "source": [
    "## Create Vector Database"
   ]
  },
  {
   "cell_type": "code",
   "execution_count": 12,
   "metadata": {},
   "outputs": [],
   "source": [
    "def create_vector_database(index_name: str, dimension: int, metadata_config: dict = None):\n",
    "    \"\"\"\n",
    "    Create a vector database in pinecone.\n",
    "\n",
    "    Parameters\n",
    "    ----------\n",
    "    index_name : str\n",
    "        The name of the index to create.\n",
    "\n",
    "    dimension : int\n",
    "        The dimension of the vectors to be stored in the index.\n",
    "\n",
    "    metadata_config : dict, optional\n",
    "        The metadata configuration for the index, by default None\n",
    "    \"\"\"\n",
    "    # check if index already exists (it shouldn't if this is first time)\n",
    "    if index_name not in pinecone.list_indexes():\n",
    "        # if does not exist, create index\n",
    "        pinecone.create_index(\n",
    "            index_name,\n",
    "            dimension=dimension,\n",
    "            metric='cosine',\n",
    "            metadata_config=metadata_config\n",
    "        )\n",
    "    # connect to index\n",
    "    index = pinecone.Index(index_name)\n",
    "    \n",
    "    # view index stats\n",
    "    print(index.describe_index_stats())"
   ]
  },
  {
   "cell_type": "code",
   "execution_count": 13,
   "metadata": {},
   "outputs": [
    {
     "name": "stdout",
     "output_type": "stream",
     "text": [
      "{'dimension': 1536,\n",
      " 'index_fullness': 0.0,\n",
      " 'namespaces': {},\n",
      " 'total_vector_count': 0}\n"
     ]
    }
   ],
   "source": [
    "# create the pinecone index\n",
    "index_dimension = 1536\n",
    "metadata_config = {\n",
    "    'indexed': ['topic', 'title']\n",
    "}\n",
    "\n",
    "create_vector_database(PINECONE_INDEX, index_dimension, metadata_config)"
   ]
  }
 ],
 "metadata": {
  "kernelspec": {
   "display_name": "Python 3",
   "language": "python",
   "name": "python3"
  },
  "language_info": {
   "codemirror_mode": {
    "name": "ipython",
    "version": 3
   },
   "file_extension": ".py",
   "mimetype": "text/x-python",
   "name": "python",
   "nbconvert_exporter": "python",
   "pygments_lexer": "ipython3",
   "version": "3.8.16"
  },
  "orig_nbformat": 4
 },
 "nbformat": 4,
 "nbformat_minor": 2
}
