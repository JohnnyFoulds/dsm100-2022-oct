{
 "cells": [
  {
   "attachments": {},
   "cell_type": "markdown",
   "metadata": {},
   "source": [
    "# 01. Prepare the source knowledge base\n",
    "\n",
    "```bash\n",
    "sudo apt install enchant-2\n",
    "```"
   ]
  },
  {
   "cell_type": "code",
   "execution_count": 1,
   "metadata": {},
   "outputs": [],
   "source": [
    "import os\n",
    "\n",
    "import json\n",
    "import pandas as pd\n",
    "from tqdm.auto import tqdm\n",
    "\n",
    "import enchant"
   ]
  },
  {
   "cell_type": "markdown",
   "metadata": {},
   "source": [
    "## Functions"
   ]
  },
  {
   "cell_type": "code",
   "execution_count": 2,
   "metadata": {},
   "outputs": [],
   "source": [
    "def clean_text(text: str) -> str:\n",
    "    # only clean the text is it is not empty\n",
    "    if not text:\n",
    "        return text\n",
    "        \n",
    "    d = enchant.Dict(\"en_US\")\n",
    "    text = text.replace(\".\", \". \").replace(\",\", \", \").replace(\"  \", \" \")\n",
    "\n",
    "    words = text.split()\n",
    "    normalized_words = []\n",
    "    for word in words:\n",
    "        postfix = \"\"\n",
    "        if word[-1] == \".\":\n",
    "            postfix = \".\"\n",
    "            word = word[:-1]\n",
    "        elif word[-1] == \",\":\n",
    "            postfix = \",\"\n",
    "            word = word[:-1]\n",
    "\n",
    "        final_word = word\n",
    "        if (len(word) > 1):\n",
    "            if not d.check(word):\n",
    "                suggestions = d.suggest(word)\n",
    "                if suggestions:\n",
    "                    if suggestions[0].replace(\" \", \"\") == word:\n",
    "                        final_word = suggestions[0]\n",
    "    \n",
    "        normalized_words.append(final_word+postfix)\n",
    "\n",
    "    return \" \".join(normalized_words)\n",
    "\n",
    "# test the function\n",
    "# #text = \"This is a sentence with concatenatedwords.\"\n",
    "# text = \"[music]In this mini-lecture, we will consider multiagent environmentswhere each agent has to consideractions by other agents and their effects. We will consider a special case, a competitive environment where agents goals are in a conflict.Such problems are called adversarial search problems or games.We will first consider deterministic observable environmentswhere agents act alternately and in which the utility valuesat the end of the game are always equal and opposite.If one agent wins the game of chess, another loses.We will start from considering a standard examplein the game series, the prisoners dilemma. This simple example shows the complexity of a multiagent environment.The example is particularly interestingbecause it demonstrates tendencies in corporate right behavior.This game was introduced by two American mathematicians in the 50s, Merrill Flood and Melvin Dresher. The rules of the game are two members of a criminal organization are arrested and imprisoned.Each prison is in a solitary cell with no means of communicating with the other.The prosecutors lack sufficient evidenceto convict the pair on principal charge, but they have enough to convict both on a lesser charge.The prosecutors offer each prisoner a bargain.Each prisoner is given the opportunity either to betray the otherby testifying that the other committed the crimeor to cooperate with the other by remaining silent.The possible outcomes are:If A and B prisoners each betrays the other, each of them serves two years in prison. If A betrays B but B remains silent, then A goes free and B will serve three years in prison.If A remains silent, but B betrays A,A will serve three years in prison and B goes free.If A and B both remain silent, both of them will serve only one year in prisonon the lesser charge. The optimal strategy is to betray the partnerbecause overall it offers a greater reward than cooperating with them. Interestingly, in the reality,humans display a systematic bias\\\\ towards cooperative behaviorin this and all the similar scenarios.This has been demonstrated by many studies.Another example of a multi-agent environment is a RoboCup,a soccer tournament for robots. RoboCup was introduced by Professor Hiroaki Kitana from Japan,more than 20 years ago. Im privileged to know Kitana-sensei,it is how professors are called in Japan personally.Generally in AI game research,the focus is on abstract games because it is easier to represent the game states.Physical games are rarely in the focusbecause it is difficult to represent all the states, its a more complex description,and the range of possible actions is wider. RoboCup is an example of a dynamic environment with many agents.Some of them cooperate as members of the same team with a shared goal to win the game and other members of different teams have competing goals.The robot world cup initiative is an attempt to force AI and intelligent robotics research by providing a standard problem where a wide range of technologies can be integrated and examined.Design principles of autonomous agents, multiagent collaboration, strategy acquisition, real-time reasoning, robotics, and sensor fusion.I recommend watching a video of earlier Robocup. The robots are really clumsy. However, this initiative has boosted the research in this areaand the target now is for a robot teamto beat the best human team by 2030.In this mini-lecture, we looked at multi-agent competitive environments or games.First, we considered a deterministic two-agents environment,the well-known prisoners dilemma.Then we considered a more complex dynamic situationwith many agents, robots playing a soccer game. There are many more examples of significant advancesin the game series and practice. More than 20 years ago, Deep Blue beat Russian chess master Garry Kasparov. 10 years ago, Watson won in Jeopardy. In my view, the most impressive exampleis for an artificial agent to win in the game of Go. ves.Go has long been viewed as the most challenging of classic gamesbecause of its enormous search space and the difficulty in evaluating both positions and moIn 2016, the program AlphaGo defeated the human European gold championby five to zero.\"\n",
    "# print(text)\n",
    "# print(clean_text(text))"
   ]
  },
  {
   "cell_type": "code",
   "execution_count": 3,
   "metadata": {},
   "outputs": [],
   "source": [
    "def create_dataset(dir_path: str) -> pd.DataFrame:\n",
    "    # Define an empty list to store the document data\n",
    "    documents = []\n",
    "\n",
    "    # Loop over all JSON files in the directory\n",
    "    for filename in tqdm(os.listdir(dir_path)):\n",
    "        if filename.endswith(\".json\"):\n",
    "            # Load the JSON file and extract the relevant fields\n",
    "            with open(os.path.join(dir_path, filename), \"r\") as f:\n",
    "                data = json.load(f)\n",
    "                course = data.get(\"course\")\n",
    "                topic = data.get(\"topic\")\n",
    "                title = data.get(\"title\")\n",
    "                url = data.get(\"url\")\n",
    "                transcript = clean_text(data.get(\"transcript\"))\n",
    "                # Append the document data to the list\n",
    "                documents.append({\"course\": course, \"topic\": topic, \"title\": title, \"url\": url, \"transcript\": transcript})\n",
    "\n",
    "    # Create a pandas DataFrame from the document data\n",
    "    return pd.DataFrame(documents)\n",
    "\n",
    "# # create the dataset\n",
    "# dir_path = \"/workspaces/dsm100-2022-oct/question_answering/data/input/raw/\"\n",
    "# create_dataset(dir_path=dir_path)\n"
   ]
  },
  {
   "attachments": {},
   "cell_type": "markdown",
   "metadata": {},
   "source": [
    "## Create Dataset"
   ]
  },
  {
   "cell_type": "code",
   "execution_count": 9,
   "metadata": {},
   "outputs": [
    {
     "data": {
      "application/vnd.jupyter.widget-view+json": {
       "model_id": "e5fea6b23d28437e8c77a94b6d5b4a66",
       "version_major": 2,
       "version_minor": 0
      },
      "text/plain": [
       "  0%|          | 0/141 [00:00<?, ?it/s]"
      ]
     },
     "metadata": {},
     "output_type": "display_data"
    },
    {
     "name": "stdout",
     "output_type": "stream",
     "text": [
      "(140, 5)\n"
     ]
    },
    {
     "data": {
      "text/html": [
       "<div>\n",
       "<style scoped>\n",
       "    .dataframe tbody tr th:only-of-type {\n",
       "        vertical-align: middle;\n",
       "    }\n",
       "\n",
       "    .dataframe tbody tr th {\n",
       "        vertical-align: top;\n",
       "    }\n",
       "\n",
       "    .dataframe thead th {\n",
       "        text-align: right;\n",
       "    }\n",
       "</style>\n",
       "<table border=\"1\" class=\"dataframe\">\n",
       "  <thead>\n",
       "    <tr style=\"text-align: right;\">\n",
       "      <th></th>\n",
       "      <th>course</th>\n",
       "      <th>topic</th>\n",
       "      <th>title</th>\n",
       "      <th>url</th>\n",
       "      <th>transcript</th>\n",
       "    </tr>\n",
       "  </thead>\n",
       "  <tbody>\n",
       "    <tr>\n",
       "      <th>0</th>\n",
       "      <td>DSM100-2022-OCT</td>\n",
       "      <td>Module information</td>\n",
       "      <td>Module introduction video</td>\n",
       "      <td>https://learn.london.ac.uk/mod/page/view.php?i...</td>\n",
       "      <td>-Welcome to AI Module. Artificial intelligence...</td>\n",
       "    </tr>\n",
       "    <tr>\n",
       "      <th>1</th>\n",
       "      <td>DSM100-2022-OCT</td>\n",
       "      <td>Module information</td>\n",
       "      <td>Meet the team</td>\n",
       "      <td>https://learn.london.ac.uk/mod/page/view.php?i...</td>\n",
       "      <td>[music]-Welcome to the AI module. My name is L...</td>\n",
       "    </tr>\n",
       "    <tr>\n",
       "      <th>2</th>\n",
       "      <td>DSM100-2022-OCT</td>\n",
       "      <td>Topic 1: Introduction</td>\n",
       "      <td>Lecture: Introduction to Topic 1</td>\n",
       "      <td>https://learn.london.ac.uk/mod/page/view.php?i...</td>\n",
       "      <td>Welcome to topic one, Introduction to AI. In t...</td>\n",
       "    </tr>\n",
       "    <tr>\n",
       "      <th>3</th>\n",
       "      <td>DSM100-2022-OCT</td>\n",
       "      <td>Topic 1: Introduction</td>\n",
       "      <td>Lecture 1: Defining AI</td>\n",
       "      <td>https://learn.london.ac.uk/mod/page/view.php?i...</td>\n",
       "      <td>[music]In this mini lecture, we will talk abou...</td>\n",
       "    </tr>\n",
       "    <tr>\n",
       "      <th>4</th>\n",
       "      <td>DSM100-2022-OCT</td>\n",
       "      <td>Topic 1: Introduction</td>\n",
       "      <td>Lecture 2:  Milestones in the history of AI</td>\n",
       "      <td>https://learn.london.ac.uk/mod/page/view.php?i...</td>\n",
       "      <td>In this mini-lecture with a go through the his...</td>\n",
       "    </tr>\n",
       "  </tbody>\n",
       "</table>\n",
       "</div>"
      ],
      "text/plain": [
       "            course                  topic  \\\n",
       "0  DSM100-2022-OCT     Module information   \n",
       "1  DSM100-2022-OCT     Module information   \n",
       "2  DSM100-2022-OCT  Topic 1: Introduction   \n",
       "3  DSM100-2022-OCT  Topic 1: Introduction   \n",
       "4  DSM100-2022-OCT  Topic 1: Introduction   \n",
       "\n",
       "                                         title  \\\n",
       "0                    Module introduction video   \n",
       "1                                Meet the team   \n",
       "2             Lecture: Introduction to Topic 1   \n",
       "3                       Lecture 1: Defining AI   \n",
       "4  Lecture 2:  Milestones in the history of AI   \n",
       "\n",
       "                                                 url  \\\n",
       "0  https://learn.london.ac.uk/mod/page/view.php?i...   \n",
       "1  https://learn.london.ac.uk/mod/page/view.php?i...   \n",
       "2  https://learn.london.ac.uk/mod/page/view.php?i...   \n",
       "3  https://learn.london.ac.uk/mod/page/view.php?i...   \n",
       "4  https://learn.london.ac.uk/mod/page/view.php?i...   \n",
       "\n",
       "                                          transcript  \n",
       "0  -Welcome to AI Module. Artificial intelligence...  \n",
       "1  [music]-Welcome to the AI module. My name is L...  \n",
       "2  Welcome to topic one, Introduction to AI. In t...  \n",
       "3  [music]In this mini lecture, we will talk abou...  \n",
       "4  In this mini-lecture with a go through the his...  "
      ]
     },
     "execution_count": 9,
     "metadata": {},
     "output_type": "execute_result"
    }
   ],
   "source": [
    "# create the dataset\n",
    "dir_path = \"/workspaces/dsm100-2022-oct/question_answering/data/input/raw/\"\n",
    "df_source = create_dataset(dir_path=dir_path)\n",
    "\n",
    "print(df_source.shape)\n",
    "df_source.head()"
   ]
  },
  {
   "cell_type": "code",
   "execution_count": 10,
   "metadata": {},
   "outputs": [],
   "source": [
    "# save the dataset\n",
    "df_source.to_csv(\"data/output/transcripts.csv\", index=False)"
   ]
  }
 ],
 "metadata": {
  "kernelspec": {
   "display_name": "Python 3",
   "language": "python",
   "name": "python3"
  },
  "language_info": {
   "codemirror_mode": {
    "name": "ipython",
    "version": 3
   },
   "file_extension": ".py",
   "mimetype": "text/x-python",
   "name": "python",
   "nbconvert_exporter": "python",
   "pygments_lexer": "ipython3",
   "version": "3.8.16"
  },
  "orig_nbformat": 4
 },
 "nbformat": 4,
 "nbformat_minor": 2
}
