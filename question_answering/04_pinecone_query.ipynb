{
 "cells": [
  {
   "attachments": {},
   "cell_type": "markdown",
   "metadata": {},
   "source": [
    "# 04. Pinecone Query\n",
    "\n",
    "Query the index created in notebook 03."
   ]
  },
  {
   "cell_type": "code",
   "execution_count": 22,
   "metadata": {},
   "outputs": [],
   "source": [
    "import os\n",
    "import openai\n",
    "import pinecone\n",
    "\n",
    "from tqdm.auto import tqdm\n",
    "from dotenv import load_dotenv\n",
    "from IPython.core.display import Markdown"
   ]
  },
  {
   "attachments": {},
   "cell_type": "markdown",
   "metadata": {},
   "source": [
    "## Configure Environment"
   ]
  },
  {
   "cell_type": "code",
   "execution_count": 23,
   "metadata": {},
   "outputs": [
    {
     "data": {
      "text/plain": [
       "True"
      ]
     },
     "execution_count": 23,
     "metadata": {},
     "output_type": "execute_result"
    }
   ],
   "source": [
    "load_dotenv()"
   ]
  },
  {
   "cell_type": "code",
   "execution_count": 24,
   "metadata": {},
   "outputs": [],
   "source": [
    "OPENAI_API_KEY = os.getenv('OPENAI_API_KEY')\n",
    "OPENAI_CHAT_MODEL = os.getenv('OPENAI_CHAT_MODEL', 'gpt-3.5-turbo')\n",
    "OPENAI_EMBED_MODEL = os.getenv('OPENAI_EMBED_MODEL', 'text-embedding-ada-002')\n",
    "\n",
    "PINECONE_API_KEY = os.getenv('PINECONE_API_KEY')\n",
    "PINECONE_INDEX = os.getenv('PINECONE_INDEX', 'openai-dsm100-2022-oct-transcriptions')\n",
    "PINECONE_ENV = os.getenv('PINECONE_ENV', 'us-east1-gcp')"
   ]
  },
  {
   "cell_type": "code",
   "execution_count": 25,
   "metadata": {},
   "outputs": [],
   "source": [
    "# configure openai\n",
    "openai.api_key = OPENAI_API_KEY\n",
    "\n",
    "# configure pinecone\n",
    "pinecone.init(\n",
    "    api_key=PINECONE_API_KEY,\n",
    "    environment=PINECONE_ENV\n",
    ")"
   ]
  },
  {
   "attachments": {},
   "cell_type": "markdown",
   "metadata": {},
   "source": [
    "## Define Sample Questions"
   ]
  },
  {
   "cell_type": "code",
   "execution_count": 26,
   "metadata": {},
   "outputs": [],
   "source": [
    "question01 = \"\"\"\n",
    "a. AI has a long history with ups and downs, over-optimistic expectations, and the\n",
    "industrial period. At present, AI is in the era of:\n",
    "\n",
    "Select ALL statements that apply.\n",
    "\n",
    "[3 marks]\n",
    "i. Big data.\n",
    "ii. Deep learning.\n",
    "iii. Robotics.\n",
    "iv. General AI.\n",
    "\"\"\""
   ]
  },
  {
   "cell_type": "code",
   "execution_count": 27,
   "metadata": {},
   "outputs": [],
   "source": [
    "question02 = \"\"\"\n",
    "f. The more background knowledge an intelligent agent can use – the more intelligent\n",
    "behaviour it can exhibit. Background knowledge can include:\n",
    "[3 marks]\n",
    "\n",
    "Select ALL statements that apply. \n",
    "\n",
    "(i). Problem-specific knowledge\n",
    "(ii). Declarative knowledge\n",
    "(iii). Procedural knowledge\n",
    "(iv). A dataset\n",
    "\"\"\""
   ]
  },
  {
   "attachments": {},
   "cell_type": "markdown",
   "metadata": {},
   "source": [
    "## Functions"
   ]
  },
  {
   "cell_type": "code",
   "execution_count": 28,
   "metadata": {},
   "outputs": [
    {
     "name": "stdout",
     "output_type": "stream",
     "text": [
      "{'dimension': 1536,\n",
      " 'index_fullness': 0.0,\n",
      " 'namespaces': {'': {'vector_count': 100}},\n",
      " 'total_vector_count': 100}\n"
     ]
    }
   ],
   "source": [
    "def get_pinecone_index(index_name: str) -> pinecone.index.Index:\n",
    "    # connect to index\n",
    "    index = pinecone.Index(index_name)\n",
    "    \n",
    "    # view index stats\n",
    "    print(index.describe_index_stats())  \n",
    "\n",
    "    return index  \n",
    "\n",
    "# test the function\n",
    "index = get_pinecone_index(PINECONE_INDEX)"
   ]
  },
  {
   "cell_type": "code",
   "execution_count": 29,
   "metadata": {},
   "outputs": [],
   "source": [
    "def get_text_embeddings(text: str) -> list:\n",
    "    result = openai.Embedding.create(\n",
    "            input=[text], engine=OPENAI_EMBED_MODEL)\n",
    "\n",
    "    return result['data'][0]['embedding']\n",
    "\n",
    "# test the function\n",
    "#get_text_embeddings(question01)"
   ]
  },
  {
   "cell_type": "code",
   "execution_count": 32,
   "metadata": {},
   "outputs": [],
   "source": [
    "def query_pinecone_index(index: pinecone.index.Index,\n",
    "                         query: str,\n",
    "                         k: int = 5,\n",
    "                         include_metadata=True) -> list:\n",
    "    # get embeddings for query\n",
    "    query_embedding = get_text_embeddings(query)\n",
    "\n",
    "    # query index\n",
    "    return index.query(\n",
    "        vector=query_embedding,\n",
    "        top_k=k,\n",
    "        include_metadata=include_metadata\n",
    "    )\n",
    "\n",
    "# test the function\n",
    "#query_pinecone_index(index, question02)"
   ]
  },
  {
   "cell_type": "code",
   "execution_count": 76,
   "metadata": {},
   "outputs": [
    {
     "data": {
      "text/markdown": [
       "Answer the question based on the context below.\n",
       "\n",
       "Context:\n",
       "[music]In this topic, we discussed how intelligent agents can find solutions and make decisions.  We can see that uninformed or blind search, informed or heuristic search, and we also discuss that domain-specific knowledge can improve decision-making substantially.  The more agent knows and remembers from the past, the more intelligent behavior it can exhibit.  We also talked about meta-learning or meta-reasoning.  When different search strategies are analyzed and compared, in what situation, what strategy would work best.  If you're interested in this topic, please check the recommended literature.  Of course, there are plenty of resources available in our online library and around. \n",
       "\n",
       "---\n",
       "\n",
       "[music]-In this mini lecture, we will talk about knowledge-based agents.  We have already seen in the previous topics that knowledge makes an agent more intelligent, be it domain-specific knowledge, or knowledge of the past experience, what worked well and what did not.  The more an agent knows and remembers, the better decisions it can make.  Agents that are using knowledge for making decisions are called knowledge-based agents.  This component of a knowledge-based agent is called, unsurprisingly, a knowledge base.  Knowledge has to be encoded in a machine processable way, usually, using knowledge representation languages.  What is knowledge?Generally, there is no clear separation in the means between data, knowledge, and information.  It is often the case even in computer science.  It is, well, stating explicitly what we will consider as such in this module.  Data are facts.  Typically, data are encoded as a table.  For example, if a table stores various chemical element sand their freezing and melting points, then an example of a data item or a fact would be, melting point of helium is -272.  2 celsius.  Typically, knowledge is encoded as a set of rules.  For example, if the temperature is below the melting point, then the chemical substance is in a liquid state.  More advanced knowledge can be represented in the form of an executable model.  For example, a metabolic model captures our knowledge about the metabolic pathways, and molecular mechanisms of a particular organism.  Information is a more generic term that combines data and knowledge.  Problems-specific and domain specific knowledge is called background knowledge.  This can be available to a knowledge-based agent from the very beginning\n",
       "\n",
       "Question: \n",
       "f. The more background knowledge an intelligent agent can use – the more intelligent\n",
       "behaviour it can exhibit. Background knowledge can include:\n",
       "[3 marks]\n",
       "\n",
       "Select ALL statements that apply. \n",
       "\n",
       "(i). Problem-specific knowledge\n",
       "(ii). Declarative knowledge\n",
       "(iii). Procedural knowledge\n",
       "(iv). A dataset\n",
       "\n",
       "Answer:"
      ],
      "text/plain": [
       "<IPython.core.display.Markdown object>"
      ]
     },
     "metadata": {},
     "output_type": "display_data"
    }
   ],
   "source": [
    "def create_prompt(index: pinecone.index.Index,\n",
    "                  query: str, \n",
    "                  prompt_limit: int = 3750) -> str:\n",
    "    prompt = \"\"\n",
    "    \n",
    "    # query pinecone for matching transcripts\n",
    "    pinecone_results = query_pinecone_index(index, query)\n",
    "\n",
    "    # get relevant contexts\n",
    "    contexts = [\n",
    "        x['metadata']['text'] for x in pinecone_results['matches']\n",
    "    ]\n",
    "\n",
    "    # build our prompt with the retrieved contexts included\n",
    "    prompt_start = (\n",
    "        \"Answer the question based on the context below.\\n\\n\"+\n",
    "        \"Context:\\n\"\n",
    "    )\n",
    "    \n",
    "    prompt_end = (\n",
    "        f\"\\n\\nQuestion: {query}\\nAnswer:\"\n",
    "    )\n",
    "\n",
    "    # append contexts until hitting limit\n",
    "    for i in range(1, len(contexts)):\n",
    "        if len(\"\\n\\n---\\n\\n\".join(contexts[:i])) >= prompt_limit:\n",
    "            prompt = (\n",
    "                prompt_start +\n",
    "                \"\\n\\n---\\n\\n\".join(contexts[:i-1]) +\n",
    "                prompt_end\n",
    "            )\n",
    "            break\n",
    "        elif i == len(contexts)-1:\n",
    "            prompt = (\n",
    "                prompt_start +\n",
    "                \"\\n\\n---\\n\\n\".join(contexts) +\n",
    "                prompt_end\n",
    "            )\n",
    "\n",
    "    return prompt, pinecone_results\n",
    "\n",
    "# test the function\n",
    "prompt, context = create_prompt(index, question02)\n",
    "display(Markdown(prompt))\n",
    "\n"
   ]
  },
  {
   "cell_type": "code",
   "execution_count": 57,
   "metadata": {},
   "outputs": [
    {
     "data": {
      "text/markdown": [
       "Question:\n",
       "f. The more background knowledge an intelligent agent can use – the more intelligent\n",
       "behaviour it can exhibit. Background knowledge can include:\n",
       "[3 marks]\n",
       "\n",
       "Select ALL statements that apply. \n",
       "\n",
       "(i). Problem-specific knowledge\n",
       "(ii). Declarative knowledge\n",
       "(iii). Procedural knowledge\n",
       "(iv). A dataset\n"
      ],
      "text/plain": [
       "<IPython.core.display.Markdown object>"
      ]
     },
     "metadata": {},
     "output_type": "display_data"
    },
    {
     "data": {
      "text/markdown": [
       "Answer: \n",
       "\n",
       "(i). Problem-specific knowledge\n",
       "(ii). Declarative knowledge\n",
       "(iii). Procedural knowledge"
      ],
      "text/plain": [
       "<IPython.core.display.Markdown object>"
      ]
     },
     "metadata": {},
     "output_type": "display_data"
    }
   ],
   "source": [
    "def ask_question(index: pinecone.index.Index,\n",
    "                  query: str, \n",
    "                  prompt_limit: int = 3750):\n",
    "\n",
    "    # create prompt\n",
    "    prompt, context = create_prompt(index, query, prompt_limit)\n",
    "\n",
    "    response = openai.ChatCompletion.create(\n",
    "        model=OPENAI_CHAT_MODEL,\n",
    "        messages=[\n",
    "            { 'role': 'user', 'content': prompt }\n",
    "        ]\n",
    "    )\n",
    "\n",
    "    return response['choices'][0]['message']['content'], context\n",
    "\n",
    "# test the function\n",
    "answer, _ = ask_question(index, question02)\n",
    "display(Markdown('Question:' + question02))\n",
    "display(Markdown('Answer: ' + answer))"
   ]
  },
  {
   "cell_type": "code",
   "execution_count": 59,
   "metadata": {},
   "outputs": [
    {
     "data": {
      "text/markdown": [
       "Question:\n",
       "a. AI has a long history with ups and downs, over-optimistic expectations, and the\n",
       "industrial period. At present, AI is in the era of:\n",
       "\n",
       "Select ALL statements that apply.\n",
       "\n",
       "[3 marks]\n",
       "i. Big data.\n",
       "ii. Deep learning.\n",
       "iii. Robotics.\n",
       "iv. General AI.\n"
      ],
      "text/plain": [
       "<IPython.core.display.Markdown object>"
      ]
     },
     "metadata": {},
     "output_type": "display_data"
    },
    {
     "data": {
      "text/markdown": [
       "Answer: i. Big data.\n",
       "ii. Deep learning."
      ],
      "text/plain": [
       "<IPython.core.display.Markdown object>"
      ]
     },
     "metadata": {},
     "output_type": "display_data"
    }
   ],
   "source": [
    "answer, _ = ask_question(index, question01)\n",
    "display(Markdown('Question:' + question01))\n",
    "display(Markdown('Answer: ' + answer))"
   ]
  },
  {
   "attachments": {},
   "cell_type": "markdown",
   "metadata": {},
   "source": [
    "## Question Definitions"
   ]
  },
  {
   "cell_type": "code",
   "execution_count": 93,
   "metadata": {},
   "outputs": [
    {
     "data": {
      "text/markdown": [
       "### Question\n",
       "\n",
       "a. AI has a long history with ups and downs, over-optimistic expectations, and the\n",
       "industrial period. At present, AI is in the era of:\n",
       "\n",
       "Select ALL statements that apply.\n",
       "\n",
       "[3 marks]\n",
       "i. Big data.\n",
       "ii. Deep learning.\n",
       "iii. Robotics.\n",
       "iv. General AI.\n",
       "\n",
       "### Answer\n",
       "i. Big data.\n",
       "ii. Deep learning.\n",
       "### Context\n",
       "- Module information::Module introduction video\n",
       "- Topic 1: Introduction::Lecture 2:  Milestones in the history of AI\n",
       "- Topic 1: Introduction::Lecture 7: State-of-the-art in AI\n",
       "- Topic 7: Robot Scientist::Lecture 1: Discovery science and the Robot Scientist system"
      ],
      "text/plain": [
       "<IPython.core.display.Markdown object>"
      ]
     },
     "metadata": {},
     "output_type": "display_data"
    }
   ],
   "source": [
    "def display_answer(index: pinecone.index.Index,\n",
    "                   question: str):\n",
    "   answer, context = ask_question(index, question)\n",
    "\n",
    "   output = []\n",
    "\n",
    "   output.append('### Question')\n",
    "   output.append(question)\n",
    "\n",
    "   output.append('### Answer')\n",
    "   output.append(answer)\n",
    "\n",
    "   output.append('### Context')\n",
    "   context_list = set(x['metadata']['topic'] + '::' + x['metadata']['title'] for x in context['matches'])\n",
    "   for item in context_list:\n",
    "      output.append('- ' + item)\n",
    "\n",
    "   display(Markdown('\\n'.join(output)))\n",
    "\n",
    "# test the function\n",
    "display_answer(index, question01)\n"
   ]
  },
  {
   "cell_type": "code",
   "execution_count": 50,
   "metadata": {},
   "outputs": [],
   "source": [
    "questions = {}"
   ]
  },
  {
   "cell_type": "code",
   "execution_count": 94,
   "metadata": {},
   "outputs": [
    {
     "data": {
      "text/markdown": [
       "### Question\n",
       "\n",
       "AI has a long history with ups and downs, over-optimistic expectations, and the\n",
       "industrial period. At present, AI is in the era of:\n",
       "[3 marks]\n",
       "\n",
       "Select ALL statements that apply.\n",
       "i. Big data.\n",
       "ii. Deep learning.\n",
       "iii. Robotics.\n",
       "iv. General AI.\n",
       "\n",
       "### Answer\n",
       "i. Big data.\n",
       "ii. Deep learning.\n",
       "### Context\n",
       "- Module information::Module introduction video\n",
       "- Topic 1: Introduction::Lecture 2:  Milestones in the history of AI\n",
       "- Topic 1: Introduction::Lecture 7: State-of-the-art in AI\n",
       "- Topic 7: Robot Scientist::Lecture 1: Discovery science and the Robot Scientist system"
      ],
      "text/plain": [
       "<IPython.core.display.Markdown object>"
      ]
     },
     "metadata": {},
     "output_type": "display_data"
    }
   ],
   "source": [
    "question = \"\"\"\n",
    "AI has a long history with ups and downs, over-optimistic expectations, and the\n",
    "industrial period. At present, AI is in the era of:\n",
    "[3 marks]\n",
    "\n",
    "Select ALL statements that apply.\n",
    "i. Big data.\n",
    "ii. Deep learning.\n",
    "iii. Robotics.\n",
    "iv. General AI.\n",
    "\"\"\"\n",
    "\n",
    "questions['A_1_a'] = question\n",
    "display_answer(index, question)"
   ]
  },
  {
   "cell_type": "code",
   "execution_count": 95,
   "metadata": {},
   "outputs": [
    {
     "data": {
      "text/markdown": [
       "### Question\n",
       "\n",
       "b. It is important for AI systems to be explainable and interpretable because it:\n",
       "Select ALL statements that apply.\n",
       "[3 marks]\n",
       "\n",
       "i. Gives users confidence in the system.\n",
       "ii. Is a legal requirement.\n",
       "iii. Helps in safeguarding against bias.\n",
       "iv. Enables assessing of system’s robustness and vulnerability. \n",
       "\n",
       "### Answer\n",
       "i. Gives users confidence in the system.\n",
       "iii. Helps in safeguarding against bias.\n",
       "iv. Enables assessing of system’s robustness and vulnerability.\n",
       "### Context\n",
       "- Topic 1: Introduction::Lecture 8: Ethical and legal issues\n",
       "- Topic 1: Introduction::Lecture 10: Explainable AI"
      ],
      "text/plain": [
       "<IPython.core.display.Markdown object>"
      ]
     },
     "metadata": {},
     "output_type": "display_data"
    }
   ],
   "source": [
    "question = \"\"\"\n",
    "b. It is important for AI systems to be explainable and interpretable because it:\n",
    "Select ALL statements that apply.\n",
    "[3 marks]\n",
    "\n",
    "i. Gives users confidence in the system.\n",
    "ii. Is a legal requirement.\n",
    "iii. Helps in safeguarding against bias.\n",
    "iv. Enables assessing of system’s robustness and vulnerability. \n",
    "\"\"\"\n",
    "\n",
    "questions['A_1_b'] = question\n",
    "display_answer(index, question)"
   ]
  },
  {
   "cell_type": "code",
   "execution_count": 96,
   "metadata": {},
   "outputs": [
    {
     "data": {
      "text/markdown": [
       "### Question\n",
       "\n",
       "c. Heuristic functions can be generated based on:\n",
       "Select ALL statements that apply.\n",
       "[3 marks]\n",
       "\n",
       "i. Simplified (or relaxed) problems.\n",
       "ii. Forecasted blind search results.\n",
       "iii. Previous experience.\n",
       "iv. Features of the search space.\n",
       "\n",
       "### Answer\n",
       "i. Simplified (or relaxed) problems.\n",
       "iii. Previous experience.\n",
       "iv. Features of the search space.\n",
       "### Context\n",
       "- Topic 2: Problem solving agents::Lecture 3: Informed search"
      ],
      "text/plain": [
       "<IPython.core.display.Markdown object>"
      ]
     },
     "metadata": {},
     "output_type": "display_data"
    }
   ],
   "source": [
    "question = \"\"\"\n",
    "c. Heuristic functions can be generated based on:\n",
    "Select ALL statements that apply.\n",
    "[3 marks]\n",
    "\n",
    "i. Simplified (or relaxed) problems.\n",
    "ii. Forecasted blind search results.\n",
    "iii. Previous experience.\n",
    "iv. Features of the search space.\n",
    "\"\"\"\n",
    "\n",
    "questions['A_1_c'] = question\n",
    "display_answer(index, question)"
   ]
  },
  {
   "cell_type": "code",
   "execution_count": null,
   "metadata": {},
   "outputs": [
    {
     "data": {
      "text/markdown": [
       "### Question\n",
       "\n",
       "c. Heuristic functions can be generated based on:\n",
       "Select ALL statements that apply.\n",
       "[3 marks]\n",
       "\n",
       "i. Simplified (or relaxed) problems.\n",
       "ii. Forecasted blind search results.\n",
       "iii. Previous experience.\n",
       "iv. Features of the search space.\n",
       "\n",
       "### Answer\n",
       "i. Simplified (or relaxed) problems.\n",
       "iii. Previous experience.\n",
       "iv. Features of the search space.\n",
       "### Context\n",
       "- Topic 2: Problem solving agents::Lecture 3: Informed search"
      ],
      "text/plain": [
       "<IPython.core.display.Markdown object>"
      ]
     },
     "metadata": {},
     "output_type": "display_data"
    }
   ],
   "source": [
    "question = \"\"\"\n",
    "c. Heuristic functions can be generated based on:\n",
    "Select ALL statements that apply.\n",
    "[3 marks]\n",
    "\n",
    "i. Simplified (or relaxed) problems.\n",
    "ii. Forecasted blind search results.\n",
    "iii. Previous experience.\n",
    "iv. Features of the search space.\n",
    "\"\"\"\n",
    "\n",
    "questions['A_1_c'] = question\n",
    "display_answer(index, question)"
   ]
  },
  {
   "cell_type": "code",
   "execution_count": 98,
   "metadata": {},
   "outputs": [
    {
     "data": {
      "text/markdown": [
       "### Question\n",
       "\n",
       "e. A genetic algorithm:\n",
       "Select ALL statements that apply.\n",
       "[3 marks]\n",
       "\n",
       "i. Is a global search algorithm\n",
       "ii. Is a local search algorithm\n",
       "iii. Is inspired by Charles Darwin’s theory of natural evolution.\n",
       "iv. Includes three evolutionary processes: selection, gene crossover, and\n",
       "mutation.\n",
       "\n",
       "### Answer\n",
       "iii. Is inspired by Charles Darwin’s theory of natural evolution.\n",
       "iv. Includes three evolutionary processes: selection, gene crossover, and mutation.\n",
       "### Context\n",
       "- Topic 2: Problem solving agents::Lecture 4: Genetic algorithms"
      ],
      "text/plain": [
       "<IPython.core.display.Markdown object>"
      ]
     },
     "metadata": {},
     "output_type": "display_data"
    }
   ],
   "source": [
    "question = \"\"\"\n",
    "e. A genetic algorithm:\n",
    "Select ALL statements that apply.\n",
    "[3 marks]\n",
    "\n",
    "i. Is a global search algorithm\n",
    "ii. Is a local search algorithm\n",
    "iii. Is inspired by Charles Darwin’s theory of natural evolution.\n",
    "iv. Includes three evolutionary processes: selection, gene crossover, and\n",
    "mutation.\n",
    "\"\"\"\n",
    "\n",
    "questions['A_1_e'] = question\n",
    "display_answer(index, question)"
   ]
  },
  {
   "cell_type": "code",
   "execution_count": 99,
   "metadata": {},
   "outputs": [
    {
     "data": {
      "text/markdown": [
       "### Question\n",
       "\n",
       "f. The more background knowledge an intelligent agent can use – the more intelligent\n",
       "behaviour it can exhibit. Background knowledge can include:\n",
       "Select ALL statements that apply.\n",
       "[3 marks]\n",
       "\n",
       "(i). Problem-specific knowledge\n",
       "(ii). Declarative knowledge\n",
       "(iii). Procedural knowledge\n",
       "(iv). A dataset\n",
       "\n",
       "### Answer\n",
       "(i) Problem-specific knowledge\n",
       "(ii) Declarative knowledge\n",
       "(iii) Procedural knowledge\n",
       "### Context\n",
       "- Topic 2: Problem solving agents::Lecture: Topic 2 summary\n",
       "- Topic 3: Knowledge, reasoning and planning::Lecture 1: Knowledge-based agents"
      ],
      "text/plain": [
       "<IPython.core.display.Markdown object>"
      ]
     },
     "metadata": {},
     "output_type": "display_data"
    }
   ],
   "source": [
    "question = \"\"\"\n",
    "f. The more background knowledge an intelligent agent can use – the more intelligent\n",
    "behaviour it can exhibit. Background knowledge can include:\n",
    "Select ALL statements that apply.\n",
    "[3 marks]\n",
    "\n",
    "(i). Problem-specific knowledge\n",
    "(ii). Declarative knowledge\n",
    "(iii). Procedural knowledge\n",
    "(iv). A dataset\n",
    "\"\"\"\n",
    "\n",
    "questions['A_1_f'] = question\n",
    "display_answer(index, question)"
   ]
  },
  {
   "cell_type": "code",
   "execution_count": 101,
   "metadata": {},
   "outputs": [
    {
     "data": {
      "text/markdown": [
       "### Question\n",
       "\n",
       "g. An intelligent agent needs to handle uncertainty only when the environment is both:\n",
       "partially observable and nondeterministic\n",
       "[3 marks]\n",
       "\n",
       "Is this statement is True/False?\n",
       "\n",
       "### Answer\n",
       "True\n",
       "### Context\n",
       "- Topic 4: Quantifying uncertainty::Lecture 1: Quantifying uncertainty\n",
       "- Topic 2: Problem solving agents::Lecture 5: Nondeterministic search, partially observable space"
      ],
      "text/plain": [
       "<IPython.core.display.Markdown object>"
      ]
     },
     "metadata": {},
     "output_type": "display_data"
    }
   ],
   "source": [
    "question = \"\"\"\n",
    "g. An intelligent agent needs to handle uncertainty only when the environment is both:\n",
    "partially observable and nondeterministic\n",
    "[3 marks]\n",
    "\n",
    "Is this statement is True/False?\n",
    "\"\"\"\n",
    "\n",
    "questions['A_1_g'] = question\n",
    "display_answer(index, question)"
   ]
  },
  {
   "cell_type": "code",
   "execution_count": 102,
   "metadata": {},
   "outputs": [
    {
     "data": {
      "text/markdown": [
       "### Question\n",
       "\n",
       "The principle of maximum expected utility (MEU) says that a rational agent should\n",
       "choose:\n",
       "Select ONE most appropriate answer.\n",
       "[3 marks]\n",
       "\n",
       "(i). The action that maximises the agent’s current utility.\n",
       "(ii). The action that maximises the agent’s expected utility.\n",
       "(iii). The utility function that maximises the expected agent’s value.\n",
       "(iv). The utility function that maximises the current agent’s value.\n",
       "\n",
       "### Answer\n",
       "(ii). The action that maximises the agent’s expected utility.\n",
       "### Context\n",
       "- Topic 4: Quantifying uncertainty::Lecture 1: Quantifying uncertainty\n",
       "- Topic 4: Quantifying uncertainty::Lecture 5: Decision making"
      ],
      "text/plain": [
       "<IPython.core.display.Markdown object>"
      ]
     },
     "metadata": {},
     "output_type": "display_data"
    }
   ],
   "source": [
    "question = \"\"\"\n",
    "The principle of maximum expected utility (MEU) says that a rational agent should\n",
    "choose:\n",
    "Select ONE most appropriate answer.\n",
    "[3 marks]\n",
    "\n",
    "(i). The action that maximises the agent’s current utility.\n",
    "(ii). The action that maximises the agent’s expected utility.\n",
    "(iii). The utility function that maximises the expected agent’s value.\n",
    "(iv). The utility function that maximises the current agent’s value.\n",
    "\"\"\"\n",
    "\n",
    "questions['A_1_h'] = question\n",
    "display_answer(index, question)"
   ]
  },
  {
   "cell_type": "code",
   "execution_count": 104,
   "metadata": {},
   "outputs": [
    {
     "data": {
      "text/markdown": [
       "### Question\n",
       "\n",
       "i. The Bayesian approach to the source and status of probability numbers is:\n",
       "Select ONE most appropriate answer.\n",
       "[3 marks]\n",
       "\n",
       "(i). Subjective.\n",
       "(ii). Objective.\n",
       "(iii). Frequentist.\n",
       "(iv). Statistical.\n",
       "\n",
       "### Answer\n",
       "(i) Subjective.\n",
       "### Context\n",
       "- Topic 4: Quantifying uncertainty::Lecture 1: Quantifying uncertainty\n",
       "- Topic 4: Quantifying uncertainty::Lecture 3: Bayes rule\n",
       "- Topic 4: Quantifying uncertainty::Lecture: Introduction to Topic 4"
      ],
      "text/plain": [
       "<IPython.core.display.Markdown object>"
      ]
     },
     "metadata": {},
     "output_type": "display_data"
    }
   ],
   "source": [
    "question = \"\"\"\n",
    "i. The Bayesian approach to the source and status of probability numbers is:\n",
    "Select ONE most appropriate answer.\n",
    "[3 marks]\n",
    "\n",
    "(i). Subjective.\n",
    "(ii). Objective.\n",
    "(iii). Frequentist.\n",
    "(iv). Statistical.\n",
    "\"\"\"\n",
    "\n",
    "questions['A_1_i'] = question\n",
    "display_answer(index, question)"
   ]
  },
  {
   "cell_type": "code",
   "execution_count": 105,
   "metadata": {},
   "outputs": [
    {
     "data": {
      "text/markdown": [
       "### Question\n",
       "\n",
       "j. A typical cycle of scientific discovery includes the following steps:\n",
       "Select ALL statements that apply.\n",
       "[3 marks]\n",
       "\n",
       "i. Conducting surveys.\n",
       "ii. Hypothesis generation.\n",
       "iii. Deduction – a prediction from the hypothesis about future effects or\n",
       "experimental results\n",
       "iv. Hypothesis testing, to verify or disprove predictions.\n",
       "\n",
       "### Answer\n",
       "ii. Hypothesis generation.\n",
       "iv. Hypothesis testing, to verify or disprove predictions.\n",
       "### Context\n",
       "- Topic 3: Knowledge, reasoning and planning::Lecture 6: Logical reasoning\n",
       "- Topic 7: Robot Scientist::Lecture 2: The concept of Robot Scientist\n",
       "- Topic 8: Robot Scientist part 2::Lecture 1: Hypotheses generation: abduction\n",
       "- Topic 8: Robot Scientist part 2::Lecture 2: Hypotheses generation: induction"
      ],
      "text/plain": [
       "<IPython.core.display.Markdown object>"
      ]
     },
     "metadata": {},
     "output_type": "display_data"
    }
   ],
   "source": [
    "question = \"\"\"\n",
    "j. A typical cycle of scientific discovery includes the following steps:\n",
    "Select ALL statements that apply.\n",
    "[3 marks]\n",
    "\n",
    "i. Conducting surveys.\n",
    "ii. Hypothesis generation.\n",
    "iii. Deduction – a prediction from the hypothesis about future effects or\n",
    "experimental results\n",
    "iv. Hypothesis testing, to verify or disprove predictions.\n",
    "\"\"\"\n",
    "\n",
    "questions['A_1_j'] = question\n",
    "display_answer(index, question)"
   ]
  },
  {
   "cell_type": "code",
   "execution_count": 106,
   "metadata": {},
   "outputs": [
    {
     "data": {
      "text/markdown": [
       "### Question\n",
       "\n",
       "a) What type of problems are Markov Decision Processes (MDPs) suitable for\n",
       "modelling?\n",
       "\n",
       "### Answer\n",
       "MDPs are suitable for modelling stochastic sequential decision problems, which are problems of making decisions based on a sequence of frames or states, with a probabilistic element and rewards.\n",
       "### Context\n",
       "- Topics 9&10: Game Player::Lecture: Formalising the problem"
      ],
      "text/plain": [
       "<IPython.core.display.Markdown object>"
      ]
     },
     "metadata": {},
     "output_type": "display_data"
    }
   ],
   "source": [
    "question = \"\"\"\n",
    "a) What type of problems are Markov Decision Processes (MDPs) suitable for\n",
    "modelling?\n",
    "\"\"\"\n",
    "\n",
    "questions['B_2_a'] = question\n",
    "display_answer(index, question)"
   ]
  },
  {
   "cell_type": "code",
   "execution_count": 107,
   "metadata": {},
   "outputs": [
    {
     "data": {
      "text/markdown": [
       "### Question\n",
       "\n",
       "b) Choose a video game that is significantly different from the Breakout game\n",
       "seen in the module.\n",
       "[2 marks]\n",
       "\n",
       "• Name and briefly describe the game you have chosen.\n",
       "• What are the control inputs?\n",
       "• How can you gain points in the game?\n",
       "• How might an artificial intelligence system perceive the state of the\n",
       "game? Please do not use the example of screen pixels - think about\n",
       "the underlying state of the game. \n",
       "\n",
       "### Answer\n",
       "\n",
       "\n",
       "a) This question cannot be answered as there is no information provided to guide the answer.\n",
       "### Context\n",
       "- Topics 9&10: Game Player::Lecture: How might we build a game playing AI?\n",
       "- Topics 9&10: Game Player::Lecture: Game player case study introduction\n",
       "- Topics 9&10: Game Player::Lecture: Formalising the problem"
      ],
      "text/plain": [
       "<IPython.core.display.Markdown object>"
      ]
     },
     "metadata": {},
     "output_type": "display_data"
    }
   ],
   "source": [
    "question = \"\"\"\n",
    "b) Choose a video game that is significantly different from the Breakout game\n",
    "seen in the module.\n",
    "[2 marks]\n",
    "\n",
    "• Name and briefly describe the game you have chosen.\n",
    "• What are the control inputs?\n",
    "• How can you gain points in the game?\n",
    "• How might an artificial intelligence system perceive the state of the\n",
    "game? Please do not use the example of screen pixels - think about\n",
    "the underlying state of the game. \n",
    "\"\"\"\n",
    "\n",
    "questions['B_2_b'] = question\n",
    "display_answer(index, question)"
   ]
  },
  {
   "cell_type": "code",
   "execution_count": 108,
   "metadata": {},
   "outputs": [
    {
     "data": {
      "text/markdown": [
       "### Question\n",
       "\n",
       "c) Name and describe THREE elements of a Markov Decision Process. For\n",
       "each element, say what it represents from your chosen video game.\n",
       "[3 marks]\n",
       "\n",
       "### Answer\n",
       "The three elements of a Markov Decision Process are states, actions, and rewards. In a video game, the states could represent different levels or game states. Actions could represent movements or decisions made by the player such as moving left, right or jumping. Rewards represent the points or bonuses earned by the player for completing a specific action or achieving a certain milestone in the game.\n",
       "### Context\n",
       "- Topics 9&10: Game Player::Lecture: Formalising the problem"
      ],
      "text/plain": [
       "<IPython.core.display.Markdown object>"
      ]
     },
     "metadata": {},
     "output_type": "display_data"
    }
   ],
   "source": [
    "question = \"\"\"\n",
    "c) Name and describe THREE elements of a Markov Decision Process. For\n",
    "each element, say what it represents from your chosen video game.\n",
    "[3 marks]\n",
    "\"\"\"\n",
    "\n",
    "questions['B_2_c'] = question\n",
    "display_answer(index, question)"
   ]
  },
  {
   "cell_type": "code",
   "execution_count": 114,
   "metadata": {},
   "outputs": [
    {
     "data": {
      "text/markdown": [
       "### Question\n",
       "\n",
       "d) Do you think a Markov Decision Process is a suitable way to model playing\n",
       "your chosen game? Justify your answer.\n",
       "[2 marks]\n",
       "\n",
       "### Answer\n",
       "There is no clear answer to this question as it depends on the specific details of the chosen game and the goals of the modeling. However, based on the information provided in the context, a Markov decision process is a commonly used approach to model stochastic sequential decision problems, and it can be used to build algorithms for decision making. Therefore, it is possible that a Markov decision process could be a suitable way to model playing a game, but more information is needed to make a definitive judgment.\n",
       "### Context\n",
       "- Topics 9&10: Game Player::Lecture: Formalising the problem"
      ],
      "text/plain": [
       "<IPython.core.display.Markdown object>"
      ]
     },
     "metadata": {},
     "output_type": "display_data"
    }
   ],
   "source": [
    "question = \"\"\"\n",
    "d) Do you think a Markov Decision Process is a suitable way to model playing\n",
    "your chosen game? Justify your answer.\n",
    "[2 marks]\n",
    "\"\"\"\n",
    "\n",
    "questions['B_2_d'] = question\n",
    "display_answer(index, question)"
   ]
  },
  {
   "cell_type": "code",
   "execution_count": 115,
   "metadata": {},
   "outputs": [
    {
     "data": {
      "text/markdown": [
       "### Question\n",
       "\n",
       "e) Reinforcement learning might be described as learning a Q function. If we\n",
       "are using Q-learning to learn how to play video games, state TWO aspects\n",
       "that make Q-learning difficult.\n",
       "[2 marks]\n",
       "\n",
       "### Answer\n",
       "\n",
       "\n",
       "Two aspects that make Q-learning difficult are:\n",
       "1. The exploration-exploitation trade-off: Q-learning requires exploration of new actions to learn their values, but also needs to exploit learned values to make optimal choices. Finding the right balance between exploration and exploitation can be challenging.\n",
       "2. The curse of dimensionality: The number of possible states and actions in a game can be extremely large, leading to exponentially growing Q-tables or state-value functions, making it difficult to explicitly compute and learn the optimal values.\n",
       "### Context\n",
       "- Topics 9&10: Game Player::Lecture: How might we build a game playing AI?\n",
       "- Topics 9&10: Game Player::Lecture: Value functions and DQN\n",
       "- Topics 9&10: Game Player::Lecture: Weekly outro\n",
       "- Topics 9&10: Game Player::Lecture: The loss function for DQN"
      ],
      "text/plain": [
       "<IPython.core.display.Markdown object>"
      ]
     },
     "metadata": {},
     "output_type": "display_data"
    }
   ],
   "source": [
    "question = \"\"\"\n",
    "e) Reinforcement learning might be described as learning a Q function. If we\n",
    "are using Q-learning to learn how to play video games, state TWO aspects\n",
    "that make Q-learning difficult.\n",
    "[2 marks]\n",
    "\"\"\"\n",
    "\n",
    "questions['B_2_e'] = question\n",
    "display_answer(index, question)"
   ]
  },
  {
   "cell_type": "code",
   "execution_count": 118,
   "metadata": {},
   "outputs": [
    {
     "data": {
      "text/markdown": [
       "### Question\n",
       "\n",
       "Nowadays AI systems are capable of making autonomous scientific discoveries. In\n",
       "this module, we considered several AI systems capable of making automated\n",
       "scientific discoveries, for example, the mobile robotic chemist, the automatic\n",
       "statistician, the robot scientists Adam and Eve. The research in automated scientific\n",
       "discovery is flourishing, and the target is to develop systems capable of making\n",
       "significant scientific discoveries.\n",
       "\n",
       "a) What are the advantages of automated discovery systems?\n",
       "[3 marks]\n",
       "\n",
       "### Answer\n",
       "The passage does not provide a clear and direct answer to this question, and the information given is focused more on describing examples of automated discovery systems and the progress in this field rather than discussing their advantages. Therefore, it is not possible to provide a proper answer and earn marks for this question.\n",
       "### Context\n",
       "- Topic 7: Robot Scientist::Lecture 2: The concept of Robot Scientist\n",
       "- Topic 7: Robot Scientist::Lecture 3: History of Robot Scientists and future trends"
      ],
      "text/plain": [
       "<IPython.core.display.Markdown object>"
      ]
     },
     "metadata": {},
     "output_type": "display_data"
    }
   ],
   "source": [
    "question = \"\"\"\n",
    "Nowadays AI systems are capable of making autonomous scientific discoveries. In\n",
    "this module, we considered several AI systems capable of making automated\n",
    "scientific discoveries, for example, the mobile robotic chemist, the automatic\n",
    "statistician, the robot scientists Adam and Eve. The research in automated scientific\n",
    "discovery is flourishing, and the target is to develop systems capable of making\n",
    "significant scientific discoveries.\n",
    "\n",
    "a) What are the advantages of automated discovery systems?\n",
    "[3 marks]\n",
    "\"\"\"\n",
    "\n",
    "questions['B_3_a'] = question\n",
    "display_answer(index, question)"
   ]
  },
  {
   "cell_type": "code",
   "execution_count": 121,
   "metadata": {},
   "outputs": [
    {
     "data": {
      "text/markdown": [
       "### Question\n",
       "\n",
       "Nowadays AI systems are capable of making autonomous scientific discoveries. In\n",
       "this module, we considered several AI systems capable of making automated\n",
       "scientific discoveries, for example, the mobile robotic chemist, the automatic\n",
       "statistician, the robot scientists Adam and Eve. The research in automated scientific\n",
       "discovery is flourishing, and the target is to develop systems capable of making\n",
       "significant scientific discoveries.\n",
       "\n",
       "b) What are the current limitations of automated discovery systems? \n",
       "[3 marks]\n",
       "\n",
       "### Answer\n",
       "The passage mentions that while there has been steady progress in the development of automated discovery systems, the discoveries made so far are still on a modest scale. Therefore, one limitation could be the scale and significance of the discoveries made by these systems. Additionally, the target is to develop systems that are capable of significant scientific discoveries, suggesting that the current systems may not be able to achieve this goal yet. Another limitation could be the complexity and range of experiments that a system can perform, as some may be limited to specific domains or experimental setups.\n",
       "### Context\n",
       "- Topic 7: Robot Scientist::Lecture 2: The concept of Robot Scientist\n",
       "- Topic 7: Robot Scientist::Lecture 3: History of Robot Scientists and future trends"
      ],
      "text/plain": [
       "<IPython.core.display.Markdown object>"
      ]
     },
     "metadata": {},
     "output_type": "display_data"
    }
   ],
   "source": [
    "question = \"\"\"\n",
    "Nowadays AI systems are capable of making autonomous scientific discoveries. In\n",
    "this module, we considered several AI systems capable of making automated\n",
    "scientific discoveries, for example, the mobile robotic chemist, the automatic\n",
    "statistician, the robot scientists Adam and Eve. The research in automated scientific\n",
    "discovery is flourishing, and the target is to develop systems capable of making\n",
    "significant scientific discoveries.\n",
    "\n",
    "b) What are the current limitations of automated discovery systems? \n",
    "[3 marks]\n",
    "\"\"\"\n",
    "\n",
    "questions['B_3_b'] = question\n",
    "display_answer(index, question)"
   ]
  },
  {
   "cell_type": "code",
   "execution_count": 122,
   "metadata": {},
   "outputs": [
    {
     "data": {
      "text/markdown": [
       "### Question\n",
       "\n",
       "Nowadays AI systems are capable of making autonomous scientific discoveries. In\n",
       "this module, we considered several AI systems capable of making automated\n",
       "scientific discoveries, for example, the mobile robotic chemist, the automatic\n",
       "statistician, the robot scientists Adam and Eve. The research in automated scientific\n",
       "discovery is flourishing, and the target is to develop systems capable of making\n",
       "significant scientific discoveries.\n",
       "\n",
       "c) Describe the functionality of one of the key components of the robot scientist\n",
       "system, e.g. a hypotheses generator, a reasoning engine, an experiments\n",
       "planner, or data analysis component. What is required for the functioning of\n",
       "the selected component? What are its input and output? How does it interact\n",
       "with other components of the system? Outline the workings of the component.\n",
       "[4 marks]\n",
       "\n",
       "### Answer\n",
       "One of the key components of the robot scientist system is the hypotheses generator. Its main function is to infer new hypotheses based on the knowledge and data stored in the system's knowledge base. To function properly, the hypotheses generator requires a well-structured and curated knowledge base that encodes information about the scientific domain it operates in.\n",
       "\n",
       "The input for the hypotheses generator is the knowledge base, which contains data and information about the scientific domain. It also relies on data generated from previous experiments conducted by the system. The output of the hypotheses generator is a set of inferred hypotheses that are not necessarily true. \n",
       "\n",
       "The hypotheses generator interacts with other components of the system, such as the reasoning engine and the experiments planner, to formulate and test the newly generated hypotheses. The reasoning engine evaluates the inferred hypotheses and decides which ones should be tested through experimentation. The experiments planner then designs the necessary experiments and executes them using the system's robotic equipment. \n",
       "\n",
       "Overall, the hypotheses generator is a crucial component of the robot scientist system, as it is responsible for generating novel hypotheses that can lead to significant scientific discoveries. It relies on a well-curated knowledge base and works in conjunction with other components of the system to ensure the scientific process is carried out efficiently and effectively.\n",
       "### Context\n",
       "- Topic 7: Robot Scientist::Lecture 5: Overview of the toy system: components and their interactions\n",
       "- Topic 7: Robot Scientist::Lecture 2: The concept of Robot Scientist\n",
       "- Topic 8: Robot Scientist part 2::Introduction to Topic 8\n",
       "- Topic 7: Robot Scientist::Introduction to Topic 7"
      ],
      "text/plain": [
       "<IPython.core.display.Markdown object>"
      ]
     },
     "metadata": {},
     "output_type": "display_data"
    }
   ],
   "source": [
    "question = \"\"\"\n",
    "Nowadays AI systems are capable of making autonomous scientific discoveries. In\n",
    "this module, we considered several AI systems capable of making automated\n",
    "scientific discoveries, for example, the mobile robotic chemist, the automatic\n",
    "statistician, the robot scientists Adam and Eve. The research in automated scientific\n",
    "discovery is flourishing, and the target is to develop systems capable of making\n",
    "significant scientific discoveries.\n",
    "\n",
    "c) Describe the functionality of one of the key components of the robot scientist\n",
    "system, e.g. a hypotheses generator, a reasoning engine, an experiments\n",
    "planner, or data analysis component. What is required for the functioning of\n",
    "the selected component? What are its input and output? How does it interact\n",
    "with other components of the system? Outline the workings of the component.\n",
    "[4 marks]\n",
    "\"\"\"\n",
    "\n",
    "questions['B_3_c'] = question\n",
    "display_answer(index, question)"
   ]
  },
  {
   "cell_type": "code",
   "execution_count": 123,
   "metadata": {},
   "outputs": [
    {
     "data": {
      "text/markdown": [
       "### Question\n",
       "\n",
       "a) What is a genetic algorithm?\n",
       "[1 mark]\n",
       "\n",
       "### Answer\n",
       "A genetic algorithm is a probabilistic search procedure designed to work on large spaces involving states that can be represented as strings, which reflects the process of natural selection, where the fittest individuals are selected for further reproduction. It includes three evolutionary processes: selection, gene crossover, and mutation, and has five components: initial population, fitness function, selection, crossover, and mutation.\n",
       "### Context\n",
       "- Topic 2: Problem solving agents::Lecture 4: Genetic algorithms\n",
       "- Topics 5&6: Creatures::Lecture: Artificial evolution and genetic algorithms: fitness functions, genetic encoding and manipulation, population models\n",
       "- Topics 5&6: Creatures::Lecture: Bioinspired computing\n",
       "- Topics 5&6: Creatures::Lecture: Introduction to Lesson 1"
      ],
      "text/plain": [
       "<IPython.core.display.Markdown object>"
      ]
     },
     "metadata": {},
     "output_type": "display_data"
    }
   ],
   "source": [
    "question = \"\"\"\n",
    "a) What is a genetic algorithm?\n",
    "[1 mark]\n",
    "\"\"\"\n",
    "\n",
    "questions['B_4_a'] = question\n",
    "display_answer(index, question)"
   ]
  },
  {
   "cell_type": "code",
   "execution_count": 124,
   "metadata": {},
   "outputs": [
    {
     "data": {
      "text/markdown": [
       "### Question\n",
       "\n",
       "b) Draw a diagram which illustrates the runtime of a genetic algorithm. Show the\n",
       "major components of the software and when they are used.\n",
       "[5 marks]\n",
       "\n",
       "### Answer\n",
       "\n",
       "\n",
       "I'm sorry, as an AI language model, I don't have the capability to draw a diagram. However, I can provide you with the major components of a genetic algorithm and when they are used:\n",
       "\n",
       "1. Initial Population: Starting pool of individuals\n",
       "2. Fitness Function: Measures the fitness of each individual\n",
       "3. Selection: Choosing individuals to become parents\n",
       "4. Crossover: Exchanging genetic information between parents to produce offspring\n",
       "5. Mutation: Randomly changing genetic information in offspring to introduce diversity\n",
       "6. Termination: Ending the algorithm when a satisfactory solution is found or the maximum number of iterations is reached  \n",
       "\n",
       "These components are used throughout the runtime of a genetic algorithm in the following order: \n",
       "1. Initial population is created\n",
       "2. Fitness function is applied to the individuals\n",
       "3. Selection of parents is performed based on fitness\n",
       "4. Crossover is applied to produce offspring\n",
       "5. Mutation is applied to introduce diversity\n",
       "6. The process repeats until a satisfactory solution is found or the maximum number of iterations is reached.\n",
       "### Context\n",
       "- Topic 2: Problem solving agents::Lecture 4: Genetic algorithms\n",
       "- Topics 5&6: Creatures::Lesson 4 Introduction\n",
       "- Topics 5&6: Creatures::Lecture: Introduction to Lesson 1"
      ],
      "text/plain": [
       "<IPython.core.display.Markdown object>"
      ]
     },
     "metadata": {},
     "output_type": "display_data"
    }
   ],
   "source": [
    "question = \"\"\"\n",
    "b) Draw a diagram which illustrates the runtime of a genetic algorithm. Show the\n",
    "major components of the software and when they are used.\n",
    "[5 marks]\n",
    "\"\"\"\n",
    "\n",
    "questions['B_4_b'] = question\n",
    "display_answer(index, question)"
   ]
  },
  {
   "cell_type": "code",
   "execution_count": 126,
   "metadata": {},
   "outputs": [
    {
     "data": {
      "text/markdown": [
       "### Question\n",
       "\n",
       "c) Genetic algorithms employ a design process which is similar to the human\n",
       "design process. Provide TWO arguments against this statement and TWO\n",
       "arguments in support of this statement, using details of the design of genetic\n",
       "algorithms.\n",
       "[4 marks]\n",
       "\n",
       "### Answer\n",
       "\n",
       "\n",
       "The context does not provide any information that supports or opposes the statement that genetic algorithms employ a design process similar to the human design process. Therefore, it is not possible to provide two arguments for or against the statement using details of the design of genetic algorithms.\n",
       "### Context\n",
       "- Topic 2: Problem solving agents::Lecture 4: Genetic algorithms\n",
       "- Topics 5&6: Creatures::Lecture: Introduction to Lesson 1\n",
       "- Topics 5&6: Creatures::Lecture: Lesson 1 summary"
      ],
      "text/plain": [
       "<IPython.core.display.Markdown object>"
      ]
     },
     "metadata": {},
     "output_type": "display_data"
    }
   ],
   "source": [
    "question = \"\"\"\n",
    "c) Genetic algorithms employ a design process which is similar to the human\n",
    "design process. Provide TWO arguments against this statement and TWO\n",
    "arguments in support of this statement, using details of the design of genetic\n",
    "algorithms.\n",
    "[4 marks]\n",
    "\"\"\"\n",
    "\n",
    "questions['B_4_c'] = question\n",
    "display_answer(index, question)"
   ]
  },
  {
   "cell_type": "code",
   "execution_count": 127,
   "metadata": {},
   "outputs": [
    {
     "data": {
      "text/markdown": [
       "### Question\n",
       "\n",
       "In this module, we have adopted an agent-based approach for considered AI systems.\n",
       "Your task is to propose an AI agent and provide its description (~1-2 pages). A\n",
       "description of an AI agent should include specification of its tasks, environment,\n",
       "background knowledge (if any), actions, performance measures.\n",
       "\n",
       "Propose an AI agent. For example, a birthday agent can monitor when birthdays of\n",
       "your friends, relatives and colleagues are, advise you what birthday presents to buy\n",
       "depending on preferences and availability, organise their purchase and delivery.\n",
       "A description of your AI agent must include the following:\n",
       "\n",
       "• Aim: what is the purpose for the development of your AI agent? What tasks\n",
       "will it be it able to work on?\n",
       "[10 marks]\n",
       "\n",
       "### Answer\n",
       "\n",
       "\n",
       "The AI agent proposed is a grocery shopping assistant. The aim of this AI agent is to assist customers in shopping for groceries by providing recommendations for healthy and affordable food items based on their preferences, previous purchases, and environmental considerations. \n",
       "\n",
       "Tasks: The AI agent will be able to perform the following tasks:\n",
       "- Analyze preferences and dietary requirements of the customer\n",
       "- Suggest recipes and food items based on the customer's preference\n",
       "- Suggest alternative food items in case the preferred items are out of stock or not available\n",
       "- Provide nutritional information and health benefits of food items\n",
       "- Track the frequency of purchase of certain items and suggest items for customers to stock up on\n",
       "- Provide recommendations for purchasing locally-produced food items to reduce carbon footprint\n",
       "\n",
       "Environment: The AI agent will be available as a web or mobile application that can be accessed by customers while shopping. The application will interact with available databases of grocery store inventory, pricing, and nutritional information.\n",
       "\n",
       "Background knowledge: The AI agent will use machine learning algorithms to learn from the customer's previous food purchases, search histories, and feedback. It will also incorporate environmental considerations such as location and seasonality.\n",
       "\n",
       "Actions: The AI agent will provide recommendations on food items to purchase, suggest healthy alternatives, track shopping patterns, and provide nutritional information to assist customers in making informed choices.\n",
       "\n",
       "Performance measures: The performance of the AI agent will be measured based on the satisfaction of the customer, the number of recommendations that were accepted, and the accuracy of the suggested alternatives. The AI agent will continue to learn and improve over time, based on the customer's feedback and its performance.\n",
       "### Context\n",
       "- Topic 1: Introduction::Lecture: Topic 1 summary\n",
       "- Topic 1: Introduction::Lecture 1: Defining AI\n",
       "- Module information::Module introduction video"
      ],
      "text/plain": [
       "<IPython.core.display.Markdown object>"
      ]
     },
     "metadata": {},
     "output_type": "display_data"
    }
   ],
   "source": [
    "question = \"\"\"\n",
    "In this module, we have adopted an agent-based approach for considered AI systems.\n",
    "Your task is to propose an AI agent and provide its description (~1-2 pages). A\n",
    "description of an AI agent should include specification of its tasks, environment,\n",
    "background knowledge (if any), actions, performance measures.\n",
    "\n",
    "Propose an AI agent. For example, a birthday agent can monitor when birthdays of\n",
    "your friends, relatives and colleagues are, advise you what birthday presents to buy\n",
    "depending on preferences and availability, organise their purchase and delivery.\n",
    "A description of your AI agent must include the following:\n",
    "\n",
    "• Aim: what is the purpose for the development of your AI agent? What tasks\n",
    "will it be it able to work on?\n",
    "[10 marks]\n",
    "\"\"\"\n",
    "\n",
    "questions['C_5_a'] = question\n",
    "display_answer(index, question)"
   ]
  },
  {
   "cell_type": "code",
   "execution_count": 130,
   "metadata": {},
   "outputs": [
    {
     "data": {
      "text/markdown": [
       "### Question\n",
       "\n",
       "In this module, we have adopted an agent-based approach for considered AI systems.\n",
       "Your task is to propose an AI agent and provide its description (~1-2 pages).\n",
       "\n",
       "• Motivation: why the proposed agent is important to develop? Who will\n",
       "benefit from the development of the proposed AI agent?\n",
       "[5 marks]\n",
       "\n",
       "### Answer\n",
       "\n",
       "\n",
       "The proposed AI agent is a personal assistant that uses natural language processing (NLP) to understand and respond to the user's queries and commands. The motivation behind developing this AI agent is to simplify the daily tasks of individuals and businesses by providing them with an intelligent and efficient assistant that can help them manage their schedules, tasks, and communication.\n",
       "\n",
       "The development of this AI agent is crucial because it can provide great benefits to a wide range of users, including professionals, executives, entrepreneurs, and students. Busy professionals can use this AI agent to manage their appointments and meetings, organize their tasks, and prioritize their daily activities. Executives can use it to analyze data and generate reports, while entrepreneurs can use it to manage their projects and keep track of their finances. Students can use it to research and organize their academic work, schedule their study time, and receive reminders about deadlines.\n",
       "\n",
       "The proposed AI agent is an intelligent system that can adapt to the user's preferences and learn from their behavior to provide personalized recommendations and suggestions. It can also integrate with various other apps and services to provide a seamless user experience. Overall, the development of this AI agent can revolutionize the way individuals and businesses manage their daily tasks and increase their productivity and efficiency.\n",
       "### Context\n",
       "- Topic 1: Introduction::Lecture: Topic 1 summary\n",
       "- Topic 1: Introduction::Lecture 1: Defining AI\n",
       "- Module information::Module introduction video"
      ],
      "text/plain": [
       "<IPython.core.display.Markdown object>"
      ]
     },
     "metadata": {},
     "output_type": "display_data"
    }
   ],
   "source": [
    "question = \"\"\"\n",
    "In this module, we have adopted an agent-based approach for considered AI systems.\n",
    "Your task is to propose an AI agent and provide its description (~1-2 pages).\n",
    "\n",
    "• Motivation: why the proposed agent is important to develop? Who will\n",
    "benefit from the development of the proposed AI agent?\n",
    "[5 marks]\n",
    "\"\"\"\n",
    "\n",
    "questions['C_5_b'] = question\n",
    "display_answer(index, question)"
   ]
  },
  {
   "cell_type": "code",
   "execution_count": 131,
   "metadata": {},
   "outputs": [
    {
     "data": {
      "text/markdown": [
       "### Question\n",
       "\n",
       "In this module, we have adopted an agent-based approach for considered AI systems.\n",
       "Your task is to propose an AI agent and provide its description (~1-2 pages). \n",
       "\n",
       "Environment: describe the environment where your agent will be acting. Is it\n",
       "deterministic, not deterministic, observable, partially observable, etc.?\n",
       "Explain, why do you think so? \n",
       "[10 marks]\n",
       "\n",
       "### Answer\n",
       "\n",
       "\n",
       "I propose an AI agent that could provide personalized fashion recommendations to customers. The environment where this agent will function is partially observable, as it is not always possible for the agent's sensors to access the complete state of the environment. For example, it may not always be possible for the agent to have complete information about a customer's preferences, budget, personal style, etc., as these factors may differ from one customer to another. \n",
       "\n",
       "The agent will have sensors, such as image recognition software, that can identify customer demographics and clothing preferences based on their social media images, previous shopping behavior, and customer feedback. The agent will utilize this information to suggest suitable clothing items that align with each customer's unique style and budget. The performance measure for the agent will be based on the customer satisfaction metric, which could include factors like purchase history, return rate, and feedback on the AI agent's recommendations.\n",
       "\n",
       "The interaction between the AI agent and the customer will be critical in shaping the customer's shopping experience. The agent would need to be able to communicate effectively with customers, provide personalized recommendations based on the unique context of each customer, and learn from the results to improve recommendations in the future.\n",
       "\n",
       "As the environment where the agent will operate is complex and partially observable, the AI agent will need to go through multiple learning cycles to improve its accuracy and personalization abilities. Thus, the exploration and learning stages will be critical for the effective functioning of the agent in the fashion industry. Additionally, the agent's task environment may require it to operate in a multi-agent environment, where it will have to interact with other agents or systems such as those of clothing brands or retailers.\n",
       "### Context\n",
       "- Topic 1: Introduction::Lecture 1: Defining AI\n",
       "- Topic 2: Problem solving agents::Lecture 5: Nondeterministic search, partially observable space\n",
       "- Topic 1: Introduction::Lecture 4: Properties of task environments\n",
       "- Module information::Module introduction video"
      ],
      "text/plain": [
       "<IPython.core.display.Markdown object>"
      ]
     },
     "metadata": {},
     "output_type": "display_data"
    }
   ],
   "source": [
    "question = \"\"\"\n",
    "In this module, we have adopted an agent-based approach for considered AI systems.\n",
    "Your task is to propose an AI agent and provide its description (~1-2 pages). \n",
    "\n",
    "Environment: describe the environment where your agent will be acting. Is it\n",
    "deterministic, not deterministic, observable, partially observable, etc.?\n",
    "Explain, why do you think so? \n",
    "[10 marks]\n",
    "\"\"\"\n",
    "\n",
    "questions['C_5_c'] = question\n",
    "display_answer(index, question)"
   ]
  },
  {
   "cell_type": "code",
   "execution_count": 132,
   "metadata": {},
   "outputs": [
    {
     "data": {
      "text/markdown": [
       "### Question\n",
       "\n",
       "In this module, we have adopted an agent-based approach for considered AI systems.\n",
       "Your task is to propose an AI agent and provide its description (~1-2 pages). \n",
       "\n",
       "• Functionality: briefly describe the workings of your agent. Will be it a standalone system? Can it be integrated with other AI agents or systems?\n",
       "[5 marks]\n",
       "\n",
       "### Answer\n",
       "\n",
       "\n",
       "As per the module, I propose an AI agent called \"Personal Assistant Agent (PAA),\" which is a standalone system designed to assist people in their daily routine tasks. The PAA can be integrated with other AI agents or systems to enhance its functionality. \n",
       "\n",
       "The main functionality of the PAA is to handle tasks such as scheduling appointments, setting reminders, and providing the user with relevant information. The agent will work on user commands or automatically suggest tasks to the user based on their habits and preferences. \n",
       "\n",
       "The PAA is designed using various AI techniques such as natural language processing, machine learning, and automated reasoning. The system will analyze user inputs, understand the meaning behind them, and respond accordingly. The machine learning algorithm will enable the system to learn from the user's feedback and improve the system's accuracy over time. \n",
       "\n",
       "In addition, the PAA will be equipped with a voice recognition system that allows the user to interact with it hands-free. The system's functionality can be enhanced by integrating it with other systems such as a calendar system, weather forecasting system, and a smart home automation system. \n",
       "\n",
       "Overall, the PAA will be an indispensable tool for managing daily tasks and will significantly improve the user's productivity while saving time.\n",
       "### Context\n",
       "- Topic 1: Introduction::Lecture: Topic 1 summary\n",
       "- Topic 1: Introduction::Lecture 1: Defining AI\n",
       "- Module information::Module introduction video"
      ],
      "text/plain": [
       "<IPython.core.display.Markdown object>"
      ]
     },
     "metadata": {},
     "output_type": "display_data"
    }
   ],
   "source": [
    "question = \"\"\"\n",
    "In this module, we have adopted an agent-based approach for considered AI systems.\n",
    "Your task is to propose an AI agent and provide its description (~1-2 pages). \n",
    "\n",
    "• Functionality: briefly describe the workings of your agent. Will be it a standalone system? Can it be integrated with other AI agents or systems?\n",
    "[5 marks]\n",
    "\"\"\"\n",
    "\n",
    "questions['C_5_d'] = question\n",
    "display_answer(index, question)"
   ]
  },
  {
   "cell_type": "code",
   "execution_count": 133,
   "metadata": {},
   "outputs": [
    {
     "data": {
      "text/markdown": [
       "### Question\n",
       "\n",
       "In this module, we have adopted an agent-based approach for considered AI systems.\n",
       "Your task is to propose an AI agent and provide its description (~1-2 pages). \n",
       "\n",
       "Data and knowledge: Will your agent use dataset(s) and knowledge? If so,\n",
       "describe those data, knowledge and how they can be obtained. If not,\n",
       "explain why using data and knowledge is not required.\n",
       "[5 marks]\n",
       "\n",
       "### Answer\n",
       "\n",
       "\n",
       "As per the module stated above, an agent-based approach for AI systems will be adopted. To propose an AI agent, I would like to introduce a Virtual Personal Assistant (VPA) that uses Natural Language Processing (NLP) and Machine Learning (ML) techniques.\n",
       "\n",
       "This VPA will be capable of understanding natural language and responding to user commands or questions. It will gather data and information from various sources and provide the desired outcomes as per user requests. It will have the capability to learn from past interactions while making decisions and continuously improving its performance.\n",
       "\n",
       "The VPA will require a large set of data and knowledge to make intelligent decisions. It will need to access various databases, social media platforms, and other resources to gather relevant information. Machine Learning techniques can help it learn from past interactions and personalize its responses based on user behavior and preferences.\n",
       "\n",
       "The knowledgebase can also include various domains of knowledge, such as general knowledge, common sense, and personalized knowledge about a user's habits to provide more relevant and accurate responses.\n",
       "\n",
       "However, privacy concerns must be addressed while accessing any personal data from users. The AI agent must follow ethical standards and principles to ensure that it does not violate any individual rights.\n",
       "\n",
       "In conclusion, the proposed AI agent, Virtual Personal Assistant, will need access to a vast amount of data and knowledge to make effective and personalized decisions. Natural Language Processing and Machine Learning techniques will enable it to understand user commands and preferences while learning from past interactions.\n",
       "### Context\n",
       "- Topic 1: Introduction::Lecture: Topic 1 summary\n",
       "- Topic 1: Introduction::Lecture 1: Defining AI\n",
       "- Module information::Module introduction video"
      ],
      "text/plain": [
       "<IPython.core.display.Markdown object>"
      ]
     },
     "metadata": {},
     "output_type": "display_data"
    }
   ],
   "source": [
    "question = \"\"\"\n",
    "In this module, we have adopted an agent-based approach for considered AI systems.\n",
    "Your task is to propose an AI agent and provide its description (~1-2 pages). \n",
    "\n",
    "Data and knowledge: Will your agent use dataset(s) and knowledge? If so,\n",
    "describe those data, knowledge and how they can be obtained. If not,\n",
    "explain why using data and knowledge is not required.\n",
    "[5 marks]\n",
    "\"\"\"\n",
    "\n",
    "questions['C_5_e'] = question\n",
    "display_answer(index, question)"
   ]
  },
  {
   "cell_type": "code",
   "execution_count": 134,
   "metadata": {},
   "outputs": [
    {
     "data": {
      "text/markdown": [
       "### Question\n",
       "\n",
       "In this module, we have adopted an agent-based approach for considered AI systems.\n",
       "Your task is to propose an AI agent and provide its description (~1-2 pages). \n",
       "\n",
       "• Evaluation: Explain what performance measures can be used to evaluate\n",
       "your agent.\n",
       "[5 marks]\n",
       "\n",
       "### Answer\n",
       "\n",
       "\n",
       "For this assignment, I propose a chatbot AI agent designed to assist customers in online shopping. The agent will be able to understand user questions and provide relevant answers, including product recommendations and details, pricing, and availability. The agent will also be able to help users navigate the e-commerce platform and make purchases.\n",
       "\n",
       "To build this agent, we will use natural language processing techniques to understand user queries and keywords, as well as machine learning algorithms to adapt to the user's language and preferences over time. The agent will also be integrated with a recommendation system to suggest products based on user search history and behavior on the platform.\n",
       "\n",
       "In terms of performance evaluation, we can use several measures to assess the effectiveness of our chatbot agent. Firstly, we can measure the accuracy of responses provided by the agent, comparing them to the correct answers or user feedback. Secondly, we can track the user's satisfaction level, asking them to rate the agent's helpfulness and ease of use on a scale of 1-5. It would also be valuable to measure the agent's speed and efficiency in handling requests, monitoring the response time and number of queries per hour, for example.\n",
       "\n",
       "Overall, the success of our chatbot agent will depend on its ability to accurately interpret user queries and provide relevant and helpful responses, improving the user's shopping experience on the e-commerce platform. By measuring its performance using the above criteria, we can continually improve and optimize the agent's capabilities.\n",
       "### Context\n",
       "- Topic 1: Introduction::Lecture: Topic 1 summary\n",
       "- Topic 1: Introduction::Lecture 1: Defining AI\n",
       "- Module information::Module introduction video"
      ],
      "text/plain": [
       "<IPython.core.display.Markdown object>"
      ]
     },
     "metadata": {},
     "output_type": "display_data"
    }
   ],
   "source": [
    "question = \"\"\"\n",
    "In this module, we have adopted an agent-based approach for considered AI systems.\n",
    "Your task is to propose an AI agent and provide its description (~1-2 pages). \n",
    "\n",
    "• Evaluation: Explain what performance measures can be used to evaluate\n",
    "your agent.\n",
    "[5 marks]\n",
    "\"\"\"\n",
    "\n",
    "questions['C_5_g'] = question\n",
    "display_answer(index, question)"
   ]
  },
  {
   "cell_type": "code",
   "execution_count": 136,
   "metadata": {},
   "outputs": [
    {
     "data": {
      "text/markdown": [
       "### Question\n",
       "\n",
       "In this module, we have adopted an agent-based approach for considered AI systems.\n",
       "Your task is to propose an AI agent and provide its description (~1-2 pages). A\n",
       "description of an AI agent should include specification of its tasks, environment,\n",
       "background knowledge (if any), actions, performance measures.\n",
       "\n",
       "Propose an extension or a modification of one of the considered agents or AI\n",
       "systems. For example, you can modify the vacuum cleaner example by proposing an\n",
       "intelligent vacuum cleaner that can decide what to clean, how and when. It can be\n",
       "integrated with an intelligent shopping agent for buying cleaning materials.\n",
       "Integration with a calendar agent can help with scheduling of cleaning, for example\n",
       "before the owner is back from holidays. \n",
       "\n",
       "A description of your modification or extension must include the following:\n",
       "• A brief description of the original agent or system: its tasks, functionality,\n",
       "environment, its limitations.\n",
       "[5 marks]\n",
       "\n",
       "• Aim of the modified or extended agent: what is the purpose for the\n",
       "development of your agent? What additional tasks will it be it able to work on?\n",
       "[5 marks]\n",
       "\n",
       "• Environment: describe the environment where your agent will be acting. Is it\n",
       "deterministic, not deterministic, observable, partially observable, etc.? Is it\n",
       "different from the original environment? Explain, why do you think so? \n",
       "[10 marks]\n",
       "\n",
       "• Functionality: briefly describe the workings of your modified/extended agent.\n",
       "What is the difference with the original agent/system?\n",
       "[10 marks]\n",
       "\n",
       "• Data and knowledge: Will your modified/ extended agent use additional\n",
       "dataset(s) and knowledge? If so, describe those data, knowledge and how\n",
       "they can be obtained. If not, explain why using data and knowledge is not\n",
       "required.\n",
       "[5 marks]\n",
       "\n",
       "• Evaluation: Explain what performance measures can be used to evaluate your\n",
       "modified/ extended agent.\n",
       "[5 marks]\n",
       "\n",
       "### Answer\n",
       "\n",
       "\n",
       "Proposal for an AI Agent: Personalized Recipe Recommender System\n",
       "\n",
       "Original Agent/System: A recipe recommender system that suggests recipes based on user preferences, dietary restrictions, and ingredients availability.\n",
       "\n",
       "Aim of Modified/Extended Agent: The goal of our modified recipe recommender system is to personalize recipe recommendations by considering users' cultural background and food preferences.\n",
       "\n",
       "Environment: The environment is partially observable as the user's cultural background and preference for certain cuisines may not be easily detected. This modified agent will require data on users' cultural background and cuisine preferences to make accurate recipe suggestions. This environment is different from the original as it takes into account additional factors to provide personalized recipe recommendations.\n",
       "\n",
       "Functionality: The modified agent will first ask the user to provide their cultural background and cuisine preferences. It will then use this information along with the user's previously stated preferences, dietary restrictions, and available ingredients to suggest personalized recipes. The system will also provide information and history behind each suggested recipe.\n",
       "\n",
       "Data and Knowledge: The modified agent will require additional data on different cultural cuisines and preferences to provide accurate personalized recipe recommendations. This data can be obtained by analyzing food blogs and recipe websites.\n",
       "\n",
       "Evaluation: The performance of the modified agent can be evaluated by assessing the accuracy of personalized recipe recommendations compared to the user's preferences and satisfaction with the recipes suggested. This can be measured through user feedback and ratings of the recommended recipes. \n",
       "\n",
       "Overall, our proposed modification to the recipe recommender system is focused on providing highly personalized recipe recommendations by considering a wider range of factors, such as cultural background and preferences. With this additional functionality, users will be provided with a more diverse and engaging experience while preparing meals that they enjoy.\n",
       "### Context\n",
       "- Topic 7: Robot Scientist::Lecture 5: Overview of the toy system: components and their interactions\n",
       "- Module information::Module introduction video\n",
       "- Topic 1: Introduction::Lecture 4: Properties of task environments"
      ],
      "text/plain": [
       "<IPython.core.display.Markdown object>"
      ]
     },
     "metadata": {},
     "output_type": "display_data"
    }
   ],
   "source": [
    "question = \"\"\"\n",
    "In this module, we have adopted an agent-based approach for considered AI systems.\n",
    "Your task is to propose an AI agent and provide its description (~1-2 pages). A\n",
    "description of an AI agent should include specification of its tasks, environment,\n",
    "background knowledge (if any), actions, performance measures.\n",
    "\n",
    "Propose an extension or a modification of one of the considered agents or AI\n",
    "systems. For example, you can modify the vacuum cleaner example by proposing an\n",
    "intelligent vacuum cleaner that can decide what to clean, how and when. It can be\n",
    "integrated with an intelligent shopping agent for buying cleaning materials.\n",
    "Integration with a calendar agent can help with scheduling of cleaning, for example\n",
    "before the owner is back from holidays. \n",
    "\n",
    "A description of your modification or extension must include the following:\n",
    "• A brief description of the original agent or system: its tasks, functionality,\n",
    "environment, its limitations.\n",
    "[5 marks]\n",
    "\n",
    "• Aim of the modified or extended agent: what is the purpose for the\n",
    "development of your agent? What additional tasks will it be it able to work on?\n",
    "[5 marks]\n",
    "\n",
    "• Environment: describe the environment where your agent will be acting. Is it\n",
    "deterministic, not deterministic, observable, partially observable, etc.? Is it\n",
    "different from the original environment? Explain, why do you think so? \n",
    "[10 marks]\n",
    "\n",
    "• Functionality: briefly describe the workings of your modified/extended agent.\n",
    "What is the difference with the original agent/system?\n",
    "[10 marks]\n",
    "\n",
    "• Data and knowledge: Will your modified/ extended agent use additional\n",
    "dataset(s) and knowledge? If so, describe those data, knowledge and how\n",
    "they can be obtained. If not, explain why using data and knowledge is not\n",
    "required.\n",
    "[5 marks]\n",
    "\n",
    "• Evaluation: Explain what performance measures can be used to evaluate your\n",
    "modified/ extended agent.\n",
    "[5 marks]\n",
    "\"\"\"\n",
    "\n",
    "questions['C_6'] = question\n",
    "display_answer(index, question)"
   ]
  }
 ],
 "metadata": {
  "kernelspec": {
   "display_name": "Python 3",
   "language": "python",
   "name": "python3"
  },
  "language_info": {
   "codemirror_mode": {
    "name": "ipython",
    "version": 3
   },
   "file_extension": ".py",
   "mimetype": "text/x-python",
   "name": "python",
   "nbconvert_exporter": "python",
   "pygments_lexer": "ipython3",
   "version": "3.8.16"
  },
  "orig_nbformat": 4
 },
 "nbformat": 4,
 "nbformat_minor": 2
}
