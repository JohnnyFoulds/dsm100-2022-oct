{
 "cells": [
  {
   "attachments": {},
   "cell_type": "markdown",
   "metadata": {},
   "source": [
    "# 04. Pinecone Query\n",
    "\n",
    "Query the index created in notebook 03."
   ]
  },
  {
   "cell_type": "code",
   "execution_count": 22,
   "metadata": {},
   "outputs": [],
   "source": [
    "import os\n",
    "import openai\n",
    "import pinecone\n",
    "\n",
    "from tqdm.auto import tqdm\n",
    "from dotenv import load_dotenv\n",
    "from IPython.core.display import Markdown"
   ]
  },
  {
   "attachments": {},
   "cell_type": "markdown",
   "metadata": {},
   "source": [
    "## Configure Environment"
   ]
  },
  {
   "cell_type": "code",
   "execution_count": 23,
   "metadata": {},
   "outputs": [
    {
     "data": {
      "text/plain": [
       "True"
      ]
     },
     "execution_count": 23,
     "metadata": {},
     "output_type": "execute_result"
    }
   ],
   "source": [
    "load_dotenv()"
   ]
  },
  {
   "cell_type": "code",
   "execution_count": 24,
   "metadata": {},
   "outputs": [],
   "source": [
    "OPENAI_API_KEY = os.getenv('OPENAI_API_KEY')\n",
    "OPENAI_CHAT_MODEL = os.getenv('OPENAI_CHAT_MODEL', 'gpt-3.5-turbo')\n",
    "OPENAI_EMBED_MODEL = os.getenv('OPENAI_EMBED_MODEL', 'text-embedding-ada-002')\n",
    "\n",
    "PINECONE_API_KEY = os.getenv('PINECONE_API_KEY')\n",
    "PINECONE_INDEX = os.getenv('PINECONE_INDEX', 'openai-dsm100-2022-oct-transcriptions')\n",
    "PINECONE_ENV = os.getenv('PINECONE_ENV', 'us-east1-gcp')"
   ]
  },
  {
   "cell_type": "code",
   "execution_count": 25,
   "metadata": {},
   "outputs": [],
   "source": [
    "# configure openai\n",
    "openai.api_key = OPENAI_API_KEY\n",
    "\n",
    "# configure pinecone\n",
    "pinecone.init(\n",
    "    api_key=PINECONE_API_KEY,\n",
    "    environment=PINECONE_ENV\n",
    ")"
   ]
  },
  {
   "attachments": {},
   "cell_type": "markdown",
   "metadata": {},
   "source": [
    "## Define Sample Questions"
   ]
  },
  {
   "cell_type": "code",
   "execution_count": 26,
   "metadata": {},
   "outputs": [],
   "source": [
    "question01 = \"\"\"\n",
    "a. AI has a long history with ups and downs, over-optimistic expectations, and the\n",
    "industrial period. At present, AI is in the era of:\n",
    "\n",
    "Select ALL statements that apply.\n",
    "\n",
    "[3 marks]\n",
    "i. Big data.\n",
    "ii. Deep learning.\n",
    "iii. Robotics.\n",
    "iv. General AI.\n",
    "\"\"\""
   ]
  },
  {
   "cell_type": "code",
   "execution_count": 27,
   "metadata": {},
   "outputs": [],
   "source": [
    "question02 = \"\"\"\n",
    "f. The more background knowledge an intelligent agent can use – the more intelligent\n",
    "behaviour it can exhibit. Background knowledge can include:\n",
    "[3 marks]\n",
    "\n",
    "Select ALL statements that apply. \n",
    "\n",
    "(i). Problem-specific knowledge\n",
    "(ii). Declarative knowledge\n",
    "(iii). Procedural knowledge\n",
    "(iv). A dataset\n",
    "\"\"\""
   ]
  },
  {
   "attachments": {},
   "cell_type": "markdown",
   "metadata": {},
   "source": [
    "## Functions"
   ]
  },
  {
   "cell_type": "code",
   "execution_count": 28,
   "metadata": {},
   "outputs": [
    {
     "name": "stdout",
     "output_type": "stream",
     "text": [
      "{'dimension': 1536,\n",
      " 'index_fullness': 0.0,\n",
      " 'namespaces': {'': {'vector_count': 100}},\n",
      " 'total_vector_count': 100}\n"
     ]
    }
   ],
   "source": [
    "def get_pinecone_index(index_name: str) -> pinecone.index.Index:\n",
    "    # connect to index\n",
    "    index = pinecone.Index(index_name)\n",
    "    \n",
    "    # view index stats\n",
    "    print(index.describe_index_stats())  \n",
    "\n",
    "    return index  \n",
    "\n",
    "# test the function\n",
    "index = get_pinecone_index(PINECONE_INDEX)"
   ]
  },
  {
   "cell_type": "code",
   "execution_count": 29,
   "metadata": {},
   "outputs": [],
   "source": [
    "def get_text_embeddings(text: str) -> list:\n",
    "    result = openai.Embedding.create(\n",
    "            input=[text], engine=OPENAI_EMBED_MODEL)\n",
    "\n",
    "    return result['data'][0]['embedding']\n",
    "\n",
    "# test the function\n",
    "#get_text_embeddings(question01)"
   ]
  },
  {
   "cell_type": "code",
   "execution_count": 32,
   "metadata": {},
   "outputs": [],
   "source": [
    "def query_pinecone_index(index: pinecone.index.Index,\n",
    "                         query: str,\n",
    "                         k: int = 5,\n",
    "                         include_metadata=True) -> list:\n",
    "    # get embeddings for query\n",
    "    query_embedding = get_text_embeddings(query)\n",
    "\n",
    "    # query index\n",
    "    return index.query(\n",
    "        vector=query_embedding,\n",
    "        top_k=k,\n",
    "        include_metadata=include_metadata\n",
    "    )\n",
    "\n",
    "# test the function\n",
    "#query_pinecone_index(index, question02)"
   ]
  },
  {
   "cell_type": "code",
   "execution_count": 76,
   "metadata": {},
   "outputs": [
    {
     "data": {
      "text/markdown": [
       "Answer the question based on the context below.\n",
       "\n",
       "Context:\n",
       "[music]In this topic, we discussed how intelligent agents can find solutions and make decisions.  We can see that uninformed or blind search, informed or heuristic search, and we also discuss that domain-specific knowledge can improve decision-making substantially.  The more agent knows and remembers from the past, the more intelligent behavior it can exhibit.  We also talked about meta-learning or meta-reasoning.  When different search strategies are analyzed and compared, in what situation, what strategy would work best.  If you're interested in this topic, please check the recommended literature.  Of course, there are plenty of resources available in our online library and around. \n",
       "\n",
       "---\n",
       "\n",
       "[music]-In this mini lecture, we will talk about knowledge-based agents.  We have already seen in the previous topics that knowledge makes an agent more intelligent, be it domain-specific knowledge, or knowledge of the past experience, what worked well and what did not.  The more an agent knows and remembers, the better decisions it can make.  Agents that are using knowledge for making decisions are called knowledge-based agents.  This component of a knowledge-based agent is called, unsurprisingly, a knowledge base.  Knowledge has to be encoded in a machine processable way, usually, using knowledge representation languages.  What is knowledge?Generally, there is no clear separation in the means between data, knowledge, and information.  It is often the case even in computer science.  It is, well, stating explicitly what we will consider as such in this module.  Data are facts.  Typically, data are encoded as a table.  For example, if a table stores various chemical element sand their freezing and melting points, then an example of a data item or a fact would be, melting point of helium is -272.  2 celsius.  Typically, knowledge is encoded as a set of rules.  For example, if the temperature is below the melting point, then the chemical substance is in a liquid state.  More advanced knowledge can be represented in the form of an executable model.  For example, a metabolic model captures our knowledge about the metabolic pathways, and molecular mechanisms of a particular organism.  Information is a more generic term that combines data and knowledge.  Problems-specific and domain specific knowledge is called background knowledge.  This can be available to a knowledge-based agent from the very beginning\n",
       "\n",
       "Question: \n",
       "f. The more background knowledge an intelligent agent can use – the more intelligent\n",
       "behaviour it can exhibit. Background knowledge can include:\n",
       "[3 marks]\n",
       "\n",
       "Select ALL statements that apply. \n",
       "\n",
       "(i). Problem-specific knowledge\n",
       "(ii). Declarative knowledge\n",
       "(iii). Procedural knowledge\n",
       "(iv). A dataset\n",
       "\n",
       "Answer:"
      ],
      "text/plain": [
       "<IPython.core.display.Markdown object>"
      ]
     },
     "metadata": {},
     "output_type": "display_data"
    }
   ],
   "source": [
    "def create_prompt(index: pinecone.index.Index,\n",
    "                  query: str, \n",
    "                  prompt_limit: int = 3750) -> str:\n",
    "    prompt = \"\"\n",
    "    \n",
    "    # query pinecone for matching transcripts\n",
    "    pinecone_results = query_pinecone_index(index, query)\n",
    "\n",
    "    # get relevant contexts\n",
    "    contexts = [\n",
    "        x['metadata']['text'] for x in pinecone_results['matches']\n",
    "    ]\n",
    "\n",
    "    # build our prompt with the retrieved contexts included\n",
    "    prompt_start = (\n",
    "        \"Answer the question based on the context below.\\n\\n\"+\n",
    "        \"Context:\\n\"\n",
    "    )\n",
    "    \n",
    "    prompt_end = (\n",
    "        f\"\\n\\nQuestion: {query}\\nAnswer:\"\n",
    "    )\n",
    "\n",
    "    # append contexts until hitting limit\n",
    "    for i in range(1, len(contexts)):\n",
    "        if len(\"\\n\\n---\\n\\n\".join(contexts[:i])) >= prompt_limit:\n",
    "            prompt = (\n",
    "                prompt_start +\n",
    "                \"\\n\\n---\\n\\n\".join(contexts[:i-1]) +\n",
    "                prompt_end\n",
    "            )\n",
    "            break\n",
    "        elif i == len(contexts)-1:\n",
    "            prompt = (\n",
    "                prompt_start +\n",
    "                \"\\n\\n---\\n\\n\".join(contexts) +\n",
    "                prompt_end\n",
    "            )\n",
    "\n",
    "    return prompt, pinecone_results\n",
    "\n",
    "# test the function\n",
    "prompt, context = create_prompt(index, question02)\n",
    "display(Markdown(prompt))\n",
    "\n"
   ]
  },
  {
   "cell_type": "code",
   "execution_count": 57,
   "metadata": {},
   "outputs": [
    {
     "data": {
      "text/markdown": [
       "Question:\n",
       "f. The more background knowledge an intelligent agent can use – the more intelligent\n",
       "behaviour it can exhibit. Background knowledge can include:\n",
       "[3 marks]\n",
       "\n",
       "Select ALL statements that apply. \n",
       "\n",
       "(i). Problem-specific knowledge\n",
       "(ii). Declarative knowledge\n",
       "(iii). Procedural knowledge\n",
       "(iv). A dataset\n"
      ],
      "text/plain": [
       "<IPython.core.display.Markdown object>"
      ]
     },
     "metadata": {},
     "output_type": "display_data"
    },
    {
     "data": {
      "text/markdown": [
       "Answer: \n",
       "\n",
       "(i). Problem-specific knowledge\n",
       "(ii). Declarative knowledge\n",
       "(iii). Procedural knowledge"
      ],
      "text/plain": [
       "<IPython.core.display.Markdown object>"
      ]
     },
     "metadata": {},
     "output_type": "display_data"
    }
   ],
   "source": [
    "def ask_question(index: pinecone.index.Index,\n",
    "                  query: str, \n",
    "                  prompt_limit: int = 3750):\n",
    "\n",
    "    # create prompt\n",
    "    prompt, context = create_prompt(index, query, prompt_limit)\n",
    "\n",
    "    response = openai.ChatCompletion.create(\n",
    "        model=OPENAI_CHAT_MODEL,\n",
    "        messages=[\n",
    "            { 'role': 'user', 'content': prompt }\n",
    "        ]\n",
    "    )\n",
    "\n",
    "    return response['choices'][0]['message']['content'], context\n",
    "\n",
    "# test the function\n",
    "answer, _ = ask_question(index, question02)\n",
    "display(Markdown('Question:' + question02))\n",
    "display(Markdown('Answer: ' + answer))"
   ]
  },
  {
   "cell_type": "code",
   "execution_count": 59,
   "metadata": {},
   "outputs": [
    {
     "data": {
      "text/markdown": [
       "Question:\n",
       "a. AI has a long history with ups and downs, over-optimistic expectations, and the\n",
       "industrial period. At present, AI is in the era of:\n",
       "\n",
       "Select ALL statements that apply.\n",
       "\n",
       "[3 marks]\n",
       "i. Big data.\n",
       "ii. Deep learning.\n",
       "iii. Robotics.\n",
       "iv. General AI.\n"
      ],
      "text/plain": [
       "<IPython.core.display.Markdown object>"
      ]
     },
     "metadata": {},
     "output_type": "display_data"
    },
    {
     "data": {
      "text/markdown": [
       "Answer: i. Big data.\n",
       "ii. Deep learning."
      ],
      "text/plain": [
       "<IPython.core.display.Markdown object>"
      ]
     },
     "metadata": {},
     "output_type": "display_data"
    }
   ],
   "source": [
    "answer, _ = ask_question(index, question01)\n",
    "display(Markdown('Question:' + question01))\n",
    "display(Markdown('Answer: ' + answer))"
   ]
  },
  {
   "attachments": {},
   "cell_type": "markdown",
   "metadata": {},
   "source": [
    "## Question Definitions"
   ]
  },
  {
   "cell_type": "code",
   "execution_count": 93,
   "metadata": {},
   "outputs": [
    {
     "data": {
      "text/markdown": [
       "### Question\n",
       "\n",
       "a. AI has a long history with ups and downs, over-optimistic expectations, and the\n",
       "industrial period. At present, AI is in the era of:\n",
       "\n",
       "Select ALL statements that apply.\n",
       "\n",
       "[3 marks]\n",
       "i. Big data.\n",
       "ii. Deep learning.\n",
       "iii. Robotics.\n",
       "iv. General AI.\n",
       "\n",
       "### Answer\n",
       "i. Big data.\n",
       "ii. Deep learning.\n",
       "### Context\n",
       "- Module information::Module introduction video\n",
       "- Topic 1: Introduction::Lecture 2:  Milestones in the history of AI\n",
       "- Topic 1: Introduction::Lecture 7: State-of-the-art in AI\n",
       "- Topic 7: Robot Scientist::Lecture 1: Discovery science and the Robot Scientist system"
      ],
      "text/plain": [
       "<IPython.core.display.Markdown object>"
      ]
     },
     "metadata": {},
     "output_type": "display_data"
    }
   ],
   "source": [
    "def display_answer(index: pinecone.index.Index,\n",
    "                   question: str):\n",
    "   answer, context = ask_question(index, question)\n",
    "\n",
    "   output = []\n",
    "\n",
    "   output.append('### Question')\n",
    "   output.append(question)\n",
    "\n",
    "   output.append('### Answer')\n",
    "   output.append(answer)\n",
    "\n",
    "   output.append('### Context')\n",
    "   context_list = set(x['metadata']['topic'] + '::' + x['metadata']['title'] for x in context['matches'])\n",
    "   for item in context_list:\n",
    "      output.append('- ' + item)\n",
    "\n",
    "   display(Markdown('\\n'.join(output)))\n",
    "\n",
    "# test the function\n",
    "display_answer(index, question01)\n"
   ]
  },
  {
   "cell_type": "code",
   "execution_count": 50,
   "metadata": {},
   "outputs": [],
   "source": [
    "questions = {}"
   ]
  },
  {
   "cell_type": "code",
   "execution_count": 94,
   "metadata": {},
   "outputs": [
    {
     "data": {
      "text/markdown": [
       "### Question\n",
       "\n",
       "AI has a long history with ups and downs, over-optimistic expectations, and the\n",
       "industrial period. At present, AI is in the era of:\n",
       "[3 marks]\n",
       "\n",
       "Select ALL statements that apply.\n",
       "i. Big data.\n",
       "ii. Deep learning.\n",
       "iii. Robotics.\n",
       "iv. General AI.\n",
       "\n",
       "### Answer\n",
       "i. Big data.\n",
       "ii. Deep learning.\n",
       "### Context\n",
       "- Module information::Module introduction video\n",
       "- Topic 1: Introduction::Lecture 2:  Milestones in the history of AI\n",
       "- Topic 1: Introduction::Lecture 7: State-of-the-art in AI\n",
       "- Topic 7: Robot Scientist::Lecture 1: Discovery science and the Robot Scientist system"
      ],
      "text/plain": [
       "<IPython.core.display.Markdown object>"
      ]
     },
     "metadata": {},
     "output_type": "display_data"
    }
   ],
   "source": [
    "question = \"\"\"\n",
    "AI has a long history with ups and downs, over-optimistic expectations, and the\n",
    "industrial period. At present, AI is in the era of:\n",
    "[3 marks]\n",
    "\n",
    "Select ALL statements that apply.\n",
    "i. Big data.\n",
    "ii. Deep learning.\n",
    "iii. Robotics.\n",
    "iv. General AI.\n",
    "\"\"\"\n",
    "\n",
    "questions['A_1_a'] = question\n",
    "display_answer(index, question)"
   ]
  },
  {
   "cell_type": "code",
   "execution_count": 95,
   "metadata": {},
   "outputs": [
    {
     "data": {
      "text/markdown": [
       "### Question\n",
       "\n",
       "b. It is important for AI systems to be explainable and interpretable because it:\n",
       "Select ALL statements that apply.\n",
       "[3 marks]\n",
       "\n",
       "i. Gives users confidence in the system.\n",
       "ii. Is a legal requirement.\n",
       "iii. Helps in safeguarding against bias.\n",
       "iv. Enables assessing of system’s robustness and vulnerability. \n",
       "\n",
       "### Answer\n",
       "i. Gives users confidence in the system.\n",
       "iii. Helps in safeguarding against bias.\n",
       "iv. Enables assessing of system’s robustness and vulnerability.\n",
       "### Context\n",
       "- Topic 1: Introduction::Lecture 8: Ethical and legal issues\n",
       "- Topic 1: Introduction::Lecture 10: Explainable AI"
      ],
      "text/plain": [
       "<IPython.core.display.Markdown object>"
      ]
     },
     "metadata": {},
     "output_type": "display_data"
    }
   ],
   "source": [
    "question = \"\"\"\n",
    "b. It is important for AI systems to be explainable and interpretable because it:\n",
    "Select ALL statements that apply.\n",
    "[3 marks]\n",
    "\n",
    "i. Gives users confidence in the system.\n",
    "ii. Is a legal requirement.\n",
    "iii. Helps in safeguarding against bias.\n",
    "iv. Enables assessing of system’s robustness and vulnerability. \n",
    "\"\"\"\n",
    "\n",
    "questions['A_1_b'] = question\n",
    "display_answer(index, question)"
   ]
  },
  {
   "cell_type": "code",
   "execution_count": 96,
   "metadata": {},
   "outputs": [
    {
     "data": {
      "text/markdown": [
       "### Question\n",
       "\n",
       "c. Heuristic functions can be generated based on:\n",
       "Select ALL statements that apply.\n",
       "[3 marks]\n",
       "\n",
       "i. Simplified (or relaxed) problems.\n",
       "ii. Forecasted blind search results.\n",
       "iii. Previous experience.\n",
       "iv. Features of the search space.\n",
       "\n",
       "### Answer\n",
       "i. Simplified (or relaxed) problems.\n",
       "iii. Previous experience.\n",
       "iv. Features of the search space.\n",
       "### Context\n",
       "- Topic 2: Problem solving agents::Lecture 3: Informed search"
      ],
      "text/plain": [
       "<IPython.core.display.Markdown object>"
      ]
     },
     "metadata": {},
     "output_type": "display_data"
    }
   ],
   "source": [
    "question = \"\"\"\n",
    "c. Heuristic functions can be generated based on:\n",
    "Select ALL statements that apply.\n",
    "[3 marks]\n",
    "\n",
    "i. Simplified (or relaxed) problems.\n",
    "ii. Forecasted blind search results.\n",
    "iii. Previous experience.\n",
    "iv. Features of the search space.\n",
    "\"\"\"\n",
    "\n",
    "questions['A_1_c'] = question\n",
    "display_answer(index, question)"
   ]
  },
  {
   "cell_type": "code",
   "execution_count": null,
   "metadata": {},
   "outputs": [
    {
     "data": {
      "text/markdown": [
       "### Question\n",
       "\n",
       "c. Heuristic functions can be generated based on:\n",
       "Select ALL statements that apply.\n",
       "[3 marks]\n",
       "\n",
       "i. Simplified (or relaxed) problems.\n",
       "ii. Forecasted blind search results.\n",
       "iii. Previous experience.\n",
       "iv. Features of the search space.\n",
       "\n",
       "### Answer\n",
       "i. Simplified (or relaxed) problems.\n",
       "iii. Previous experience.\n",
       "iv. Features of the search space.\n",
       "### Context\n",
       "- Topic 2: Problem solving agents::Lecture 3: Informed search"
      ],
      "text/plain": [
       "<IPython.core.display.Markdown object>"
      ]
     },
     "metadata": {},
     "output_type": "display_data"
    }
   ],
   "source": [
    "question = \"\"\"\n",
    "c. Heuristic functions can be generated based on:\n",
    "Select ALL statements that apply.\n",
    "[3 marks]\n",
    "\n",
    "i. Simplified (or relaxed) problems.\n",
    "ii. Forecasted blind search results.\n",
    "iii. Previous experience.\n",
    "iv. Features of the search space.\n",
    "\"\"\"\n",
    "\n",
    "questions['A_1_c'] = question\n",
    "display_answer(index, question)"
   ]
  },
  {
   "cell_type": "code",
   "execution_count": 98,
   "metadata": {},
   "outputs": [
    {
     "data": {
      "text/markdown": [
       "### Question\n",
       "\n",
       "e. A genetic algorithm:\n",
       "Select ALL statements that apply.\n",
       "[3 marks]\n",
       "\n",
       "i. Is a global search algorithm\n",
       "ii. Is a local search algorithm\n",
       "iii. Is inspired by Charles Darwin’s theory of natural evolution.\n",
       "iv. Includes three evolutionary processes: selection, gene crossover, and\n",
       "mutation.\n",
       "\n",
       "### Answer\n",
       "iii. Is inspired by Charles Darwin’s theory of natural evolution.\n",
       "iv. Includes three evolutionary processes: selection, gene crossover, and mutation.\n",
       "### Context\n",
       "- Topic 2: Problem solving agents::Lecture 4: Genetic algorithms"
      ],
      "text/plain": [
       "<IPython.core.display.Markdown object>"
      ]
     },
     "metadata": {},
     "output_type": "display_data"
    }
   ],
   "source": [
    "question = \"\"\"\n",
    "e. A genetic algorithm:\n",
    "Select ALL statements that apply.\n",
    "[3 marks]\n",
    "\n",
    "i. Is a global search algorithm\n",
    "ii. Is a local search algorithm\n",
    "iii. Is inspired by Charles Darwin’s theory of natural evolution.\n",
    "iv. Includes three evolutionary processes: selection, gene crossover, and\n",
    "mutation.\n",
    "\"\"\"\n",
    "\n",
    "questions['A_1_e'] = question\n",
    "display_answer(index, question)"
   ]
  },
  {
   "cell_type": "code",
   "execution_count": 99,
   "metadata": {},
   "outputs": [
    {
     "data": {
      "text/markdown": [
       "### Question\n",
       "\n",
       "f. The more background knowledge an intelligent agent can use – the more intelligent\n",
       "behaviour it can exhibit. Background knowledge can include:\n",
       "Select ALL statements that apply.\n",
       "[3 marks]\n",
       "\n",
       "(i). Problem-specific knowledge\n",
       "(ii). Declarative knowledge\n",
       "(iii). Procedural knowledge\n",
       "(iv). A dataset\n",
       "\n",
       "### Answer\n",
       "(i) Problem-specific knowledge\n",
       "(ii) Declarative knowledge\n",
       "(iii) Procedural knowledge\n",
       "### Context\n",
       "- Topic 2: Problem solving agents::Lecture: Topic 2 summary\n",
       "- Topic 3: Knowledge, reasoning and planning::Lecture 1: Knowledge-based agents"
      ],
      "text/plain": [
       "<IPython.core.display.Markdown object>"
      ]
     },
     "metadata": {},
     "output_type": "display_data"
    }
   ],
   "source": [
    "question = \"\"\"\n",
    "f. The more background knowledge an intelligent agent can use – the more intelligent\n",
    "behaviour it can exhibit. Background knowledge can include:\n",
    "Select ALL statements that apply.\n",
    "[3 marks]\n",
    "\n",
    "(i). Problem-specific knowledge\n",
    "(ii). Declarative knowledge\n",
    "(iii). Procedural knowledge\n",
    "(iv). A dataset\n",
    "\"\"\"\n",
    "\n",
    "questions['A_1_f'] = question\n",
    "display_answer(index, question)"
   ]
  },
  {
   "cell_type": "code",
   "execution_count": 101,
   "metadata": {},
   "outputs": [
    {
     "data": {
      "text/markdown": [
       "### Question\n",
       "\n",
       "g. An intelligent agent needs to handle uncertainty only when the environment is both:\n",
       "partially observable and nondeterministic\n",
       "[3 marks]\n",
       "\n",
       "Is this statement is True/False?\n",
       "\n",
       "### Answer\n",
       "True\n",
       "### Context\n",
       "- Topic 4: Quantifying uncertainty::Lecture 1: Quantifying uncertainty\n",
       "- Topic 2: Problem solving agents::Lecture 5: Nondeterministic search, partially observable space"
      ],
      "text/plain": [
       "<IPython.core.display.Markdown object>"
      ]
     },
     "metadata": {},
     "output_type": "display_data"
    }
   ],
   "source": [
    "question = \"\"\"\n",
    "g. An intelligent agent needs to handle uncertainty only when the environment is both:\n",
    "partially observable and nondeterministic\n",
    "[3 marks]\n",
    "\n",
    "Is this statement is True/False?\n",
    "\"\"\"\n",
    "\n",
    "questions['A_1_g'] = question\n",
    "display_answer(index, question)"
   ]
  },
  {
   "cell_type": "code",
   "execution_count": 102,
   "metadata": {},
   "outputs": [
    {
     "data": {
      "text/markdown": [
       "### Question\n",
       "\n",
       "The principle of maximum expected utility (MEU) says that a rational agent should\n",
       "choose:\n",
       "Select ONE most appropriate answer.\n",
       "[3 marks]\n",
       "\n",
       "(i). The action that maximises the agent’s current utility.\n",
       "(ii). The action that maximises the agent’s expected utility.\n",
       "(iii). The utility function that maximises the expected agent’s value.\n",
       "(iv). The utility function that maximises the current agent’s value.\n",
       "\n",
       "### Answer\n",
       "(ii). The action that maximises the agent’s expected utility.\n",
       "### Context\n",
       "- Topic 4: Quantifying uncertainty::Lecture 1: Quantifying uncertainty\n",
       "- Topic 4: Quantifying uncertainty::Lecture 5: Decision making"
      ],
      "text/plain": [
       "<IPython.core.display.Markdown object>"
      ]
     },
     "metadata": {},
     "output_type": "display_data"
    }
   ],
   "source": [
    "question = \"\"\"\n",
    "The principle of maximum expected utility (MEU) says that a rational agent should\n",
    "choose:\n",
    "Select ONE most appropriate answer.\n",
    "[3 marks]\n",
    "\n",
    "(i). The action that maximises the agent’s current utility.\n",
    "(ii). The action that maximises the agent’s expected utility.\n",
    "(iii). The utility function that maximises the expected agent’s value.\n",
    "(iv). The utility function that maximises the current agent’s value.\n",
    "\"\"\"\n",
    "\n",
    "questions['A_1_h'] = question\n",
    "display_answer(index, question)"
   ]
  },
  {
   "cell_type": "code",
   "execution_count": 104,
   "metadata": {},
   "outputs": [
    {
     "data": {
      "text/markdown": [
       "### Question\n",
       "\n",
       "i. The Bayesian approach to the source and status of probability numbers is:\n",
       "Select ONE most appropriate answer.\n",
       "[3 marks]\n",
       "\n",
       "(i). Subjective.\n",
       "(ii). Objective.\n",
       "(iii). Frequentist.\n",
       "(iv). Statistical.\n",
       "\n",
       "### Answer\n",
       "(i) Subjective.\n",
       "### Context\n",
       "- Topic 4: Quantifying uncertainty::Lecture 1: Quantifying uncertainty\n",
       "- Topic 4: Quantifying uncertainty::Lecture 3: Bayes rule\n",
       "- Topic 4: Quantifying uncertainty::Lecture: Introduction to Topic 4"
      ],
      "text/plain": [
       "<IPython.core.display.Markdown object>"
      ]
     },
     "metadata": {},
     "output_type": "display_data"
    }
   ],
   "source": [
    "question = \"\"\"\n",
    "i. The Bayesian approach to the source and status of probability numbers is:\n",
    "Select ONE most appropriate answer.\n",
    "[3 marks]\n",
    "\n",
    "(i). Subjective.\n",
    "(ii). Objective.\n",
    "(iii). Frequentist.\n",
    "(iv). Statistical.\n",
    "\"\"\"\n",
    "\n",
    "questions['A_1_i'] = question\n",
    "display_answer(index, question)"
   ]
  },
  {
   "cell_type": "code",
   "execution_count": 105,
   "metadata": {},
   "outputs": [
    {
     "data": {
      "text/markdown": [
       "### Question\n",
       "\n",
       "j. A typical cycle of scientific discovery includes the following steps:\n",
       "Select ALL statements that apply.\n",
       "[3 marks]\n",
       "\n",
       "i. Conducting surveys.\n",
       "ii. Hypothesis generation.\n",
       "iii. Deduction – a prediction from the hypothesis about future effects or\n",
       "experimental results\n",
       "iv. Hypothesis testing, to verify or disprove predictions.\n",
       "\n",
       "### Answer\n",
       "ii. Hypothesis generation.\n",
       "iv. Hypothesis testing, to verify or disprove predictions.\n",
       "### Context\n",
       "- Topic 3: Knowledge, reasoning and planning::Lecture 6: Logical reasoning\n",
       "- Topic 7: Robot Scientist::Lecture 2: The concept of Robot Scientist\n",
       "- Topic 8: Robot Scientist part 2::Lecture 1: Hypotheses generation: abduction\n",
       "- Topic 8: Robot Scientist part 2::Lecture 2: Hypotheses generation: induction"
      ],
      "text/plain": [
       "<IPython.core.display.Markdown object>"
      ]
     },
     "metadata": {},
     "output_type": "display_data"
    }
   ],
   "source": [
    "question = \"\"\"\n",
    "j. A typical cycle of scientific discovery includes the following steps:\n",
    "Select ALL statements that apply.\n",
    "[3 marks]\n",
    "\n",
    "i. Conducting surveys.\n",
    "ii. Hypothesis generation.\n",
    "iii. Deduction – a prediction from the hypothesis about future effects or\n",
    "experimental results\n",
    "iv. Hypothesis testing, to verify or disprove predictions.\n",
    "\"\"\"\n",
    "\n",
    "questions['A_1_j'] = question\n",
    "display_answer(index, question)"
   ]
  },
  {
   "cell_type": "code",
   "execution_count": 106,
   "metadata": {},
   "outputs": [
    {
     "data": {
      "text/markdown": [
       "### Question\n",
       "\n",
       "a) What type of problems are Markov Decision Processes (MDPs) suitable for\n",
       "modelling?\n",
       "\n",
       "### Answer\n",
       "MDPs are suitable for modelling stochastic sequential decision problems, which are problems of making decisions based on a sequence of frames or states, with a probabilistic element and rewards.\n",
       "### Context\n",
       "- Topics 9&10: Game Player::Lecture: Formalising the problem"
      ],
      "text/plain": [
       "<IPython.core.display.Markdown object>"
      ]
     },
     "metadata": {},
     "output_type": "display_data"
    }
   ],
   "source": [
    "question = \"\"\"\n",
    "a) What type of problems are Markov Decision Processes (MDPs) suitable for\n",
    "modelling?\n",
    "\"\"\"\n",
    "\n",
    "questions['B_2_a'] = question\n",
    "display_answer(index, question)"
   ]
  },
  {
   "cell_type": "code",
   "execution_count": 107,
   "metadata": {},
   "outputs": [
    {
     "data": {
      "text/markdown": [
       "### Question\n",
       "\n",
       "b) Choose a video game that is significantly different from the Breakout game\n",
       "seen in the module.\n",
       "[2 marks]\n",
       "\n",
       "• Name and briefly describe the game you have chosen.\n",
       "• What are the control inputs?\n",
       "• How can you gain points in the game?\n",
       "• How might an artificial intelligence system perceive the state of the\n",
       "game? Please do not use the example of screen pixels - think about\n",
       "the underlying state of the game. \n",
       "\n",
       "### Answer\n",
       "\n",
       "\n",
       "a) This question cannot be answered as there is no information provided to guide the answer.\n",
       "### Context\n",
       "- Topics 9&10: Game Player::Lecture: How might we build a game playing AI?\n",
       "- Topics 9&10: Game Player::Lecture: Game player case study introduction\n",
       "- Topics 9&10: Game Player::Lecture: Formalising the problem"
      ],
      "text/plain": [
       "<IPython.core.display.Markdown object>"
      ]
     },
     "metadata": {},
     "output_type": "display_data"
    }
   ],
   "source": [
    "question = \"\"\"\n",
    "b) Choose a video game that is significantly different from the Breakout game\n",
    "seen in the module.\n",
    "[2 marks]\n",
    "\n",
    "• Name and briefly describe the game you have chosen.\n",
    "• What are the control inputs?\n",
    "• How can you gain points in the game?\n",
    "• How might an artificial intelligence system perceive the state of the\n",
    "game? Please do not use the example of screen pixels - think about\n",
    "the underlying state of the game. \n",
    "\"\"\"\n",
    "\n",
    "questions['B_2_b'] = question\n",
    "display_answer(index, question)"
   ]
  },
  {
   "cell_type": "code",
   "execution_count": 108,
   "metadata": {},
   "outputs": [
    {
     "data": {
      "text/markdown": [
       "### Question\n",
       "\n",
       "c) Name and describe THREE elements of a Markov Decision Process. For\n",
       "each element, say what it represents from your chosen video game.\n",
       "[3 marks]\n",
       "\n",
       "### Answer\n",
       "The three elements of a Markov Decision Process are states, actions, and rewards. In a video game, the states could represent different levels or game states. Actions could represent movements or decisions made by the player such as moving left, right or jumping. Rewards represent the points or bonuses earned by the player for completing a specific action or achieving a certain milestone in the game.\n",
       "### Context\n",
       "- Topics 9&10: Game Player::Lecture: Formalising the problem"
      ],
      "text/plain": [
       "<IPython.core.display.Markdown object>"
      ]
     },
     "metadata": {},
     "output_type": "display_data"
    }
   ],
   "source": [
    "question = \"\"\"\n",
    "c) Name and describe THREE elements of a Markov Decision Process. For\n",
    "each element, say what it represents from your chosen video game.\n",
    "[3 marks]\n",
    "\"\"\"\n",
    "\n",
    "questions['B_2_c'] = question\n",
    "display_answer(index, question)"
   ]
  },
  {
   "cell_type": "code",
   "execution_count": 114,
   "metadata": {},
   "outputs": [
    {
     "data": {
      "text/markdown": [
       "### Question\n",
       "\n",
       "d) Do you think a Markov Decision Process is a suitable way to model playing\n",
       "your chosen game? Justify your answer.\n",
       "[2 marks]\n",
       "\n",
       "### Answer\n",
       "There is no clear answer to this question as it depends on the specific details of the chosen game and the goals of the modeling. However, based on the information provided in the context, a Markov decision process is a commonly used approach to model stochastic sequential decision problems, and it can be used to build algorithms for decision making. Therefore, it is possible that a Markov decision process could be a suitable way to model playing a game, but more information is needed to make a definitive judgment.\n",
       "### Context\n",
       "- Topics 9&10: Game Player::Lecture: Formalising the problem"
      ],
      "text/plain": [
       "<IPython.core.display.Markdown object>"
      ]
     },
     "metadata": {},
     "output_type": "display_data"
    }
   ],
   "source": [
    "question = \"\"\"\n",
    "d) Do you think a Markov Decision Process is a suitable way to model playing\n",
    "your chosen game? Justify your answer.\n",
    "[2 marks]\n",
    "\"\"\"\n",
    "\n",
    "questions['B_2_d'] = question\n",
    "display_answer(index, question)"
   ]
  },
  {
   "cell_type": "code",
   "execution_count": 115,
   "metadata": {},
   "outputs": [
    {
     "data": {
      "text/markdown": [
       "### Question\n",
       "\n",
       "e) Reinforcement learning might be described as learning a Q function. If we\n",
       "are using Q-learning to learn how to play video games, state TWO aspects\n",
       "that make Q-learning difficult.\n",
       "[2 marks]\n",
       "\n",
       "### Answer\n",
       "\n",
       "\n",
       "Two aspects that make Q-learning difficult are:\n",
       "1. The exploration-exploitation trade-off: Q-learning requires exploration of new actions to learn their values, but also needs to exploit learned values to make optimal choices. Finding the right balance between exploration and exploitation can be challenging.\n",
       "2. The curse of dimensionality: The number of possible states and actions in a game can be extremely large, leading to exponentially growing Q-tables or state-value functions, making it difficult to explicitly compute and learn the optimal values.\n",
       "### Context\n",
       "- Topics 9&10: Game Player::Lecture: How might we build a game playing AI?\n",
       "- Topics 9&10: Game Player::Lecture: Value functions and DQN\n",
       "- Topics 9&10: Game Player::Lecture: Weekly outro\n",
       "- Topics 9&10: Game Player::Lecture: The loss function for DQN"
      ],
      "text/plain": [
       "<IPython.core.display.Markdown object>"
      ]
     },
     "metadata": {},
     "output_type": "display_data"
    }
   ],
   "source": [
    "question = \"\"\"\n",
    "e) Reinforcement learning might be described as learning a Q function. If we\n",
    "are using Q-learning to learn how to play video games, state TWO aspects\n",
    "that make Q-learning difficult.\n",
    "[2 marks]\n",
    "\"\"\"\n",
    "\n",
    "questions['B_2_e'] = question\n",
    "display_answer(index, question)"
   ]
  },
  {
   "cell_type": "code",
   "execution_count": 118,
   "metadata": {},
   "outputs": [
    {
     "data": {
      "text/markdown": [
       "### Question\n",
       "\n",
       "Nowadays AI systems are capable of making autonomous scientific discoveries. In\n",
       "this module, we considered several AI systems capable of making automated\n",
       "scientific discoveries, for example, the mobile robotic chemist, the automatic\n",
       "statistician, the robot scientists Adam and Eve. The research in automated scientific\n",
       "discovery is flourishing, and the target is to develop systems capable of making\n",
       "significant scientific discoveries.\n",
       "\n",
       "a) What are the advantages of automated discovery systems?\n",
       "[3 marks]\n",
       "\n",
       "### Answer\n",
       "The passage does not provide a clear and direct answer to this question, and the information given is focused more on describing examples of automated discovery systems and the progress in this field rather than discussing their advantages. Therefore, it is not possible to provide a proper answer and earn marks for this question.\n",
       "### Context\n",
       "- Topic 7: Robot Scientist::Lecture 2: The concept of Robot Scientist\n",
       "- Topic 7: Robot Scientist::Lecture 3: History of Robot Scientists and future trends"
      ],
      "text/plain": [
       "<IPython.core.display.Markdown object>"
      ]
     },
     "metadata": {},
     "output_type": "display_data"
    }
   ],
   "source": [
    "question = \"\"\"\n",
    "Nowadays AI systems are capable of making autonomous scientific discoveries. In\n",
    "this module, we considered several AI systems capable of making automated\n",
    "scientific discoveries, for example, the mobile robotic chemist, the automatic\n",
    "statistician, the robot scientists Adam and Eve. The research in automated scientific\n",
    "discovery is flourishing, and the target is to develop systems capable of making\n",
    "significant scientific discoveries.\n",
    "\n",
    "a) What are the advantages of automated discovery systems?\n",
    "[3 marks]\n",
    "\"\"\"\n",
    "\n",
    "questions['B_3_a'] = question\n",
    "display_answer(index, question)"
   ]
  },
  {
   "cell_type": "code",
   "execution_count": 121,
   "metadata": {},
   "outputs": [
    {
     "data": {
      "text/markdown": [
       "### Question\n",
       "\n",
       "Nowadays AI systems are capable of making autonomous scientific discoveries. In\n",
       "this module, we considered several AI systems capable of making automated\n",
       "scientific discoveries, for example, the mobile robotic chemist, the automatic\n",
       "statistician, the robot scientists Adam and Eve. The research in automated scientific\n",
       "discovery is flourishing, and the target is to develop systems capable of making\n",
       "significant scientific discoveries.\n",
       "\n",
       "b) What are the current limitations of automated discovery systems? \n",
       "[3 marks]\n",
       "\n",
       "### Answer\n",
       "The passage mentions that while there has been steady progress in the development of automated discovery systems, the discoveries made so far are still on a modest scale. Therefore, one limitation could be the scale and significance of the discoveries made by these systems. Additionally, the target is to develop systems that are capable of significant scientific discoveries, suggesting that the current systems may not be able to achieve this goal yet. Another limitation could be the complexity and range of experiments that a system can perform, as some may be limited to specific domains or experimental setups.\n",
       "### Context\n",
       "- Topic 7: Robot Scientist::Lecture 2: The concept of Robot Scientist\n",
       "- Topic 7: Robot Scientist::Lecture 3: History of Robot Scientists and future trends"
      ],
      "text/plain": [
       "<IPython.core.display.Markdown object>"
      ]
     },
     "metadata": {},
     "output_type": "display_data"
    }
   ],
   "source": [
    "question = \"\"\"\n",
    "Nowadays AI systems are capable of making autonomous scientific discoveries. In\n",
    "this module, we considered several AI systems capable of making automated\n",
    "scientific discoveries, for example, the mobile robotic chemist, the automatic\n",
    "statistician, the robot scientists Adam and Eve. The research in automated scientific\n",
    "discovery is flourishing, and the target is to develop systems capable of making\n",
    "significant scientific discoveries.\n",
    "\n",
    "b) What are the current limitations of automated discovery systems? \n",
    "[3 marks]\n",
    "\"\"\"\n",
    "\n",
    "questions['B_3_b'] = question\n",
    "display_answer(index, question)"
   ]
  },
  {
   "cell_type": "code",
   "execution_count": 122,
   "metadata": {},
   "outputs": [
    {
     "data": {
      "text/markdown": [
       "### Question\n",
       "\n",
       "Nowadays AI systems are capable of making autonomous scientific discoveries. In\n",
       "this module, we considered several AI systems capable of making automated\n",
       "scientific discoveries, for example, the mobile robotic chemist, the automatic\n",
       "statistician, the robot scientists Adam and Eve. The research in automated scientific\n",
       "discovery is flourishing, and the target is to develop systems capable of making\n",
       "significant scientific discoveries.\n",
       "\n",
       "c) Describe the functionality of one of the key components of the robot scientist\n",
       "system, e.g. a hypotheses generator, a reasoning engine, an experiments\n",
       "planner, or data analysis component. What is required for the functioning of\n",
       "the selected component? What are its input and output? How does it interact\n",
       "with other components of the system? Outline the workings of the component.\n",
       "[4 marks]\n",
       "\n",
       "### Answer\n",
       "One of the key components of the robot scientist system is the hypotheses generator. Its main function is to infer new hypotheses based on the knowledge and data stored in the system's knowledge base. To function properly, the hypotheses generator requires a well-structured and curated knowledge base that encodes information about the scientific domain it operates in.\n",
       "\n",
       "The input for the hypotheses generator is the knowledge base, which contains data and information about the scientific domain. It also relies on data generated from previous experiments conducted by the system. The output of the hypotheses generator is a set of inferred hypotheses that are not necessarily true. \n",
       "\n",
       "The hypotheses generator interacts with other components of the system, such as the reasoning engine and the experiments planner, to formulate and test the newly generated hypotheses. The reasoning engine evaluates the inferred hypotheses and decides which ones should be tested through experimentation. The experiments planner then designs the necessary experiments and executes them using the system's robotic equipment. \n",
       "\n",
       "Overall, the hypotheses generator is a crucial component of the robot scientist system, as it is responsible for generating novel hypotheses that can lead to significant scientific discoveries. It relies on a well-curated knowledge base and works in conjunction with other components of the system to ensure the scientific process is carried out efficiently and effectively.\n",
       "### Context\n",
       "- Topic 7: Robot Scientist::Lecture 5: Overview of the toy system: components and their interactions\n",
       "- Topic 7: Robot Scientist::Lecture 2: The concept of Robot Scientist\n",
       "- Topic 8: Robot Scientist part 2::Introduction to Topic 8\n",
       "- Topic 7: Robot Scientist::Introduction to Topic 7"
      ],
      "text/plain": [
       "<IPython.core.display.Markdown object>"
      ]
     },
     "metadata": {},
     "output_type": "display_data"
    }
   ],
   "source": [
    "question = \"\"\"\n",
    "Nowadays AI systems are capable of making autonomous scientific discoveries. In\n",
    "this module, we considered several AI systems capable of making automated\n",
    "scientific discoveries, for example, the mobile robotic chemist, the automatic\n",
    "statistician, the robot scientists Adam and Eve. The research in automated scientific\n",
    "discovery is flourishing, and the target is to develop systems capable of making\n",
    "significant scientific discoveries.\n",
    "\n",
    "c) Describe the functionality of one of the key components of the robot scientist\n",
    "system, e.g. a hypotheses generator, a reasoning engine, an experiments\n",
    "planner, or data analysis component. What is required for the functioning of\n",
    "the selected component? What are its input and output? How does it interact\n",
    "with other components of the system? Outline the workings of the component.\n",
    "[4 marks]\n",
    "\"\"\"\n",
    "\n",
    "questions['B_3_c'] = question\n",
    "display_answer(index, question)"
   ]
  },
  {
   "cell_type": "code",
   "execution_count": 123,
   "metadata": {},
   "outputs": [
    {
     "data": {
      "text/markdown": [
       "### Question\n",
       "\n",
       "a) What is a genetic algorithm?\n",
       "[1 mark]\n",
       "\n",
       "### Answer\n",
       "A genetic algorithm is a probabilistic search procedure designed to work on large spaces involving states that can be represented as strings, which reflects the process of natural selection, where the fittest individuals are selected for further reproduction. It includes three evolutionary processes: selection, gene crossover, and mutation, and has five components: initial population, fitness function, selection, crossover, and mutation.\n",
       "### Context\n",
       "- Topic 2: Problem solving agents::Lecture 4: Genetic algorithms\n",
       "- Topics 5&6: Creatures::Lecture: Artificial evolution and genetic algorithms: fitness functions, genetic encoding and manipulation, population models\n",
       "- Topics 5&6: Creatures::Lecture: Bioinspired computing\n",
       "- Topics 5&6: Creatures::Lecture: Introduction to Lesson 1"
      ],
      "text/plain": [
       "<IPython.core.display.Markdown object>"
      ]
     },
     "metadata": {},
     "output_type": "display_data"
    }
   ],
   "source": [
    "question = \"\"\"\n",
    "a) What is a genetic algorithm?\n",
    "[1 mark]\n",
    "\"\"\"\n",
    "\n",
    "questions['B_4_a'] = question\n",
    "display_answer(index, question)"
   ]
  },
  {
   "cell_type": "code",
   "execution_count": 124,
   "metadata": {},
   "outputs": [
    {
     "data": {
      "text/markdown": [
       "### Question\n",
       "\n",
       "b) Draw a diagram which illustrates the runtime of a genetic algorithm. Show the\n",
       "major components of the software and when they are used.\n",
       "[5 marks]\n",
       "\n",
       "### Answer\n",
       "\n",
       "\n",
       "I'm sorry, as an AI language model, I don't have the capability to draw a diagram. However, I can provide you with the major components of a genetic algorithm and when they are used:\n",
       "\n",
       "1. Initial Population: Starting pool of individuals\n",
       "2. Fitness Function: Measures the fitness of each individual\n",
       "3. Selection: Choosing individuals to become parents\n",
       "4. Crossover: Exchanging genetic information between parents to produce offspring\n",
       "5. Mutation: Randomly changing genetic information in offspring to introduce diversity\n",
       "6. Termination: Ending the algorithm when a satisfactory solution is found or the maximum number of iterations is reached  \n",
       "\n",
       "These components are used throughout the runtime of a genetic algorithm in the following order: \n",
       "1. Initial population is created\n",
       "2. Fitness function is applied to the individuals\n",
       "3. Selection of parents is performed based on fitness\n",
       "4. Crossover is applied to produce offspring\n",
       "5. Mutation is applied to introduce diversity\n",
       "6. The process repeats until a satisfactory solution is found or the maximum number of iterations is reached.\n",
       "### Context\n",
       "- Topic 2: Problem solving agents::Lecture 4: Genetic algorithms\n",
       "- Topics 5&6: Creatures::Lesson 4 Introduction\n",
       "- Topics 5&6: Creatures::Lecture: Introduction to Lesson 1"
      ],
      "text/plain": [
       "<IPython.core.display.Markdown object>"
      ]
     },
     "metadata": {},
     "output_type": "display_data"
    }
   ],
   "source": [
    "question = \"\"\"\n",
    "b) Draw a diagram which illustrates the runtime of a genetic algorithm. Show the\n",
    "major components of the software and when they are used.\n",
    "[5 marks]\n",
    "\"\"\"\n",
    "\n",
    "questions['B_4_b'] = question\n",
    "display_answer(index, question)"
   ]
  },
  {
   "cell_type": "code",
   "execution_count": 126,
   "metadata": {},
   "outputs": [
    {
     "data": {
      "text/markdown": [
       "### Question\n",
       "\n",
       "c) Genetic algorithms employ a design process which is similar to the human\n",
       "design process. Provide TWO arguments against this statement and TWO\n",
       "arguments in support of this statement, using details of the design of genetic\n",
       "algorithms.\n",
       "[4 marks]\n",
       "\n",
       "### Answer\n",
       "\n",
       "\n",
       "The context does not provide any information that supports or opposes the statement that genetic algorithms employ a design process similar to the human design process. Therefore, it is not possible to provide two arguments for or against the statement using details of the design of genetic algorithms.\n",
       "### Context\n",
       "- Topic 2: Problem solving agents::Lecture 4: Genetic algorithms\n",
       "- Topics 5&6: Creatures::Lecture: Introduction to Lesson 1\n",
       "- Topics 5&6: Creatures::Lecture: Lesson 1 summary"
      ],
      "text/plain": [
       "<IPython.core.display.Markdown object>"
      ]
     },
     "metadata": {},
     "output_type": "display_data"
    }
   ],
   "source": [
    "question = \"\"\"\n",
    "c) Genetic algorithms employ a design process which is similar to the human\n",
    "design process. Provide TWO arguments against this statement and TWO\n",
    "arguments in support of this statement, using details of the design of genetic\n",
    "algorithms.\n",
    "[4 marks]\n",
    "\"\"\"\n",
    "\n",
    "questions['B_4_c'] = question\n",
    "display_answer(index, question)"
   ]
  }
 ],
 "metadata": {
  "kernelspec": {
   "display_name": "Python 3",
   "language": "python",
   "name": "python3"
  },
  "language_info": {
   "codemirror_mode": {
    "name": "ipython",
    "version": 3
   },
   "file_extension": ".py",
   "mimetype": "text/x-python",
   "name": "python",
   "nbconvert_exporter": "python",
   "pygments_lexer": "ipython3",
   "version": "3.8.16"
  },
  "orig_nbformat": 4
 },
 "nbformat": 4,
 "nbformat_minor": 2
}
